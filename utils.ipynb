{
 "cells": [
  {
   "cell_type": "code",
   "execution_count": null,
   "metadata": {},
   "outputs": [],
   "source": [
    "import nibabel as nib\n",
    "from totalsegmentator.python_api import totalsegmentator\n",
    "import os\n",
    "import SimpleITK as sitk\n",
    "from tqdm.notebook import tqdm\n",
    "import matplotlib.pyplot as plt\n",
    "import numpy as np\n",
    "from image_utils import convert_series_to_nifti, quantize_maps"
   ]
  },
  {
   "cell_type": "code",
   "execution_count": 38,
   "metadata": {},
   "outputs": [
    {
     "name": "stdout",
     "output_type": "stream",
     "text": [
      "\n",
      "If you use this tool please cite: https://pubs.rsna.org/doi/10.1148/ryai.230024\n",
      "\n",
      "Generating rough body segmentation...\n",
      "Resampling...\n",
      "  Resampled in 0.23s\n",
      "Predicting...\n"
     ]
    },
    {
     "name": "stderr",
     "output_type": "stream",
     "text": [
      "C:\\Users\\nprim\\Desktop\\CTH_CTP\\nnUNet\\nnunetv2\\utilities\\plans_handling\\plans_handler.py:37: UserWarning: Detected old nnU-Net plans format. Attempting to reconstruct network architecture parameters. If this fails, rerun nnUNetv2_plan_experiment for your dataset. If you use a custom architecture, please downgrade nnU-Net to the version you implemented this or update your implementation + plans.\n",
      "  warnings.warn(\"Detected old nnU-Net plans format. Attempting to reconstruct network architecture \"\n",
      "100%|██████████| 1/1 [00:00<00:00,  5.75it/s]\n"
     ]
    },
    {
     "name": "stdout",
     "output_type": "stream",
     "text": [
      "  Predicted in 9.03s\n",
      "Resampling...\n",
      "  cropping from (512, 512, 32) to (350, 447, 28)\n",
      "Resampling...\n",
      "  Resampled in 0.38s\n",
      "Predicting part 1 of 1 ...\n"
     ]
    },
    {
     "name": "stderr",
     "output_type": "stream",
     "text": [
      "C:\\Users\\nprim\\Desktop\\CTH_CTP\\nnUNet\\nnunetv2\\utilities\\plans_handling\\plans_handler.py:37: UserWarning: Detected old nnU-Net plans format. Attempting to reconstruct network architecture parameters. If this fails, rerun nnUNetv2_plan_experiment for your dataset. If you use a custom architecture, please downgrade nnU-Net to the version you implemented this or update your implementation + plans.\n",
      "  warnings.warn(\"Detected old nnU-Net plans format. Attempting to reconstruct network architecture \"\n",
      "100%|██████████| 2/2 [00:00<00:00, 15.93it/s]\n"
     ]
    },
    {
     "name": "stdout",
     "output_type": "stream",
     "text": [
      "  Predicted in 8.48s\n",
      "Resampling...\n",
      "Saving segmentations...\n",
      "  Saved in 0.04s\n",
      "Processed and saved: D:\\CTH_archive\\CTH_STRIPPED_MASK\\ALFORD_BARBARA.nii\n",
      "\n",
      "If you use this tool please cite: https://pubs.rsna.org/doi/10.1148/ryai.230024\n",
      "\n",
      "Generating rough body segmentation...\n",
      "Resampling...\n",
      "  Resampled in 0.23s\n",
      "Predicting...\n"
     ]
    },
    {
     "name": "stderr",
     "output_type": "stream",
     "text": [
      "100%|██████████| 1/1 [00:00<00:00, 133.27it/s]\n"
     ]
    },
    {
     "name": "stdout",
     "output_type": "stream",
     "text": [
      "  Predicted in 8.39s\n",
      "Resampling...\n",
      "  cropping from (512, 512, 32) to (382, 436, 29)\n",
      "Resampling...\n",
      "  Resampled in 0.41s\n",
      "Predicting part 1 of 1 ...\n"
     ]
    },
    {
     "name": "stderr",
     "output_type": "stream",
     "text": [
      "100%|██████████| 2/2 [00:00<00:00, 88.76it/s]\n"
     ]
    },
    {
     "name": "stdout",
     "output_type": "stream",
     "text": [
      "  Predicted in 8.67s\n",
      "Resampling...\n",
      "Saving segmentations...\n",
      "  Saved in 0.04s\n",
      "Processed and saved: D:\\CTH_archive\\CTH_STRIPPED_MASK\\ALLAH_MAJUSTICE.nii\n",
      "\n",
      "If you use this tool please cite: https://pubs.rsna.org/doi/10.1148/ryai.230024\n",
      "\n",
      "Generating rough body segmentation...\n",
      "Resampling...\n",
      "  Resampled in 0.24s\n",
      "Predicting...\n"
     ]
    },
    {
     "name": "stderr",
     "output_type": "stream",
     "text": [
      "100%|██████████| 1/1 [00:00<00:00, 110.90it/s]\n"
     ]
    },
    {
     "name": "stdout",
     "output_type": "stream",
     "text": [
      "  Predicted in 8.48s\n",
      "Resampling...\n",
      "  cropping from (512, 680, 31) to (512, 646, 30)\n",
      "Resampling...\n",
      "  Resampled in 0.49s\n",
      "Predicting part 1 of 1 ...\n"
     ]
    },
    {
     "name": "stderr",
     "output_type": "stream",
     "text": [
      "100%|██████████| 2/2 [00:00<00:00, 82.63it/s]\n"
     ]
    },
    {
     "name": "stdout",
     "output_type": "stream",
     "text": [
      "  Predicted in 8.83s\n",
      "Resampling...\n",
      "Saving segmentations...\n",
      "  Saved in 0.04s\n",
      "Processed and saved: D:\\CTH_archive\\CTH_STRIPPED_MASK\\BATTLE_MARIA.nii\n",
      "\n",
      "If you use this tool please cite: https://pubs.rsna.org/doi/10.1148/ryai.230024\n",
      "\n",
      "Generating rough body segmentation...\n",
      "Resampling...\n",
      "  Resampled in 0.23s\n",
      "Predicting...\n"
     ]
    },
    {
     "name": "stderr",
     "output_type": "stream",
     "text": [
      "100%|██████████| 1/1 [00:00<00:00, 124.92it/s]\n"
     ]
    },
    {
     "name": "stdout",
     "output_type": "stream",
     "text": [
      "  Predicted in 8.31s\n",
      "Resampling...\n",
      "  cropping from (512, 565, 33) to (485, 553, 31)\n",
      "Resampling...\n",
      "  Resampled in 0.53s\n",
      "Predicting part 1 of 1 ...\n"
     ]
    },
    {
     "name": "stderr",
     "output_type": "stream",
     "text": [
      "100%|██████████| 2/2 [00:00<00:00, 92.88it/s]\n"
     ]
    },
    {
     "name": "stdout",
     "output_type": "stream",
     "text": [
      "  Predicted in 8.39s\n",
      "Resampling...\n",
      "Saving segmentations...\n",
      "  Saved in 0.04s\n",
      "Processed and saved: D:\\CTH_archive\\CTH_STRIPPED_MASK\\BAUM_ROBERT.nii\n",
      "\n",
      "If you use this tool please cite: https://pubs.rsna.org/doi/10.1148/ryai.230024\n",
      "\n",
      "Generating rough body segmentation...\n",
      "Resampling...\n",
      "  Resampled in 0.25s\n",
      "Predicting...\n"
     ]
    },
    {
     "name": "stderr",
     "output_type": "stream",
     "text": [
      "100%|██████████| 1/1 [00:00<00:00, 117.52it/s]\n"
     ]
    },
    {
     "name": "stdout",
     "output_type": "stream",
     "text": [
      "  Predicted in 8.21s\n",
      "Resampling...\n",
      "  cropping from (512, 627, 35) to (467, 561, 31)\n",
      "Resampling...\n",
      "  Resampled in 0.47s\n",
      "Predicting part 1 of 1 ...\n"
     ]
    },
    {
     "name": "stderr",
     "output_type": "stream",
     "text": [
      "100%|██████████| 2/2 [00:00<00:00, 95.14it/s]\n"
     ]
    },
    {
     "name": "stdout",
     "output_type": "stream",
     "text": [
      "  Predicted in 8.38s\n",
      "Resampling...\n",
      "Saving segmentations...\n",
      "  Saved in 0.05s\n",
      "Processed and saved: D:\\CTH_archive\\CTH_STRIPPED_MASK\\BILLIPS_JAMES.nii\n",
      "\n",
      "If you use this tool please cite: https://pubs.rsna.org/doi/10.1148/ryai.230024\n",
      "\n",
      "Generating rough body segmentation...\n",
      "Resampling...\n",
      "  Resampled in 0.23s\n",
      "Predicting...\n"
     ]
    },
    {
     "name": "stderr",
     "output_type": "stream",
     "text": [
      "100%|██████████| 1/1 [00:00<00:00, 133.12it/s]\n"
     ]
    },
    {
     "name": "stdout",
     "output_type": "stream",
     "text": [
      "  Predicted in 8.33s\n",
      "Resampling...\n",
      "  cropping from (512, 512, 32) to (384, 478, 28)\n",
      "Resampling...\n",
      "  Resampled in 0.43s\n",
      "Predicting part 1 of 1 ...\n"
     ]
    },
    {
     "name": "stderr",
     "output_type": "stream",
     "text": [
      "100%|██████████| 2/2 [00:00<00:00, 90.78it/s]\n"
     ]
    },
    {
     "name": "stdout",
     "output_type": "stream",
     "text": [
      "  Predicted in 8.55s\n",
      "Resampling...\n",
      "Saving segmentations...\n",
      "  Saved in 0.03s\n",
      "Processed and saved: D:\\CTH_archive\\CTH_STRIPPED_MASK\\BOGER_DAVID_S.nii\n",
      "\n",
      "If you use this tool please cite: https://pubs.rsna.org/doi/10.1148/ryai.230024\n",
      "\n",
      "Generating rough body segmentation...\n",
      "Resampling...\n",
      "  Resampled in 0.22s\n",
      "Predicting...\n"
     ]
    },
    {
     "name": "stderr",
     "output_type": "stream",
     "text": [
      "100%|██████████| 1/1 [00:00<00:00, 117.32it/s]\n"
     ]
    },
    {
     "name": "stdout",
     "output_type": "stream",
     "text": [
      "  Predicted in 8.33s\n",
      "Resampling...\n",
      "  cropping from (512, 512, 32) to (360, 473, 28)\n",
      "Resampling...\n",
      "  Resampled in 0.38s\n",
      "Predicting part 1 of 1 ...\n"
     ]
    },
    {
     "name": "stderr",
     "output_type": "stream",
     "text": [
      "100%|██████████| 2/2 [00:00<00:00, 95.13it/s]\n"
     ]
    },
    {
     "name": "stdout",
     "output_type": "stream",
     "text": [
      "  Predicted in 8.36s\n",
      "Resampling...\n",
      "Saving segmentations...\n",
      "  Saved in 0.03s\n",
      "Processed and saved: D:\\CTH_archive\\CTH_STRIPPED_MASK\\BROWN_ANTHONY.nii\n",
      "\n",
      "If you use this tool please cite: https://pubs.rsna.org/doi/10.1148/ryai.230024\n",
      "\n",
      "Generating rough body segmentation...\n",
      "Resampling...\n",
      "  Resampled in 0.21s\n",
      "Predicting...\n"
     ]
    },
    {
     "name": "stderr",
     "output_type": "stream",
     "text": [
      "100%|██████████| 1/1 [00:00<00:00, 142.87it/s]\n"
     ]
    },
    {
     "name": "stdout",
     "output_type": "stream",
     "text": [
      "  Predicted in 8.47s\n",
      "Resampling...\n",
      "  cropping from (512, 535, 34) to (440, 525, 29)\n",
      "Resampling...\n",
      "  Resampled in 0.45s\n",
      "Predicting part 1 of 1 ...\n"
     ]
    },
    {
     "name": "stderr",
     "output_type": "stream",
     "text": [
      "100%|██████████| 2/2 [00:00<00:00, 110.99it/s]\n"
     ]
    },
    {
     "name": "stdout",
     "output_type": "stream",
     "text": [
      "  Predicted in 8.34s\n",
      "Resampling...\n",
      "Saving segmentations...\n",
      "  Saved in 0.04s\n",
      "Processed and saved: D:\\CTH_archive\\CTH_STRIPPED_MASK\\CAMPAGNA_HARRY_D.nii\n",
      "\n",
      "If you use this tool please cite: https://pubs.rsna.org/doi/10.1148/ryai.230024\n",
      "\n",
      "Generating rough body segmentation...\n",
      "Resampling...\n",
      "  Resampled in 0.45s\n",
      "Predicting...\n"
     ]
    },
    {
     "name": "stderr",
     "output_type": "stream",
     "text": [
      "100%|██████████| 1/1 [00:00<00:00, 133.13it/s]\n"
     ]
    },
    {
     "name": "stdout",
     "output_type": "stream",
     "text": [
      "  Predicted in 8.48s\n",
      "Resampling...\n",
      "  cropping from (512, 512, 64) to (367, 428, 62)\n",
      "Resampling...\n",
      "  Resampled in 0.54s\n",
      "Predicting part 1 of 1 ...\n"
     ]
    },
    {
     "name": "stderr",
     "output_type": "stream",
     "text": [
      "100%|██████████| 2/2 [00:00<00:00, 100.52it/s]\n"
     ]
    },
    {
     "name": "stdout",
     "output_type": "stream",
     "text": [
      "  Predicted in 8.59s\n",
      "Resampling...\n",
      "Saving segmentations...\n",
      "  Saved in 0.08s\n",
      "Processed and saved: D:\\CTH_archive\\CTH_STRIPPED_MASK\\CANIGLIA_ROBERT.nii\n",
      "\n",
      "If you use this tool please cite: https://pubs.rsna.org/doi/10.1148/ryai.230024\n",
      "\n",
      "Generating rough body segmentation...\n",
      "Resampling...\n",
      "  Resampled in 0.23s\n",
      "Predicting...\n"
     ]
    },
    {
     "name": "stderr",
     "output_type": "stream",
     "text": [
      "100%|██████████| 1/1 [00:00<00:00, 117.48it/s]\n"
     ]
    },
    {
     "name": "stdout",
     "output_type": "stream",
     "text": [
      "  Predicted in 8.30s\n",
      "Resampling...\n",
      "  cropping from (512, 512, 32) to (388, 488, 30)\n",
      "Resampling...\n",
      "  Resampled in 0.50s\n",
      "Predicting part 1 of 1 ...\n"
     ]
    },
    {
     "name": "stderr",
     "output_type": "stream",
     "text": [
      "100%|██████████| 2/2 [00:00<00:00, 102.07it/s]\n"
     ]
    },
    {
     "name": "stdout",
     "output_type": "stream",
     "text": [
      "  Predicted in 8.68s\n",
      "Resampling...\n",
      "Saving segmentations...\n",
      "  Saved in 0.03s\n",
      "Processed and saved: D:\\CTH_archive\\CTH_STRIPPED_MASK\\CARDIN_PAUL.nii\n",
      "\n",
      "If you use this tool please cite: https://pubs.rsna.org/doi/10.1148/ryai.230024\n",
      "\n",
      "Generating rough body segmentation...\n",
      "Resampling...\n",
      "  Resampled in 0.23s\n",
      "Predicting...\n"
     ]
    },
    {
     "name": "stderr",
     "output_type": "stream",
     "text": [
      "100%|██████████| 1/1 [00:00<00:00, 133.13it/s]\n"
     ]
    },
    {
     "name": "stdout",
     "output_type": "stream",
     "text": [
      "  Predicted in 8.42s\n",
      "Resampling...\n",
      "  cropping from (512, 512, 32) to (388, 459, 30)\n",
      "Resampling...\n",
      "  Resampled in 0.43s\n",
      "Predicting part 1 of 1 ...\n"
     ]
    },
    {
     "name": "stderr",
     "output_type": "stream",
     "text": [
      "100%|██████████| 2/2 [00:00<00:00, 87.73it/s]\n"
     ]
    },
    {
     "name": "stdout",
     "output_type": "stream",
     "text": [
      "  Predicted in 8.33s\n",
      "Resampling...\n",
      "Saving segmentations...\n",
      "  Saved in 0.03s\n",
      "Processed and saved: D:\\CTH_archive\\CTH_STRIPPED_MASK\\CHANG_WAH_KONG.nii\n",
      "\n",
      "If you use this tool please cite: https://pubs.rsna.org/doi/10.1148/ryai.230024\n",
      "\n",
      "Generating rough body segmentation...\n",
      "Resampling...\n",
      "  Resampled in 0.24s\n",
      "Predicting...\n"
     ]
    },
    {
     "name": "stderr",
     "output_type": "stream",
     "text": [
      "100%|██████████| 1/1 [00:00<00:00, 142.50it/s]\n"
     ]
    },
    {
     "name": "stdout",
     "output_type": "stream",
     "text": [
      "  Predicted in 8.23s\n",
      "Resampling...\n",
      "  cropping from (512, 512, 32) to (392, 447, 29)\n",
      "Resampling...\n",
      "  Resampled in 0.42s\n",
      "Predicting part 1 of 1 ...\n"
     ]
    },
    {
     "name": "stderr",
     "output_type": "stream",
     "text": [
      "100%|██████████| 2/2 [00:00<00:00, 85.98it/s]\n"
     ]
    },
    {
     "name": "stdout",
     "output_type": "stream",
     "text": [
      "  Predicted in 8.34s\n",
      "Resampling...\n",
      "Saving segmentations...\n",
      "  Saved in 0.03s\n",
      "Processed and saved: D:\\CTH_archive\\CTH_STRIPPED_MASK\\CHEN_QIAOYING.nii\n",
      "\n",
      "If you use this tool please cite: https://pubs.rsna.org/doi/10.1148/ryai.230024\n",
      "\n",
      "Generating rough body segmentation...\n",
      "Resampling...\n",
      "  Resampled in 0.24s\n",
      "Predicting...\n"
     ]
    },
    {
     "name": "stderr",
     "output_type": "stream",
     "text": [
      "100%|██████████| 1/1 [00:00<00:00, 117.45it/s]\n"
     ]
    },
    {
     "name": "stdout",
     "output_type": "stream",
     "text": [
      "  Predicted in 8.39s\n",
      "Resampling...\n",
      "  cropping from (512, 512, 32) to (390, 461, 32)\n",
      "Resampling...\n",
      "  Resampled in 0.44s\n",
      "Predicting part 1 of 1 ...\n"
     ]
    },
    {
     "name": "stderr",
     "output_type": "stream",
     "text": [
      "100%|██████████| 2/2 [00:00<00:00, 99.89it/s]\n"
     ]
    },
    {
     "name": "stdout",
     "output_type": "stream",
     "text": [
      "  Predicted in 8.62s\n",
      "Resampling...\n",
      "Saving segmentations...\n",
      "  Saved in 0.03s\n",
      "Processed and saved: D:\\CTH_archive\\CTH_STRIPPED_MASK\\CHEN_XIU_D.nii\n",
      "\n",
      "If you use this tool please cite: https://pubs.rsna.org/doi/10.1148/ryai.230024\n",
      "\n",
      "Generating rough body segmentation...\n",
      "Resampling...\n",
      "  Resampled in 0.26s\n",
      "Predicting...\n"
     ]
    },
    {
     "name": "stderr",
     "output_type": "stream",
     "text": [
      "100%|██████████| 1/1 [00:00<00:00, 117.34it/s]\n"
     ]
    },
    {
     "name": "stdout",
     "output_type": "stream",
     "text": [
      "  Predicted in 8.37s\n",
      "Resampling...\n",
      "  cropping from (512, 655, 32) to (512, 641, 30)\n",
      "Resampling...\n",
      "  Resampled in 0.50s\n",
      "Predicting part 1 of 1 ...\n"
     ]
    },
    {
     "name": "stderr",
     "output_type": "stream",
     "text": [
      "100%|██████████| 2/2 [00:00<00:00, 95.14it/s]\n"
     ]
    },
    {
     "name": "stdout",
     "output_type": "stream",
     "text": [
      "  Predicted in 8.48s\n",
      "Resampling...\n",
      "Saving segmentations...\n",
      "  Saved in 0.04s\n",
      "Processed and saved: D:\\CTH_archive\\CTH_STRIPPED_MASK\\CHEUNG_SIU-LING_LING_WOO.nii\n",
      "\n",
      "If you use this tool please cite: https://pubs.rsna.org/doi/10.1148/ryai.230024\n",
      "\n",
      "Generating rough body segmentation...\n",
      "Resampling...\n",
      "  Resampled in 0.56s\n",
      "Predicting...\n"
     ]
    },
    {
     "name": "stderr",
     "output_type": "stream",
     "text": [
      "100%|██████████| 1/1 [00:00<00:00, 142.87it/s]\n"
     ]
    },
    {
     "name": "stdout",
     "output_type": "stream",
     "text": [
      "  Predicted in 8.33s\n",
      "Resampling...\n",
      "  cropping from (512, 512, 86) to (400, 474, 82)\n",
      "Resampling...\n",
      "  Resampled in 0.66s\n",
      "Predicting part 1 of 1 ...\n"
     ]
    },
    {
     "name": "stderr",
     "output_type": "stream",
     "text": [
      "100%|██████████| 2/2 [00:00<00:00, 99.89it/s]\n"
     ]
    },
    {
     "name": "stdout",
     "output_type": "stream",
     "text": [
      "  Predicted in 8.35s\n",
      "Resampling...\n",
      "Saving segmentations...\n",
      "  Saved in 0.09s\n",
      "Processed and saved: D:\\CTH_archive\\CTH_STRIPPED_MASK\\CHOWDHURY_SALMA_K.nii\n",
      "\n",
      "If you use this tool please cite: https://pubs.rsna.org/doi/10.1148/ryai.230024\n",
      "\n",
      "Generating rough body segmentation...\n",
      "Resampling...\n",
      "  Resampled in 0.28s\n",
      "Predicting...\n"
     ]
    },
    {
     "name": "stderr",
     "output_type": "stream",
     "text": [
      "100%|██████████| 1/1 [00:00<00:00, 142.76it/s]\n"
     ]
    },
    {
     "name": "stdout",
     "output_type": "stream",
     "text": [
      "  Predicted in 8.33s\n",
      "Resampling...\n",
      "  cropping from (512, 681, 36) to (502, 620, 32)\n",
      "Resampling...\n",
      "  Resampled in 0.59s\n",
      "Predicting part 1 of 1 ...\n"
     ]
    },
    {
     "name": "stderr",
     "output_type": "stream",
     "text": [
      "100%|██████████| 2/2 [00:00<00:00, 84.26it/s]\n"
     ]
    },
    {
     "name": "stdout",
     "output_type": "stream",
     "text": [
      "  Predicted in 8.49s\n",
      "Resampling...\n",
      "Saving segmentations...\n",
      "  Saved in 0.05s\n",
      "Processed and saved: D:\\CTH_archive\\CTH_STRIPPED_MASK\\CLARKSON-FARRELL_EDWARD.nii\n",
      "\n",
      "If you use this tool please cite: https://pubs.rsna.org/doi/10.1148/ryai.230024\n",
      "\n",
      "Generating rough body segmentation...\n",
      "Resampling...\n",
      "  Resampled in 0.27s\n",
      "Predicting...\n"
     ]
    },
    {
     "name": "stderr",
     "output_type": "stream",
     "text": [
      "100%|██████████| 1/1 [00:00<00:00, 117.50it/s]\n"
     ]
    },
    {
     "name": "stdout",
     "output_type": "stream",
     "text": [
      "  Predicted in 8.32s\n",
      "Resampling...\n",
      "  cropping from (512, 512, 35) to (388, 445, 33)\n",
      "Resampling...\n",
      "  Resampled in 0.44s\n",
      "Predicting part 1 of 1 ...\n"
     ]
    },
    {
     "name": "stderr",
     "output_type": "stream",
     "text": [
      "100%|██████████| 2/2 [00:00<00:00, 92.79it/s]\n"
     ]
    },
    {
     "name": "stdout",
     "output_type": "stream",
     "text": [
      "  Predicted in 8.51s\n",
      "Resampling...\n",
      "Saving segmentations...\n",
      "  Saved in 0.04s\n",
      "Processed and saved: D:\\CTH_archive\\CTH_STRIPPED_MASK\\COLLADOTORRES_URIBES_A.nii\n",
      "\n",
      "If you use this tool please cite: https://pubs.rsna.org/doi/10.1148/ryai.230024\n",
      "\n",
      "Generating rough body segmentation...\n",
      "Resampling...\n",
      "  Resampled in 0.20s\n",
      "Predicting...\n"
     ]
    },
    {
     "name": "stderr",
     "output_type": "stream",
     "text": [
      "100%|██████████| 1/1 [00:00<00:00, 111.05it/s]\n"
     ]
    },
    {
     "name": "stdout",
     "output_type": "stream",
     "text": [
      "  Predicted in 8.34s\n",
      "Resampling...\n",
      "  cropping from (512, 512, 28) to (382, 472, 27)\n",
      "Resampling...\n",
      "  Resampled in 0.36s\n",
      "Predicting part 1 of 1 ...\n"
     ]
    },
    {
     "name": "stderr",
     "output_type": "stream",
     "text": [
      "100%|██████████| 2/2 [00:00<00:00, 105.15it/s]\n"
     ]
    },
    {
     "name": "stdout",
     "output_type": "stream",
     "text": [
      "  Predicted in 8.25s\n",
      "Resampling...\n",
      "Saving segmentations...\n",
      "  Saved in 0.03s\n",
      "Processed and saved: D:\\CTH_archive\\CTH_STRIPPED_MASK\\COMPRES_THELMA.nii\n",
      "\n",
      "If you use this tool please cite: https://pubs.rsna.org/doi/10.1148/ryai.230024\n",
      "\n",
      "Generating rough body segmentation...\n",
      "Resampling...\n",
      "  Resampled in 0.26s\n",
      "Predicting...\n"
     ]
    },
    {
     "name": "stderr",
     "output_type": "stream",
     "text": [
      "100%|██████████| 1/1 [00:00<00:00, 133.25it/s]\n"
     ]
    },
    {
     "name": "stdout",
     "output_type": "stream",
     "text": [
      "  Predicted in 8.55s\n",
      "Resampling...\n",
      "  cropping from (512, 512, 34) to (346, 437, 33)\n",
      "Resampling...\n",
      "  Resampled in 0.43s\n",
      "Predicting part 1 of 1 ...\n"
     ]
    },
    {
     "name": "stderr",
     "output_type": "stream",
     "text": [
      "100%|██████████| 2/2 [00:00<00:00, 89.86it/s]\n"
     ]
    },
    {
     "name": "stdout",
     "output_type": "stream",
     "text": [
      "  Predicted in 8.51s\n",
      "Resampling...\n",
      "Saving segmentations...\n",
      "  Saved in 0.03s\n",
      "Processed and saved: D:\\CTH_archive\\CTH_STRIPPED_MASK\\COOPER_SUSAN.nii\n",
      "\n",
      "If you use this tool please cite: https://pubs.rsna.org/doi/10.1148/ryai.230024\n",
      "\n",
      "Generating rough body segmentation...\n",
      "Resampling...\n",
      "  Resampled in 0.23s\n",
      "Predicting...\n"
     ]
    },
    {
     "name": "stderr",
     "output_type": "stream",
     "text": [
      "100%|██████████| 1/1 [00:00<00:00, 133.26it/s]\n"
     ]
    },
    {
     "name": "stdout",
     "output_type": "stream",
     "text": [
      "  Predicted in 8.32s\n",
      "Resampling...\n",
      "  cropping from (512, 512, 32) to (360, 474, 28)\n",
      "Resampling...\n",
      "  Resampled in 0.39s\n",
      "Predicting part 1 of 1 ...\n"
     ]
    },
    {
     "name": "stderr",
     "output_type": "stream",
     "text": [
      "100%|██████████| 2/2 [00:00<00:00, 92.55it/s]\n"
     ]
    },
    {
     "name": "stdout",
     "output_type": "stream",
     "text": [
      "  Predicted in 8.29s\n",
      "Resampling...\n",
      "Saving segmentations...\n",
      "  Saved in 0.03s\n",
      "Processed and saved: D:\\CTH_archive\\CTH_STRIPPED_MASK\\CRUZ_MIRIAN.nii\n",
      "\n",
      "If you use this tool please cite: https://pubs.rsna.org/doi/10.1148/ryai.230024\n",
      "\n",
      "Generating rough body segmentation...\n",
      "Resampling...\n",
      "  Resampled in 0.24s\n",
      "Predicting...\n"
     ]
    },
    {
     "name": "stderr",
     "output_type": "stream",
     "text": [
      "100%|██████████| 1/1 [00:00<00:00, 133.19it/s]\n"
     ]
    },
    {
     "name": "stdout",
     "output_type": "stream",
     "text": [
      "  Predicted in 8.29s\n",
      "Resampling...\n",
      "  cropping from (512, 512, 32) to (306, 372, 30)\n",
      "Resampling...\n",
      "  Resampled in 0.39s\n",
      "Predicting part 1 of 1 ...\n"
     ]
    },
    {
     "name": "stderr",
     "output_type": "stream",
     "text": [
      "100%|██████████| 2/2 [00:00<00:00, 84.94it/s]\n"
     ]
    },
    {
     "name": "stdout",
     "output_type": "stream",
     "text": [
      "  Predicted in 8.45s\n",
      "Resampling...\n",
      "Saving segmentations...\n",
      "  Saved in 0.03s\n",
      "Processed and saved: D:\\CTH_archive\\CTH_STRIPPED_MASK\\DAMBOISE_JACQUES_J.nii\n",
      "\n",
      "If you use this tool please cite: https://pubs.rsna.org/doi/10.1148/ryai.230024\n",
      "\n",
      "Generating rough body segmentation...\n",
      "Resampling...\n",
      "  Resampled in 0.25s\n",
      "Predicting...\n"
     ]
    },
    {
     "name": "stderr",
     "output_type": "stream",
     "text": [
      "100%|██████████| 1/1 [00:00<00:00, 133.13it/s]\n"
     ]
    },
    {
     "name": "stdout",
     "output_type": "stream",
     "text": [
      "  Predicted in 8.23s\n",
      "Resampling...\n",
      "  cropping from (512, 512, 36) to (359, 424, 31)\n",
      "Resampling...\n",
      "  Resampled in 0.40s\n",
      "Predicting part 1 of 1 ...\n"
     ]
    },
    {
     "name": "stderr",
     "output_type": "stream",
     "text": [
      "100%|██████████| 2/2 [00:00<00:00, 99.83it/s]\n"
     ]
    },
    {
     "name": "stdout",
     "output_type": "stream",
     "text": [
      "  Predicted in 8.35s\n",
      "Resampling...\n",
      "Saving segmentations...\n",
      "  Saved in 0.04s\n",
      "Processed and saved: D:\\CTH_archive\\CTH_STRIPPED_MASK\\DEGRAFT_NYUMUTSU_E.nii\n",
      "\n",
      "If you use this tool please cite: https://pubs.rsna.org/doi/10.1148/ryai.230024\n",
      "\n",
      "Generating rough body segmentation...\n",
      "Resampling...\n",
      "  Resampled in 0.25s\n",
      "Predicting...\n"
     ]
    },
    {
     "name": "stderr",
     "output_type": "stream",
     "text": [
      "100%|██████████| 1/1 [00:00<00:00, 129.45it/s]\n"
     ]
    },
    {
     "name": "stdout",
     "output_type": "stream",
     "text": [
      "  Predicted in 8.40s\n",
      "Resampling...\n",
      "  cropping from (512, 655, 34) to (506, 623, 30)\n",
      "Resampling...\n",
      "  Resampled in 0.46s\n",
      "Predicting part 1 of 1 ...\n"
     ]
    },
    {
     "name": "stderr",
     "output_type": "stream",
     "text": [
      "100%|██████████| 1/1 [00:00<00:00, 79.94it/s]\n"
     ]
    },
    {
     "name": "stdout",
     "output_type": "stream",
     "text": [
      "  Predicted in 8.39s\n",
      "Resampling...\n",
      "Saving segmentations...\n",
      "  Saved in 0.03s\n",
      "Processed and saved: D:\\CTH_archive\\CTH_STRIPPED_MASK\\DONALDSON_GEORGIANNA.nii\n",
      "\n",
      "If you use this tool please cite: https://pubs.rsna.org/doi/10.1148/ryai.230024\n",
      "\n",
      "Generating rough body segmentation...\n",
      "Resampling...\n",
      "  Resampled in 0.25s\n",
      "Predicting...\n"
     ]
    },
    {
     "name": "stderr",
     "output_type": "stream",
     "text": [
      "100%|██████████| 1/1 [00:00<00:00, 111.11it/s]\n"
     ]
    },
    {
     "name": "stdout",
     "output_type": "stream",
     "text": [
      "  Predicted in 8.33s\n",
      "Resampling...\n",
      "  cropping from (512, 682, 30) to (512, 617, 28)\n",
      "Resampling...\n",
      "  Resampled in 0.48s\n",
      "Predicting part 1 of 1 ...\n"
     ]
    },
    {
     "name": "stderr",
     "output_type": "stream",
     "text": [
      "100%|██████████| 2/2 [00:00<00:00, 92.42it/s]\n"
     ]
    },
    {
     "name": "stdout",
     "output_type": "stream",
     "text": [
      "  Predicted in 8.37s\n",
      "Resampling...\n",
      "Saving segmentations...\n",
      "  Saved in 0.04s\n",
      "Processed and saved: D:\\CTH_archive\\CTH_STRIPPED_MASK\\DUMA_ZBIGNIEW.nii\n",
      "\n",
      "If you use this tool please cite: https://pubs.rsna.org/doi/10.1148/ryai.230024\n",
      "\n",
      "Generating rough body segmentation...\n",
      "Resampling...\n",
      "  Resampled in 0.23s\n",
      "Predicting...\n"
     ]
    },
    {
     "name": "stderr",
     "output_type": "stream",
     "text": [
      "100%|██████████| 1/1 [00:00<00:00, 133.11it/s]\n"
     ]
    },
    {
     "name": "stdout",
     "output_type": "stream",
     "text": [
      "  Predicted in 8.26s\n",
      "Resampling...\n",
      "  cropping from (512, 600, 33) to (452, 559, 30)\n",
      "Resampling...\n",
      "  Resampled in 0.48s\n",
      "Predicting part 1 of 1 ...\n"
     ]
    },
    {
     "name": "stderr",
     "output_type": "stream",
     "text": [
      "100%|██████████| 2/2 [00:00<00:00, 99.89it/s]\n"
     ]
    },
    {
     "name": "stdout",
     "output_type": "stream",
     "text": [
      "  Predicted in 8.36s\n",
      "Resampling...\n",
      "Saving segmentations...\n",
      "  Saved in 0.04s\n",
      "Processed and saved: D:\\CTH_archive\\CTH_STRIPPED_MASK\\EASON_CHARLES.nii\n",
      "\n",
      "If you use this tool please cite: https://pubs.rsna.org/doi/10.1148/ryai.230024\n",
      "\n",
      "Generating rough body segmentation...\n",
      "Resampling...\n",
      "  Resampled in 0.23s\n",
      "Predicting...\n"
     ]
    },
    {
     "name": "stderr",
     "output_type": "stream",
     "text": [
      "100%|██████████| 1/1 [00:00<00:00, 125.00it/s]\n"
     ]
    },
    {
     "name": "stdout",
     "output_type": "stream",
     "text": [
      "  Predicted in 8.36s\n",
      "Resampling...\n",
      "  cropping from (512, 631, 31) to (505, 626, 29)\n",
      "Resampling...\n",
      "  Resampled in 0.49s\n",
      "Predicting part 1 of 1 ...\n"
     ]
    },
    {
     "name": "stderr",
     "output_type": "stream",
     "text": [
      "100%|██████████| 2/2 [00:00<00:00, 102.28it/s]\n"
     ]
    },
    {
     "name": "stdout",
     "output_type": "stream",
     "text": [
      "  Predicted in 8.48s\n",
      "Resampling...\n",
      "Saving segmentations...\n",
      "  Saved in 0.04s\n",
      "Processed and saved: D:\\CTH_archive\\CTH_STRIPPED_MASK\\ELISA-WRIGHT_KANZADER.nii\n",
      "\n",
      "If you use this tool please cite: https://pubs.rsna.org/doi/10.1148/ryai.230024\n",
      "\n",
      "Generating rough body segmentation...\n",
      "Resampling...\n",
      "  Resampled in 0.22s\n",
      "Predicting...\n"
     ]
    },
    {
     "name": "stderr",
     "output_type": "stream",
     "text": [
      "100%|██████████| 1/1 [00:00<00:00, 117.49it/s]\n"
     ]
    },
    {
     "name": "stdout",
     "output_type": "stream",
     "text": [
      "  Predicted in 8.32s\n",
      "Resampling...\n",
      "  cropping from (512, 512, 29) to (416, 474, 29)\n",
      "Resampling...\n",
      "  Resampled in 0.42s\n",
      "Predicting part 1 of 1 ...\n"
     ]
    },
    {
     "name": "stderr",
     "output_type": "stream",
     "text": [
      "100%|██████████| 2/2 [00:00<00:00, 81.54it/s]\n"
     ]
    },
    {
     "name": "stdout",
     "output_type": "stream",
     "text": [
      "  Predicted in 8.32s\n",
      "Resampling...\n",
      "Saving segmentations...\n",
      "  Saved in 0.03s\n",
      "Processed and saved: D:\\CTH_archive\\CTH_STRIPPED_MASK\\FERNANDEZ_LUIS.nii\n",
      "\n",
      "If you use this tool please cite: https://pubs.rsna.org/doi/10.1148/ryai.230024\n",
      "\n",
      "Generating rough body segmentation...\n",
      "Resampling...\n",
      "  Resampled in 0.24s\n",
      "Predicting...\n"
     ]
    },
    {
     "name": "stderr",
     "output_type": "stream",
     "text": [
      "100%|██████████| 1/1 [00:00<00:00, 117.51it/s]\n"
     ]
    },
    {
     "name": "stdout",
     "output_type": "stream",
     "text": [
      "  Predicted in 8.39s\n",
      "Resampling...\n",
      "  cropping from (512, 512, 32) to (364, 475, 30)\n",
      "Resampling...\n",
      "  Resampled in 0.44s\n",
      "Predicting part 1 of 1 ...\n"
     ]
    },
    {
     "name": "stderr",
     "output_type": "stream",
     "text": [
      "100%|██████████| 2/2 [00:00<00:00, 97.43it/s]\n"
     ]
    },
    {
     "name": "stdout",
     "output_type": "stream",
     "text": [
      "  Predicted in 8.48s\n",
      "Resampling...\n",
      "Saving segmentations...\n",
      "  Saved in 0.03s\n",
      "Processed and saved: D:\\CTH_archive\\CTH_STRIPPED_MASK\\FILION_JULIO.nii\n",
      "\n",
      "If you use this tool please cite: https://pubs.rsna.org/doi/10.1148/ryai.230024\n",
      "\n",
      "Generating rough body segmentation...\n",
      "Resampling...\n",
      "  Resampled in 0.22s\n",
      "Predicting...\n"
     ]
    },
    {
     "name": "stderr",
     "output_type": "stream",
     "text": [
      "100%|██████████| 1/1 [00:00<00:00, 117.55it/s]\n"
     ]
    },
    {
     "name": "stdout",
     "output_type": "stream",
     "text": [
      "  Predicted in 8.36s\n",
      "Resampling...\n",
      "  cropping from (512, 599, 31) to (480, 589, 30)\n",
      "Resampling...\n",
      "  Resampled in 0.51s\n",
      "Predicting part 1 of 1 ...\n"
     ]
    },
    {
     "name": "stderr",
     "output_type": "stream",
     "text": [
      "100%|██████████| 2/2 [00:00<00:00, 95.97it/s]\n"
     ]
    },
    {
     "name": "stdout",
     "output_type": "stream",
     "text": [
      "  Predicted in 8.32s\n",
      "Resampling...\n",
      "Saving segmentations...\n",
      "  Saved in 0.04s\n",
      "Processed and saved: D:\\CTH_archive\\CTH_STRIPPED_MASK\\FILI_CHARLES.nii\n",
      "\n",
      "If you use this tool please cite: https://pubs.rsna.org/doi/10.1148/ryai.230024\n",
      "\n",
      "Generating rough body segmentation...\n",
      "Resampling...\n",
      "  Resampled in 0.23s\n",
      "Predicting...\n"
     ]
    },
    {
     "name": "stderr",
     "output_type": "stream",
     "text": [
      "100%|██████████| 1/1 [00:00<00:00, 117.61it/s]\n"
     ]
    },
    {
     "name": "stdout",
     "output_type": "stream",
     "text": [
      "  Predicted in 8.23s\n",
      "Resampling...\n",
      "  cropping from (512, 512, 32) to (412, 487, 27)\n",
      "Resampling...\n",
      "  Resampled in 0.40s\n",
      "Predicting part 1 of 1 ...\n"
     ]
    },
    {
     "name": "stderr",
     "output_type": "stream",
     "text": [
      "100%|██████████| 2/2 [00:00<00:00, 91.57it/s]\n"
     ]
    },
    {
     "name": "stdout",
     "output_type": "stream",
     "text": [
      "  Predicted in 8.52s\n",
      "Resampling...\n",
      "Saving segmentations...\n",
      "  Saved in 0.03s\n",
      "Processed and saved: D:\\CTH_archive\\CTH_STRIPPED_MASK\\FISHER_BARBARA.nii\n",
      "\n",
      "If you use this tool please cite: https://pubs.rsna.org/doi/10.1148/ryai.230024\n",
      "\n",
      "Generating rough body segmentation...\n",
      "Resampling...\n",
      "  Resampled in 0.23s\n",
      "Predicting...\n"
     ]
    },
    {
     "name": "stderr",
     "output_type": "stream",
     "text": [
      "100%|██████████| 1/1 [00:00<00:00, 142.85it/s]\n"
     ]
    },
    {
     "name": "stdout",
     "output_type": "stream",
     "text": [
      "  Predicted in 8.34s\n",
      "Resampling...\n",
      "  cropping from (512, 512, 32) to (355, 429, 30)\n",
      "Resampling...\n",
      "  Resampled in 0.42s\n",
      "Predicting part 1 of 1 ...\n"
     ]
    },
    {
     "name": "stderr",
     "output_type": "stream",
     "text": [
      "100%|██████████| 2/2 [00:00<00:00, 95.14it/s]\n"
     ]
    },
    {
     "name": "stdout",
     "output_type": "stream",
     "text": [
      "  Predicted in 8.36s\n",
      "Resampling...\n",
      "Saving segmentations...\n",
      "  Saved in 0.03s\n",
      "Processed and saved: D:\\CTH_archive\\CTH_STRIPPED_MASK\\GARCIA_ABELARDO.nii\n",
      "\n",
      "If you use this tool please cite: https://pubs.rsna.org/doi/10.1148/ryai.230024\n",
      "\n",
      "Generating rough body segmentation...\n",
      "Resampling...\n",
      "  Resampled in 0.24s\n",
      "Predicting...\n"
     ]
    },
    {
     "name": "stderr",
     "output_type": "stream",
     "text": [
      "100%|██████████| 1/1 [00:00<00:00, 117.50it/s]\n"
     ]
    },
    {
     "name": "stdout",
     "output_type": "stream",
     "text": [
      "  Predicted in 8.35s\n",
      "Resampling...\n",
      "  cropping from (512, 641, 32) to (512, 635, 30)\n",
      "Resampling...\n",
      "  Resampled in 0.50s\n",
      "Predicting part 1 of 1 ...\n"
     ]
    },
    {
     "name": "stderr",
     "output_type": "stream",
     "text": [
      "100%|██████████| 2/2 [00:00<00:00, 95.04it/s]\n"
     ]
    },
    {
     "name": "stdout",
     "output_type": "stream",
     "text": [
      "  Predicted in 8.67s\n",
      "Resampling...\n",
      "Saving segmentations...\n",
      "  Saved in 0.04s\n",
      "Processed and saved: D:\\CTH_archive\\CTH_STRIPPED_MASK\\GARCIA_ARTURO.nii\n",
      "\n",
      "If you use this tool please cite: https://pubs.rsna.org/doi/10.1148/ryai.230024\n",
      "\n",
      "Generating rough body segmentation...\n",
      "Resampling...\n",
      "  Resampled in 0.26s\n",
      "Predicting...\n"
     ]
    },
    {
     "name": "stderr",
     "output_type": "stream",
     "text": [
      "100%|██████████| 1/1 [00:00<00:00, 124.94it/s]\n"
     ]
    },
    {
     "name": "stdout",
     "output_type": "stream",
     "text": [
      "  Predicted in 8.38s\n",
      "Resampling...\n",
      "  cropping from (512, 512, 36) to (314, 396, 32)\n",
      "Resampling...\n",
      "  Resampled in 0.41s\n",
      "Predicting part 1 of 1 ...\n"
     ]
    },
    {
     "name": "stderr",
     "output_type": "stream",
     "text": [
      "100%|██████████| 2/2 [00:00<00:00, 99.81it/s]\n"
     ]
    },
    {
     "name": "stdout",
     "output_type": "stream",
     "text": [
      "  Predicted in 8.48s\n",
      "Resampling...\n",
      "Saving segmentations...\n",
      "  Saved in 0.04s\n",
      "Processed and saved: D:\\CTH_archive\\CTH_STRIPPED_MASK\\GENTLE_CLINTON.nii\n",
      "\n",
      "If you use this tool please cite: https://pubs.rsna.org/doi/10.1148/ryai.230024\n",
      "\n",
      "Generating rough body segmentation...\n",
      "Resampling...\n",
      "  Resampled in 0.25s\n",
      "Predicting...\n"
     ]
    },
    {
     "name": "stderr",
     "output_type": "stream",
     "text": [
      "100%|██████████| 1/1 [00:00<00:00, 125.01it/s]\n"
     ]
    },
    {
     "name": "stdout",
     "output_type": "stream",
     "text": [
      "  Predicted in 8.26s\n",
      "Resampling...\n",
      "  cropping from (512, 659, 33) to (498, 627, 33)\n",
      "Resampling...\n",
      "  Resampled in 0.54s\n",
      "Predicting part 1 of 1 ...\n"
     ]
    },
    {
     "name": "stderr",
     "output_type": "stream",
     "text": [
      "100%|██████████| 2/2 [00:00<00:00, 76.80it/s]\n"
     ]
    },
    {
     "name": "stdout",
     "output_type": "stream",
     "text": [
      "  Predicted in 8.68s\n",
      "Resampling...\n",
      "Saving segmentations...\n",
      "  Saved in 0.09s\n",
      "Processed and saved: D:\\CTH_archive\\CTH_STRIPPED_MASK\\GOBLE_TAMMY.nii\n",
      "\n",
      "If you use this tool please cite: https://pubs.rsna.org/doi/10.1148/ryai.230024\n",
      "\n",
      "Generating rough body segmentation...\n",
      "Resampling...\n",
      "  Resampled in 0.24s\n",
      "Predicting...\n"
     ]
    },
    {
     "name": "stderr",
     "output_type": "stream",
     "text": [
      "100%|██████████| 1/1 [00:00<00:00, 127.87it/s]\n"
     ]
    },
    {
     "name": "stdout",
     "output_type": "stream",
     "text": [
      "  Predicted in 8.59s\n",
      "Resampling...\n",
      "  cropping from (512, 637, 32) to (500, 589, 30)\n",
      "Resampling...\n",
      "  Resampled in 0.52s\n",
      "Predicting part 1 of 1 ...\n"
     ]
    },
    {
     "name": "stderr",
     "output_type": "stream",
     "text": [
      "100%|██████████| 2/2 [00:00<00:00, 88.69it/s]\n"
     ]
    },
    {
     "name": "stdout",
     "output_type": "stream",
     "text": [
      "  Predicted in 8.65s\n",
      "Resampling...\n",
      "Saving segmentations...\n",
      "  Saved in 0.04s\n",
      "Processed and saved: D:\\CTH_archive\\CTH_STRIPPED_MASK\\GONZALEZ_FERNANDO.nii\n",
      "\n",
      "If you use this tool please cite: https://pubs.rsna.org/doi/10.1148/ryai.230024\n",
      "\n",
      "Generating rough body segmentation...\n",
      "Resampling...\n",
      "  Resampled in 0.24s\n",
      "Predicting...\n"
     ]
    },
    {
     "name": "stderr",
     "output_type": "stream",
     "text": [
      "100%|██████████| 1/1 [00:00<00:00, 124.93it/s]\n"
     ]
    },
    {
     "name": "stdout",
     "output_type": "stream",
     "text": [
      "  Predicted in 8.37s\n",
      "Resampling...\n",
      "  cropping from (512, 512, 32) to (372, 424, 27)\n",
      "Resampling...\n",
      "  Resampled in 0.39s\n",
      "Predicting part 1 of 1 ...\n"
     ]
    },
    {
     "name": "stderr",
     "output_type": "stream",
     "text": [
      "100%|██████████| 2/2 [00:00<00:00, 95.24it/s]\n"
     ]
    },
    {
     "name": "stdout",
     "output_type": "stream",
     "text": [
      "  Predicted in 8.30s\n",
      "Resampling...\n",
      "Saving segmentations...\n",
      "  Saved in 0.03s\n",
      "Processed and saved: D:\\CTH_archive\\CTH_STRIPPED_MASK\\GUZMAN_IRIS.nii\n",
      "\n",
      "If you use this tool please cite: https://pubs.rsna.org/doi/10.1148/ryai.230024\n",
      "\n",
      "Generating rough body segmentation...\n",
      "Resampling...\n",
      "  Resampled in 0.20s\n",
      "Predicting...\n"
     ]
    },
    {
     "name": "stderr",
     "output_type": "stream",
     "text": [
      "100%|██████████| 1/1 [00:00<00:00, 117.50it/s]\n"
     ]
    },
    {
     "name": "stdout",
     "output_type": "stream",
     "text": [
      "  Predicted in 8.51s\n",
      "Resampling...\n",
      "  cropping from (512, 512, 28) to (363, 439, 28)\n",
      "Resampling...\n",
      "  Resampled in 0.42s\n",
      "Predicting part 1 of 1 ...\n"
     ]
    },
    {
     "name": "stderr",
     "output_type": "stream",
     "text": [
      "100%|██████████| 2/2 [00:00<00:00, 105.14it/s]\n"
     ]
    },
    {
     "name": "stdout",
     "output_type": "stream",
     "text": [
      "  Predicted in 8.38s\n",
      "Resampling...\n",
      "Saving segmentations...\n",
      "  Saved in 0.03s\n",
      "Processed and saved: D:\\CTH_archive\\CTH_STRIPPED_MASK\\HALL_KELBERT_MCDO.nii\n",
      "\n",
      "If you use this tool please cite: https://pubs.rsna.org/doi/10.1148/ryai.230024\n",
      "\n",
      "Generating rough body segmentation...\n",
      "Resampling...\n",
      "  Resampled in 0.24s\n",
      "Predicting...\n"
     ]
    },
    {
     "name": "stderr",
     "output_type": "stream",
     "text": [
      "100%|██████████| 1/1 [00:00<00:00, 128.06it/s]\n"
     ]
    },
    {
     "name": "stdout",
     "output_type": "stream",
     "text": [
      "  Predicted in 8.39s\n",
      "Resampling...\n",
      "  cropping from (512, 512, 32) to (342, 416, 32)\n",
      "Resampling...\n",
      "  Resampled in 0.46s\n",
      "Predicting part 1 of 1 ...\n"
     ]
    },
    {
     "name": "stderr",
     "output_type": "stream",
     "text": [
      "100%|██████████| 2/2 [00:00<00:00, 95.15it/s]\n"
     ]
    },
    {
     "name": "stdout",
     "output_type": "stream",
     "text": [
      "  Predicted in 8.46s\n",
      "Resampling...\n",
      "Saving segmentations...\n",
      "  Saved in 0.03s\n",
      "Processed and saved: D:\\CTH_archive\\CTH_STRIPPED_MASK\\HALL_WILLIAM.nii\n",
      "\n",
      "If you use this tool please cite: https://pubs.rsna.org/doi/10.1148/ryai.230024\n",
      "\n",
      "Generating rough body segmentation...\n",
      "Resampling...\n",
      "  Resampled in 0.25s\n",
      "Predicting...\n"
     ]
    },
    {
     "name": "stderr",
     "output_type": "stream",
     "text": [
      "100%|██████████| 1/1 [00:00<00:00, 125.02it/s]\n"
     ]
    },
    {
     "name": "stdout",
     "output_type": "stream",
     "text": [
      "  Predicted in 8.38s\n",
      "Resampling...\n",
      "  cropping from (512, 512, 35) to (359, 424, 35)\n",
      "Resampling...\n",
      "  Resampled in 0.46s\n",
      "Predicting part 1 of 1 ...\n"
     ]
    },
    {
     "name": "stderr",
     "output_type": "stream",
     "text": [
      "100%|██████████| 2/2 [00:00<00:00, 100.00it/s]\n"
     ]
    },
    {
     "name": "stdout",
     "output_type": "stream",
     "text": [
      "  Predicted in 8.43s\n",
      "Resampling...\n",
      "Saving segmentations...\n",
      "  Saved in 0.04s\n",
      "Processed and saved: D:\\CTH_archive\\CTH_STRIPPED_MASK\\HANSEN_GEORGE_A.nii\n",
      "\n",
      "If you use this tool please cite: https://pubs.rsna.org/doi/10.1148/ryai.230024\n",
      "\n",
      "Generating rough body segmentation...\n",
      "Resampling...\n",
      "  Resampled in 0.23s\n",
      "Predicting...\n"
     ]
    },
    {
     "name": "stderr",
     "output_type": "stream",
     "text": [
      "100%|██████████| 1/1 [00:00<00:00, 111.09it/s]\n"
     ]
    },
    {
     "name": "stdout",
     "output_type": "stream",
     "text": [
      "  Predicted in 8.60s\n",
      "Resampling...\n",
      "  cropping from (512, 512, 32) to (342, 429, 30)\n",
      "Resampling...\n",
      "  Resampled in 0.43s\n",
      "Predicting part 1 of 1 ...\n"
     ]
    },
    {
     "name": "stderr",
     "output_type": "stream",
     "text": [
      "100%|██████████| 2/2 [00:00<00:00, 99.90it/s]\n"
     ]
    },
    {
     "name": "stdout",
     "output_type": "stream",
     "text": [
      "  Predicted in 8.43s\n",
      "Resampling...\n",
      "Saving segmentations...\n",
      "  Saved in 0.03s\n",
      "Processed and saved: D:\\CTH_archive\\CTH_STRIPPED_MASK\\HATTA_MARIA.nii\n",
      "\n",
      "If you use this tool please cite: https://pubs.rsna.org/doi/10.1148/ryai.230024\n",
      "\n",
      "Generating rough body segmentation...\n",
      "Resampling...\n",
      "  Resampled in 0.26s\n",
      "Predicting...\n"
     ]
    },
    {
     "name": "stderr",
     "output_type": "stream",
     "text": [
      "100%|██████████| 1/1 [00:00<00:00, 111.06it/s]\n"
     ]
    },
    {
     "name": "stdout",
     "output_type": "stream",
     "text": [
      "  Predicted in 8.31s\n",
      "Resampling...\n",
      "  cropping from (512, 697, 32) to (512, 685, 29)\n",
      "Resampling...\n",
      "  Resampled in 0.51s\n",
      "Predicting part 1 of 1 ...\n"
     ]
    },
    {
     "name": "stderr",
     "output_type": "stream",
     "text": [
      "100%|██████████| 2/2 [00:00<00:00, 92.99it/s]\n"
     ]
    },
    {
     "name": "stdout",
     "output_type": "stream",
     "text": [
      "  Predicted in 8.58s\n",
      "Resampling...\n",
      "Saving segmentations...\n",
      "  Saved in 0.04s\n",
      "Processed and saved: D:\\CTH_archive\\CTH_STRIPPED_MASK\\HECKSTALL_CORA.nii\n",
      "\n",
      "If you use this tool please cite: https://pubs.rsna.org/doi/10.1148/ryai.230024\n",
      "\n",
      "Generating rough body segmentation...\n",
      "Resampling...\n",
      "  Resampled in 0.24s\n",
      "Predicting...\n"
     ]
    },
    {
     "name": "stderr",
     "output_type": "stream",
     "text": [
      "100%|██████████| 1/1 [00:00<00:00, 125.01it/s]\n"
     ]
    },
    {
     "name": "stdout",
     "output_type": "stream",
     "text": [
      "  Predicted in 8.42s\n",
      "Resampling...\n",
      "  cropping from (512, 512, 32) to (400, 488, 28)\n",
      "Resampling...\n",
      "  Resampled in 0.42s\n",
      "Predicting part 1 of 1 ...\n"
     ]
    },
    {
     "name": "stderr",
     "output_type": "stream",
     "text": [
      "100%|██████████| 2/2 [00:00<00:00, 95.22it/s]\n"
     ]
    },
    {
     "name": "stdout",
     "output_type": "stream",
     "text": [
      "  Predicted in 8.43s\n",
      "Resampling...\n",
      "Saving segmentations...\n",
      "  Saved in 0.03s\n",
      "Processed and saved: D:\\CTH_archive\\CTH_STRIPPED_MASK\\HIRSCH_LEMEL.nii\n",
      "\n",
      "If you use this tool please cite: https://pubs.rsna.org/doi/10.1148/ryai.230024\n",
      "\n",
      "Generating rough body segmentation...\n",
      "Resampling...\n",
      "  Resampled in 0.20s\n",
      "Predicting...\n"
     ]
    },
    {
     "name": "stderr",
     "output_type": "stream",
     "text": [
      "100%|██████████| 1/1 [00:00<00:00, 125.00it/s]\n"
     ]
    },
    {
     "name": "stdout",
     "output_type": "stream",
     "text": [
      "  Predicted in 8.32s\n",
      "Resampling...\n",
      "  cropping from (512, 512, 28) to (382, 487, 26)\n",
      "Resampling...\n",
      "  Resampled in 0.36s\n",
      "Predicting part 1 of 1 ...\n"
     ]
    },
    {
     "name": "stderr",
     "output_type": "stream",
     "text": [
      "100%|██████████| 2/2 [00:00<00:00, 108.05it/s]\n"
     ]
    },
    {
     "name": "stdout",
     "output_type": "stream",
     "text": [
      "  Predicted in 8.32s\n",
      "Resampling...\n",
      "Saving segmentations...\n",
      "  Saved in 0.03s\n",
      "Processed and saved: D:\\CTH_archive\\CTH_STRIPPED_MASK\\IRIZARRY_MONSITA.nii\n",
      "\n",
      "If you use this tool please cite: https://pubs.rsna.org/doi/10.1148/ryai.230024\n",
      "\n",
      "Generating rough body segmentation...\n",
      "Resampling...\n",
      "  Resampled in 0.21s\n",
      "Predicting...\n"
     ]
    },
    {
     "name": "stderr",
     "output_type": "stream",
     "text": [
      "100%|██████████| 1/1 [00:00<00:00, 142.77it/s]\n"
     ]
    },
    {
     "name": "stdout",
     "output_type": "stream",
     "text": [
      "  Predicted in 8.24s\n",
      "Resampling...\n",
      "  cropping from (512, 543, 33) to (472, 519, 30)\n",
      "Resampling...\n",
      "  Resampled in 0.48s\n",
      "Predicting part 1 of 1 ...\n"
     ]
    },
    {
     "name": "stderr",
     "output_type": "stream",
     "text": [
      "100%|██████████| 2/2 [00:00<00:00, 86.96it/s]\n"
     ]
    },
    {
     "name": "stdout",
     "output_type": "stream",
     "text": [
      "  Predicted in 8.34s\n",
      "Resampling...\n",
      "Saving segmentations...\n",
      "  Saved in 0.04s\n",
      "Processed and saved: D:\\CTH_archive\\CTH_STRIPPED_MASK\\KAMWA_JEAN-PIERRE.nii\n",
      "\n",
      "If you use this tool please cite: https://pubs.rsna.org/doi/10.1148/ryai.230024\n",
      "\n",
      "Generating rough body segmentation...\n",
      "Resampling...\n",
      "  Resampled in 0.24s\n",
      "Predicting...\n"
     ]
    },
    {
     "name": "stderr",
     "output_type": "stream",
     "text": [
      "100%|██████████| 1/1 [00:00<00:00, 125.00it/s]\n"
     ]
    },
    {
     "name": "stdout",
     "output_type": "stream",
     "text": [
      "  Predicted in 8.40s\n",
      "Resampling...\n",
      "  cropping from (512, 619, 34) to (502, 561, 32)\n",
      "Resampling...\n",
      "  Resampled in 0.58s\n",
      "Predicting part 1 of 1 ...\n"
     ]
    },
    {
     "name": "stderr",
     "output_type": "stream",
     "text": [
      "100%|██████████| 2/2 [00:00<00:00, 83.25it/s]\n"
     ]
    },
    {
     "name": "stdout",
     "output_type": "stream",
     "text": [
      "  Predicted in 8.52s\n",
      "Resampling...\n",
      "Saving segmentations...\n",
      "  Saved in 0.04s\n",
      "Processed and saved: D:\\CTH_archive\\CTH_STRIPPED_MASK\\KILLACKEY_WILLIAM.nii\n",
      "\n",
      "If you use this tool please cite: https://pubs.rsna.org/doi/10.1148/ryai.230024\n",
      "\n",
      "Generating rough body segmentation...\n",
      "Resampling...\n",
      "  Resampled in 0.22s\n",
      "Predicting...\n"
     ]
    },
    {
     "name": "stderr",
     "output_type": "stream",
     "text": [
      "100%|██████████| 1/1 [00:00<00:00, 133.17it/s]\n"
     ]
    },
    {
     "name": "stdout",
     "output_type": "stream",
     "text": [
      "  Predicted in 8.31s\n",
      "Resampling...\n",
      "  cropping from (512, 512, 28) to (397, 487, 28)\n",
      "Resampling...\n",
      "  Resampled in 0.39s\n",
      "Predicting part 1 of 1 ...\n"
     ]
    },
    {
     "name": "stderr",
     "output_type": "stream",
     "text": [
      "100%|██████████| 2/2 [00:00<00:00, 95.24it/s]\n"
     ]
    },
    {
     "name": "stdout",
     "output_type": "stream",
     "text": [
      "  Predicted in 8.51s\n",
      "Resampling...\n",
      "Saving segmentations...\n",
      "  Saved in 0.03s\n",
      "Processed and saved: D:\\CTH_archive\\CTH_STRIPPED_MASK\\KING_TANDEKA_I.nii\n",
      "\n",
      "If you use this tool please cite: https://pubs.rsna.org/doi/10.1148/ryai.230024\n",
      "\n",
      "Generating rough body segmentation...\n",
      "Resampling...\n",
      "  Resampled in 0.25s\n",
      "Predicting...\n"
     ]
    },
    {
     "name": "stderr",
     "output_type": "stream",
     "text": [
      "100%|██████████| 1/1 [00:00<00:00, 124.99it/s]\n"
     ]
    },
    {
     "name": "stdout",
     "output_type": "stream",
     "text": [
      "  Predicted in 8.26s\n",
      "Resampling...\n",
      "  cropping from (512, 512, 33) to (361, 453, 31)\n",
      "Resampling...\n",
      "  Resampled in 0.44s\n",
      "Predicting part 1 of 1 ...\n"
     ]
    },
    {
     "name": "stderr",
     "output_type": "stream",
     "text": [
      "100%|██████████| 2/2 [00:00<00:00, 97.51it/s]\n"
     ]
    },
    {
     "name": "stdout",
     "output_type": "stream",
     "text": [
      "  Predicted in 8.32s\n",
      "Resampling...\n",
      "Saving segmentations...\n",
      "  Saved in 0.03s\n",
      "Processed and saved: D:\\CTH_archive\\CTH_STRIPPED_MASK\\LADSON_ROSE.nii\n",
      "\n",
      "If you use this tool please cite: https://pubs.rsna.org/doi/10.1148/ryai.230024\n",
      "\n",
      "Generating rough body segmentation...\n",
      "Resampling...\n",
      "  Resampled in 0.24s\n",
      "Predicting...\n"
     ]
    },
    {
     "name": "stderr",
     "output_type": "stream",
     "text": [
      "100%|██████████| 1/1 [00:00<00:00, 142.86it/s]\n"
     ]
    },
    {
     "name": "stdout",
     "output_type": "stream",
     "text": [
      "  Predicted in 8.63s\n",
      "Resampling...\n",
      "  cropping from (512, 614, 34) to (485, 570, 31)\n",
      "Resampling...\n",
      "  Resampled in 0.55s\n",
      "Predicting part 1 of 1 ...\n"
     ]
    },
    {
     "name": "stderr",
     "output_type": "stream",
     "text": [
      "100%|██████████| 2/2 [00:00<00:00, 99.98it/s]\n"
     ]
    },
    {
     "name": "stdout",
     "output_type": "stream",
     "text": [
      "  Predicted in 8.53s\n",
      "Resampling...\n",
      "Saving segmentations...\n",
      "  Saved in 0.04s\n",
      "Processed and saved: D:\\CTH_archive\\CTH_STRIPPED_MASK\\LAQUERCIA_THEODORE.nii\n",
      "\n",
      "If you use this tool please cite: https://pubs.rsna.org/doi/10.1148/ryai.230024\n",
      "\n",
      "Generating rough body segmentation...\n",
      "Resampling...\n",
      "  Resampled in 0.26s\n",
      "Predicting...\n"
     ]
    },
    {
     "name": "stderr",
     "output_type": "stream",
     "text": [
      "100%|██████████| 1/1 [00:00<00:00, 122.00it/s]\n"
     ]
    },
    {
     "name": "stdout",
     "output_type": "stream",
     "text": [
      "  Predicted in 8.49s\n",
      "Resampling...\n",
      "  cropping from (512, 512, 36) to (367, 429, 36)\n",
      "Resampling...\n",
      "  Resampled in 0.52s\n",
      "Predicting part 1 of 1 ...\n"
     ]
    },
    {
     "name": "stderr",
     "output_type": "stream",
     "text": [
      "100%|██████████| 2/2 [00:00<00:00, 95.24it/s]\n"
     ]
    },
    {
     "name": "stdout",
     "output_type": "stream",
     "text": [
      "  Predicted in 8.56s\n",
      "Resampling...\n",
      "Saving segmentations...\n",
      "  Saved in 0.04s\n",
      "Processed and saved: D:\\CTH_archive\\CTH_STRIPPED_MASK\\LASUSA_PETER_ROBERT.nii\n",
      "\n",
      "If you use this tool please cite: https://pubs.rsna.org/doi/10.1148/ryai.230024\n",
      "\n",
      "Generating rough body segmentation...\n",
      "Resampling...\n",
      "  Resampled in 0.23s\n",
      "Predicting...\n"
     ]
    },
    {
     "name": "stderr",
     "output_type": "stream",
     "text": [
      "100%|██████████| 1/1 [00:00<00:00, 124.99it/s]\n"
     ]
    },
    {
     "name": "stdout",
     "output_type": "stream",
     "text": [
      "  Predicted in 8.32s\n",
      "Resampling...\n",
      "  cropping from (512, 512, 32) to (378, 434, 29)\n",
      "Resampling...\n",
      "  Resampled in 0.39s\n",
      "Predicting part 1 of 1 ...\n"
     ]
    },
    {
     "name": "stderr",
     "output_type": "stream",
     "text": [
      "100%|██████████| 2/2 [00:00<00:00, 95.24it/s]\n"
     ]
    },
    {
     "name": "stdout",
     "output_type": "stream",
     "text": [
      "  Predicted in 8.58s\n",
      "Resampling...\n",
      "Saving segmentations...\n",
      "  Saved in 0.03s\n",
      "Processed and saved: D:\\CTH_archive\\CTH_STRIPPED_MASK\\LATTEIER_MARIA.nii\n",
      "\n",
      "If you use this tool please cite: https://pubs.rsna.org/doi/10.1148/ryai.230024\n",
      "\n",
      "Generating rough body segmentation...\n",
      "Resampling...\n",
      "  Resampled in 0.26s\n",
      "Predicting...\n"
     ]
    },
    {
     "name": "stderr",
     "output_type": "stream",
     "text": [
      "100%|██████████| 1/1 [00:00<00:00, 124.76it/s]\n"
     ]
    },
    {
     "name": "stdout",
     "output_type": "stream",
     "text": [
      "  Predicted in 8.29s\n",
      "Resampling...\n",
      "  cropping from (512, 628, 32) to (512, 621, 31)\n",
      "Resampling...\n",
      "  Resampled in 0.53s\n",
      "Predicting part 1 of 1 ...\n"
     ]
    },
    {
     "name": "stderr",
     "output_type": "stream",
     "text": [
      "100%|██████████| 2/2 [00:00<00:00, 95.24it/s]\n"
     ]
    },
    {
     "name": "stdout",
     "output_type": "stream",
     "text": [
      "  Predicted in 8.50s\n",
      "Resampling...\n",
      "Saving segmentations...\n",
      "  Saved in 0.04s\n",
      "Processed and saved: D:\\CTH_archive\\CTH_STRIPPED_MASK\\LAWSON_MIRIAM.nii\n",
      "\n",
      "If you use this tool please cite: https://pubs.rsna.org/doi/10.1148/ryai.230024\n",
      "\n",
      "Generating rough body segmentation...\n",
      "Resampling...\n",
      "  Resampled in 0.23s\n",
      "Predicting...\n"
     ]
    },
    {
     "name": "stderr",
     "output_type": "stream",
     "text": [
      "100%|██████████| 1/1 [00:00<00:00, 125.04it/s]\n"
     ]
    },
    {
     "name": "stdout",
     "output_type": "stream",
     "text": [
      "  Predicted in 8.47s\n",
      "Resampling...\n",
      "  cropping from (512, 512, 32) to (350, 420, 30)\n",
      "Resampling...\n",
      "  Resampled in 0.47s\n",
      "Predicting part 1 of 1 ...\n"
     ]
    },
    {
     "name": "stderr",
     "output_type": "stream",
     "text": [
      "100%|██████████| 2/2 [00:00<00:00, 96.51it/s]\n"
     ]
    },
    {
     "name": "stdout",
     "output_type": "stream",
     "text": [
      "  Predicted in 8.63s\n",
      "Resampling...\n",
      "Saving segmentations...\n",
      "  Saved in 0.03s\n",
      "Processed and saved: D:\\CTH_archive\\CTH_STRIPPED_MASK\\LIPNICKI_ROMAN.nii\n",
      "\n",
      "If you use this tool please cite: https://pubs.rsna.org/doi/10.1148/ryai.230024\n",
      "\n",
      "Generating rough body segmentation...\n",
      "Resampling...\n",
      "  Resampled in 0.22s\n",
      "Predicting...\n"
     ]
    },
    {
     "name": "stderr",
     "output_type": "stream",
     "text": [
      "100%|██████████| 1/1 [00:00<00:00, 117.53it/s]\n"
     ]
    },
    {
     "name": "stdout",
     "output_type": "stream",
     "text": [
      "  Predicted in 8.32s\n",
      "Resampling...\n",
      "  cropping from (512, 619, 29) to (505, 588, 29)\n",
      "Resampling...\n",
      "  Resampled in 0.47s\n",
      "Predicting part 1 of 1 ...\n"
     ]
    },
    {
     "name": "stderr",
     "output_type": "stream",
     "text": [
      "100%|██████████| 2/2 [00:00<00:00, 79.92it/s]\n"
     ]
    },
    {
     "name": "stdout",
     "output_type": "stream",
     "text": [
      "  Predicted in 8.34s\n",
      "Resampling...\n",
      "Saving segmentations...\n",
      "  Saved in 0.04s\n",
      "Processed and saved: D:\\CTH_archive\\CTH_STRIPPED_MASK\\LOCKETT_GLORIA.nii\n",
      "\n",
      "If you use this tool please cite: https://pubs.rsna.org/doi/10.1148/ryai.230024\n",
      "\n",
      "Generating rough body segmentation...\n",
      "Resampling...\n",
      "  Resampled in 0.23s\n",
      "Predicting...\n"
     ]
    },
    {
     "name": "stderr",
     "output_type": "stream",
     "text": [
      "100%|██████████| 1/1 [00:00<00:00, 123.52it/s]\n"
     ]
    },
    {
     "name": "stdout",
     "output_type": "stream",
     "text": [
      "  Predicted in 8.23s\n",
      "Resampling...\n",
      "  cropping from (512, 512, 31) to (414, 459, 31)\n",
      "Resampling...\n",
      "  Resampled in 0.43s\n",
      "Predicting part 1 of 1 ...\n"
     ]
    },
    {
     "name": "stderr",
     "output_type": "stream",
     "text": [
      "100%|██████████| 1/1 [00:00<00:00, 83.35it/s]\n"
     ]
    },
    {
     "name": "stdout",
     "output_type": "stream",
     "text": [
      "  Predicted in 8.26s\n",
      "Resampling...\n",
      "Saving segmentations...\n",
      "  Saved in 0.03s\n",
      "Processed and saved: D:\\CTH_archive\\CTH_STRIPPED_MASK\\LOPEZ_LEONOR.nii\n",
      "\n",
      "If you use this tool please cite: https://pubs.rsna.org/doi/10.1148/ryai.230024\n",
      "\n",
      "Generating rough body segmentation...\n",
      "Resampling...\n",
      "  Resampled in 0.24s\n",
      "Predicting...\n"
     ]
    },
    {
     "name": "stderr",
     "output_type": "stream",
     "text": [
      "100%|██████████| 1/1 [00:00<00:00, 124.99it/s]\n"
     ]
    },
    {
     "name": "stdout",
     "output_type": "stream",
     "text": [
      "  Predicted in 8.19s\n",
      "Resampling...\n",
      "  cropping from (512, 512, 32) to (366, 450, 29)\n",
      "Resampling...\n",
      "  Resampled in 0.38s\n",
      "Predicting part 1 of 1 ...\n"
     ]
    },
    {
     "name": "stderr",
     "output_type": "stream",
     "text": [
      "100%|██████████| 2/2 [00:00<00:00, 90.91it/s]\n"
     ]
    },
    {
     "name": "stdout",
     "output_type": "stream",
     "text": [
      "  Predicted in 8.40s\n",
      "Resampling...\n",
      "Saving segmentations...\n",
      "  Saved in 0.03s\n",
      "Processed and saved: D:\\CTH_archive\\CTH_STRIPPED_MASK\\LORD_JANE.nii\n",
      "\n",
      "If you use this tool please cite: https://pubs.rsna.org/doi/10.1148/ryai.230024\n",
      "\n",
      "Generating rough body segmentation...\n",
      "Resampling...\n",
      "  Resampled in 0.23s\n",
      "Predicting...\n"
     ]
    },
    {
     "name": "stderr",
     "output_type": "stream",
     "text": [
      "100%|██████████| 1/1 [00:00<00:00, 124.54it/s]\n"
     ]
    },
    {
     "name": "stdout",
     "output_type": "stream",
     "text": [
      "  Predicted in 8.45s\n",
      "Resampling...\n",
      "  cropping from (512, 512, 32) to (342, 417, 29)\n",
      "Resampling...\n",
      "  Resampled in 0.40s\n",
      "Predicting part 1 of 1 ...\n"
     ]
    },
    {
     "name": "stderr",
     "output_type": "stream",
     "text": [
      "100%|██████████| 2/2 [00:00<00:00, 97.70it/s]\n"
     ]
    },
    {
     "name": "stdout",
     "output_type": "stream",
     "text": [
      "  Predicted in 8.45s\n",
      "Resampling...\n",
      "Saving segmentations...\n",
      "  Saved in 0.03s\n",
      "Processed and saved: D:\\CTH_archive\\CTH_STRIPPED_MASK\\LOVE_MARY_E.nii\n",
      "\n",
      "If you use this tool please cite: https://pubs.rsna.org/doi/10.1148/ryai.230024\n",
      "\n",
      "Generating rough body segmentation...\n",
      "Resampling...\n",
      "  Resampled in 0.23s\n",
      "Predicting...\n"
     ]
    },
    {
     "name": "stderr",
     "output_type": "stream",
     "text": [
      "100%|██████████| 1/1 [00:00<00:00, 50.00it/s]\n"
     ]
    },
    {
     "name": "stdout",
     "output_type": "stream",
     "text": [
      "  Predicted in 8.29s\n",
      "Resampling...\n",
      "  cropping from (512, 621, 31) to (507, 589, 28)\n",
      "Resampling...\n",
      "  Resampled in 0.45s\n",
      "Predicting part 1 of 1 ...\n"
     ]
    },
    {
     "name": "stderr",
     "output_type": "stream",
     "text": [
      "100%|██████████| 1/1 [00:00<00:00, 83.34it/s]\n"
     ]
    },
    {
     "name": "stdout",
     "output_type": "stream",
     "text": [
      "  Predicted in 8.31s\n",
      "Resampling...\n",
      "Saving segmentations...\n",
      "  Saved in 0.03s\n",
      "Processed and saved: D:\\CTH_archive\\CTH_STRIPPED_MASK\\LUNA_LOURDES.nii\n",
      "\n",
      "If you use this tool please cite: https://pubs.rsna.org/doi/10.1148/ryai.230024\n",
      "\n",
      "Generating rough body segmentation...\n",
      "Resampling...\n",
      "  Resampled in 0.22s\n",
      "Predicting...\n"
     ]
    },
    {
     "name": "stderr",
     "output_type": "stream",
     "text": [
      "100%|██████████| 1/1 [00:00<00:00, 125.01it/s]\n"
     ]
    },
    {
     "name": "stdout",
     "output_type": "stream",
     "text": [
      "  Predicted in 8.44s\n",
      "Resampling...\n",
      "  cropping from (512, 599, 32) to (482, 534, 31)\n",
      "Resampling...\n",
      "  Resampled in 0.48s\n",
      "Predicting part 1 of 1 ...\n"
     ]
    },
    {
     "name": "stderr",
     "output_type": "stream",
     "text": [
      "100%|██████████| 1/1 [00:00<00:00, 71.43it/s]\n"
     ]
    },
    {
     "name": "stdout",
     "output_type": "stream",
     "text": [
      "  Predicted in 8.59s\n",
      "Resampling...\n",
      "Saving segmentations...\n",
      "  Saved in 0.04s\n",
      "Processed and saved: D:\\CTH_archive\\CTH_STRIPPED_MASK\\MATABUENA_LUZVIMINDA.nii\n",
      "\n",
      "If you use this tool please cite: https://pubs.rsna.org/doi/10.1148/ryai.230024\n",
      "\n",
      "Generating rough body segmentation...\n",
      "Resampling...\n",
      "  Resampled in 0.23s\n",
      "Predicting...\n"
     ]
    },
    {
     "name": "stderr",
     "output_type": "stream",
     "text": [
      "100%|██████████| 1/1 [00:00<00:00, 119.41it/s]\n"
     ]
    },
    {
     "name": "stdout",
     "output_type": "stream",
     "text": [
      "  Predicted in 8.33s\n",
      "Resampling...\n",
      "  cropping from (512, 512, 32) to (359, 385, 30)\n",
      "Resampling...\n",
      "  Resampled in 0.37s\n",
      "Predicting part 1 of 1 ...\n"
     ]
    },
    {
     "name": "stderr",
     "output_type": "stream",
     "text": [
      "100%|██████████| 1/1 [00:00<00:00, 83.34it/s]\n"
     ]
    },
    {
     "name": "stdout",
     "output_type": "stream",
     "text": [
      "  Predicted in 8.45s\n",
      "Resampling...\n",
      "Saving segmentations...\n",
      "  Saved in 0.03s\n",
      "Processed and saved: D:\\CTH_archive\\CTH_STRIPPED_MASK\\MAURICIO_DENICE.nii\n",
      "\n",
      "If you use this tool please cite: https://pubs.rsna.org/doi/10.1148/ryai.230024\n",
      "\n",
      "Generating rough body segmentation...\n",
      "Resampling...\n",
      "  Resampled in 0.24s\n",
      "Predicting...\n"
     ]
    },
    {
     "name": "stderr",
     "output_type": "stream",
     "text": [
      "100%|██████████| 1/1 [00:00<00:00, 124.92it/s]\n"
     ]
    },
    {
     "name": "stdout",
     "output_type": "stream",
     "text": [
      "  Predicted in 8.38s\n",
      "Resampling...\n",
      "  cropping from (512, 590, 35) to (505, 585, 32)\n",
      "Resampling...\n",
      "  Resampled in 0.50s\n",
      "Predicting part 1 of 1 ...\n"
     ]
    },
    {
     "name": "stderr",
     "output_type": "stream",
     "text": [
      "100%|██████████| 1/1 [00:00<00:00, 83.34it/s]\n"
     ]
    },
    {
     "name": "stdout",
     "output_type": "stream",
     "text": [
      "  Predicted in 8.50s\n",
      "Resampling...\n",
      "Saving segmentations...\n",
      "  Saved in 0.03s\n",
      "Processed and saved: D:\\CTH_archive\\CTH_STRIPPED_MASK\\MCGIVNEY_DOROTHY.nii\n",
      "\n",
      "If you use this tool please cite: https://pubs.rsna.org/doi/10.1148/ryai.230024\n",
      "\n",
      "Generating rough body segmentation...\n",
      "Resampling...\n",
      "  Resampled in 0.28s\n",
      "Predicting...\n"
     ]
    },
    {
     "name": "stderr",
     "output_type": "stream",
     "text": [
      "100%|██████████| 1/1 [00:00<00:00, 133.17it/s]\n"
     ]
    },
    {
     "name": "stdout",
     "output_type": "stream",
     "text": [
      "  Predicted in 8.39s\n",
      "Resampling...\n",
      "  cropping from (512, 691, 34) to (498, 586, 29)\n",
      "Resampling...\n",
      "  Resampled in 0.47s\n",
      "Predicting part 1 of 1 ...\n"
     ]
    },
    {
     "name": "stderr",
     "output_type": "stream",
     "text": [
      "100%|██████████| 2/2 [00:00<00:00, 85.04it/s]\n"
     ]
    },
    {
     "name": "stdout",
     "output_type": "stream",
     "text": [
      "  Predicted in 8.61s\n",
      "Resampling...\n",
      "Saving segmentations...\n",
      "  Saved in 0.04s\n",
      "Processed and saved: D:\\CTH_archive\\CTH_STRIPPED_MASK\\MEDINA_ANNA.nii\n",
      "\n",
      "If you use this tool please cite: https://pubs.rsna.org/doi/10.1148/ryai.230024\n",
      "\n",
      "Generating rough body segmentation...\n",
      "Resampling...\n",
      "  Resampled in 0.23s\n",
      "Predicting...\n"
     ]
    },
    {
     "name": "stderr",
     "output_type": "stream",
     "text": [
      "100%|██████████| 1/1 [00:00<00:00, 124.92it/s]\n"
     ]
    },
    {
     "name": "stdout",
     "output_type": "stream",
     "text": [
      "  Predicted in 8.63s\n",
      "Resampling...\n",
      "  cropping from (512, 512, 32) to (330, 404, 30)\n",
      "Resampling...\n",
      "  Resampled in 0.39s\n",
      "Predicting part 1 of 1 ...\n"
     ]
    },
    {
     "name": "stderr",
     "output_type": "stream",
     "text": [
      "100%|██████████| 2/2 [00:00<00:00, 83.23it/s]\n"
     ]
    },
    {
     "name": "stdout",
     "output_type": "stream",
     "text": [
      "  Predicted in 8.50s\n",
      "Resampling...\n",
      "Saving segmentations...\n",
      "  Saved in 0.03s\n",
      "Processed and saved: D:\\CTH_archive\\CTH_STRIPPED_MASK\\MENA-ROSA_IDIDA_MERCEDES.nii\n",
      "\n",
      "If you use this tool please cite: https://pubs.rsna.org/doi/10.1148/ryai.230024\n",
      "\n",
      "Generating rough body segmentation...\n",
      "Resampling...\n",
      "  Resampled in 0.23s\n",
      "Predicting...\n"
     ]
    },
    {
     "name": "stderr",
     "output_type": "stream",
     "text": [
      "100%|██████████| 1/1 [00:00<00:00, 117.51it/s]\n"
     ]
    },
    {
     "name": "stdout",
     "output_type": "stream",
     "text": [
      "  Predicted in 8.29s\n",
      "Resampling...\n",
      "  cropping from (512, 586, 31) to (502, 538, 31)\n",
      "Resampling...\n",
      "  Resampled in 0.47s\n",
      "Predicting part 1 of 1 ...\n"
     ]
    },
    {
     "name": "stderr",
     "output_type": "stream",
     "text": [
      "100%|██████████| 1/1 [00:00<00:00, 68.04it/s]\n"
     ]
    },
    {
     "name": "stdout",
     "output_type": "stream",
     "text": [
      "  Predicted in 8.57s\n",
      "Resampling...\n",
      "Saving segmentations...\n",
      "  Saved in 0.03s\n",
      "Processed and saved: D:\\CTH_archive\\CTH_STRIPPED_MASK\\MENDOZA_REMEDIOS.nii\n",
      "\n",
      "If you use this tool please cite: https://pubs.rsna.org/doi/10.1148/ryai.230024\n",
      "\n",
      "Generating rough body segmentation...\n",
      "Resampling...\n",
      "  Resampled in 0.25s\n",
      "Predicting...\n"
     ]
    },
    {
     "name": "stderr",
     "output_type": "stream",
     "text": [
      "100%|██████████| 1/1 [00:00<00:00, 133.07it/s]\n"
     ]
    },
    {
     "name": "stdout",
     "output_type": "stream",
     "text": [
      "  Predicted in 8.71s\n",
      "Resampling...\n",
      "  cropping from (512, 512, 36) to (384, 438, 32)\n",
      "Resampling...\n",
      "  Resampled in 0.48s\n",
      "Predicting part 1 of 1 ...\n"
     ]
    },
    {
     "name": "stderr",
     "output_type": "stream",
     "text": [
      "100%|██████████| 2/2 [00:00<00:00, 94.73it/s]\n"
     ]
    },
    {
     "name": "stdout",
     "output_type": "stream",
     "text": [
      "  Predicted in 8.55s\n",
      "Resampling...\n",
      "Saving segmentations...\n",
      "  Saved in 0.04s\n",
      "Processed and saved: D:\\CTH_archive\\CTH_STRIPPED_MASK\\MESSINA_CALOGERO.nii\n",
      "\n",
      "If you use this tool please cite: https://pubs.rsna.org/doi/10.1148/ryai.230024\n",
      "\n",
      "Generating rough body segmentation...\n",
      "Resampling...\n",
      "  Resampled in 0.25s\n",
      "Predicting...\n"
     ]
    },
    {
     "name": "stderr",
     "output_type": "stream",
     "text": [
      "100%|██████████| 1/1 [00:00<00:00, 125.01it/s]\n"
     ]
    },
    {
     "name": "stdout",
     "output_type": "stream",
     "text": [
      "  Predicted in 8.58s\n",
      "Resampling...\n",
      "  cropping from (512, 512, 36) to (368, 450, 33)\n",
      "Resampling...\n",
      "  Resampled in 0.46s\n",
      "Predicting part 1 of 1 ...\n"
     ]
    },
    {
     "name": "stderr",
     "output_type": "stream",
     "text": [
      "100%|██████████| 2/2 [00:00<00:00, 95.23it/s]\n"
     ]
    },
    {
     "name": "stdout",
     "output_type": "stream",
     "text": [
      "  Predicted in 8.44s\n",
      "Resampling...\n",
      "Saving segmentations...\n",
      "  Saved in 0.04s\n",
      "Processed and saved: D:\\CTH_archive\\CTH_STRIPPED_MASK\\MILLS_JOAN.nii\n",
      "\n",
      "If you use this tool please cite: https://pubs.rsna.org/doi/10.1148/ryai.230024\n",
      "\n",
      "Generating rough body segmentation...\n",
      "Resampling...\n",
      "  Resampled in 0.24s\n",
      "Predicting...\n"
     ]
    },
    {
     "name": "stderr",
     "output_type": "stream",
     "text": [
      "100%|██████████| 1/1 [00:00<00:00, 142.85it/s]\n"
     ]
    },
    {
     "name": "stdout",
     "output_type": "stream",
     "text": [
      "  Predicted in 8.23s\n",
      "Resampling...\n",
      "  cropping from (512, 512, 32) to (392, 452, 30)\n",
      "Resampling...\n",
      "  Resampled in 0.45s\n",
      "Predicting part 1 of 1 ...\n"
     ]
    },
    {
     "name": "stderr",
     "output_type": "stream",
     "text": [
      "100%|██████████| 2/2 [00:00<00:00, 99.99it/s]\n"
     ]
    },
    {
     "name": "stdout",
     "output_type": "stream",
     "text": [
      "  Predicted in 8.32s\n",
      "Resampling...\n",
      "Saving segmentations...\n",
      "  Saved in 0.03s\n",
      "Processed and saved: D:\\CTH_archive\\CTH_STRIPPED_MASK\\MIRABAL_JORGE.nii\n",
      "\n",
      "If you use this tool please cite: https://pubs.rsna.org/doi/10.1148/ryai.230024\n",
      "\n",
      "Generating rough body segmentation...\n",
      "Resampling...\n",
      "  Resampled in 0.20s\n",
      "Predicting...\n"
     ]
    },
    {
     "name": "stderr",
     "output_type": "stream",
     "text": [
      "100%|██████████| 1/1 [00:00<00:00, 142.87it/s]\n"
     ]
    },
    {
     "name": "stdout",
     "output_type": "stream",
     "text": [
      "  Predicted in 8.21s\n",
      "Resampling...\n",
      "  cropping from (512, 572, 30) to (512, 566, 28)\n",
      "Resampling...\n",
      "  Resampled in 0.42s\n",
      "Predicting part 1 of 1 ...\n"
     ]
    },
    {
     "name": "stderr",
     "output_type": "stream",
     "text": [
      "100%|██████████| 1/1 [00:00<00:00, 66.67it/s]\n"
     ]
    },
    {
     "name": "stdout",
     "output_type": "stream",
     "text": [
      "  Predicted in 8.25s\n",
      "Resampling...\n",
      "Saving segmentations...\n",
      "  Saved in 0.04s\n",
      "Processed and saved: D:\\CTH_archive\\CTH_STRIPPED_MASK\\MITCHELL_ROSA.nii\n",
      "\n",
      "If you use this tool please cite: https://pubs.rsna.org/doi/10.1148/ryai.230024\n",
      "\n",
      "Generating rough body segmentation...\n",
      "Resampling...\n",
      "  Resampled in 0.23s\n",
      "Predicting...\n"
     ]
    },
    {
     "name": "stderr",
     "output_type": "stream",
     "text": [
      "100%|██████████| 1/1 [00:00<00:00, 111.16it/s]\n"
     ]
    },
    {
     "name": "stdout",
     "output_type": "stream",
     "text": [
      "  Predicted in 8.29s\n",
      "Resampling...\n",
      "  cropping from (512, 669, 30) to (468, 555, 30)\n",
      "Resampling...\n",
      "  Resampled in 0.47s\n",
      "Predicting part 1 of 1 ...\n"
     ]
    },
    {
     "name": "stderr",
     "output_type": "stream",
     "text": [
      "100%|██████████| 2/2 [00:00<00:00, 95.23it/s]\n"
     ]
    },
    {
     "name": "stdout",
     "output_type": "stream",
     "text": [
      "  Predicted in 8.30s\n",
      "Resampling...\n",
      "Saving segmentations...\n",
      "  Saved in 0.04s\n",
      "Processed and saved: D:\\CTH_archive\\CTH_STRIPPED_MASK\\MONTANEZ_PETER_A.nii\n",
      "\n",
      "If you use this tool please cite: https://pubs.rsna.org/doi/10.1148/ryai.230024\n",
      "\n",
      "Generating rough body segmentation...\n",
      "Resampling...\n",
      "  Resampled in 0.23s\n",
      "Predicting...\n"
     ]
    },
    {
     "name": "stderr",
     "output_type": "stream",
     "text": [
      "100%|██████████| 1/1 [00:00<00:00, 125.00it/s]\n"
     ]
    },
    {
     "name": "stdout",
     "output_type": "stream",
     "text": [
      "  Predicted in 8.50s\n",
      "Resampling...\n",
      "  cropping from (512, 645, 31) to (500, 614, 31)\n",
      "Resampling...\n",
      "  Resampled in 0.50s\n",
      "Predicting part 1 of 1 ...\n"
     ]
    },
    {
     "name": "stderr",
     "output_type": "stream",
     "text": [
      "100%|██████████| 2/2 [00:00<00:00, 86.91it/s]\n"
     ]
    },
    {
     "name": "stdout",
     "output_type": "stream",
     "text": [
      "  Predicted in 8.50s\n",
      "Resampling...\n",
      "Saving segmentations...\n",
      "  Saved in 0.04s\n",
      "Processed and saved: D:\\CTH_archive\\CTH_STRIPPED_MASK\\MONTERO_RAMIREZ_MICAELA.nii\n",
      "\n",
      "If you use this tool please cite: https://pubs.rsna.org/doi/10.1148/ryai.230024\n",
      "\n",
      "Generating rough body segmentation...\n",
      "Resampling...\n",
      "  Resampled in 0.36s\n",
      "Predicting...\n"
     ]
    },
    {
     "name": "stderr",
     "output_type": "stream",
     "text": [
      "100%|██████████| 1/1 [00:00<00:00, 142.84it/s]\n"
     ]
    },
    {
     "name": "stdout",
     "output_type": "stream",
     "text": [
      "  Predicted in 8.41s\n",
      "Resampling...\n",
      "  cropping from (512, 512, 52) to (342, 404, 51)\n",
      "Resampling...\n",
      "  Resampled in 0.52s\n",
      "Predicting part 1 of 1 ...\n"
     ]
    },
    {
     "name": "stderr",
     "output_type": "stream",
     "text": [
      "100%|██████████| 2/2 [00:00<00:00, 95.22it/s]\n"
     ]
    },
    {
     "name": "stdout",
     "output_type": "stream",
     "text": [
      "  Predicted in 8.34s\n",
      "Resampling...\n",
      "Saving segmentations...\n",
      "  Saved in 0.06s\n",
      "Processed and saved: D:\\CTH_archive\\CTH_STRIPPED_MASK\\MORENO_JORGE.nii\n",
      "\n",
      "If you use this tool please cite: https://pubs.rsna.org/doi/10.1148/ryai.230024\n",
      "\n",
      "Generating rough body segmentation...\n",
      "Resampling...\n",
      "  Resampled in 0.23s\n",
      "Predicting...\n"
     ]
    },
    {
     "name": "stderr",
     "output_type": "stream",
     "text": [
      "100%|██████████| 1/1 [00:00<00:00, 125.01it/s]\n"
     ]
    },
    {
     "name": "stdout",
     "output_type": "stream",
     "text": [
      "  Predicted in 8.17s\n",
      "Resampling...\n",
      "  cropping from (512, 667, 29) to (512, 635, 28)\n",
      "Resampling...\n",
      "  Resampled in 0.47s\n",
      "Predicting part 1 of 1 ...\n"
     ]
    },
    {
     "name": "stderr",
     "output_type": "stream",
     "text": [
      "100%|██████████| 2/2 [00:00<00:00, 83.31it/s]\n"
     ]
    },
    {
     "name": "stdout",
     "output_type": "stream",
     "text": [
      "  Predicted in 8.25s\n",
      "Resampling...\n",
      "Saving segmentations...\n",
      "  Saved in 0.03s\n",
      "Processed and saved: D:\\CTH_archive\\CTH_STRIPPED_MASK\\MULDOON_GERALDINE_A.nii\n",
      "\n",
      "If you use this tool please cite: https://pubs.rsna.org/doi/10.1148/ryai.230024\n",
      "\n",
      "Generating rough body segmentation...\n",
      "Resampling...\n",
      "  Resampled in 0.23s\n",
      "Predicting...\n"
     ]
    },
    {
     "name": "stderr",
     "output_type": "stream",
     "text": [
      "100%|██████████| 1/1 [00:00<00:00, 124.91it/s]\n"
     ]
    },
    {
     "name": "stdout",
     "output_type": "stream",
     "text": [
      "  Predicted in 8.30s\n",
      "Resampling...\n",
      "  cropping from (512, 647, 31) to (512, 616, 29)\n",
      "Resampling...\n",
      "  Resampled in 0.49s\n",
      "Predicting part 1 of 1 ...\n"
     ]
    },
    {
     "name": "stderr",
     "output_type": "stream",
     "text": [
      "100%|██████████| 2/2 [00:00<00:00, 100.01it/s]\n"
     ]
    },
    {
     "name": "stdout",
     "output_type": "stream",
     "text": [
      "  Predicted in 8.48s\n",
      "Resampling...\n",
      "Saving segmentations...\n",
      "  Saved in 0.04s\n",
      "Processed and saved: D:\\CTH_archive\\CTH_STRIPPED_MASK\\NAJERA_JOSE.nii\n",
      "\n",
      "If you use this tool please cite: https://pubs.rsna.org/doi/10.1148/ryai.230024\n",
      "\n",
      "Generating rough body segmentation...\n",
      "Resampling...\n",
      "  Resampled in 0.23s\n",
      "Predicting...\n"
     ]
    },
    {
     "name": "stderr",
     "output_type": "stream",
     "text": [
      "100%|██████████| 1/1 [00:00<00:00, 125.00it/s]\n"
     ]
    },
    {
     "name": "stdout",
     "output_type": "stream",
     "text": [
      "  Predicted in 8.27s\n",
      "Resampling...\n",
      "  cropping from (512, 512, 32) to (350, 426, 30)\n",
      "Resampling...\n",
      "  Resampled in 0.42s\n",
      "Predicting part 1 of 1 ...\n"
     ]
    },
    {
     "name": "stderr",
     "output_type": "stream",
     "text": [
      "100%|██████████| 2/2 [00:00<00:00, 99.98it/s]\n"
     ]
    },
    {
     "name": "stdout",
     "output_type": "stream",
     "text": [
      "  Predicted in 8.38s\n",
      "Resampling...\n",
      "Saving segmentations...\n",
      "  Saved in 0.03s\n",
      "Processed and saved: D:\\CTH_archive\\CTH_STRIPPED_MASK\\NAVAS_RAFAEL.nii\n",
      "\n",
      "If you use this tool please cite: https://pubs.rsna.org/doi/10.1148/ryai.230024\n",
      "\n",
      "Generating rough body segmentation...\n",
      "Resampling...\n",
      "  Resampled in 0.21s\n",
      "Predicting...\n"
     ]
    },
    {
     "name": "stderr",
     "output_type": "stream",
     "text": [
      "100%|██████████| 1/1 [00:00<00:00, 128.16it/s]\n"
     ]
    },
    {
     "name": "stdout",
     "output_type": "stream",
     "text": [
      "  Predicted in 8.21s\n",
      "Resampling...\n",
      "  cropping from (512, 512, 28) to (350, 434, 28)\n",
      "Resampling...\n",
      "  Resampled in 0.37s\n",
      "Predicting part 1 of 1 ...\n"
     ]
    },
    {
     "name": "stderr",
     "output_type": "stream",
     "text": [
      "100%|██████████| 2/2 [00:00<00:00, 92.95it/s]\n"
     ]
    },
    {
     "name": "stdout",
     "output_type": "stream",
     "text": [
      "  Predicted in 8.34s\n",
      "Resampling...\n",
      "Saving segmentations...\n",
      "  Saved in 0.03s\n",
      "Processed and saved: D:\\CTH_archive\\CTH_STRIPPED_MASK\\NICHOLAS_LOLA.nii\n",
      "\n",
      "If you use this tool please cite: https://pubs.rsna.org/doi/10.1148/ryai.230024\n",
      "\n",
      "Generating rough body segmentation...\n",
      "Resampling...\n",
      "  Resampled in 0.25s\n",
      "Predicting...\n"
     ]
    },
    {
     "name": "stderr",
     "output_type": "stream",
     "text": [
      "100%|██████████| 1/1 [00:00<00:00, 133.14it/s]\n"
     ]
    },
    {
     "name": "stdout",
     "output_type": "stream",
     "text": [
      "  Predicted in 8.19s\n",
      "Resampling...\n",
      "  cropping from (512, 637, 32) to (512, 632, 31)\n",
      "Resampling...\n",
      "  Resampled in 0.48s\n",
      "Predicting part 1 of 1 ...\n"
     ]
    },
    {
     "name": "stderr",
     "output_type": "stream",
     "text": [
      "100%|██████████| 1/1 [00:00<00:00, 90.90it/s]\n"
     ]
    },
    {
     "name": "stdout",
     "output_type": "stream",
     "text": [
      "  Predicted in 8.17s\n",
      "Resampling...\n",
      "Saving segmentations...\n",
      "  Saved in 0.04s\n",
      "Processed and saved: D:\\CTH_archive\\CTH_STRIPPED_MASK\\OROVAN_MARY.nii\n",
      "\n",
      "If you use this tool please cite: https://pubs.rsna.org/doi/10.1148/ryai.230024\n",
      "\n",
      "Generating rough body segmentation...\n",
      "Resampling...\n",
      "  Resampled in 0.24s\n",
      "Predicting...\n"
     ]
    },
    {
     "name": "stderr",
     "output_type": "stream",
     "text": [
      "100%|██████████| 1/1 [00:00<00:00, 125.01it/s]\n"
     ]
    },
    {
     "name": "stdout",
     "output_type": "stream",
     "text": [
      "  Predicted in 8.20s\n",
      "Resampling...\n",
      "  cropping from (512, 512, 32) to (376, 426, 29)\n",
      "Resampling...\n",
      "  Resampled in 0.43s\n",
      "Predicting part 1 of 1 ...\n"
     ]
    },
    {
     "name": "stderr",
     "output_type": "stream",
     "text": [
      "100%|██████████| 2/2 [00:00<00:00, 100.00it/s]\n"
     ]
    },
    {
     "name": "stdout",
     "output_type": "stream",
     "text": [
      "  Predicted in 8.27s\n",
      "Resampling...\n",
      "Saving segmentations...\n",
      "  Saved in 0.03s\n",
      "Processed and saved: D:\\CTH_archive\\CTH_STRIPPED_MASK\\PEREZ_HUGO.nii\n",
      "\n",
      "If you use this tool please cite: https://pubs.rsna.org/doi/10.1148/ryai.230024\n",
      "\n",
      "Generating rough body segmentation...\n",
      "Resampling...\n",
      "  Resampled in 0.23s\n",
      "Predicting...\n"
     ]
    },
    {
     "name": "stderr",
     "output_type": "stream",
     "text": [
      "100%|██████████| 1/1 [00:00<00:00, 125.01it/s]\n"
     ]
    },
    {
     "name": "stdout",
     "output_type": "stream",
     "text": [
      "  Predicted in 8.20s\n",
      "Resampling...\n",
      "  cropping from (512, 512, 31) to (390, 461, 30)\n",
      "Resampling...\n",
      "  Resampled in 0.42s\n",
      "Predicting part 1 of 1 ...\n"
     ]
    },
    {
     "name": "stderr",
     "output_type": "stream",
     "text": [
      "100%|██████████| 2/2 [00:00<00:00, 74.08it/s]\n"
     ]
    },
    {
     "name": "stdout",
     "output_type": "stream",
     "text": [
      "  Predicted in 8.30s\n",
      "Resampling...\n",
      "Saving segmentations...\n",
      "  Saved in 0.03s\n",
      "Processed and saved: D:\\CTH_archive\\CTH_STRIPPED_MASK\\PERINA_ROBERT.nii\n",
      "\n",
      "If you use this tool please cite: https://pubs.rsna.org/doi/10.1148/ryai.230024\n",
      "\n",
      "Generating rough body segmentation...\n",
      "Resampling...\n",
      "  Resampled in 0.22s\n",
      "Predicting...\n"
     ]
    },
    {
     "name": "stderr",
     "output_type": "stream",
     "text": [
      "100%|██████████| 1/1 [00:00<00:00, 83.33it/s]\n"
     ]
    },
    {
     "name": "stdout",
     "output_type": "stream",
     "text": [
      "  Predicted in 8.18s\n",
      "Resampling...\n",
      "  cropping from (512, 512, 32) to (385, 450, 31)\n",
      "Resampling...\n",
      "  Resampled in 0.46s\n",
      "Predicting part 1 of 1 ...\n"
     ]
    },
    {
     "name": "stderr",
     "output_type": "stream",
     "text": [
      "100%|██████████| 2/2 [00:00<00:00, 97.52it/s]\n"
     ]
    },
    {
     "name": "stdout",
     "output_type": "stream",
     "text": [
      "  Predicted in 8.59s\n",
      "Resampling...\n",
      "Saving segmentations...\n",
      "  Saved in 0.03s\n",
      "Processed and saved: D:\\CTH_archive\\CTH_STRIPPED_MASK\\PERLMUTTER_JULES.nii\n",
      "\n",
      "If you use this tool please cite: https://pubs.rsna.org/doi/10.1148/ryai.230024\n",
      "\n",
      "Generating rough body segmentation...\n",
      "Resampling...\n",
      "  Resampled in 0.26s\n",
      "Predicting...\n"
     ]
    },
    {
     "name": "stderr",
     "output_type": "stream",
     "text": [
      "100%|██████████| 1/1 [00:00<00:00, 111.05it/s]\n"
     ]
    },
    {
     "name": "stdout",
     "output_type": "stream",
     "text": [
      "  Predicted in 8.53s\n",
      "Resampling...\n",
      "  cropping from (512, 512, 36) to (354, 441, 31)\n",
      "Resampling...\n",
      "  Resampled in 0.48s\n",
      "Predicting part 1 of 1 ...\n"
     ]
    },
    {
     "name": "stderr",
     "output_type": "stream",
     "text": [
      "100%|██████████| 2/2 [00:00<00:00, 100.00it/s]\n"
     ]
    },
    {
     "name": "stdout",
     "output_type": "stream",
     "text": [
      "  Predicted in 8.59s\n",
      "Resampling...\n",
      "Saving segmentations...\n",
      "  Saved in 0.04s\n",
      "Processed and saved: D:\\CTH_archive\\CTH_STRIPPED_MASK\\PLAZA_RAUL.nii\n",
      "\n",
      "If you use this tool please cite: https://pubs.rsna.org/doi/10.1148/ryai.230024\n",
      "\n",
      "Generating rough body segmentation...\n",
      "Resampling...\n",
      "  Resampled in 0.25s\n",
      "Predicting...\n"
     ]
    },
    {
     "name": "stderr",
     "output_type": "stream",
     "text": [
      "100%|██████████| 1/1 [00:00<00:00, 124.91it/s]\n"
     ]
    },
    {
     "name": "stdout",
     "output_type": "stream",
     "text": [
      "  Predicted in 8.37s\n",
      "Resampling...\n",
      "  cropping from (512, 699, 31) to (512, 645, 29)\n",
      "Resampling...\n",
      "  Resampled in 0.47s\n",
      "Predicting part 1 of 1 ...\n"
     ]
    },
    {
     "name": "stderr",
     "output_type": "stream",
     "text": [
      "100%|██████████| 2/2 [00:00<00:00, 86.93it/s]\n"
     ]
    },
    {
     "name": "stdout",
     "output_type": "stream",
     "text": [
      "  Predicted in 8.29s\n",
      "Resampling...\n",
      "Saving segmentations...\n",
      "  Saved in 0.04s\n",
      "Processed and saved: D:\\CTH_archive\\CTH_STRIPPED_MASK\\QUILES_MARIBEL.nii\n",
      "\n",
      "If you use this tool please cite: https://pubs.rsna.org/doi/10.1148/ryai.230024\n",
      "\n",
      "Generating rough body segmentation...\n",
      "Resampling...\n",
      "  Resampled in 0.20s\n",
      "Predicting...\n"
     ]
    },
    {
     "name": "stderr",
     "output_type": "stream",
     "text": [
      "100%|██████████| 1/1 [00:00<00:00, 125.00it/s]\n"
     ]
    },
    {
     "name": "stdout",
     "output_type": "stream",
     "text": [
      "  Predicted in 8.19s\n",
      "Resampling...\n",
      "  cropping from (512, 512, 28) to (346, 424, 28)\n",
      "Resampling...\n",
      "  Resampled in 0.37s\n",
      "Predicting part 1 of 1 ...\n"
     ]
    },
    {
     "name": "stderr",
     "output_type": "stream",
     "text": [
      "100%|██████████| 2/2 [00:00<00:00, 88.84it/s]\n"
     ]
    },
    {
     "name": "stdout",
     "output_type": "stream",
     "text": [
      "  Predicted in 8.28s\n",
      "Resampling...\n",
      "Saving segmentations...\n",
      "  Saved in 0.03s\n",
      "Processed and saved: D:\\CTH_archive\\CTH_STRIPPED_MASK\\RAMIREZ_ANGELA.nii\n",
      "\n",
      "If you use this tool please cite: https://pubs.rsna.org/doi/10.1148/ryai.230024\n",
      "\n",
      "Generating rough body segmentation...\n",
      "Resampling...\n",
      "  Resampled in 0.23s\n",
      "Predicting...\n"
     ]
    },
    {
     "name": "stderr",
     "output_type": "stream",
     "text": [
      "100%|██████████| 1/1 [00:00<00:00, 142.86it/s]\n"
     ]
    },
    {
     "name": "stdout",
     "output_type": "stream",
     "text": [
      "  Predicted in 8.43s\n",
      "Resampling...\n",
      "  cropping from (512, 512, 32) to (352, 450, 30)\n",
      "Resampling...\n",
      "  Resampled in 0.38s\n",
      "Predicting part 1 of 1 ...\n"
     ]
    },
    {
     "name": "stderr",
     "output_type": "stream",
     "text": [
      "100%|██████████| 2/2 [00:00<00:00, 90.90it/s]\n"
     ]
    },
    {
     "name": "stdout",
     "output_type": "stream",
     "text": [
      "  Predicted in 8.48s\n",
      "Resampling...\n",
      "Saving segmentations...\n",
      "  Saved in 0.04s\n",
      "Processed and saved: D:\\CTH_archive\\CTH_STRIPPED_MASK\\RAMIREZ_ELIZABETH.nii\n",
      "\n",
      "If you use this tool please cite: https://pubs.rsna.org/doi/10.1148/ryai.230024\n",
      "\n",
      "Generating rough body segmentation...\n",
      "Resampling...\n",
      "  Resampled in 0.27s\n",
      "Predicting...\n"
     ]
    },
    {
     "name": "stderr",
     "output_type": "stream",
     "text": [
      "100%|██████████| 1/1 [00:00<00:00, 121.50it/s]\n"
     ]
    },
    {
     "name": "stdout",
     "output_type": "stream",
     "text": [
      "  Predicted in 8.35s\n",
      "Resampling...\n",
      "  cropping from (512, 681, 34) to (512, 616, 32)\n",
      "Resampling...\n",
      "  Resampled in 0.57s\n",
      "Predicting part 1 of 1 ...\n"
     ]
    },
    {
     "name": "stderr",
     "output_type": "stream",
     "text": [
      "100%|██████████| 2/2 [00:00<00:00, 95.23it/s]\n"
     ]
    },
    {
     "name": "stdout",
     "output_type": "stream",
     "text": [
      "  Predicted in 8.34s\n",
      "Resampling...\n",
      "Saving segmentations...\n",
      "  Saved in 0.04s\n",
      "Processed and saved: D:\\CTH_archive\\CTH_STRIPPED_MASK\\RAMUSEVIC_SMAIL.nii\n",
      "\n",
      "If you use this tool please cite: https://pubs.rsna.org/doi/10.1148/ryai.230024\n",
      "\n",
      "Generating rough body segmentation...\n",
      "Resampling...\n",
      "  Resampled in 0.27s\n",
      "Predicting...\n"
     ]
    },
    {
     "name": "stderr",
     "output_type": "stream",
     "text": [
      "100%|██████████| 1/1 [00:00<00:00, 142.89it/s]\n"
     ]
    },
    {
     "name": "stdout",
     "output_type": "stream",
     "text": [
      "  Predicted in 8.16s\n",
      "Resampling...\n",
      "  cropping from (512, 691, 32) to (506, 639, 29)\n",
      "Resampling...\n",
      "  Resampled in 0.50s\n",
      "Predicting part 1 of 1 ...\n"
     ]
    },
    {
     "name": "stderr",
     "output_type": "stream",
     "text": [
      "100%|██████████| 2/2 [00:00<00:00, 97.51it/s]\n"
     ]
    },
    {
     "name": "stdout",
     "output_type": "stream",
     "text": [
      "  Predicted in 8.29s\n",
      "Resampling...\n",
      "Saving segmentations...\n",
      "  Saved in 0.04s\n",
      "Processed and saved: D:\\CTH_archive\\CTH_STRIPPED_MASK\\RAPPOPORT_MARIO.nii\n",
      "\n",
      "If you use this tool please cite: https://pubs.rsna.org/doi/10.1148/ryai.230024\n",
      "\n",
      "Generating rough body segmentation...\n",
      "Resampling...\n",
      "  Resampled in 0.28s\n",
      "Predicting...\n"
     ]
    },
    {
     "name": "stderr",
     "output_type": "stream",
     "text": [
      "100%|██████████| 1/1 [00:00<00:00, 125.02it/s]\n"
     ]
    },
    {
     "name": "stdout",
     "output_type": "stream",
     "text": [
      "  Predicted in 8.22s\n",
      "Resampling...\n",
      "  cropping from (512, 666, 37) to (438, 557, 30)\n",
      "Resampling...\n",
      "  Resampled in 0.45s\n",
      "Predicting part 1 of 1 ...\n"
     ]
    },
    {
     "name": "stderr",
     "output_type": "stream",
     "text": [
      "100%|██████████| 2/2 [00:00<00:00, 90.91it/s]\n"
     ]
    },
    {
     "name": "stdout",
     "output_type": "stream",
     "text": [
      "  Predicted in 8.38s\n",
      "Resampling...\n",
      "Saving segmentations...\n",
      "  Saved in 0.04s\n",
      "Processed and saved: D:\\CTH_archive\\CTH_STRIPPED_MASK\\REDMOND_JONATHAN.nii\n",
      "\n",
      "If you use this tool please cite: https://pubs.rsna.org/doi/10.1148/ryai.230024\n",
      "\n",
      "Generating rough body segmentation...\n",
      "Resampling...\n",
      "  Resampled in 0.45s\n",
      "Predicting...\n"
     ]
    },
    {
     "name": "stderr",
     "output_type": "stream",
     "text": [
      "100%|██████████| 1/1 [00:00<00:00, 125.01it/s]\n"
     ]
    },
    {
     "name": "stdout",
     "output_type": "stream",
     "text": [
      "  Predicted in 8.21s\n",
      "Resampling...\n",
      "  cropping from (512, 512, 64) to (367, 404, 60)\n",
      "Resampling...\n",
      "  Resampled in 0.50s\n",
      "Predicting part 1 of 1 ...\n"
     ]
    },
    {
     "name": "stderr",
     "output_type": "stream",
     "text": [
      "100%|██████████| 2/2 [00:00<00:00, 95.22it/s]\n"
     ]
    },
    {
     "name": "stdout",
     "output_type": "stream",
     "text": [
      "  Predicted in 8.33s\n",
      "Resampling...\n",
      "Saving segmentations...\n",
      "  Saved in 0.07s\n",
      "Processed and saved: D:\\CTH_archive\\CTH_STRIPPED_MASK\\REYES_ROSA.nii\n",
      "\n",
      "If you use this tool please cite: https://pubs.rsna.org/doi/10.1148/ryai.230024\n",
      "\n",
      "Generating rough body segmentation...\n",
      "Resampling...\n",
      "  Resampled in 0.24s\n",
      "Predicting...\n"
     ]
    },
    {
     "name": "stderr",
     "output_type": "stream",
     "text": [
      "100%|██████████| 1/1 [00:00<00:00, 125.00it/s]\n"
     ]
    },
    {
     "name": "stdout",
     "output_type": "stream",
     "text": [
      "  Predicted in 8.20s\n",
      "Resampling...\n",
      "  cropping from (512, 605, 32) to (466, 544, 31)\n",
      "Resampling...\n",
      "  Resampled in 0.48s\n",
      "Predicting part 1 of 1 ...\n"
     ]
    },
    {
     "name": "stderr",
     "output_type": "stream",
     "text": [
      "100%|██████████| 2/2 [00:00<00:00, 100.00it/s]\n"
     ]
    },
    {
     "name": "stdout",
     "output_type": "stream",
     "text": [
      "  Predicted in 8.31s\n",
      "Resampling...\n",
      "Saving segmentations...\n",
      "  Saved in 0.04s\n",
      "Processed and saved: D:\\CTH_archive\\CTH_STRIPPED_MASK\\RICE_CALVIN.nii\n",
      "\n",
      "If you use this tool please cite: https://pubs.rsna.org/doi/10.1148/ryai.230024\n",
      "\n",
      "Generating rough body segmentation...\n",
      "Resampling...\n",
      "  Resampled in 0.24s\n",
      "Predicting...\n"
     ]
    },
    {
     "name": "stderr",
     "output_type": "stream",
     "text": [
      "100%|██████████| 1/1 [00:00<00:00, 133.31it/s]\n"
     ]
    },
    {
     "name": "stdout",
     "output_type": "stream",
     "text": [
      "  Predicted in 8.16s\n",
      "Resampling...\n",
      "  cropping from (512, 512, 31) to (364, 420, 30)\n",
      "Resampling...\n",
      "  Resampled in 0.37s\n",
      "Predicting part 1 of 1 ...\n"
     ]
    },
    {
     "name": "stderr",
     "output_type": "stream",
     "text": [
      "100%|██████████| 1/1 [00:00<00:00, 90.86it/s]\n"
     ]
    },
    {
     "name": "stdout",
     "output_type": "stream",
     "text": [
      "  Predicted in 8.24s\n",
      "Resampling...\n",
      "Saving segmentations...\n",
      "  Saved in 0.03s\n",
      "Processed and saved: D:\\CTH_archive\\CTH_STRIPPED_MASK\\ROBINSON_GENEVA_D.nii\n",
      "\n",
      "If you use this tool please cite: https://pubs.rsna.org/doi/10.1148/ryai.230024\n",
      "\n",
      "Generating rough body segmentation...\n",
      "Resampling...\n",
      "  Resampled in 0.25s\n",
      "Predicting...\n"
     ]
    },
    {
     "name": "stderr",
     "output_type": "stream",
     "text": [
      "100%|██████████| 1/1 [00:00<00:00, 125.00it/s]\n"
     ]
    },
    {
     "name": "stdout",
     "output_type": "stream",
     "text": [
      "  Predicted in 8.17s\n",
      "Resampling...\n",
      "  cropping from (512, 512, 33) to (369, 463, 32)\n",
      "Resampling...\n",
      "  Resampled in 0.46s\n",
      "Predicting part 1 of 1 ...\n"
     ]
    },
    {
     "name": "stderr",
     "output_type": "stream",
     "text": [
      "100%|██████████| 2/2 [00:00<00:00, 105.26it/s]\n"
     ]
    },
    {
     "name": "stdout",
     "output_type": "stream",
     "text": [
      "  Predicted in 8.27s\n",
      "Resampling...\n",
      "Saving segmentations...\n",
      "  Saved in 0.03s\n",
      "Processed and saved: D:\\CTH_archive\\CTH_STRIPPED_MASK\\RODRIQUEZ_RIVERA_ROQUE.nii\n",
      "\n",
      "If you use this tool please cite: https://pubs.rsna.org/doi/10.1148/ryai.230024\n",
      "\n",
      "Generating rough body segmentation...\n",
      "Resampling...\n",
      "  Resampled in 0.24s\n",
      "Predicting...\n"
     ]
    },
    {
     "name": "stderr",
     "output_type": "stream",
     "text": [
      "100%|██████████| 1/1 [00:00<00:00, 131.92it/s]\n"
     ]
    },
    {
     "name": "stdout",
     "output_type": "stream",
     "text": [
      "  Predicted in 8.14s\n",
      "Resampling...\n",
      "  cropping from (512, 682, 30) to (506, 607, 29)\n",
      "Resampling...\n",
      "  Resampled in 0.44s\n",
      "Predicting part 1 of 1 ...\n"
     ]
    },
    {
     "name": "stderr",
     "output_type": "stream",
     "text": [
      "100%|██████████| 1/1 [00:00<00:00, 90.89it/s]\n"
     ]
    },
    {
     "name": "stdout",
     "output_type": "stream",
     "text": [
      "  Predicted in 8.19s\n",
      "Resampling...\n",
      "Saving segmentations...\n",
      "  Saved in 0.04s\n",
      "Processed and saved: D:\\CTH_archive\\CTH_STRIPPED_MASK\\ROGERS_MARSHA.nii\n",
      "\n",
      "If you use this tool please cite: https://pubs.rsna.org/doi/10.1148/ryai.230024\n",
      "\n",
      "Generating rough body segmentation...\n",
      "Resampling...\n",
      "  Resampled in 0.23s\n",
      "Predicting...\n"
     ]
    },
    {
     "name": "stderr",
     "output_type": "stream",
     "text": [
      "100%|██████████| 1/1 [00:00<00:00, 111.12it/s]\n"
     ]
    },
    {
     "name": "stdout",
     "output_type": "stream",
     "text": [
      "  Predicted in 8.18s\n",
      "Resampling...\n",
      "  cropping from (512, 512, 32) to (346, 478, 30)\n",
      "Resampling...\n",
      "  Resampled in 0.46s\n",
      "Predicting part 1 of 1 ...\n"
     ]
    },
    {
     "name": "stderr",
     "output_type": "stream",
     "text": [
      "100%|██████████| 2/2 [00:00<00:00, 86.96it/s]\n"
     ]
    },
    {
     "name": "stdout",
     "output_type": "stream",
     "text": [
      "  Predicted in 8.30s\n",
      "Resampling...\n",
      "Saving segmentations...\n",
      "  Saved in 0.03s\n",
      "Processed and saved: D:\\CTH_archive\\CTH_STRIPPED_MASK\\ROMEO_ROBIN_MAXIMILAN.nii\n",
      "\n",
      "If you use this tool please cite: https://pubs.rsna.org/doi/10.1148/ryai.230024\n",
      "\n",
      "Generating rough body segmentation...\n",
      "Resampling...\n",
      "  Resampled in 0.24s\n",
      "Predicting...\n"
     ]
    },
    {
     "name": "stderr",
     "output_type": "stream",
     "text": [
      "100%|██████████| 1/1 [00:00<00:00, 142.84it/s]\n"
     ]
    },
    {
     "name": "stdout",
     "output_type": "stream",
     "text": [
      "  Predicted in 8.15s\n",
      "Resampling...\n",
      "  cropping from (512, 642, 34) to (512, 630, 31)\n",
      "Resampling...\n",
      "  Resampled in 0.50s\n",
      "Predicting part 1 of 1 ...\n"
     ]
    },
    {
     "name": "stderr",
     "output_type": "stream",
     "text": [
      "100%|██████████| 2/2 [00:00<00:00, 95.24it/s]\n"
     ]
    },
    {
     "name": "stdout",
     "output_type": "stream",
     "text": [
      "  Predicted in 8.22s\n",
      "Resampling...\n",
      "Saving segmentations...\n",
      "  Saved in 0.04s\n",
      "Processed and saved: D:\\CTH_archive\\CTH_STRIPPED_MASK\\ROSE_SYLVIA.nii\n",
      "\n",
      "If you use this tool please cite: https://pubs.rsna.org/doi/10.1148/ryai.230024\n",
      "\n",
      "Generating rough body segmentation...\n",
      "Resampling...\n",
      "  Resampled in 0.24s\n",
      "Predicting...\n"
     ]
    },
    {
     "name": "stderr",
     "output_type": "stream",
     "text": [
      "100%|██████████| 1/1 [00:00<00:00, 111.16it/s]\n"
     ]
    },
    {
     "name": "stdout",
     "output_type": "stream",
     "text": [
      "  Predicted in 8.22s\n",
      "Resampling...\n",
      "  cropping from (512, 673, 31) to (506, 620, 30)\n",
      "Resampling...\n",
      "  Resampled in 0.49s\n",
      "Predicting part 1 of 1 ...\n"
     ]
    },
    {
     "name": "stderr",
     "output_type": "stream",
     "text": [
      "100%|██████████| 2/2 [00:00<00:00, 92.97it/s]\n"
     ]
    },
    {
     "name": "stdout",
     "output_type": "stream",
     "text": [
      "  Predicted in 8.30s\n",
      "Resampling...\n",
      "Saving segmentations...\n",
      "  Saved in 0.04s\n",
      "Processed and saved: D:\\CTH_archive\\CTH_STRIPPED_MASK\\RUBALLO_OMAR.nii\n",
      "\n",
      "If you use this tool please cite: https://pubs.rsna.org/doi/10.1148/ryai.230024\n",
      "\n",
      "Generating rough body segmentation...\n",
      "Resampling...\n",
      "  Resampled in 0.24s\n",
      "Predicting...\n"
     ]
    },
    {
     "name": "stderr",
     "output_type": "stream",
     "text": [
      "100%|██████████| 1/1 [00:00<00:00, 117.42it/s]\n"
     ]
    },
    {
     "name": "stdout",
     "output_type": "stream",
     "text": [
      "  Predicted in 8.20s\n",
      "Resampling...\n",
      "  cropping from (512, 512, 32) to (354, 392, 32)\n",
      "Resampling...\n",
      "  Resampled in 0.42s\n",
      "Predicting part 1 of 1 ...\n"
     ]
    },
    {
     "name": "stderr",
     "output_type": "stream",
     "text": [
      "100%|██████████| 1/1 [00:00<00:00, 83.33it/s]\n"
     ]
    },
    {
     "name": "stdout",
     "output_type": "stream",
     "text": [
      "  Predicted in 8.27s\n",
      "Resampling...\n",
      "Saving segmentations...\n",
      "  Saved in 0.03s\n",
      "Processed and saved: D:\\CTH_archive\\CTH_STRIPPED_MASK\\RYAN_MICHAEL.nii\n",
      "\n",
      "If you use this tool please cite: https://pubs.rsna.org/doi/10.1148/ryai.230024\n",
      "\n",
      "Generating rough body segmentation...\n",
      "Resampling...\n",
      "  Resampled in 0.24s\n",
      "Predicting...\n"
     ]
    },
    {
     "name": "stderr",
     "output_type": "stream",
     "text": [
      "100%|██████████| 1/1 [00:00<00:00, 125.08it/s]\n"
     ]
    },
    {
     "name": "stdout",
     "output_type": "stream",
     "text": [
      "  Predicted in 8.21s\n",
      "Resampling...\n",
      "  cropping from (512, 512, 32) to (329, 429, 30)\n",
      "Resampling...\n",
      "  Resampled in 0.39s\n",
      "Predicting part 1 of 1 ...\n"
     ]
    },
    {
     "name": "stderr",
     "output_type": "stream",
     "text": [
      "100%|██████████| 2/2 [00:00<00:00, 100.00it/s]\n"
     ]
    },
    {
     "name": "stdout",
     "output_type": "stream",
     "text": [
      "  Predicted in 8.27s\n",
      "Resampling...\n",
      "Saving segmentations...\n",
      "  Saved in 0.03s\n",
      "Processed and saved: D:\\CTH_archive\\CTH_STRIPPED_MASK\\SALTER_GLADYS.nii\n",
      "\n",
      "If you use this tool please cite: https://pubs.rsna.org/doi/10.1148/ryai.230024\n",
      "\n",
      "Generating rough body segmentation...\n",
      "Resampling...\n",
      "  Resampled in 0.20s\n",
      "Predicting...\n"
     ]
    },
    {
     "name": "stderr",
     "output_type": "stream",
     "text": [
      "100%|██████████| 1/1 [00:00<00:00, 120.63it/s]\n"
     ]
    },
    {
     "name": "stdout",
     "output_type": "stream",
     "text": [
      "  Predicted in 8.29s\n",
      "Resampling...\n",
      "  cropping from (512, 512, 28) to (397, 472, 25)\n",
      "Resampling...\n",
      "  Resampled in 0.36s\n",
      "Predicting part 1 of 1 ...\n"
     ]
    },
    {
     "name": "stderr",
     "output_type": "stream",
     "text": [
      "100%|██████████| 2/2 [00:00<00:00, 91.41it/s]\n"
     ]
    },
    {
     "name": "stdout",
     "output_type": "stream",
     "text": [
      "  Predicted in 8.25s\n",
      "Resampling...\n",
      "Saving segmentations...\n",
      "  Saved in 0.03s\n",
      "Processed and saved: D:\\CTH_archive\\CTH_STRIPPED_MASK\\SANTIAGO_CARMEN.nii\n",
      "\n",
      "If you use this tool please cite: https://pubs.rsna.org/doi/10.1148/ryai.230024\n",
      "\n",
      "Generating rough body segmentation...\n",
      "Resampling...\n",
      "  Resampled in 0.27s\n",
      "Predicting...\n"
     ]
    },
    {
     "name": "stderr",
     "output_type": "stream",
     "text": [
      "100%|██████████| 1/1 [00:00<00:00, 125.03it/s]\n"
     ]
    },
    {
     "name": "stdout",
     "output_type": "stream",
     "text": [
      "  Predicted in 8.18s\n",
      "Resampling...\n",
      "  cropping from (512, 512, 36) to (342, 392, 34)\n",
      "Resampling...\n",
      "  Resampled in 0.41s\n",
      "Predicting part 1 of 1 ...\n"
     ]
    },
    {
     "name": "stderr",
     "output_type": "stream",
     "text": [
      "100%|██████████| 1/1 [00:00<00:00, 83.33it/s]\n"
     ]
    },
    {
     "name": "stdout",
     "output_type": "stream",
     "text": [
      "  Predicted in 8.29s\n",
      "Resampling...\n",
      "Saving segmentations...\n",
      "  Saved in 0.04s\n",
      "Processed and saved: D:\\CTH_archive\\CTH_STRIPPED_MASK\\SCOUFARAS_DESPINA.nii\n",
      "\n",
      "If you use this tool please cite: https://pubs.rsna.org/doi/10.1148/ryai.230024\n",
      "\n",
      "Generating rough body segmentation...\n",
      "Resampling...\n",
      "  Resampled in 0.26s\n",
      "Predicting...\n"
     ]
    },
    {
     "name": "stderr",
     "output_type": "stream",
     "text": [
      "100%|██████████| 1/1 [00:00<00:00, 125.05it/s]\n"
     ]
    },
    {
     "name": "stdout",
     "output_type": "stream",
     "text": [
      "  Predicted in 8.18s\n",
      "Resampling...\n",
      "  cropping from (512, 675, 34) to (505, 625, 33)\n",
      "Resampling...\n",
      "  Resampled in 0.56s\n",
      "Predicting part 1 of 1 ...\n"
     ]
    },
    {
     "name": "stderr",
     "output_type": "stream",
     "text": [
      "100%|██████████| 2/2 [00:00<00:00, 90.16it/s]\n"
     ]
    },
    {
     "name": "stdout",
     "output_type": "stream",
     "text": [
      "  Predicted in 8.34s\n",
      "Resampling...\n",
      "Saving segmentations...\n",
      "  Saved in 0.04s\n",
      "Processed and saved: D:\\CTH_archive\\CTH_STRIPPED_MASK\\SGARLATO_SANTO.nii\n",
      "\n",
      "If you use this tool please cite: https://pubs.rsna.org/doi/10.1148/ryai.230024\n",
      "\n",
      "Generating rough body segmentation...\n",
      "Resampling...\n",
      "  Resampled in 0.21s\n",
      "Predicting...\n"
     ]
    },
    {
     "name": "stderr",
     "output_type": "stream",
     "text": [
      "100%|██████████| 1/1 [00:00<00:00, 142.86it/s]\n"
     ]
    },
    {
     "name": "stdout",
     "output_type": "stream",
     "text": [
      "  Predicted in 8.16s\n",
      "Resampling...\n",
      "  cropping from (512, 512, 28) to (386, 474, 26)\n",
      "Resampling...\n",
      "  Resampled in 0.36s\n",
      "Predicting part 1 of 1 ...\n"
     ]
    },
    {
     "name": "stderr",
     "output_type": "stream",
     "text": [
      "100%|██████████| 2/2 [00:00<00:00, 99.51it/s]\n"
     ]
    },
    {
     "name": "stdout",
     "output_type": "stream",
     "text": [
      "  Predicted in 8.22s\n",
      "Resampling...\n",
      "Saving segmentations...\n",
      "  Saved in 0.03s\n",
      "Processed and saved: D:\\CTH_archive\\CTH_STRIPPED_MASK\\SHERPA_DEKI.nii\n",
      "\n",
      "If you use this tool please cite: https://pubs.rsna.org/doi/10.1148/ryai.230024\n",
      "\n",
      "Generating rough body segmentation...\n",
      "Resampling...\n",
      "  Resampled in 0.20s\n",
      "Predicting...\n"
     ]
    },
    {
     "name": "stderr",
     "output_type": "stream",
     "text": [
      "100%|██████████| 1/1 [00:00<00:00, 125.01it/s]\n"
     ]
    },
    {
     "name": "stdout",
     "output_type": "stream",
     "text": [
      "  Predicted in 8.14s\n",
      "Resampling...\n",
      "  cropping from (512, 512, 28) to (366, 463, 27)\n",
      "Resampling...\n",
      "  Resampled in 0.39s\n",
      "Predicting part 1 of 1 ...\n"
     ]
    },
    {
     "name": "stderr",
     "output_type": "stream",
     "text": [
      "100%|██████████| 2/2 [00:00<00:00, 90.92it/s]\n"
     ]
    },
    {
     "name": "stdout",
     "output_type": "stream",
     "text": [
      "  Predicted in 8.28s\n",
      "Resampling...\n",
      "Saving segmentations...\n",
      "  Saved in 0.03s\n",
      "Processed and saved: D:\\CTH_archive\\CTH_STRIPPED_MASK\\SIEJACK_EURANIA.nii\n",
      "\n",
      "If you use this tool please cite: https://pubs.rsna.org/doi/10.1148/ryai.230024\n",
      "\n",
      "Generating rough body segmentation...\n",
      "Resampling...\n",
      "  Resampled in 0.26s\n",
      "Predicting...\n"
     ]
    },
    {
     "name": "stderr",
     "output_type": "stream",
     "text": [
      "100%|██████████| 1/1 [00:00<00:00, 124.99it/s]\n"
     ]
    },
    {
     "name": "stdout",
     "output_type": "stream",
     "text": [
      "  Predicted in 8.18s\n",
      "Resampling...\n",
      "  cropping from (512, 512, 36) to (330, 428, 31)\n",
      "Resampling...\n",
      "  Resampled in 0.40s\n",
      "Predicting part 1 of 1 ...\n"
     ]
    },
    {
     "name": "stderr",
     "output_type": "stream",
     "text": [
      "100%|██████████| 2/2 [00:00<00:00, 100.00it/s]\n"
     ]
    },
    {
     "name": "stdout",
     "output_type": "stream",
     "text": [
      "  Predicted in 8.30s\n",
      "Resampling...\n",
      "Saving segmentations...\n",
      "  Saved in 0.04s\n",
      "Processed and saved: D:\\CTH_archive\\CTH_STRIPPED_MASK\\SINGH_HARBHAJAN.nii\n",
      "\n",
      "If you use this tool please cite: https://pubs.rsna.org/doi/10.1148/ryai.230024\n",
      "\n",
      "Generating rough body segmentation...\n",
      "Resampling...\n",
      "  Resampled in 0.23s\n",
      "Predicting...\n"
     ]
    },
    {
     "name": "stderr",
     "output_type": "stream",
     "text": [
      "100%|██████████| 1/1 [00:00<00:00, 142.87it/s]\n"
     ]
    },
    {
     "name": "stdout",
     "output_type": "stream",
     "text": [
      "  Predicted in 8.22s\n",
      "Resampling...\n",
      "  cropping from (512, 655, 30) to (481, 593, 29)\n",
      "Resampling...\n",
      "  Resampled in 0.47s\n",
      "Predicting part 1 of 1 ...\n"
     ]
    },
    {
     "name": "stderr",
     "output_type": "stream",
     "text": [
      "100%|██████████| 2/2 [00:00<00:00, 83.31it/s]\n"
     ]
    },
    {
     "name": "stdout",
     "output_type": "stream",
     "text": [
      "  Predicted in 8.26s\n",
      "Resampling...\n",
      "Saving segmentations...\n",
      "  Saved in 0.04s\n",
      "Processed and saved: D:\\CTH_archive\\CTH_STRIPPED_MASK\\SINGLETARY_DONALD.nii\n",
      "\n",
      "If you use this tool please cite: https://pubs.rsna.org/doi/10.1148/ryai.230024\n",
      "\n",
      "Generating rough body segmentation...\n",
      "Resampling...\n",
      "  Resampled in 0.25s\n",
      "Predicting...\n"
     ]
    },
    {
     "name": "stderr",
     "output_type": "stream",
     "text": [
      "100%|██████████| 1/1 [00:00<00:00, 125.00it/s]\n"
     ]
    },
    {
     "name": "stdout",
     "output_type": "stream",
     "text": [
      "  Predicted in 8.19s\n",
      "Resampling...\n",
      "  cropping from (512, 512, 36) to (432, 490, 32)\n",
      "Resampling...\n",
      "  Resampled in 0.55s\n",
      "Predicting part 1 of 1 ...\n"
     ]
    },
    {
     "name": "stderr",
     "output_type": "stream",
     "text": [
      "100%|██████████| 2/2 [00:00<00:00, 90.89it/s]\n"
     ]
    },
    {
     "name": "stdout",
     "output_type": "stream",
     "text": [
      "  Predicted in 8.33s\n",
      "Resampling...\n",
      "Saving segmentations...\n",
      "  Saved in 0.04s\n",
      "Processed and saved: D:\\CTH_archive\\CTH_STRIPPED_MASK\\SUAREZ_EDWIN.nii\n",
      "\n",
      "If you use this tool please cite: https://pubs.rsna.org/doi/10.1148/ryai.230024\n",
      "\n",
      "Generating rough body segmentation...\n",
      "Resampling...\n",
      "  Resampled in 0.23s\n",
      "Predicting...\n"
     ]
    },
    {
     "name": "stderr",
     "output_type": "stream",
     "text": [
      "100%|██████████| 1/1 [00:00<00:00, 125.00it/s]\n"
     ]
    },
    {
     "name": "stdout",
     "output_type": "stream",
     "text": [
      "  Predicted in 8.20s\n",
      "Resampling...\n",
      "  cropping from (512, 512, 32) to (354, 441, 29)\n",
      "Resampling...\n",
      "  Resampled in 0.43s\n",
      "Predicting part 1 of 1 ...\n"
     ]
    },
    {
     "name": "stderr",
     "output_type": "stream",
     "text": [
      "100%|██████████| 2/2 [00:00<00:00, 80.00it/s]\n"
     ]
    },
    {
     "name": "stdout",
     "output_type": "stream",
     "text": [
      "  Predicted in 8.42s\n",
      "Resampling...\n",
      "Saving segmentations...\n",
      "  Saved in 0.03s\n",
      "Processed and saved: D:\\CTH_archive\\CTH_STRIPPED_MASK\\TORII_YUKIO.nii\n",
      "\n",
      "If you use this tool please cite: https://pubs.rsna.org/doi/10.1148/ryai.230024\n",
      "\n",
      "Generating rough body segmentation...\n",
      "Resampling...\n",
      "  Resampled in 0.65s\n",
      "Predicting...\n"
     ]
    },
    {
     "name": "stderr",
     "output_type": "stream",
     "text": [
      "100%|██████████| 1/1 [00:00<00:00, 125.00it/s]\n"
     ]
    },
    {
     "name": "stdout",
     "output_type": "stream",
     "text": [
      "  Predicted in 8.24s\n",
      "Resampling...\n",
      "  cropping from (512, 512, 99) to (411, 411, 92)\n",
      "Resampling...\n",
      "  Resampled in 0.70s\n",
      "Predicting part 1 of 1 ...\n"
     ]
    },
    {
     "name": "stderr",
     "output_type": "stream",
     "text": [
      "100%|██████████| 1/1 [00:00<00:00, 76.92it/s]\n"
     ]
    },
    {
     "name": "stdout",
     "output_type": "stream",
     "text": [
      "  Predicted in 8.48s\n",
      "Resampling...\n",
      "Saving segmentations...\n",
      "  Saved in 0.11s\n",
      "Processed and saved: D:\\CTH_archive\\CTH_STRIPPED_MASK\\TOUATI_MOHAMED.nii\n",
      "\n",
      "If you use this tool please cite: https://pubs.rsna.org/doi/10.1148/ryai.230024\n",
      "\n",
      "Generating rough body segmentation...\n",
      "Resampling...\n",
      "  Resampled in 0.25s\n",
      "Predicting...\n"
     ]
    },
    {
     "name": "stderr",
     "output_type": "stream",
     "text": [
      "100%|██████████| 1/1 [00:00<00:00, 124.90it/s]\n"
     ]
    },
    {
     "name": "stdout",
     "output_type": "stream",
     "text": [
      "  Predicted in 8.23s\n",
      "Resampling...\n",
      "  cropping from (512, 653, 32) to (505, 622, 31)\n",
      "Resampling...\n",
      "  Resampled in 0.52s\n",
      "Predicting part 1 of 1 ...\n"
     ]
    },
    {
     "name": "stderr",
     "output_type": "stream",
     "text": [
      "100%|██████████| 2/2 [00:00<00:00, 90.92it/s]\n"
     ]
    },
    {
     "name": "stdout",
     "output_type": "stream",
     "text": [
      "  Predicted in 8.28s\n",
      "Resampling...\n",
      "Saving segmentations...\n",
      "  Saved in 0.04s\n",
      "Processed and saved: D:\\CTH_archive\\CTH_STRIPPED_MASK\\VANN_ELLIS_W.nii\n",
      "\n",
      "If you use this tool please cite: https://pubs.rsna.org/doi/10.1148/ryai.230024\n",
      "\n",
      "Generating rough body segmentation...\n",
      "Resampling...\n",
      "  Resampled in 0.24s\n",
      "Predicting...\n"
     ]
    },
    {
     "name": "stderr",
     "output_type": "stream",
     "text": [
      "100%|██████████| 1/1 [00:00<00:00, 125.02it/s]\n"
     ]
    },
    {
     "name": "stdout",
     "output_type": "stream",
     "text": [
      "  Predicted in 8.56s\n",
      "Resampling...\n",
      "  cropping from (512, 512, 32) to (397, 487, 26)\n",
      "Resampling...\n",
      "  Resampled in 0.39s\n",
      "Predicting part 1 of 1 ...\n"
     ]
    },
    {
     "name": "stderr",
     "output_type": "stream",
     "text": [
      "100%|██████████| 2/2 [00:00<00:00, 90.81it/s]\n"
     ]
    },
    {
     "name": "stdout",
     "output_type": "stream",
     "text": [
      "  Predicted in 8.34s\n",
      "Resampling...\n",
      "Saving segmentations...\n",
      "  Saved in 0.03s\n",
      "Processed and saved: D:\\CTH_archive\\CTH_STRIPPED_MASK\\YOUNG_LEOTA.nii\n"
     ]
    },
    {
     "name": "stderr",
     "output_type": "stream",
     "text": [
      "  2%|▏         | 2/107 [00:00<00:08, 13.05it/s]"
     ]
    },
    {
     "name": "stdout",
     "output_type": "stream",
     "text": [
      "Applying mask to D:\\CTH_archive\\CTH_NIFTI\\ALFORD_BARBARA.nii using D:\\CTH_archive\\CTH_STRIPPED_MASK\\ALFORD_BARBARA.nii\n",
      "Applying mask to D:\\CTH_archive\\CTH_NIFTI\\ALLAH_MAJUSTICE.nii using D:\\CTH_archive\\CTH_STRIPPED_MASK\\ALLAH_MAJUSTICE.nii\n",
      "Applying mask to D:\\CTH_archive\\CTH_NIFTI\\BATTLE_MARIA.nii using D:\\CTH_archive\\CTH_STRIPPED_MASK\\BATTLE_MARIA.nii\n"
     ]
    },
    {
     "name": "stderr",
     "output_type": "stream",
     "text": [
      "  4%|▎         | 4/107 [00:00<00:08, 12.16it/s]"
     ]
    },
    {
     "name": "stdout",
     "output_type": "stream",
     "text": [
      "Applying mask to D:\\CTH_archive\\CTH_NIFTI\\BAUM_ROBERT.nii using D:\\CTH_archive\\CTH_STRIPPED_MASK\\BAUM_ROBERT.nii\n",
      "Applying mask to D:\\CTH_archive\\CTH_NIFTI\\BILLIPS_JAMES.nii using D:\\CTH_archive\\CTH_STRIPPED_MASK\\BILLIPS_JAMES.nii\n",
      "Applying mask to D:\\CTH_archive\\CTH_NIFTI\\BOGER_DAVID_S.nii using D:\\CTH_archive\\CTH_STRIPPED_MASK\\BOGER_DAVID_S.nii\n"
     ]
    },
    {
     "name": "stderr",
     "output_type": "stream",
     "text": [
      "  7%|▋         | 8/107 [00:00<00:08, 11.89it/s]"
     ]
    },
    {
     "name": "stdout",
     "output_type": "stream",
     "text": [
      "Applying mask to D:\\CTH_archive\\CTH_NIFTI\\BROWN_ANTHONY.nii using D:\\CTH_archive\\CTH_STRIPPED_MASK\\BROWN_ANTHONY.nii\n",
      "Applying mask to D:\\CTH_archive\\CTH_NIFTI\\CAMPAGNA_HARRY_D.nii using D:\\CTH_archive\\CTH_STRIPPED_MASK\\CAMPAGNA_HARRY_D.nii\n",
      "Applying mask to D:\\CTH_archive\\CTH_NIFTI\\CANIGLIA_ROBERT.nii using D:\\CTH_archive\\CTH_STRIPPED_MASK\\CANIGLIA_ROBERT.nii\n"
     ]
    },
    {
     "name": "stderr",
     "output_type": "stream",
     "text": [
      "  9%|▉         | 10/107 [00:00<00:09, 10.11it/s]"
     ]
    },
    {
     "name": "stdout",
     "output_type": "stream",
     "text": [
      "Applying mask to D:\\CTH_archive\\CTH_NIFTI\\CARDIN_PAUL.nii using D:\\CTH_archive\\CTH_STRIPPED_MASK\\CARDIN_PAUL.nii\n",
      "Applying mask to D:\\CTH_archive\\CTH_NIFTI\\CHANG_WAH_KONG.nii using D:\\CTH_archive\\CTH_STRIPPED_MASK\\CHANG_WAH_KONG.nii\n",
      "Applying mask to D:\\CTH_archive\\CTH_NIFTI\\CHEN_QIAOYING.nii using D:\\CTH_archive\\CTH_STRIPPED_MASK\\CHEN_QIAOYING.nii\n"
     ]
    },
    {
     "name": "stderr",
     "output_type": "stream",
     "text": [
      " 13%|█▎        | 14/107 [00:01<00:08, 11.20it/s]"
     ]
    },
    {
     "name": "stdout",
     "output_type": "stream",
     "text": [
      "Applying mask to D:\\CTH_archive\\CTH_NIFTI\\CHEN_XIU_D.nii using D:\\CTH_archive\\CTH_STRIPPED_MASK\\CHEN_XIU_D.nii\n",
      "Applying mask to D:\\CTH_archive\\CTH_NIFTI\\CHEUNG_SIU-LING_LING_WOO.nii using D:\\CTH_archive\\CTH_STRIPPED_MASK\\CHEUNG_SIU-LING_LING_WOO.nii\n",
      "Applying mask to D:\\CTH_archive\\CTH_NIFTI\\CHOWDHURY_SALMA_K.nii using D:\\CTH_archive\\CTH_STRIPPED_MASK\\CHOWDHURY_SALMA_K.nii\n"
     ]
    },
    {
     "name": "stderr",
     "output_type": "stream",
     "text": [
      " 15%|█▍        | 16/107 [00:01<00:10,  8.96it/s]"
     ]
    },
    {
     "name": "stdout",
     "output_type": "stream",
     "text": [
      "Applying mask to D:\\CTH_archive\\CTH_NIFTI\\CLARKSON-FARRELL_EDWARD.nii using D:\\CTH_archive\\CTH_STRIPPED_MASK\\CLARKSON-FARRELL_EDWARD.nii\n",
      "Applying mask to D:\\CTH_archive\\CTH_NIFTI\\COLLADOTORRES_URIBES_A.nii using D:\\CTH_archive\\CTH_STRIPPED_MASK\\COLLADOTORRES_URIBES_A.nii\n",
      "Applying mask to D:\\CTH_archive\\CTH_NIFTI\\COMPRES_THELMA.nii using D:\\CTH_archive\\CTH_STRIPPED_MASK\\COMPRES_THELMA.nii\n"
     ]
    },
    {
     "name": "stderr",
     "output_type": "stream",
     "text": [
      " 19%|█▊        | 20/107 [00:01<00:08, 10.69it/s]"
     ]
    },
    {
     "name": "stdout",
     "output_type": "stream",
     "text": [
      "Applying mask to D:\\CTH_archive\\CTH_NIFTI\\COOPER_SUSAN.nii using D:\\CTH_archive\\CTH_STRIPPED_MASK\\COOPER_SUSAN.nii\n",
      "Applying mask to D:\\CTH_archive\\CTH_NIFTI\\CRUZ_MIRIAN.nii using D:\\CTH_archive\\CTH_STRIPPED_MASK\\CRUZ_MIRIAN.nii\n",
      "Applying mask to D:\\CTH_archive\\CTH_NIFTI\\DAMBOISE_JACQUES_J.nii using D:\\CTH_archive\\CTH_STRIPPED_MASK\\DAMBOISE_JACQUES_J.nii\n"
     ]
    },
    {
     "name": "stderr",
     "output_type": "stream",
     "text": [
      " 21%|██        | 22/107 [00:02<00:07, 11.16it/s]"
     ]
    },
    {
     "name": "stdout",
     "output_type": "stream",
     "text": [
      "Applying mask to D:\\CTH_archive\\CTH_NIFTI\\DEGRAFT_NYUMUTSU_E.nii using D:\\CTH_archive\\CTH_STRIPPED_MASK\\DEGRAFT_NYUMUTSU_E.nii\n",
      "Applying mask to D:\\CTH_archive\\CTH_NIFTI\\DONALDSON_GEORGIANNA.nii using D:\\CTH_archive\\CTH_STRIPPED_MASK\\DONALDSON_GEORGIANNA.nii\n",
      "Applying mask to D:\\CTH_archive\\CTH_NIFTI\\DUMA_ZBIGNIEW.nii using D:\\CTH_archive\\CTH_STRIPPED_MASK\\DUMA_ZBIGNIEW.nii\n"
     ]
    },
    {
     "name": "stderr",
     "output_type": "stream",
     "text": [
      " 22%|██▏       | 24/107 [00:02<00:07, 10.99it/s]"
     ]
    },
    {
     "name": "stdout",
     "output_type": "stream",
     "text": [
      "Applying mask to D:\\CTH_archive\\CTH_NIFTI\\EASON_CHARLES.nii using D:\\CTH_archive\\CTH_STRIPPED_MASK\\EASON_CHARLES.nii\n",
      "Applying mask to D:\\CTH_archive\\CTH_NIFTI\\ELISA-WRIGHT_KANZADER.nii using D:\\CTH_archive\\CTH_STRIPPED_MASK\\ELISA-WRIGHT_KANZADER.nii\n"
     ]
    },
    {
     "name": "stderr",
     "output_type": "stream",
     "text": [
      " 26%|██▌       | 28/107 [00:02<00:07, 10.47it/s]"
     ]
    },
    {
     "name": "stdout",
     "output_type": "stream",
     "text": [
      "Applying mask to D:\\CTH_archive\\CTH_NIFTI\\FERNANDEZ_LUIS.nii using D:\\CTH_archive\\CTH_STRIPPED_MASK\\FERNANDEZ_LUIS.nii\n",
      "Applying mask to D:\\CTH_archive\\CTH_NIFTI\\FILION_JULIO.nii using D:\\CTH_archive\\CTH_STRIPPED_MASK\\FILION_JULIO.nii\n",
      "Applying mask to D:\\CTH_archive\\CTH_NIFTI\\FILI_CHARLES.nii using D:\\CTH_archive\\CTH_STRIPPED_MASK\\FILI_CHARLES.nii\n"
     ]
    },
    {
     "name": "stderr",
     "output_type": "stream",
     "text": [
      " 28%|██▊       | 30/107 [00:02<00:07, 10.91it/s]"
     ]
    },
    {
     "name": "stdout",
     "output_type": "stream",
     "text": [
      "Applying mask to D:\\CTH_archive\\CTH_NIFTI\\FISHER_BARBARA.nii using D:\\CTH_archive\\CTH_STRIPPED_MASK\\FISHER_BARBARA.nii\n",
      "Applying mask to D:\\CTH_archive\\CTH_NIFTI\\GARCIA_ABELARDO.nii using D:\\CTH_archive\\CTH_STRIPPED_MASK\\GARCIA_ABELARDO.nii\n",
      "Applying mask to D:\\CTH_archive\\CTH_NIFTI\\GARCIA_ARTURO.nii using D:\\CTH_archive\\CTH_STRIPPED_MASK\\GARCIA_ARTURO.nii\n"
     ]
    },
    {
     "name": "stderr",
     "output_type": "stream",
     "text": [
      " 32%|███▏      | 34/107 [00:03<00:06, 10.99it/s]"
     ]
    },
    {
     "name": "stdout",
     "output_type": "stream",
     "text": [
      "Applying mask to D:\\CTH_archive\\CTH_NIFTI\\GENTLE_CLINTON.nii using D:\\CTH_archive\\CTH_STRIPPED_MASK\\GENTLE_CLINTON.nii\n",
      "Applying mask to D:\\CTH_archive\\CTH_NIFTI\\GOBLE_TAMMY.nii using D:\\CTH_archive\\CTH_STRIPPED_MASK\\GOBLE_TAMMY.nii\n"
     ]
    },
    {
     "name": "stderr",
     "output_type": "stream",
     "text": [
      " 34%|███▎      | 36/107 [00:03<00:06, 11.13it/s]"
     ]
    },
    {
     "name": "stdout",
     "output_type": "stream",
     "text": [
      "Applying mask to D:\\CTH_archive\\CTH_NIFTI\\GONZALEZ_FERNANDO.nii using D:\\CTH_archive\\CTH_STRIPPED_MASK\\GONZALEZ_FERNANDO.nii\n",
      "Applying mask to D:\\CTH_archive\\CTH_NIFTI\\GUZMAN_IRIS.nii using D:\\CTH_archive\\CTH_STRIPPED_MASK\\GUZMAN_IRIS.nii\n",
      "Applying mask to D:\\CTH_archive\\CTH_NIFTI\\HALL_KELBERT_MCDO.nii using D:\\CTH_archive\\CTH_STRIPPED_MASK\\HALL_KELBERT_MCDO.nii\n"
     ]
    },
    {
     "name": "stderr",
     "output_type": "stream",
     "text": [
      " 36%|███▌      | 38/107 [00:03<00:06, 11.25it/s]"
     ]
    },
    {
     "name": "stdout",
     "output_type": "stream",
     "text": [
      "Applying mask to D:\\CTH_archive\\CTH_NIFTI\\HALL_WILLIAM.nii using D:\\CTH_archive\\CTH_STRIPPED_MASK\\HALL_WILLIAM.nii\n",
      "Applying mask to D:\\CTH_archive\\CTH_NIFTI\\HANSEN_GEORGE_A.nii using D:\\CTH_archive\\CTH_STRIPPED_MASK\\HANSEN_GEORGE_A.nii\n",
      "Applying mask to D:\\CTH_archive\\CTH_NIFTI\\HATTA_MARIA.nii using D:\\CTH_archive\\CTH_STRIPPED_MASK\\HATTA_MARIA.nii\n"
     ]
    },
    {
     "name": "stderr",
     "output_type": "stream",
     "text": [
      " 37%|███▋      | 40/107 [00:03<00:05, 11.61it/s]"
     ]
    },
    {
     "name": "stdout",
     "output_type": "stream",
     "text": [
      "Applying mask to D:\\CTH_archive\\CTH_NIFTI\\HECKSTALL_CORA.nii using D:\\CTH_archive\\CTH_STRIPPED_MASK\\HECKSTALL_CORA.nii\n",
      "Applying mask to D:\\CTH_archive\\CTH_NIFTI\\HIRSCH_LEMEL.nii using D:\\CTH_archive\\CTH_STRIPPED_MASK\\HIRSCH_LEMEL.nii\n"
     ]
    },
    {
     "name": "stderr",
     "output_type": "stream",
     "text": [
      " 41%|████      | 44/107 [00:04<00:05, 11.49it/s]"
     ]
    },
    {
     "name": "stdout",
     "output_type": "stream",
     "text": [
      "Applying mask to D:\\CTH_archive\\CTH_NIFTI\\IRIZARRY_MONSITA.nii using D:\\CTH_archive\\CTH_STRIPPED_MASK\\IRIZARRY_MONSITA.nii\n",
      "Applying mask to D:\\CTH_archive\\CTH_NIFTI\\KAMWA_JEAN-PIERRE.nii using D:\\CTH_archive\\CTH_STRIPPED_MASK\\KAMWA_JEAN-PIERRE.nii\n",
      "Applying mask to D:\\CTH_archive\\CTH_NIFTI\\KILLACKEY_WILLIAM.nii using D:\\CTH_archive\\CTH_STRIPPED_MASK\\KILLACKEY_WILLIAM.nii\n"
     ]
    },
    {
     "name": "stderr",
     "output_type": "stream",
     "text": [
      " 43%|████▎     | 46/107 [00:04<00:05, 11.64it/s]"
     ]
    },
    {
     "name": "stdout",
     "output_type": "stream",
     "text": [
      "Applying mask to D:\\CTH_archive\\CTH_NIFTI\\KING_TANDEKA_I.nii using D:\\CTH_archive\\CTH_STRIPPED_MASK\\KING_TANDEKA_I.nii\n",
      "Applying mask to D:\\CTH_archive\\CTH_NIFTI\\LADSON_ROSE.nii using D:\\CTH_archive\\CTH_STRIPPED_MASK\\LADSON_ROSE.nii\n",
      "Applying mask to D:\\CTH_archive\\CTH_NIFTI\\LAQUERCIA_THEODORE.nii using D:\\CTH_archive\\CTH_STRIPPED_MASK\\LAQUERCIA_THEODORE.nii\n"
     ]
    },
    {
     "name": "stderr",
     "output_type": "stream",
     "text": [
      " 47%|████▋     | 50/107 [00:04<00:05, 11.36it/s]"
     ]
    },
    {
     "name": "stdout",
     "output_type": "stream",
     "text": [
      "Applying mask to D:\\CTH_archive\\CTH_NIFTI\\LASUSA_PETER_ROBERT.nii using D:\\CTH_archive\\CTH_STRIPPED_MASK\\LASUSA_PETER_ROBERT.nii\n",
      "Applying mask to D:\\CTH_archive\\CTH_NIFTI\\LATTEIER_MARIA.nii using D:\\CTH_archive\\CTH_STRIPPED_MASK\\LATTEIER_MARIA.nii\n"
     ]
    },
    {
     "name": "stderr",
     "output_type": "stream",
     "text": [
      " 49%|████▊     | 52/107 [00:04<00:04, 11.50it/s]"
     ]
    },
    {
     "name": "stdout",
     "output_type": "stream",
     "text": [
      "Applying mask to D:\\CTH_archive\\CTH_NIFTI\\LAWSON_MIRIAM.nii using D:\\CTH_archive\\CTH_STRIPPED_MASK\\LAWSON_MIRIAM.nii\n",
      "Applying mask to D:\\CTH_archive\\CTH_NIFTI\\LIPNICKI_ROMAN.nii using D:\\CTH_archive\\CTH_STRIPPED_MASK\\LIPNICKI_ROMAN.nii\n",
      "Applying mask to D:\\CTH_archive\\CTH_NIFTI\\LOCKETT_GLORIA.nii using D:\\CTH_archive\\CTH_STRIPPED_MASK\\LOCKETT_GLORIA.nii\n"
     ]
    },
    {
     "name": "stderr",
     "output_type": "stream",
     "text": [
      " 50%|█████     | 54/107 [00:04<00:04, 11.49it/s]"
     ]
    },
    {
     "name": "stdout",
     "output_type": "stream",
     "text": [
      "Applying mask to D:\\CTH_archive\\CTH_NIFTI\\LOPEZ_LEONOR.nii using D:\\CTH_archive\\CTH_STRIPPED_MASK\\LOPEZ_LEONOR.nii\n",
      "Applying mask to D:\\CTH_archive\\CTH_NIFTI\\LORD_JANE.nii using D:\\CTH_archive\\CTH_STRIPPED_MASK\\LORD_JANE.nii\n",
      "Applying mask to D:\\CTH_archive\\CTH_NIFTI\\LOVE_MARY_E.nii using D:\\CTH_archive\\CTH_STRIPPED_MASK\\LOVE_MARY_E.nii\n"
     ]
    },
    {
     "name": "stderr",
     "output_type": "stream",
     "text": [
      " 54%|█████▍    | 58/107 [00:05<00:04, 11.68it/s]"
     ]
    },
    {
     "name": "stdout",
     "output_type": "stream",
     "text": [
      "Applying mask to D:\\CTH_archive\\CTH_NIFTI\\LUNA_LOURDES.nii using D:\\CTH_archive\\CTH_STRIPPED_MASK\\LUNA_LOURDES.nii\n",
      "Applying mask to D:\\CTH_archive\\CTH_NIFTI\\MATABUENA_LUZVIMINDA.nii using D:\\CTH_archive\\CTH_STRIPPED_MASK\\MATABUENA_LUZVIMINDA.nii\n",
      "Applying mask to D:\\CTH_archive\\CTH_NIFTI\\MAURICIO_DENICE.nii using D:\\CTH_archive\\CTH_STRIPPED_MASK\\MAURICIO_DENICE.nii\n"
     ]
    },
    {
     "name": "stderr",
     "output_type": "stream",
     "text": [
      " 56%|█████▌    | 60/107 [00:05<00:04, 11.41it/s]"
     ]
    },
    {
     "name": "stdout",
     "output_type": "stream",
     "text": [
      "Applying mask to D:\\CTH_archive\\CTH_NIFTI\\MCGIVNEY_DOROTHY.nii using D:\\CTH_archive\\CTH_STRIPPED_MASK\\MCGIVNEY_DOROTHY.nii\n",
      "Applying mask to D:\\CTH_archive\\CTH_NIFTI\\MEDINA_ANNA.nii using D:\\CTH_archive\\CTH_STRIPPED_MASK\\MEDINA_ANNA.nii\n"
     ]
    },
    {
     "name": "stderr",
     "output_type": "stream",
     "text": [
      " 58%|█████▊    | 62/107 [00:05<00:04, 11.01it/s]"
     ]
    },
    {
     "name": "stdout",
     "output_type": "stream",
     "text": [
      "Applying mask to D:\\CTH_archive\\CTH_NIFTI\\MENA-ROSA_IDIDA_MERCEDES.nii using D:\\CTH_archive\\CTH_STRIPPED_MASK\\MENA-ROSA_IDIDA_MERCEDES.nii\n",
      "Applying mask to D:\\CTH_archive\\CTH_NIFTI\\MENDOZA_REMEDIOS.nii using D:\\CTH_archive\\CTH_STRIPPED_MASK\\MENDOZA_REMEDIOS.nii\n",
      "Applying mask to D:\\CTH_archive\\CTH_NIFTI\\MESSINA_CALOGERO.nii using D:\\CTH_archive\\CTH_STRIPPED_MASK\\MESSINA_CALOGERO.nii\n"
     ]
    },
    {
     "name": "stderr",
     "output_type": "stream",
     "text": [
      " 62%|██████▏   | 66/107 [00:05<00:03, 11.08it/s]"
     ]
    },
    {
     "name": "stdout",
     "output_type": "stream",
     "text": [
      "Applying mask to D:\\CTH_archive\\CTH_NIFTI\\MILLS_JOAN.nii using D:\\CTH_archive\\CTH_STRIPPED_MASK\\MILLS_JOAN.nii\n",
      "Applying mask to D:\\CTH_archive\\CTH_NIFTI\\MIRABAL_JORGE.nii using D:\\CTH_archive\\CTH_STRIPPED_MASK\\MIRABAL_JORGE.nii\n"
     ]
    },
    {
     "name": "stderr",
     "output_type": "stream",
     "text": [
      " 64%|██████▎   | 68/107 [00:06<00:03, 11.30it/s]"
     ]
    },
    {
     "name": "stdout",
     "output_type": "stream",
     "text": [
      "Applying mask to D:\\CTH_archive\\CTH_NIFTI\\MITCHELL_ROSA.nii using D:\\CTH_archive\\CTH_STRIPPED_MASK\\MITCHELL_ROSA.nii\n",
      "Applying mask to D:\\CTH_archive\\CTH_NIFTI\\MONTANEZ_PETER_A.nii using D:\\CTH_archive\\CTH_STRIPPED_MASK\\MONTANEZ_PETER_A.nii\n",
      "Applying mask to D:\\CTH_archive\\CTH_NIFTI\\MONTERO_RAMIREZ_MICAELA.nii using D:\\CTH_archive\\CTH_STRIPPED_MASK\\MONTERO_RAMIREZ_MICAELA.nii\n"
     ]
    },
    {
     "name": "stderr",
     "output_type": "stream",
     "text": [
      " 65%|██████▌   | 70/107 [00:06<00:03, 10.66it/s]"
     ]
    },
    {
     "name": "stdout",
     "output_type": "stream",
     "text": [
      "Applying mask to D:\\CTH_archive\\CTH_NIFTI\\MORENO_JORGE.nii using D:\\CTH_archive\\CTH_STRIPPED_MASK\\MORENO_JORGE.nii\n",
      "Applying mask to D:\\CTH_archive\\CTH_NIFTI\\MULDOON_GERALDINE_A.nii using D:\\CTH_archive\\CTH_STRIPPED_MASK\\MULDOON_GERALDINE_A.nii\n"
     ]
    },
    {
     "name": "stderr",
     "output_type": "stream",
     "text": [
      " 67%|██████▋   | 72/107 [00:06<00:03, 10.33it/s]"
     ]
    },
    {
     "name": "stdout",
     "output_type": "stream",
     "text": [
      "Applying mask to D:\\CTH_archive\\CTH_NIFTI\\NAJERA_JOSE.nii using D:\\CTH_archive\\CTH_STRIPPED_MASK\\NAJERA_JOSE.nii\n",
      "Applying mask to D:\\CTH_archive\\CTH_NIFTI\\NAVAS_RAFAEL.nii using D:\\CTH_archive\\CTH_STRIPPED_MASK\\NAVAS_RAFAEL.nii\n",
      "Applying mask to D:\\CTH_archive\\CTH_NIFTI\\NICHOLAS_LOLA.nii using D:\\CTH_archive\\CTH_STRIPPED_MASK\\NICHOLAS_LOLA.nii\n"
     ]
    },
    {
     "name": "stderr",
     "output_type": "stream",
     "text": [
      " 71%|███████   | 76/107 [00:06<00:02, 11.32it/s]"
     ]
    },
    {
     "name": "stdout",
     "output_type": "stream",
     "text": [
      "Applying mask to D:\\CTH_archive\\CTH_NIFTI\\OROVAN_MARY.nii using D:\\CTH_archive\\CTH_STRIPPED_MASK\\OROVAN_MARY.nii\n",
      "Applying mask to D:\\CTH_archive\\CTH_NIFTI\\PEREZ_HUGO.nii using D:\\CTH_archive\\CTH_STRIPPED_MASK\\PEREZ_HUGO.nii\n",
      "Applying mask to D:\\CTH_archive\\CTH_NIFTI\\PERINA_ROBERT.nii using D:\\CTH_archive\\CTH_STRIPPED_MASK\\PERINA_ROBERT.nii\n"
     ]
    },
    {
     "name": "stderr",
     "output_type": "stream",
     "text": [
      " 73%|███████▎  | 78/107 [00:07<00:02, 12.05it/s]"
     ]
    },
    {
     "name": "stdout",
     "output_type": "stream",
     "text": [
      "Applying mask to D:\\CTH_archive\\CTH_NIFTI\\PERLMUTTER_JULES.nii using D:\\CTH_archive\\CTH_STRIPPED_MASK\\PERLMUTTER_JULES.nii\n",
      "Applying mask to D:\\CTH_archive\\CTH_NIFTI\\PLAZA_RAUL.nii using D:\\CTH_archive\\CTH_STRIPPED_MASK\\PLAZA_RAUL.nii\n",
      "Applying mask to D:\\CTH_archive\\CTH_NIFTI\\QUILES_MARIBEL.nii using D:\\CTH_archive\\CTH_STRIPPED_MASK\\QUILES_MARIBEL.nii\n"
     ]
    },
    {
     "name": "stderr",
     "output_type": "stream",
     "text": [
      " 77%|███████▋  | 82/107 [00:07<00:02, 12.04it/s]"
     ]
    },
    {
     "name": "stdout",
     "output_type": "stream",
     "text": [
      "Applying mask to D:\\CTH_archive\\CTH_NIFTI\\RAMIREZ_ANGELA.nii using D:\\CTH_archive\\CTH_STRIPPED_MASK\\RAMIREZ_ANGELA.nii\n",
      "Applying mask to D:\\CTH_archive\\CTH_NIFTI\\RAMIREZ_ELIZABETH.nii using D:\\CTH_archive\\CTH_STRIPPED_MASK\\RAMIREZ_ELIZABETH.nii\n",
      "Applying mask to D:\\CTH_archive\\CTH_NIFTI\\RAMUSEVIC_SMAIL.nii using D:\\CTH_archive\\CTH_STRIPPED_MASK\\RAMUSEVIC_SMAIL.nii\n"
     ]
    },
    {
     "name": "stderr",
     "output_type": "stream",
     "text": [
      " 79%|███████▊  | 84/107 [00:07<00:02, 11.00it/s]"
     ]
    },
    {
     "name": "stdout",
     "output_type": "stream",
     "text": [
      "Applying mask to D:\\CTH_archive\\CTH_NIFTI\\RAPPOPORT_MARIO.nii using D:\\CTH_archive\\CTH_STRIPPED_MASK\\RAPPOPORT_MARIO.nii\n",
      "Applying mask to D:\\CTH_archive\\CTH_NIFTI\\REDMOND_JONATHAN.nii using D:\\CTH_archive\\CTH_STRIPPED_MASK\\REDMOND_JONATHAN.nii\n",
      "Applying mask to D:\\CTH_archive\\CTH_NIFTI\\REYES_ROSA.nii using D:\\CTH_archive\\CTH_STRIPPED_MASK\\REYES_ROSA.nii\n"
     ]
    },
    {
     "name": "stderr",
     "output_type": "stream",
     "text": [
      " 82%|████████▏ | 88/107 [00:08<00:01, 10.16it/s]"
     ]
    },
    {
     "name": "stdout",
     "output_type": "stream",
     "text": [
      "Applying mask to D:\\CTH_archive\\CTH_NIFTI\\RICE_CALVIN.nii using D:\\CTH_archive\\CTH_STRIPPED_MASK\\RICE_CALVIN.nii\n",
      "Applying mask to D:\\CTH_archive\\CTH_NIFTI\\ROBINSON_GENEVA_D.nii using D:\\CTH_archive\\CTH_STRIPPED_MASK\\ROBINSON_GENEVA_D.nii\n",
      "Applying mask to D:\\CTH_archive\\CTH_NIFTI\\RODRIQUEZ_RIVERA_ROQUE.nii using D:\\CTH_archive\\CTH_STRIPPED_MASK\\RODRIQUEZ_RIVERA_ROQUE.nii\n"
     ]
    },
    {
     "name": "stderr",
     "output_type": "stream",
     "text": [
      " 84%|████████▍ | 90/107 [00:08<00:01, 10.62it/s]"
     ]
    },
    {
     "name": "stdout",
     "output_type": "stream",
     "text": [
      "Applying mask to D:\\CTH_archive\\CTH_NIFTI\\ROGERS_MARSHA.nii using D:\\CTH_archive\\CTH_STRIPPED_MASK\\ROGERS_MARSHA.nii\n",
      "Applying mask to D:\\CTH_archive\\CTH_NIFTI\\ROMEO_ROBIN_MAXIMILAN.nii using D:\\CTH_archive\\CTH_STRIPPED_MASK\\ROMEO_ROBIN_MAXIMILAN.nii\n",
      "Applying mask to D:\\CTH_archive\\CTH_NIFTI\\ROSE_SYLVIA.nii using D:\\CTH_archive\\CTH_STRIPPED_MASK\\ROSE_SYLVIA.nii\n"
     ]
    },
    {
     "name": "stderr",
     "output_type": "stream",
     "text": [
      " 86%|████████▌ | 92/107 [00:08<00:01, 10.70it/s]"
     ]
    },
    {
     "name": "stdout",
     "output_type": "stream",
     "text": [
      "Applying mask to D:\\CTH_archive\\CTH_NIFTI\\RUBALLO_OMAR.nii using D:\\CTH_archive\\CTH_STRIPPED_MASK\\RUBALLO_OMAR.nii\n",
      "Applying mask to D:\\CTH_archive\\CTH_NIFTI\\RYAN_MICHAEL.nii using D:\\CTH_archive\\CTH_STRIPPED_MASK\\RYAN_MICHAEL.nii\n"
     ]
    },
    {
     "name": "stderr",
     "output_type": "stream",
     "text": [
      " 90%|████████▉ | 96/107 [00:09<00:01,  7.62it/s]"
     ]
    },
    {
     "name": "stdout",
     "output_type": "stream",
     "text": [
      "Applying mask to D:\\CTH_archive\\CTH_NIFTI\\SALTER_GLADYS.nii using D:\\CTH_archive\\CTH_STRIPPED_MASK\\SALTER_GLADYS.nii\n",
      "Applying mask to D:\\CTH_archive\\CTH_NIFTI\\SANTIAGO_CARMEN.nii using D:\\CTH_archive\\CTH_STRIPPED_MASK\\SANTIAGO_CARMEN.nii\n",
      "Applying mask to D:\\CTH_archive\\CTH_NIFTI\\SCOUFARAS_DESPINA.nii using D:\\CTH_archive\\CTH_STRIPPED_MASK\\SCOUFARAS_DESPINA.nii\n"
     ]
    },
    {
     "name": "stderr",
     "output_type": "stream",
     "text": [
      " 92%|█████████▏| 98/107 [00:09<00:01,  6.92it/s]"
     ]
    },
    {
     "name": "stdout",
     "output_type": "stream",
     "text": [
      "Applying mask to D:\\CTH_archive\\CTH_NIFTI\\SGARLATO_SANTO.nii using D:\\CTH_archive\\CTH_STRIPPED_MASK\\SGARLATO_SANTO.nii\n",
      "Applying mask to D:\\CTH_archive\\CTH_NIFTI\\SHERPA_DEKI.nii using D:\\CTH_archive\\CTH_STRIPPED_MASK\\SHERPA_DEKI.nii\n",
      "Applying mask to D:\\CTH_archive\\CTH_NIFTI\\SIEJACK_EURANIA.nii using D:\\CTH_archive\\CTH_STRIPPED_MASK\\SIEJACK_EURANIA.nii\n"
     ]
    },
    {
     "name": "stderr",
     "output_type": "stream",
     "text": [
      " 95%|█████████▌| 102/107 [00:09<00:00,  9.04it/s]"
     ]
    },
    {
     "name": "stdout",
     "output_type": "stream",
     "text": [
      "Applying mask to D:\\CTH_archive\\CTH_NIFTI\\SINGH_HARBHAJAN.nii using D:\\CTH_archive\\CTH_STRIPPED_MASK\\SINGH_HARBHAJAN.nii\n",
      "Applying mask to D:\\CTH_archive\\CTH_NIFTI\\SINGLETARY_DONALD.nii using D:\\CTH_archive\\CTH_STRIPPED_MASK\\SINGLETARY_DONALD.nii\n",
      "Applying mask to D:\\CTH_archive\\CTH_NIFTI\\SUAREZ_EDWIN.nii using D:\\CTH_archive\\CTH_STRIPPED_MASK\\SUAREZ_EDWIN.nii\n"
     ]
    },
    {
     "name": "stderr",
     "output_type": "stream",
     "text": [
      " 97%|█████████▋| 104/107 [00:09<00:00,  9.83it/s]"
     ]
    },
    {
     "name": "stdout",
     "output_type": "stream",
     "text": [
      "Applying mask to D:\\CTH_archive\\CTH_NIFTI\\TORII_YUKIO.nii using D:\\CTH_archive\\CTH_STRIPPED_MASK\\TORII_YUKIO.nii\n",
      "Applying mask to D:\\CTH_archive\\CTH_NIFTI\\TOUATI_MOHAMED.nii using D:\\CTH_archive\\CTH_STRIPPED_MASK\\TOUATI_MOHAMED.nii\n"
     ]
    },
    {
     "name": "stderr",
     "output_type": "stream",
     "text": [
      "100%|██████████| 107/107 [00:10<00:00,  8.81it/s]"
     ]
    },
    {
     "name": "stdout",
     "output_type": "stream",
     "text": [
      "Applying mask to D:\\CTH_archive\\CTH_NIFTI\\VANN_ELLIS_W.nii using D:\\CTH_archive\\CTH_STRIPPED_MASK\\VANN_ELLIS_W.nii\n",
      "Applying mask to D:\\CTH_archive\\CTH_NIFTI\\YOUNG_LEOTA.nii using D:\\CTH_archive\\CTH_STRIPPED_MASK\\YOUNG_LEOTA.nii\n"
     ]
    },
    {
     "name": "stderr",
     "output_type": "stream",
     "text": [
      "100%|██████████| 107/107 [00:10<00:00, 10.35it/s]"
     ]
    },
    {
     "name": "stdout",
     "output_type": "stream",
     "text": [
      "Mask application complete.\n"
     ]
    },
    {
     "name": "stderr",
     "output_type": "stream",
     "text": [
      "\n"
     ]
    }
   ],
   "source": [
    "# Define directories\n",
    "input_folder = r'D:\\CTH_archive\\CTH_NIFTI'\n",
    "stripped_folder = r'D:\\CTH_archive\\CTH_STRIPPED_MASK'\n",
    "output_folder = r'D:\\CTH_archive\\CTH_STRIPPED'\n",
    "\n",
    "# Ensure the stripped and output directories exist\n",
    "os.makedirs(stripped_folder, exist_ok=True)\n",
    "os.makedirs(output_folder, exist_ok=True)\n",
    "\n",
    "# Skull stripping process\n",
    "for filename in os.listdir(input_folder):\n",
    "    if filename.endswith(('.nii')):\n",
    "        patient_name = filename.split(' ')[0]  # Extract patient name\n",
    "        input_path = os.path.join(input_folder, filename)\n",
    "        stripped_path = os.path.join(stripped_folder, patient_name)\n",
    "\n",
    "        # Check if the stripped file already exists\n",
    "        if not os.path.exists(stripped_path):\n",
    "            try:\n",
    "                input_img = nib.load(input_path)\n",
    "                totalsegmentator(input_img, stripped_path, roi_subset=['brain'], ml=True)\n",
    "                print(f\"Processed and saved: {stripped_path}\")\n",
    "            except Exception as e:\n",
    "                print(f\"Error processing {input_path}: {e}\")\n",
    "        else:\n",
    "            print(f\"Stripped file already exists, skipping: {stripped_path}\")\n",
    "\n",
    "# Applying masks to stripped images\n",
    "file_counter = 0  # Initialize file counter\n",
    "missing_files = []\n",
    "\n",
    "for mask_filename in tqdm(os.listdir(stripped_folder)):\n",
    "    base_filename = os.path.splitext(mask_filename)[0].rsplit('.', 1)[0]  # Handle potential double extensions\n",
    "    original_path = None\n",
    "\n",
    "    # Find matching original file\n",
    "    for original_filename in os.listdir(input_folder):\n",
    "        if os.path.splitext(original_filename)[0].rsplit('.', 1)[0] == base_filename:\n",
    "            original_path = os.path.join(input_folder, original_filename)\n",
    "            break\n",
    "\n",
    "    if original_path:\n",
    "        mask_path = os.path.join(stripped_folder, mask_filename)\n",
    "        #output_filename = base_filename + f\"_{file_counter:03d}_0000.nii.gz\"\n",
    "        output_filename = base_filename\n",
    "        output_path = os.path.join(output_folder, output_filename)\n",
    "\n",
    "        # Check if the output file already exists\n",
    "        if not os.path.exists(output_path):\n",
    "            print(f\"Applying mask to {original_path} using {mask_path}\")\n",
    "\n",
    "            # Load and apply mask\n",
    "            mask_nii = nib.load(mask_path)\n",
    "            original_nii = nib.load(original_path)\n",
    "            masked_data = np.where(mask_nii.get_fdata() > 0, original_nii.get_fdata(), 0)\n",
    "            masked_nii = nib.Nifti1Image(masked_data, affine=original_nii.affine)\n",
    "\n",
    "            nib.save(masked_nii, output_path)\n",
    "            file_counter += 1\n",
    "        else:\n",
    "            print(f\"Masked file already exists, skipping: {output_path}\")\n",
    "    else:\n",
    "        print(f\"No matching file found for {mask_filename} in {input_folder}\")\n",
    "        missing_files.append((mask_filename, input_folder))\n",
    "\n",
    "print(\"Mask application complete.\")\n",
    "if missing_files:\n",
    "    print(\"Missing files:\", missing_files)\n"
   ]
  },
  {
   "cell_type": "code",
   "execution_count": null,
   "metadata": {},
   "outputs": [],
   "source": [
    "TMAX_SOURCE_DIR = r'D:\\\\CTH_archive\\\\TMAX_NIFTI\\\\'\n",
    "TMAX_QUNTIZED_DIR = r'D:\\\\CTH_archive\\\\TMAX_NIFTI_QUANT'\n",
    "\n",
    "quantization_levels = 5\n",
    "\n",
    "quantize_maps(TMAX_SOURCE_DIR, TMAX_QUNTIZED_DIR, quantization_levels=quantization_levels)"
   ]
  },
  {
   "cell_type": "code",
   "execution_count": 39,
   "metadata": {},
   "outputs": [
    {
     "name": "stderr",
     "output_type": "stream",
     "text": [
      "100%|██████████| 107/107 [00:00<00:00, 23724.19it/s]\n"
     ]
    }
   ],
   "source": [
    "transforms_dir = \"D:/CTH_archive/TRANSFORMS_STRIPPED\"\n",
    "if not os.path.exists(transforms_dir):\n",
    "    os.makedirs(transforms_dir)\n",
    "\n",
    "fixed_images_dir = \"D:/CTH_archive/CTH_STRIPPED\"  \n",
    "moving_images_dir = \"D:/CTH_archive/CTP_STRIPPED\" \n",
    "\n",
    "def register_images(fixed_image_path, moving_image_path, transforms_dir):\n",
    "    # Extract patient identifier from the file name, ensuring .nii is not included\n",
    "    patient = os.path.splitext(os.path.basename(moving_image_path))[0]\n",
    "    patient = os.path.splitext(patient)[0]  # Remove .nii if present\n",
    "\n",
    "    # Construct the transform file path\n",
    "    transform_file = os.path.join(transforms_dir, f'{patient}.h5')\n",
    "\n",
    "    # Check if the transform file already exists and skip registration if it does\n",
    "    if os.path.exists(transform_file):\n",
    "        print(f\"Transform file already exists for patient {patient}, skipping registration.\")\n",
    "        return\n",
    "\n",
    "    # Load the fixed and moving images\n",
    "    fixed_image = sitk.ReadImage(fixed_image_path)\n",
    "    moving_image = sitk.ReadImage(moving_image_path)\n",
    "\n",
    "    # Initialize the registration method\n",
    "    registration_method = sitk.ImageRegistrationMethod()\n",
    "    registration_method.SetMetricAsMattesMutualInformation(numberOfHistogramBins=50)\n",
    "    registration_method.SetMetricSamplingPercentage(0.6)\n",
    "    registration_method.SetMetricSamplingStrategy(registration_method.RANDOM)\n",
    "    registration_method.SetOptimizerAsGradientDescentLineSearch(learningRate=0.5, numberOfIterations=200)\n",
    "    registration_method.SetOptimizerScalesFromPhysicalShift()\n",
    "    registration_method.SetShrinkFactorsPerLevel(shrinkFactors=[8, 4, 2])\n",
    "    registration_method.SetSmoothingSigmasPerLevel(smoothingSigmas=[4, 2, 1])\n",
    "    registration_method.SmoothingSigmasAreSpecifiedInPhysicalUnitsOn()\n",
    "\n",
    "    # Initialize the transform\n",
    "    initial_transform = sitk.CenteredTransformInitializer(sitk.Cast(fixed_image, moving_image.GetPixelID()), \n",
    "                                                          moving_image, \n",
    "                                                          sitk.AffineTransform(fixed_image.GetDimension()),\n",
    "                                                          sitk.CenteredTransformInitializerFilter.GEOMETRY)\n",
    "    registration_method.SetInitialTransform(initial_transform, True)\n",
    "\n",
    "    try:\n",
    "        # Execute the registration\n",
    "        final_transform = registration_method.Execute(fixed_image, moving_image)\n",
    "        \n",
    "        # Save the transform\n",
    "        sitk.WriteTransform(final_transform, transform_file)\n",
    "        \n",
    "        print(f\"Registration successful for patient: {patient}. Transform saved to {transform_file}\")\n",
    "    except RuntimeError as e:\n",
    "        print(f\"Registration failed for patient {patient}: {e}\")\n",
    "\n",
    "\n",
    "for filename in tqdm(os.listdir(fixed_images_dir)):\n",
    "    fixed_image_path = os.path.join(fixed_images_dir, filename)\n",
    "    moving_image_path = os.path.join(moving_images_dir, filename)\n",
    "\n",
    "    if os.path.isfile(fixed_image_path) and os.path.isfile(moving_image_path):\n",
    "        register_images(fixed_image_path, moving_image_path, transforms_dir)\n"
   ]
  },
  {
   "cell_type": "code",
   "execution_count": 51,
   "metadata": {},
   "outputs": [
    {
     "name": "stdout",
     "output_type": "stream",
     "text": [
      "Processing ALFORD_BARBARA...\n",
      "Moving image: D:/CTH_archive/TMAX_NIFTI_QUANT\\ALFORD_BARBARA.nii\n",
      "Fixed image: D:/CTH_archive/CTH_STRIPPED\\ALFORD_BARBARA.nii\n",
      "CTP image: D:/CTH_archive/CTP_STRIPPED\\ALFORD_BARBARA.nii\n",
      "Processed and saved: D:/CTH_archive/TMAX_NIFTI_QUANT\\REGISTERED\\ALFORD_BARBARA.nii\n",
      "Processing ALLAH_MAJUSTICE...\n",
      "Moving image: D:/CTH_archive/TMAX_NIFTI_QUANT\\ALLAH_MAJUSTICE.nii\n",
      "Fixed image: D:/CTH_archive/CTH_STRIPPED\\ALLAH_MAJUSTICE.nii\n",
      "CTP image: D:/CTH_archive/CTP_STRIPPED\\ALLAH_MAJUSTICE.nii\n",
      "Processed and saved: D:/CTH_archive/TMAX_NIFTI_QUANT\\REGISTERED\\ALLAH_MAJUSTICE.nii\n",
      "Processing BATTLE_MARIA...\n",
      "Moving image: D:/CTH_archive/TMAX_NIFTI_QUANT\\BATTLE_MARIA.nii\n",
      "Fixed image: D:/CTH_archive/CTH_STRIPPED\\BATTLE_MARIA.nii\n",
      "CTP image: D:/CTH_archive/CTP_STRIPPED\\BATTLE_MARIA.nii\n",
      "Processed and saved: D:/CTH_archive/TMAX_NIFTI_QUANT\\REGISTERED\\BATTLE_MARIA.nii\n",
      "Processing BAUM_ROBERT...\n",
      "Moving image: D:/CTH_archive/TMAX_NIFTI_QUANT\\BAUM_ROBERT.nii\n",
      "Fixed image: D:/CTH_archive/CTH_STRIPPED\\BAUM_ROBERT.nii\n",
      "CTP image: D:/CTH_archive/CTP_STRIPPED\\BAUM_ROBERT.nii\n",
      "Processed and saved: D:/CTH_archive/TMAX_NIFTI_QUANT\\REGISTERED\\BAUM_ROBERT.nii\n",
      "Processing BILLIPS_JAMES...\n",
      "Moving image: D:/CTH_archive/TMAX_NIFTI_QUANT\\BILLIPS_JAMES.nii\n",
      "Fixed image: D:/CTH_archive/CTH_STRIPPED\\BILLIPS_JAMES.nii\n",
      "CTP image: D:/CTH_archive/CTP_STRIPPED\\BILLIPS_JAMES.nii\n",
      "Processed and saved: D:/CTH_archive/TMAX_NIFTI_QUANT\\REGISTERED\\BILLIPS_JAMES.nii\n",
      "Processing BOGER_DAVID_S...\n",
      "Moving image: D:/CTH_archive/TMAX_NIFTI_QUANT\\BOGER_DAVID_S.nii\n",
      "Fixed image: D:/CTH_archive/CTH_STRIPPED\\BOGER_DAVID_S.nii\n",
      "CTP image: D:/CTH_archive/CTP_STRIPPED\\BOGER_DAVID_S.nii\n",
      "Processed and saved: D:/CTH_archive/TMAX_NIFTI_QUANT\\REGISTERED\\BOGER_DAVID_S.nii\n",
      "Processing BROWN_ANTHONY...\n",
      "Moving image: D:/CTH_archive/TMAX_NIFTI_QUANT\\BROWN_ANTHONY.nii\n",
      "Fixed image: D:/CTH_archive/CTH_STRIPPED\\BROWN_ANTHONY.nii\n",
      "CTP image: D:/CTH_archive/CTP_STRIPPED\\BROWN_ANTHONY.nii\n",
      "Processed and saved: D:/CTH_archive/TMAX_NIFTI_QUANT\\REGISTERED\\BROWN_ANTHONY.nii\n",
      "Processing CAMPAGNA_HARRY_D...\n",
      "Moving image: D:/CTH_archive/TMAX_NIFTI_QUANT\\CAMPAGNA_HARRY_D.nii\n",
      "Fixed image: D:/CTH_archive/CTH_STRIPPED\\CAMPAGNA_HARRY_D.nii\n",
      "CTP image: D:/CTH_archive/CTP_STRIPPED\\CAMPAGNA_HARRY_D.nii\n",
      "Processed and saved: D:/CTH_archive/TMAX_NIFTI_QUANT\\REGISTERED\\CAMPAGNA_HARRY_D.nii\n",
      "Processing CANIGLIA_ROBERT...\n",
      "Moving image: D:/CTH_archive/TMAX_NIFTI_QUANT\\CANIGLIA_ROBERT.nii\n",
      "Fixed image: D:/CTH_archive/CTH_STRIPPED\\CANIGLIA_ROBERT.nii\n",
      "CTP image: D:/CTH_archive/CTP_STRIPPED\\CANIGLIA_ROBERT.nii\n",
      "Processed and saved: D:/CTH_archive/TMAX_NIFTI_QUANT\\REGISTERED\\CANIGLIA_ROBERT.nii\n",
      "Processing CARDIN_PAUL...\n",
      "Moving image: D:/CTH_archive/TMAX_NIFTI_QUANT\\CARDIN_PAUL.nii\n",
      "Fixed image: D:/CTH_archive/CTH_STRIPPED\\CARDIN_PAUL.nii\n",
      "CTP image: D:/CTH_archive/CTP_STRIPPED\\CARDIN_PAUL.nii\n",
      "Processed and saved: D:/CTH_archive/TMAX_NIFTI_QUANT\\REGISTERED\\CARDIN_PAUL.nii\n",
      "Processing CHANG_WAH_KONG...\n",
      "Moving image: D:/CTH_archive/TMAX_NIFTI_QUANT\\CHANG_WAH_KONG.nii\n",
      "Fixed image: D:/CTH_archive/CTH_STRIPPED\\CHANG_WAH_KONG.nii\n",
      "CTP image: D:/CTH_archive/CTP_STRIPPED\\CHANG_WAH_KONG.nii\n",
      "Processed and saved: D:/CTH_archive/TMAX_NIFTI_QUANT\\REGISTERED\\CHANG_WAH_KONG.nii\n",
      "Processing CHEN_QIAOYING...\n",
      "Moving image: D:/CTH_archive/TMAX_NIFTI_QUANT\\CHEN_QIAOYING.nii\n",
      "Fixed image: D:/CTH_archive/CTH_STRIPPED\\CHEN_QIAOYING.nii\n",
      "CTP image: D:/CTH_archive/CTP_STRIPPED\\CHEN_QIAOYING.nii\n",
      "Processed and saved: D:/CTH_archive/TMAX_NIFTI_QUANT\\REGISTERED\\CHEN_QIAOYING.nii\n",
      "Processing CHEN_XIU_D...\n",
      "Moving image: D:/CTH_archive/TMAX_NIFTI_QUANT\\CHEN_XIU_D.nii\n",
      "Fixed image: D:/CTH_archive/CTH_STRIPPED\\CHEN_XIU_D.nii\n",
      "CTP image: D:/CTH_archive/CTP_STRIPPED\\CHEN_XIU_D.nii\n",
      "Processed and saved: D:/CTH_archive/TMAX_NIFTI_QUANT\\REGISTERED\\CHEN_XIU_D.nii\n",
      "Processing CHEUNG_SIU-LING_LING_WOO...\n",
      "Moving image: D:/CTH_archive/TMAX_NIFTI_QUANT\\CHEUNG_SIU-LING_LING_WOO.nii\n",
      "Fixed image: D:/CTH_archive/CTH_STRIPPED\\CHEUNG_SIU-LING_LING_WOO.nii\n",
      "CTP image: D:/CTH_archive/CTP_STRIPPED\\CHEUNG_SIU-LING_LING_WOO.nii\n",
      "Processed and saved: D:/CTH_archive/TMAX_NIFTI_QUANT\\REGISTERED\\CHEUNG_SIU-LING_LING_WOO.nii\n",
      "Processing CHOWDHURY_SALMA_K...\n",
      "Moving image: D:/CTH_archive/TMAX_NIFTI_QUANT\\CHOWDHURY_SALMA_K.nii\n",
      "Fixed image: D:/CTH_archive/CTH_STRIPPED\\CHOWDHURY_SALMA_K.nii\n",
      "CTP image: D:/CTH_archive/CTP_STRIPPED\\CHOWDHURY_SALMA_K.nii\n",
      "Processed and saved: D:/CTH_archive/TMAX_NIFTI_QUANT\\REGISTERED\\CHOWDHURY_SALMA_K.nii\n",
      "Processing CLARKSON-FARRELL_EDWARD...\n",
      "Moving image: D:/CTH_archive/TMAX_NIFTI_QUANT\\CLARKSON-FARRELL_EDWARD.nii\n",
      "Fixed image: D:/CTH_archive/CTH_STRIPPED\\CLARKSON-FARRELL_EDWARD.nii\n",
      "CTP image: D:/CTH_archive/CTP_STRIPPED\\CLARKSON-FARRELL_EDWARD.nii\n",
      "Processed and saved: D:/CTH_archive/TMAX_NIFTI_QUANT\\REGISTERED\\CLARKSON-FARRELL_EDWARD.nii\n",
      "Processing COLLADOTORRES_URIBES_A...\n",
      "Moving image: D:/CTH_archive/TMAX_NIFTI_QUANT\\COLLADOTORRES_URIBES_A.nii\n",
      "Fixed image: D:/CTH_archive/CTH_STRIPPED\\COLLADOTORRES_URIBES_A.nii\n",
      "CTP image: D:/CTH_archive/CTP_STRIPPED\\COLLADOTORRES_URIBES_A.nii\n",
      "Processed and saved: D:/CTH_archive/TMAX_NIFTI_QUANT\\REGISTERED\\COLLADOTORRES_URIBES_A.nii\n",
      "Processing COMPRES_THELMA...\n",
      "Moving image: D:/CTH_archive/TMAX_NIFTI_QUANT\\COMPRES_THELMA.nii\n",
      "Fixed image: D:/CTH_archive/CTH_STRIPPED\\COMPRES_THELMA.nii\n",
      "CTP image: D:/CTH_archive/CTP_STRIPPED\\COMPRES_THELMA.nii\n",
      "Processed and saved: D:/CTH_archive/TMAX_NIFTI_QUANT\\REGISTERED\\COMPRES_THELMA.nii\n",
      "Processing COOPER_SUSAN...\n",
      "Moving image: D:/CTH_archive/TMAX_NIFTI_QUANT\\COOPER_SUSAN.nii\n",
      "Fixed image: D:/CTH_archive/CTH_STRIPPED\\COOPER_SUSAN.nii\n",
      "CTP image: D:/CTH_archive/CTP_STRIPPED\\COOPER_SUSAN.nii\n",
      "Processed and saved: D:/CTH_archive/TMAX_NIFTI_QUANT\\REGISTERED\\COOPER_SUSAN.nii\n",
      "Processing CRUZ_MIRIAN...\n",
      "Moving image: D:/CTH_archive/TMAX_NIFTI_QUANT\\CRUZ_MIRIAN.nii\n",
      "Fixed image: D:/CTH_archive/CTH_STRIPPED\\CRUZ_MIRIAN.nii\n",
      "CTP image: D:/CTH_archive/CTP_STRIPPED\\CRUZ_MIRIAN.nii\n",
      "Processed and saved: D:/CTH_archive/TMAX_NIFTI_QUANT\\REGISTERED\\CRUZ_MIRIAN.nii\n",
      "Processing DAMBOISE_JACQUES_J...\n",
      "Moving image: D:/CTH_archive/TMAX_NIFTI_QUANT\\DAMBOISE_JACQUES_J.nii\n",
      "Fixed image: D:/CTH_archive/CTH_STRIPPED\\DAMBOISE_JACQUES_J.nii\n",
      "CTP image: D:/CTH_archive/CTP_STRIPPED\\DAMBOISE_JACQUES_J.nii\n",
      "Processed and saved: D:/CTH_archive/TMAX_NIFTI_QUANT\\REGISTERED\\DAMBOISE_JACQUES_J.nii\n",
      "Processing DEGRAFT_NYUMUTSU_E...\n",
      "Moving image: D:/CTH_archive/TMAX_NIFTI_QUANT\\DEGRAFT_NYUMUTSU_E.nii\n",
      "Fixed image: D:/CTH_archive/CTH_STRIPPED\\DEGRAFT_NYUMUTSU_E.nii\n",
      "CTP image: D:/CTH_archive/CTP_STRIPPED\\DEGRAFT_NYUMUTSU_E.nii\n",
      "Processed and saved: D:/CTH_archive/TMAX_NIFTI_QUANT\\REGISTERED\\DEGRAFT_NYUMUTSU_E.nii\n",
      "Processing DONALDSON_GEORGIANNA...\n",
      "Moving image: D:/CTH_archive/TMAX_NIFTI_QUANT\\DONALDSON_GEORGIANNA.nii\n",
      "Fixed image: D:/CTH_archive/CTH_STRIPPED\\DONALDSON_GEORGIANNA.nii\n",
      "CTP image: D:/CTH_archive/CTP_STRIPPED\\DONALDSON_GEORGIANNA.nii\n",
      "Processed and saved: D:/CTH_archive/TMAX_NIFTI_QUANT\\REGISTERED\\DONALDSON_GEORGIANNA.nii\n",
      "Processing DUMA_ZBIGNIEW...\n",
      "Moving image: D:/CTH_archive/TMAX_NIFTI_QUANT\\DUMA_ZBIGNIEW.nii\n",
      "Fixed image: D:/CTH_archive/CTH_STRIPPED\\DUMA_ZBIGNIEW.nii\n",
      "CTP image: D:/CTH_archive/CTP_STRIPPED\\DUMA_ZBIGNIEW.nii\n",
      "Processed and saved: D:/CTH_archive/TMAX_NIFTI_QUANT\\REGISTERED\\DUMA_ZBIGNIEW.nii\n",
      "Processing EASON_CHARLES...\n",
      "Moving image: D:/CTH_archive/TMAX_NIFTI_QUANT\\EASON_CHARLES.nii\n",
      "Fixed image: D:/CTH_archive/CTH_STRIPPED\\EASON_CHARLES.nii\n",
      "CTP image: D:/CTH_archive/CTP_STRIPPED\\EASON_CHARLES.nii\n",
      "Processed and saved: D:/CTH_archive/TMAX_NIFTI_QUANT\\REGISTERED\\EASON_CHARLES.nii\n",
      "Processing ELISA-WRIGHT_KANZADER...\n",
      "Moving image: D:/CTH_archive/TMAX_NIFTI_QUANT\\ELISA-WRIGHT_KANZADER.nii\n",
      "Fixed image: D:/CTH_archive/CTH_STRIPPED\\ELISA-WRIGHT_KANZADER.nii\n",
      "CTP image: D:/CTH_archive/CTP_STRIPPED\\ELISA-WRIGHT_KANZADER.nii\n",
      "Processed and saved: D:/CTH_archive/TMAX_NIFTI_QUANT\\REGISTERED\\ELISA-WRIGHT_KANZADER.nii\n",
      "Processing FERNANDEZ_LUIS...\n",
      "Moving image: D:/CTH_archive/TMAX_NIFTI_QUANT\\FERNANDEZ_LUIS.nii\n",
      "Fixed image: D:/CTH_archive/CTH_STRIPPED\\FERNANDEZ_LUIS.nii\n",
      "CTP image: D:/CTH_archive/CTP_STRIPPED\\FERNANDEZ_LUIS.nii\n",
      "Processed and saved: D:/CTH_archive/TMAX_NIFTI_QUANT\\REGISTERED\\FERNANDEZ_LUIS.nii\n",
      "Processing FILION_JULIO...\n",
      "Moving image: D:/CTH_archive/TMAX_NIFTI_QUANT\\FILION_JULIO.nii\n",
      "Fixed image: D:/CTH_archive/CTH_STRIPPED\\FILION_JULIO.nii\n",
      "CTP image: D:/CTH_archive/CTP_STRIPPED\\FILION_JULIO.nii\n",
      "Processed and saved: D:/CTH_archive/TMAX_NIFTI_QUANT\\REGISTERED\\FILION_JULIO.nii\n",
      "Processing FILI_CHARLES...\n",
      "Moving image: D:/CTH_archive/TMAX_NIFTI_QUANT\\FILI_CHARLES.nii\n",
      "Fixed image: D:/CTH_archive/CTH_STRIPPED\\FILI_CHARLES.nii\n",
      "CTP image: D:/CTH_archive/CTP_STRIPPED\\FILI_CHARLES.nii\n",
      "Processed and saved: D:/CTH_archive/TMAX_NIFTI_QUANT\\REGISTERED\\FILI_CHARLES.nii\n",
      "Processing FISHER_BARBARA...\n",
      "Moving image: D:/CTH_archive/TMAX_NIFTI_QUANT\\FISHER_BARBARA.nii\n",
      "Fixed image: D:/CTH_archive/CTH_STRIPPED\\FISHER_BARBARA.nii\n",
      "CTP image: D:/CTH_archive/CTP_STRIPPED\\FISHER_BARBARA.nii\n",
      "Processed and saved: D:/CTH_archive/TMAX_NIFTI_QUANT\\REGISTERED\\FISHER_BARBARA.nii\n",
      "Processing GARCIA_ABELARDO...\n",
      "Moving image: D:/CTH_archive/TMAX_NIFTI_QUANT\\GARCIA_ABELARDO.nii\n",
      "Fixed image: D:/CTH_archive/CTH_STRIPPED\\GARCIA_ABELARDO.nii\n",
      "CTP image: D:/CTH_archive/CTP_STRIPPED\\GARCIA_ABELARDO.nii\n",
      "Processed and saved: D:/CTH_archive/TMAX_NIFTI_QUANT\\REGISTERED\\GARCIA_ABELARDO.nii\n",
      "Processing GARCIA_ARTURO...\n",
      "Moving image: D:/CTH_archive/TMAX_NIFTI_QUANT\\GARCIA_ARTURO.nii\n",
      "Fixed image: D:/CTH_archive/CTH_STRIPPED\\GARCIA_ARTURO.nii\n",
      "CTP image: D:/CTH_archive/CTP_STRIPPED\\GARCIA_ARTURO.nii\n",
      "Processed and saved: D:/CTH_archive/TMAX_NIFTI_QUANT\\REGISTERED\\GARCIA_ARTURO.nii\n",
      "Processing GENTLE_CLINTON...\n",
      "Moving image: D:/CTH_archive/TMAX_NIFTI_QUANT\\GENTLE_CLINTON.nii\n",
      "Fixed image: D:/CTH_archive/CTH_STRIPPED\\GENTLE_CLINTON.nii\n",
      "CTP image: D:/CTH_archive/CTP_STRIPPED\\GENTLE_CLINTON.nii\n",
      "Processed and saved: D:/CTH_archive/TMAX_NIFTI_QUANT\\REGISTERED\\GENTLE_CLINTON.nii\n",
      "Processing GOBLE_TAMMY...\n",
      "Moving image: D:/CTH_archive/TMAX_NIFTI_QUANT\\GOBLE_TAMMY.nii\n",
      "Fixed image: D:/CTH_archive/CTH_STRIPPED\\GOBLE_TAMMY.nii\n",
      "CTP image: D:/CTH_archive/CTP_STRIPPED\\GOBLE_TAMMY.nii\n",
      "Processed and saved: D:/CTH_archive/TMAX_NIFTI_QUANT\\REGISTERED\\GOBLE_TAMMY.nii\n",
      "Processing GONZALEZ_FERNANDO...\n",
      "Moving image: D:/CTH_archive/TMAX_NIFTI_QUANT\\GONZALEZ_FERNANDO.nii\n",
      "Fixed image: D:/CTH_archive/CTH_STRIPPED\\GONZALEZ_FERNANDO.nii\n",
      "CTP image: D:/CTH_archive/CTP_STRIPPED\\GONZALEZ_FERNANDO.nii\n",
      "Processed and saved: D:/CTH_archive/TMAX_NIFTI_QUANT\\REGISTERED\\GONZALEZ_FERNANDO.nii\n",
      "Processing GUZMAN_IRIS...\n",
      "Moving image: D:/CTH_archive/TMAX_NIFTI_QUANT\\GUZMAN_IRIS.nii\n",
      "Fixed image: D:/CTH_archive/CTH_STRIPPED\\GUZMAN_IRIS.nii\n",
      "CTP image: D:/CTH_archive/CTP_STRIPPED\\GUZMAN_IRIS.nii\n",
      "Processed and saved: D:/CTH_archive/TMAX_NIFTI_QUANT\\REGISTERED\\GUZMAN_IRIS.nii\n",
      "Processing HALL_KELBERT_MCDO...\n",
      "Moving image: D:/CTH_archive/TMAX_NIFTI_QUANT\\HALL_KELBERT_MCDO.nii\n",
      "Fixed image: D:/CTH_archive/CTH_STRIPPED\\HALL_KELBERT_MCDO.nii\n",
      "CTP image: D:/CTH_archive/CTP_STRIPPED\\HALL_KELBERT_MCDO.nii\n",
      "Processed and saved: D:/CTH_archive/TMAX_NIFTI_QUANT\\REGISTERED\\HALL_KELBERT_MCDO.nii\n",
      "Processing HALL_WILLIAM...\n",
      "Moving image: D:/CTH_archive/TMAX_NIFTI_QUANT\\HALL_WILLIAM.nii\n",
      "Fixed image: D:/CTH_archive/CTH_STRIPPED\\HALL_WILLIAM.nii\n",
      "CTP image: D:/CTH_archive/CTP_STRIPPED\\HALL_WILLIAM.nii\n",
      "Processed and saved: D:/CTH_archive/TMAX_NIFTI_QUANT\\REGISTERED\\HALL_WILLIAM.nii\n",
      "Processing HANSEN_GEORGE_A...\n",
      "Moving image: D:/CTH_archive/TMAX_NIFTI_QUANT\\HANSEN_GEORGE_A.nii\n",
      "Fixed image: D:/CTH_archive/CTH_STRIPPED\\HANSEN_GEORGE_A.nii\n",
      "CTP image: D:/CTH_archive/CTP_STRIPPED\\HANSEN_GEORGE_A.nii\n",
      "Processed and saved: D:/CTH_archive/TMAX_NIFTI_QUANT\\REGISTERED\\HANSEN_GEORGE_A.nii\n",
      "Processing HATTA_MARIA...\n",
      "Moving image: D:/CTH_archive/TMAX_NIFTI_QUANT\\HATTA_MARIA.nii\n",
      "Fixed image: D:/CTH_archive/CTH_STRIPPED\\HATTA_MARIA.nii\n",
      "CTP image: D:/CTH_archive/CTP_STRIPPED\\HATTA_MARIA.nii\n",
      "Processed and saved: D:/CTH_archive/TMAX_NIFTI_QUANT\\REGISTERED\\HATTA_MARIA.nii\n",
      "Processing HECKSTALL_CORA...\n",
      "Moving image: D:/CTH_archive/TMAX_NIFTI_QUANT\\HECKSTALL_CORA.nii\n",
      "Fixed image: D:/CTH_archive/CTH_STRIPPED\\HECKSTALL_CORA.nii\n",
      "CTP image: D:/CTH_archive/CTP_STRIPPED\\HECKSTALL_CORA.nii\n",
      "Processed and saved: D:/CTH_archive/TMAX_NIFTI_QUANT\\REGISTERED\\HECKSTALL_CORA.nii\n",
      "Processing HIRSCH_LEMEL...\n",
      "Moving image: D:/CTH_archive/TMAX_NIFTI_QUANT\\HIRSCH_LEMEL.nii\n",
      "Fixed image: D:/CTH_archive/CTH_STRIPPED\\HIRSCH_LEMEL.nii\n",
      "CTP image: D:/CTH_archive/CTP_STRIPPED\\HIRSCH_LEMEL.nii\n",
      "Processed and saved: D:/CTH_archive/TMAX_NIFTI_QUANT\\REGISTERED\\HIRSCH_LEMEL.nii\n",
      "Processing IRIZARRY_MONSITA...\n",
      "Moving image: D:/CTH_archive/TMAX_NIFTI_QUANT\\IRIZARRY_MONSITA.nii\n",
      "Fixed image: D:/CTH_archive/CTH_STRIPPED\\IRIZARRY_MONSITA.nii\n",
      "CTP image: D:/CTH_archive/CTP_STRIPPED\\IRIZARRY_MONSITA.nii\n",
      "Processed and saved: D:/CTH_archive/TMAX_NIFTI_QUANT\\REGISTERED\\IRIZARRY_MONSITA.nii\n",
      "Processing KAMWA_JEAN-PIERRE...\n",
      "Moving image: D:/CTH_archive/TMAX_NIFTI_QUANT\\KAMWA_JEAN-PIERRE.nii\n",
      "Fixed image: D:/CTH_archive/CTH_STRIPPED\\KAMWA_JEAN-PIERRE.nii\n",
      "CTP image: D:/CTH_archive/CTP_STRIPPED\\KAMWA_JEAN-PIERRE.nii\n",
      "Processed and saved: D:/CTH_archive/TMAX_NIFTI_QUANT\\REGISTERED\\KAMWA_JEAN-PIERRE.nii\n",
      "Processing KILLACKEY_WILLIAM...\n",
      "Moving image: D:/CTH_archive/TMAX_NIFTI_QUANT\\KILLACKEY_WILLIAM.nii\n",
      "Fixed image: D:/CTH_archive/CTH_STRIPPED\\KILLACKEY_WILLIAM.nii\n",
      "CTP image: D:/CTH_archive/CTP_STRIPPED\\KILLACKEY_WILLIAM.nii\n",
      "Processed and saved: D:/CTH_archive/TMAX_NIFTI_QUANT\\REGISTERED\\KILLACKEY_WILLIAM.nii\n",
      "Processing KING_TANDEKA_I...\n",
      "Moving image: D:/CTH_archive/TMAX_NIFTI_QUANT\\KING_TANDEKA_I.nii\n",
      "Fixed image: D:/CTH_archive/CTH_STRIPPED\\KING_TANDEKA_I.nii\n",
      "CTP image: D:/CTH_archive/CTP_STRIPPED\\KING_TANDEKA_I.nii\n",
      "Processed and saved: D:/CTH_archive/TMAX_NIFTI_QUANT\\REGISTERED\\KING_TANDEKA_I.nii\n",
      "Processing LADSON_ROSE...\n",
      "Moving image: D:/CTH_archive/TMAX_NIFTI_QUANT\\LADSON_ROSE.nii\n",
      "Fixed image: D:/CTH_archive/CTH_STRIPPED\\LADSON_ROSE.nii\n",
      "CTP image: D:/CTH_archive/CTP_STRIPPED\\LADSON_ROSE.nii\n",
      "Processed and saved: D:/CTH_archive/TMAX_NIFTI_QUANT\\REGISTERED\\LADSON_ROSE.nii\n",
      "Processing LAQUERCIA_THEODORE...\n",
      "Moving image: D:/CTH_archive/TMAX_NIFTI_QUANT\\LAQUERCIA_THEODORE.nii\n",
      "Fixed image: D:/CTH_archive/CTH_STRIPPED\\LAQUERCIA_THEODORE.nii\n",
      "CTP image: D:/CTH_archive/CTP_STRIPPED\\LAQUERCIA_THEODORE.nii\n",
      "Processed and saved: D:/CTH_archive/TMAX_NIFTI_QUANT\\REGISTERED\\LAQUERCIA_THEODORE.nii\n",
      "Processing LASUSA_PETER_ROBERT...\n",
      "Moving image: D:/CTH_archive/TMAX_NIFTI_QUANT\\LASUSA_PETER_ROBERT.nii\n",
      "Fixed image: D:/CTH_archive/CTH_STRIPPED\\LASUSA_PETER_ROBERT.nii\n",
      "CTP image: D:/CTH_archive/CTP_STRIPPED\\LASUSA_PETER_ROBERT.nii\n",
      "Processed and saved: D:/CTH_archive/TMAX_NIFTI_QUANT\\REGISTERED\\LASUSA_PETER_ROBERT.nii\n",
      "Processing LATTEIER_MARIA...\n",
      "Moving image: D:/CTH_archive/TMAX_NIFTI_QUANT\\LATTEIER_MARIA.nii\n",
      "Fixed image: D:/CTH_archive/CTH_STRIPPED\\LATTEIER_MARIA.nii\n",
      "CTP image: D:/CTH_archive/CTP_STRIPPED\\LATTEIER_MARIA.nii\n",
      "Processed and saved: D:/CTH_archive/TMAX_NIFTI_QUANT\\REGISTERED\\LATTEIER_MARIA.nii\n",
      "Processing LAWSON_MIRIAM...\n",
      "Moving image: D:/CTH_archive/TMAX_NIFTI_QUANT\\LAWSON_MIRIAM.nii\n",
      "Fixed image: D:/CTH_archive/CTH_STRIPPED\\LAWSON_MIRIAM.nii\n",
      "CTP image: D:/CTH_archive/CTP_STRIPPED\\LAWSON_MIRIAM.nii\n",
      "Processed and saved: D:/CTH_archive/TMAX_NIFTI_QUANT\\REGISTERED\\LAWSON_MIRIAM.nii\n",
      "Processing LIPNICKI_ROMAN...\n",
      "Moving image: D:/CTH_archive/TMAX_NIFTI_QUANT\\LIPNICKI_ROMAN.nii\n",
      "Fixed image: D:/CTH_archive/CTH_STRIPPED\\LIPNICKI_ROMAN.nii\n",
      "CTP image: D:/CTH_archive/CTP_STRIPPED\\LIPNICKI_ROMAN.nii\n",
      "Processed and saved: D:/CTH_archive/TMAX_NIFTI_QUANT\\REGISTERED\\LIPNICKI_ROMAN.nii\n",
      "Processing LOCKETT_GLORIA...\n",
      "Moving image: D:/CTH_archive/TMAX_NIFTI_QUANT\\LOCKETT_GLORIA.nii\n",
      "Fixed image: D:/CTH_archive/CTH_STRIPPED\\LOCKETT_GLORIA.nii\n",
      "CTP image: D:/CTH_archive/CTP_STRIPPED\\LOCKETT_GLORIA.nii\n",
      "Processed and saved: D:/CTH_archive/TMAX_NIFTI_QUANT\\REGISTERED\\LOCKETT_GLORIA.nii\n",
      "Processing LOPEZ_LEONOR...\n",
      "Moving image: D:/CTH_archive/TMAX_NIFTI_QUANT\\LOPEZ_LEONOR.nii\n",
      "Fixed image: D:/CTH_archive/CTH_STRIPPED\\LOPEZ_LEONOR.nii\n",
      "CTP image: D:/CTH_archive/CTP_STRIPPED\\LOPEZ_LEONOR.nii\n",
      "Processed and saved: D:/CTH_archive/TMAX_NIFTI_QUANT\\REGISTERED\\LOPEZ_LEONOR.nii\n",
      "Processing LORD_JANE...\n",
      "Moving image: D:/CTH_archive/TMAX_NIFTI_QUANT\\LORD_JANE.nii\n",
      "Fixed image: D:/CTH_archive/CTH_STRIPPED\\LORD_JANE.nii\n",
      "CTP image: D:/CTH_archive/CTP_STRIPPED\\LORD_JANE.nii\n",
      "Processed and saved: D:/CTH_archive/TMAX_NIFTI_QUANT\\REGISTERED\\LORD_JANE.nii\n",
      "Processing LOVE_MARY_E...\n",
      "Moving image: D:/CTH_archive/TMAX_NIFTI_QUANT\\LOVE_MARY_E.nii\n",
      "Fixed image: D:/CTH_archive/CTH_STRIPPED\\LOVE_MARY_E.nii\n",
      "CTP image: D:/CTH_archive/CTP_STRIPPED\\LOVE_MARY_E.nii\n",
      "Processed and saved: D:/CTH_archive/TMAX_NIFTI_QUANT\\REGISTERED\\LOVE_MARY_E.nii\n",
      "Processing LUNA_LOURDES...\n",
      "Moving image: D:/CTH_archive/TMAX_NIFTI_QUANT\\LUNA_LOURDES.nii\n",
      "Fixed image: D:/CTH_archive/CTH_STRIPPED\\LUNA_LOURDES.nii\n",
      "CTP image: D:/CTH_archive/CTP_STRIPPED\\LUNA_LOURDES.nii\n",
      "Processed and saved: D:/CTH_archive/TMAX_NIFTI_QUANT\\REGISTERED\\LUNA_LOURDES.nii\n",
      "Processing MATABUENA_LUZVIMINDA...\n",
      "Moving image: D:/CTH_archive/TMAX_NIFTI_QUANT\\MATABUENA_LUZVIMINDA.nii\n",
      "Fixed image: D:/CTH_archive/CTH_STRIPPED\\MATABUENA_LUZVIMINDA.nii\n",
      "CTP image: D:/CTH_archive/CTP_STRIPPED\\MATABUENA_LUZVIMINDA.nii\n",
      "Processed and saved: D:/CTH_archive/TMAX_NIFTI_QUANT\\REGISTERED\\MATABUENA_LUZVIMINDA.nii\n",
      "Processing MAURICIO_DENICE...\n",
      "Moving image: D:/CTH_archive/TMAX_NIFTI_QUANT\\MAURICIO_DENICE.nii\n",
      "Fixed image: D:/CTH_archive/CTH_STRIPPED\\MAURICIO_DENICE.nii\n",
      "CTP image: D:/CTH_archive/CTP_STRIPPED\\MAURICIO_DENICE.nii\n",
      "Processed and saved: D:/CTH_archive/TMAX_NIFTI_QUANT\\REGISTERED\\MAURICIO_DENICE.nii\n",
      "Processing MCGIVNEY_DOROTHY...\n",
      "Moving image: D:/CTH_archive/TMAX_NIFTI_QUANT\\MCGIVNEY_DOROTHY.nii\n",
      "Fixed image: D:/CTH_archive/CTH_STRIPPED\\MCGIVNEY_DOROTHY.nii\n",
      "CTP image: D:/CTH_archive/CTP_STRIPPED\\MCGIVNEY_DOROTHY.nii\n",
      "Processed and saved: D:/CTH_archive/TMAX_NIFTI_QUANT\\REGISTERED\\MCGIVNEY_DOROTHY.nii\n",
      "Processing MEDINA_ANNA...\n",
      "Moving image: D:/CTH_archive/TMAX_NIFTI_QUANT\\MEDINA_ANNA.nii\n",
      "Fixed image: D:/CTH_archive/CTH_STRIPPED\\MEDINA_ANNA.nii\n",
      "CTP image: D:/CTH_archive/CTP_STRIPPED\\MEDINA_ANNA.nii\n",
      "Processed and saved: D:/CTH_archive/TMAX_NIFTI_QUANT\\REGISTERED\\MEDINA_ANNA.nii\n",
      "Processing MENA-ROSA_IDIDA_MERCEDES...\n",
      "Moving image: D:/CTH_archive/TMAX_NIFTI_QUANT\\MENA-ROSA_IDIDA_MERCEDES.nii\n",
      "Fixed image: D:/CTH_archive/CTH_STRIPPED\\MENA-ROSA_IDIDA_MERCEDES.nii\n",
      "CTP image: D:/CTH_archive/CTP_STRIPPED\\MENA-ROSA_IDIDA_MERCEDES.nii\n",
      "Processed and saved: D:/CTH_archive/TMAX_NIFTI_QUANT\\REGISTERED\\MENA-ROSA_IDIDA_MERCEDES.nii\n",
      "Processing MENDOZA_REMEDIOS...\n",
      "Moving image: D:/CTH_archive/TMAX_NIFTI_QUANT\\MENDOZA_REMEDIOS.nii\n",
      "Fixed image: D:/CTH_archive/CTH_STRIPPED\\MENDOZA_REMEDIOS.nii\n",
      "CTP image: D:/CTH_archive/CTP_STRIPPED\\MENDOZA_REMEDIOS.nii\n",
      "Processed and saved: D:/CTH_archive/TMAX_NIFTI_QUANT\\REGISTERED\\MENDOZA_REMEDIOS.nii\n",
      "Processing MESSINA_CALOGERO...\n",
      "Moving image: D:/CTH_archive/TMAX_NIFTI_QUANT\\MESSINA_CALOGERO.nii\n",
      "Fixed image: D:/CTH_archive/CTH_STRIPPED\\MESSINA_CALOGERO.nii\n",
      "CTP image: D:/CTH_archive/CTP_STRIPPED\\MESSINA_CALOGERO.nii\n",
      "Processed and saved: D:/CTH_archive/TMAX_NIFTI_QUANT\\REGISTERED\\MESSINA_CALOGERO.nii\n",
      "Processing MILLS_JOAN...\n",
      "Moving image: D:/CTH_archive/TMAX_NIFTI_QUANT\\MILLS_JOAN.nii\n",
      "Fixed image: D:/CTH_archive/CTH_STRIPPED\\MILLS_JOAN.nii\n",
      "CTP image: D:/CTH_archive/CTP_STRIPPED\\MILLS_JOAN.nii\n",
      "Processed and saved: D:/CTH_archive/TMAX_NIFTI_QUANT\\REGISTERED\\MILLS_JOAN.nii\n",
      "Processing MIRABAL_JORGE...\n",
      "Moving image: D:/CTH_archive/TMAX_NIFTI_QUANT\\MIRABAL_JORGE.nii\n",
      "Fixed image: D:/CTH_archive/CTH_STRIPPED\\MIRABAL_JORGE.nii\n",
      "CTP image: D:/CTH_archive/CTP_STRIPPED\\MIRABAL_JORGE.nii\n",
      "Processed and saved: D:/CTH_archive/TMAX_NIFTI_QUANT\\REGISTERED\\MIRABAL_JORGE.nii\n",
      "Processing MITCHELL_ROSA...\n",
      "Moving image: D:/CTH_archive/TMAX_NIFTI_QUANT\\MITCHELL_ROSA.nii\n",
      "Fixed image: D:/CTH_archive/CTH_STRIPPED\\MITCHELL_ROSA.nii\n",
      "CTP image: D:/CTH_archive/CTP_STRIPPED\\MITCHELL_ROSA.nii\n",
      "Processed and saved: D:/CTH_archive/TMAX_NIFTI_QUANT\\REGISTERED\\MITCHELL_ROSA.nii\n",
      "Processing MONTANEZ_PETER_A...\n",
      "Moving image: D:/CTH_archive/TMAX_NIFTI_QUANT\\MONTANEZ_PETER_A.nii\n",
      "Fixed image: D:/CTH_archive/CTH_STRIPPED\\MONTANEZ_PETER_A.nii\n",
      "CTP image: D:/CTH_archive/CTP_STRIPPED\\MONTANEZ_PETER_A.nii\n",
      "Processed and saved: D:/CTH_archive/TMAX_NIFTI_QUANT\\REGISTERED\\MONTANEZ_PETER_A.nii\n",
      "Processing MONTERO_RAMIREZ_MICAELA...\n",
      "Moving image: D:/CTH_archive/TMAX_NIFTI_QUANT\\MONTERO_RAMIREZ_MICAELA.nii\n",
      "Fixed image: D:/CTH_archive/CTH_STRIPPED\\MONTERO_RAMIREZ_MICAELA.nii\n",
      "CTP image: D:/CTH_archive/CTP_STRIPPED\\MONTERO_RAMIREZ_MICAELA.nii\n",
      "Processed and saved: D:/CTH_archive/TMAX_NIFTI_QUANT\\REGISTERED\\MONTERO_RAMIREZ_MICAELA.nii\n",
      "Processing MORENO_JORGE...\n",
      "Moving image: D:/CTH_archive/TMAX_NIFTI_QUANT\\MORENO_JORGE.nii\n",
      "Fixed image: D:/CTH_archive/CTH_STRIPPED\\MORENO_JORGE.nii\n",
      "CTP image: D:/CTH_archive/CTP_STRIPPED\\MORENO_JORGE.nii\n",
      "Processed and saved: D:/CTH_archive/TMAX_NIFTI_QUANT\\REGISTERED\\MORENO_JORGE.nii\n",
      "Processing MULDOON_GERALDINE_A...\n",
      "Moving image: D:/CTH_archive/TMAX_NIFTI_QUANT\\MULDOON_GERALDINE_A.nii\n",
      "Fixed image: D:/CTH_archive/CTH_STRIPPED\\MULDOON_GERALDINE_A.nii\n",
      "CTP image: D:/CTH_archive/CTP_STRIPPED\\MULDOON_GERALDINE_A.nii\n",
      "Processed and saved: D:/CTH_archive/TMAX_NIFTI_QUANT\\REGISTERED\\MULDOON_GERALDINE_A.nii\n",
      "Processing NAJERA_JOSE...\n",
      "Moving image: D:/CTH_archive/TMAX_NIFTI_QUANT\\NAJERA_JOSE.nii\n",
      "Fixed image: D:/CTH_archive/CTH_STRIPPED\\NAJERA_JOSE.nii\n",
      "CTP image: D:/CTH_archive/CTP_STRIPPED\\NAJERA_JOSE.nii\n",
      "Processed and saved: D:/CTH_archive/TMAX_NIFTI_QUANT\\REGISTERED\\NAJERA_JOSE.nii\n",
      "Processing NAVAS_RAFAEL...\n",
      "Moving image: D:/CTH_archive/TMAX_NIFTI_QUANT\\NAVAS_RAFAEL.nii\n",
      "Fixed image: D:/CTH_archive/CTH_STRIPPED\\NAVAS_RAFAEL.nii\n",
      "CTP image: D:/CTH_archive/CTP_STRIPPED\\NAVAS_RAFAEL.nii\n",
      "Processed and saved: D:/CTH_archive/TMAX_NIFTI_QUANT\\REGISTERED\\NAVAS_RAFAEL.nii\n",
      "Processing NICHOLAS_LOLA...\n",
      "Moving image: D:/CTH_archive/TMAX_NIFTI_QUANT\\NICHOLAS_LOLA.nii\n",
      "Fixed image: D:/CTH_archive/CTH_STRIPPED\\NICHOLAS_LOLA.nii\n",
      "CTP image: D:/CTH_archive/CTP_STRIPPED\\NICHOLAS_LOLA.nii\n",
      "Processed and saved: D:/CTH_archive/TMAX_NIFTI_QUANT\\REGISTERED\\NICHOLAS_LOLA.nii\n",
      "Processing OROVAN_MARY...\n",
      "Moving image: D:/CTH_archive/TMAX_NIFTI_QUANT\\OROVAN_MARY.nii\n",
      "Fixed image: D:/CTH_archive/CTH_STRIPPED\\OROVAN_MARY.nii\n",
      "CTP image: D:/CTH_archive/CTP_STRIPPED\\OROVAN_MARY.nii\n",
      "Processed and saved: D:/CTH_archive/TMAX_NIFTI_QUANT\\REGISTERED\\OROVAN_MARY.nii\n",
      "Processing PEREZ_HUGO...\n",
      "Moving image: D:/CTH_archive/TMAX_NIFTI_QUANT\\PEREZ_HUGO.nii\n",
      "Fixed image: D:/CTH_archive/CTH_STRIPPED\\PEREZ_HUGO.nii\n",
      "CTP image: D:/CTH_archive/CTP_STRIPPED\\PEREZ_HUGO.nii\n",
      "Processed and saved: D:/CTH_archive/TMAX_NIFTI_QUANT\\REGISTERED\\PEREZ_HUGO.nii\n",
      "Processing PERINA_ROBERT...\n",
      "Moving image: D:/CTH_archive/TMAX_NIFTI_QUANT\\PERINA_ROBERT.nii\n",
      "Fixed image: D:/CTH_archive/CTH_STRIPPED\\PERINA_ROBERT.nii\n",
      "CTP image: D:/CTH_archive/CTP_STRIPPED\\PERINA_ROBERT.nii\n",
      "Processed and saved: D:/CTH_archive/TMAX_NIFTI_QUANT\\REGISTERED\\PERINA_ROBERT.nii\n",
      "Processing PERLMUTTER_JULES...\n",
      "Moving image: D:/CTH_archive/TMAX_NIFTI_QUANT\\PERLMUTTER_JULES.nii\n",
      "Fixed image: D:/CTH_archive/CTH_STRIPPED\\PERLMUTTER_JULES.nii\n",
      "CTP image: D:/CTH_archive/CTP_STRIPPED\\PERLMUTTER_JULES.nii\n",
      "Processed and saved: D:/CTH_archive/TMAX_NIFTI_QUANT\\REGISTERED\\PERLMUTTER_JULES.nii\n",
      "Processing PLAZA_RAUL...\n",
      "Moving image: D:/CTH_archive/TMAX_NIFTI_QUANT\\PLAZA_RAUL.nii\n",
      "Fixed image: D:/CTH_archive/CTH_STRIPPED\\PLAZA_RAUL.nii\n",
      "CTP image: D:/CTH_archive/CTP_STRIPPED\\PLAZA_RAUL.nii\n",
      "Processed and saved: D:/CTH_archive/TMAX_NIFTI_QUANT\\REGISTERED\\PLAZA_RAUL.nii\n",
      "Processing QUILES_MARIBEL...\n",
      "Moving image: D:/CTH_archive/TMAX_NIFTI_QUANT\\QUILES_MARIBEL.nii\n",
      "Fixed image: D:/CTH_archive/CTH_STRIPPED\\QUILES_MARIBEL.nii\n",
      "CTP image: D:/CTH_archive/CTP_STRIPPED\\QUILES_MARIBEL.nii\n",
      "Processed and saved: D:/CTH_archive/TMAX_NIFTI_QUANT\\REGISTERED\\QUILES_MARIBEL.nii\n",
      "Processing RAMIREZ_ANGELA...\n",
      "Moving image: D:/CTH_archive/TMAX_NIFTI_QUANT\\RAMIREZ_ANGELA.nii\n",
      "Fixed image: D:/CTH_archive/CTH_STRIPPED\\RAMIREZ_ANGELA.nii\n",
      "CTP image: D:/CTH_archive/CTP_STRIPPED\\RAMIREZ_ANGELA.nii\n",
      "Processed and saved: D:/CTH_archive/TMAX_NIFTI_QUANT\\REGISTERED\\RAMIREZ_ANGELA.nii\n",
      "Processing RAMIREZ_ELIZABETH...\n",
      "Moving image: D:/CTH_archive/TMAX_NIFTI_QUANT\\RAMIREZ_ELIZABETH.nii\n",
      "Fixed image: D:/CTH_archive/CTH_STRIPPED\\RAMIREZ_ELIZABETH.nii\n",
      "CTP image: D:/CTH_archive/CTP_STRIPPED\\RAMIREZ_ELIZABETH.nii\n",
      "Processed and saved: D:/CTH_archive/TMAX_NIFTI_QUANT\\REGISTERED\\RAMIREZ_ELIZABETH.nii\n",
      "Processing RAMUSEVIC_SMAIL...\n",
      "Moving image: D:/CTH_archive/TMAX_NIFTI_QUANT\\RAMUSEVIC_SMAIL.nii\n",
      "Fixed image: D:/CTH_archive/CTH_STRIPPED\\RAMUSEVIC_SMAIL.nii\n",
      "CTP image: D:/CTH_archive/CTP_STRIPPED\\RAMUSEVIC_SMAIL.nii\n",
      "Processed and saved: D:/CTH_archive/TMAX_NIFTI_QUANT\\REGISTERED\\RAMUSEVIC_SMAIL.nii\n",
      "Processing RAPPOPORT_MARIO...\n",
      "Moving image: D:/CTH_archive/TMAX_NIFTI_QUANT\\RAPPOPORT_MARIO.nii\n",
      "Fixed image: D:/CTH_archive/CTH_STRIPPED\\RAPPOPORT_MARIO.nii\n",
      "CTP image: D:/CTH_archive/CTP_STRIPPED\\RAPPOPORT_MARIO.nii\n",
      "Processed and saved: D:/CTH_archive/TMAX_NIFTI_QUANT\\REGISTERED\\RAPPOPORT_MARIO.nii\n",
      "Processing REDMOND_JONATHAN...\n",
      "Moving image: D:/CTH_archive/TMAX_NIFTI_QUANT\\REDMOND_JONATHAN.nii\n",
      "Fixed image: D:/CTH_archive/CTH_STRIPPED\\REDMOND_JONATHAN.nii\n",
      "CTP image: D:/CTH_archive/CTP_STRIPPED\\REDMOND_JONATHAN.nii\n",
      "Processed and saved: D:/CTH_archive/TMAX_NIFTI_QUANT\\REGISTERED\\REDMOND_JONATHAN.nii\n",
      "Processing REYES_ROSA...\n",
      "Moving image: D:/CTH_archive/TMAX_NIFTI_QUANT\\REYES_ROSA.nii\n",
      "Fixed image: D:/CTH_archive/CTH_STRIPPED\\REYES_ROSA.nii\n",
      "CTP image: D:/CTH_archive/CTP_STRIPPED\\REYES_ROSA.nii\n",
      "Processed and saved: D:/CTH_archive/TMAX_NIFTI_QUANT\\REGISTERED\\REYES_ROSA.nii\n",
      "Processing RICE_CALVIN...\n",
      "Moving image: D:/CTH_archive/TMAX_NIFTI_QUANT\\RICE_CALVIN.nii\n",
      "Fixed image: D:/CTH_archive/CTH_STRIPPED\\RICE_CALVIN.nii\n",
      "CTP image: D:/CTH_archive/CTP_STRIPPED\\RICE_CALVIN.nii\n",
      "Processed and saved: D:/CTH_archive/TMAX_NIFTI_QUANT\\REGISTERED\\RICE_CALVIN.nii\n",
      "Processing ROBINSON_GENEVA_D...\n",
      "Moving image: D:/CTH_archive/TMAX_NIFTI_QUANT\\ROBINSON_GENEVA_D.nii\n",
      "Fixed image: D:/CTH_archive/CTH_STRIPPED\\ROBINSON_GENEVA_D.nii\n",
      "CTP image: D:/CTH_archive/CTP_STRIPPED\\ROBINSON_GENEVA_D.nii\n",
      "Processed and saved: D:/CTH_archive/TMAX_NIFTI_QUANT\\REGISTERED\\ROBINSON_GENEVA_D.nii\n",
      "Processing RODRIQUEZ_RIVERA_ROQUE...\n",
      "Moving image: D:/CTH_archive/TMAX_NIFTI_QUANT\\RODRIQUEZ_RIVERA_ROQUE.nii\n",
      "Fixed image: D:/CTH_archive/CTH_STRIPPED\\RODRIQUEZ_RIVERA_ROQUE.nii\n",
      "CTP image: D:/CTH_archive/CTP_STRIPPED\\RODRIQUEZ_RIVERA_ROQUE.nii\n",
      "Processed and saved: D:/CTH_archive/TMAX_NIFTI_QUANT\\REGISTERED\\RODRIQUEZ_RIVERA_ROQUE.nii\n",
      "Processing ROGERS_MARSHA...\n",
      "Moving image: D:/CTH_archive/TMAX_NIFTI_QUANT\\ROGERS_MARSHA.nii\n",
      "Fixed image: D:/CTH_archive/CTH_STRIPPED\\ROGERS_MARSHA.nii\n",
      "CTP image: D:/CTH_archive/CTP_STRIPPED\\ROGERS_MARSHA.nii\n",
      "Processed and saved: D:/CTH_archive/TMAX_NIFTI_QUANT\\REGISTERED\\ROGERS_MARSHA.nii\n",
      "Processing ROMEO_ROBIN_MAXIMILAN...\n",
      "Moving image: D:/CTH_archive/TMAX_NIFTI_QUANT\\ROMEO_ROBIN_MAXIMILAN.nii\n",
      "Fixed image: D:/CTH_archive/CTH_STRIPPED\\ROMEO_ROBIN_MAXIMILAN.nii\n",
      "CTP image: D:/CTH_archive/CTP_STRIPPED\\ROMEO_ROBIN_MAXIMILAN.nii\n",
      "Processed and saved: D:/CTH_archive/TMAX_NIFTI_QUANT\\REGISTERED\\ROMEO_ROBIN_MAXIMILAN.nii\n",
      "Processing ROSE_SYLVIA...\n",
      "Moving image: D:/CTH_archive/TMAX_NIFTI_QUANT\\ROSE_SYLVIA.nii\n",
      "Fixed image: D:/CTH_archive/CTH_STRIPPED\\ROSE_SYLVIA.nii\n",
      "CTP image: D:/CTH_archive/CTP_STRIPPED\\ROSE_SYLVIA.nii\n",
      "Processed and saved: D:/CTH_archive/TMAX_NIFTI_QUANT\\REGISTERED\\ROSE_SYLVIA.nii\n",
      "Processing RUBALLO_OMAR...\n",
      "Moving image: D:/CTH_archive/TMAX_NIFTI_QUANT\\RUBALLO_OMAR.nii\n",
      "Fixed image: D:/CTH_archive/CTH_STRIPPED\\RUBALLO_OMAR.nii\n",
      "CTP image: D:/CTH_archive/CTP_STRIPPED\\RUBALLO_OMAR.nii\n",
      "Processed and saved: D:/CTH_archive/TMAX_NIFTI_QUANT\\REGISTERED\\RUBALLO_OMAR.nii\n",
      "Processing RYAN_MICHAEL...\n",
      "Moving image: D:/CTH_archive/TMAX_NIFTI_QUANT\\RYAN_MICHAEL.nii\n",
      "Fixed image: D:/CTH_archive/CTH_STRIPPED\\RYAN_MICHAEL.nii\n",
      "CTP image: D:/CTH_archive/CTP_STRIPPED\\RYAN_MICHAEL.nii\n",
      "Processed and saved: D:/CTH_archive/TMAX_NIFTI_QUANT\\REGISTERED\\RYAN_MICHAEL.nii\n",
      "Processing SALTER_GLADYS...\n",
      "Moving image: D:/CTH_archive/TMAX_NIFTI_QUANT\\SALTER_GLADYS.nii\n",
      "Fixed image: D:/CTH_archive/CTH_STRIPPED\\SALTER_GLADYS.nii\n",
      "CTP image: D:/CTH_archive/CTP_STRIPPED\\SALTER_GLADYS.nii\n",
      "Processed and saved: D:/CTH_archive/TMAX_NIFTI_QUANT\\REGISTERED\\SALTER_GLADYS.nii\n",
      "Processing SANTIAGO_CARMEN...\n",
      "Moving image: D:/CTH_archive/TMAX_NIFTI_QUANT\\SANTIAGO_CARMEN.nii\n",
      "Fixed image: D:/CTH_archive/CTH_STRIPPED\\SANTIAGO_CARMEN.nii\n",
      "CTP image: D:/CTH_archive/CTP_STRIPPED\\SANTIAGO_CARMEN.nii\n",
      "Processed and saved: D:/CTH_archive/TMAX_NIFTI_QUANT\\REGISTERED\\SANTIAGO_CARMEN.nii\n",
      "Processing SCOUFARAS_DESPINA...\n",
      "Moving image: D:/CTH_archive/TMAX_NIFTI_QUANT\\SCOUFARAS_DESPINA.nii\n",
      "Fixed image: D:/CTH_archive/CTH_STRIPPED\\SCOUFARAS_DESPINA.nii\n",
      "CTP image: D:/CTH_archive/CTP_STRIPPED\\SCOUFARAS_DESPINA.nii\n",
      "Processed and saved: D:/CTH_archive/TMAX_NIFTI_QUANT\\REGISTERED\\SCOUFARAS_DESPINA.nii\n",
      "Processing SGARLATO_SANTO...\n",
      "Moving image: D:/CTH_archive/TMAX_NIFTI_QUANT\\SGARLATO_SANTO.nii\n",
      "Fixed image: D:/CTH_archive/CTH_STRIPPED\\SGARLATO_SANTO.nii\n",
      "CTP image: D:/CTH_archive/CTP_STRIPPED\\SGARLATO_SANTO.nii\n",
      "Processed and saved: D:/CTH_archive/TMAX_NIFTI_QUANT\\REGISTERED\\SGARLATO_SANTO.nii\n",
      "Processing SHERPA_DEKI...\n",
      "Moving image: D:/CTH_archive/TMAX_NIFTI_QUANT\\SHERPA_DEKI.nii\n",
      "Fixed image: D:/CTH_archive/CTH_STRIPPED\\SHERPA_DEKI.nii\n",
      "CTP image: D:/CTH_archive/CTP_STRIPPED\\SHERPA_DEKI.nii\n",
      "Processed and saved: D:/CTH_archive/TMAX_NIFTI_QUANT\\REGISTERED\\SHERPA_DEKI.nii\n",
      "Processing SIEJACK_EURANIA...\n",
      "Moving image: D:/CTH_archive/TMAX_NIFTI_QUANT\\SIEJACK_EURANIA.nii\n",
      "Fixed image: D:/CTH_archive/CTH_STRIPPED\\SIEJACK_EURANIA.nii\n",
      "CTP image: D:/CTH_archive/CTP_STRIPPED\\SIEJACK_EURANIA.nii\n",
      "Processed and saved: D:/CTH_archive/TMAX_NIFTI_QUANT\\REGISTERED\\SIEJACK_EURANIA.nii\n",
      "Processing SINGH_HARBHAJAN...\n",
      "Moving image: D:/CTH_archive/TMAX_NIFTI_QUANT\\SINGH_HARBHAJAN.nii\n",
      "Fixed image: D:/CTH_archive/CTH_STRIPPED\\SINGH_HARBHAJAN.nii\n",
      "CTP image: D:/CTH_archive/CTP_STRIPPED\\SINGH_HARBHAJAN.nii\n",
      "Processed and saved: D:/CTH_archive/TMAX_NIFTI_QUANT\\REGISTERED\\SINGH_HARBHAJAN.nii\n",
      "Processing SINGLETARY_DONALD...\n",
      "Moving image: D:/CTH_archive/TMAX_NIFTI_QUANT\\SINGLETARY_DONALD.nii\n",
      "Fixed image: D:/CTH_archive/CTH_STRIPPED\\SINGLETARY_DONALD.nii\n",
      "CTP image: D:/CTH_archive/CTP_STRIPPED\\SINGLETARY_DONALD.nii\n",
      "Processed and saved: D:/CTH_archive/TMAX_NIFTI_QUANT\\REGISTERED\\SINGLETARY_DONALD.nii\n",
      "Processing SUAREZ_EDWIN...\n",
      "Moving image: D:/CTH_archive/TMAX_NIFTI_QUANT\\SUAREZ_EDWIN.nii\n",
      "Fixed image: D:/CTH_archive/CTH_STRIPPED\\SUAREZ_EDWIN.nii\n",
      "CTP image: D:/CTH_archive/CTP_STRIPPED\\SUAREZ_EDWIN.nii\n",
      "Processed and saved: D:/CTH_archive/TMAX_NIFTI_QUANT\\REGISTERED\\SUAREZ_EDWIN.nii\n",
      "Processing TORII_YUKIO...\n",
      "Moving image: D:/CTH_archive/TMAX_NIFTI_QUANT\\TORII_YUKIO.nii\n",
      "Fixed image: D:/CTH_archive/CTH_STRIPPED\\TORII_YUKIO.nii\n",
      "CTP image: D:/CTH_archive/CTP_STRIPPED\\TORII_YUKIO.nii\n",
      "Processed and saved: D:/CTH_archive/TMAX_NIFTI_QUANT\\REGISTERED\\TORII_YUKIO.nii\n",
      "Processing TOUATI_MOHAMED...\n",
      "Moving image: D:/CTH_archive/TMAX_NIFTI_QUANT\\TOUATI_MOHAMED.nii\n",
      "Fixed image: D:/CTH_archive/CTH_STRIPPED\\TOUATI_MOHAMED.nii\n",
      "CTP image: D:/CTH_archive/CTP_STRIPPED\\TOUATI_MOHAMED.nii\n",
      "Processed and saved: D:/CTH_archive/TMAX_NIFTI_QUANT\\REGISTERED\\TOUATI_MOHAMED.nii\n",
      "Processing VANN_ELLIS_W...\n",
      "Moving image: D:/CTH_archive/TMAX_NIFTI_QUANT\\VANN_ELLIS_W.nii\n",
      "Fixed image: D:/CTH_archive/CTH_STRIPPED\\VANN_ELLIS_W.nii\n",
      "CTP image: D:/CTH_archive/CTP_STRIPPED\\VANN_ELLIS_W.nii\n",
      "Processed and saved: D:/CTH_archive/TMAX_NIFTI_QUANT\\REGISTERED\\VANN_ELLIS_W.nii\n",
      "Processing YOUNG_LEOTA...\n",
      "Moving image: D:/CTH_archive/TMAX_NIFTI_QUANT\\YOUNG_LEOTA.nii\n",
      "Fixed image: D:/CTH_archive/CTH_STRIPPED\\YOUNG_LEOTA.nii\n",
      "CTP image: D:/CTH_archive/CTP_STRIPPED\\YOUNG_LEOTA.nii\n",
      "Processed and saved: D:/CTH_archive/TMAX_NIFTI_QUANT\\REGISTERED\\YOUNG_LEOTA.nii\n"
     ]
    }
   ],
   "source": [
    "def resample_image(moving_image, fixed_image, ctp_image):\n",
    "    desired_size = [fixed_image.GetSize()[0], fixed_image.GetSize()[1], ctp_image.GetSize()[2]]\n",
    "    resampler = sitk.ResampleImageFilter()\n",
    "    resampler.SetReferenceImage(moving_image)\n",
    "    resampler.SetSize(desired_size)\n",
    "    resampler.SetOutputSpacing([moving_image.GetSpacing()[i] * (moving_image.GetSize()[i] / desired_size[i]) for i in range(3)])\n",
    "    resampler.SetTransform(sitk.Transform())\n",
    "    resampler.SetInterpolator(sitk.sitkLinear)\n",
    "    resized_moving_image = resampler.Execute(moving_image)\n",
    "    resized_moving_image.SetSpacing(ctp_image.GetSpacing())\n",
    "    resized_moving_image.SetOrigin(ctp_image.GetOrigin())\n",
    "    resized_moving_image.SetDirection(ctp_image.GetDirection())\n",
    "    return resized_moving_image\n",
    "\n",
    "def apply_final_transform(resized_moving_image, fixed_image, transform_file_path):\n",
    "    final_transform = sitk.ReadTransform(transform_file_path)\n",
    "    resampled_image = sitk.Resample(resized_moving_image, \n",
    "                                    fixed_image, \n",
    "                                    final_transform, \n",
    "                                    sitk.sitkLinear, \n",
    "                                    0.0, \n",
    "                                    fixed_image.GetPixelID())\n",
    "    return resampled_image\n",
    "\n",
    "# Directories\n",
    "tmax_nifti_dir = r\"D:/CTH_archive/TMAX_NIFTI_QUANT\"\n",
    "transforms_dir = r\"D:/CTH_archive/TRANSFORMS_STRIPPED\"\n",
    "cth_stripped_dir = r\"D:/CTH_archive/CTH_STRIPPED\"\n",
    "ctp_stripped_dir = r\"D:/CTH_archive/CTP_STRIPPED\"\n",
    "output_dir = os.path.join(tmax_nifti_dir, \"REGISTERED\")\n",
    "\n",
    "# Ensure the output directory exists\n",
    "if not os.path.exists(output_dir):\n",
    "    os.makedirs(output_dir)\n",
    "\n",
    "# Iterate over the transformation files\n",
    "for transform_file in os.listdir(transforms_dir):\n",
    "    transform_path = os.path.join(transforms_dir, transform_file)\n",
    "    base_filename = transform_file.replace('.h5', '')\n",
    "\n",
    "    # Paths to the moving, fixed, and reference (ctp) images\n",
    "    moving_image_path = os.path.join(tmax_nifti_dir, base_filename + '.nii')\n",
    "    fixed_image_path = os.path.join(cth_stripped_dir, base_filename + '.nii')\n",
    "    ctp_image_path = os.path.join(ctp_stripped_dir, base_filename + '.nii')\n",
    "    print(f\"Processing {base_filename}...\")\n",
    "\n",
    "    # Check if all required files exist\n",
    "    if os.path.exists(moving_image_path) and os.path.exists(fixed_image_path) and os.path.exists(ctp_image_path):\n",
    "        # Load images\n",
    "        moving_image = sitk.ReadImage(moving_image_path)\n",
    "        fixed_image = sitk.ReadImage(fixed_image_path)\n",
    "        ctp_image = sitk.ReadImage(ctp_image_path)\n",
    "\n",
    "        # Resample the moving image\n",
    "        resized_moving_image = resample_image(moving_image, fixed_image, ctp_image)\n",
    "\n",
    "        # Apply the final transformation\n",
    "        resampled_image = apply_final_transform(resized_moving_image, fixed_image, transform_path)\n",
    "\n",
    "        # Save the resampled image\n",
    "        resampled_image_path = os.path.join(output_dir, base_filename + '.nii')\n",
    "        sitk.WriteImage(resampled_image, resampled_image_path)\n",
    "        print(f\"Processed and saved: {resampled_image_path}\")\n",
    "    else:\n",
    "        print(f\"Required files for {base_filename} are not available.\")\n",
    "    "
   ]
  },
  {
   "cell_type": "code",
   "execution_count": null,
   "metadata": {},
   "outputs": [],
   "source": [
    "import os\n",
    "import re\n",
    "\n",
    "# Directory containing the files\n",
    "directory_path = \"D:\\\\CTH_archive\\\\CTP_STRIPPED\"\n",
    "\n",
    "# Iterate over all files in the directory\n",
    "for filename in os.listdir(directory_path):\n",
    "    # Full path of the current file\n",
    "    original_path = os.path.join(directory_path, filename)\n",
    "\n",
    "    # Skip directories, process only files\n",
    "    if os.path.isfile(original_path):\n",
    "        # Remove numeric pattern and the word 'transform' from the filename\n",
    "        new_filename = re.sub(r\"_\\d+|_transform\", \"\", filename)\n",
    "\n",
    "        # Full path for the new file name\n",
    "        new_path = os.path.join(directory_path, new_filename)\n",
    "\n",
    "        # Rename the file\n",
    "        os.rename(original_path, new_path)\n",
    "        print(f\"Renamed '{original_path}' to '{new_path}'\")\n"
   ]
  },
  {
   "cell_type": "code",
   "execution_count": 53,
   "metadata": {},
   "outputs": [
    {
     "name": "stdout",
     "output_type": "stream",
     "text": [
      "Adjusted and saved: D:\\CTH_archive\\TMAX_NIFTI_QUANT\\REGISTERED_ADJUSTED\\ALFORD_BARBARA.nii\n",
      "Adjusted and saved: D:\\CTH_archive\\TMAX_NIFTI_QUANT\\REGISTERED_ADJUSTED\\ALLAH_MAJUSTICE.nii\n",
      "Adjusted and saved: D:\\CTH_archive\\TMAX_NIFTI_QUANT\\REGISTERED_ADJUSTED\\BATTLE_MARIA.nii\n",
      "Adjusted and saved: D:\\CTH_archive\\TMAX_NIFTI_QUANT\\REGISTERED_ADJUSTED\\BAUM_ROBERT.nii\n",
      "Adjusted and saved: D:\\CTH_archive\\TMAX_NIFTI_QUANT\\REGISTERED_ADJUSTED\\BILLIPS_JAMES.nii\n",
      "Adjusted and saved: D:\\CTH_archive\\TMAX_NIFTI_QUANT\\REGISTERED_ADJUSTED\\BOGER_DAVID_S.nii\n",
      "Adjusted and saved: D:\\CTH_archive\\TMAX_NIFTI_QUANT\\REGISTERED_ADJUSTED\\BROWN_ANTHONY.nii\n",
      "Adjusted and saved: D:\\CTH_archive\\TMAX_NIFTI_QUANT\\REGISTERED_ADJUSTED\\CAMPAGNA_HARRY_D.nii\n",
      "Adjusted and saved: D:\\CTH_archive\\TMAX_NIFTI_QUANT\\REGISTERED_ADJUSTED\\CANIGLIA_ROBERT.nii\n",
      "Adjusted and saved: D:\\CTH_archive\\TMAX_NIFTI_QUANT\\REGISTERED_ADJUSTED\\CARDIN_PAUL.nii\n",
      "Adjusted and saved: D:\\CTH_archive\\TMAX_NIFTI_QUANT\\REGISTERED_ADJUSTED\\CHANG_WAH_KONG.nii\n",
      "Adjusted and saved: D:\\CTH_archive\\TMAX_NIFTI_QUANT\\REGISTERED_ADJUSTED\\CHEN_QIAOYING.nii\n",
      "Adjusted and saved: D:\\CTH_archive\\TMAX_NIFTI_QUANT\\REGISTERED_ADJUSTED\\CHEN_XIU_D.nii\n",
      "Adjusted and saved: D:\\CTH_archive\\TMAX_NIFTI_QUANT\\REGISTERED_ADJUSTED\\CHEUNG_SIU-LING_LING_WOO.nii\n",
      "Adjusted and saved: D:\\CTH_archive\\TMAX_NIFTI_QUANT\\REGISTERED_ADJUSTED\\CHOWDHURY_SALMA_K.nii\n",
      "Adjusted and saved: D:\\CTH_archive\\TMAX_NIFTI_QUANT\\REGISTERED_ADJUSTED\\CLARKSON-FARRELL_EDWARD.nii\n",
      "Adjusted and saved: D:\\CTH_archive\\TMAX_NIFTI_QUANT\\REGISTERED_ADJUSTED\\COLLADOTORRES_URIBES_A.nii\n",
      "Adjusted and saved: D:\\CTH_archive\\TMAX_NIFTI_QUANT\\REGISTERED_ADJUSTED\\COMPRES_THELMA.nii\n",
      "Adjusted and saved: D:\\CTH_archive\\TMAX_NIFTI_QUANT\\REGISTERED_ADJUSTED\\COOPER_SUSAN.nii\n",
      "Adjusted and saved: D:\\CTH_archive\\TMAX_NIFTI_QUANT\\REGISTERED_ADJUSTED\\CRUZ_MIRIAN.nii\n",
      "Adjusted and saved: D:\\CTH_archive\\TMAX_NIFTI_QUANT\\REGISTERED_ADJUSTED\\DAMBOISE_JACQUES_J.nii\n",
      "Adjusted and saved: D:\\CTH_archive\\TMAX_NIFTI_QUANT\\REGISTERED_ADJUSTED\\DEGRAFT_NYUMUTSU_E.nii\n",
      "Adjusted and saved: D:\\CTH_archive\\TMAX_NIFTI_QUANT\\REGISTERED_ADJUSTED\\DONALDSON_GEORGIANNA.nii\n",
      "Adjusted and saved: D:\\CTH_archive\\TMAX_NIFTI_QUANT\\REGISTERED_ADJUSTED\\DUMA_ZBIGNIEW.nii\n",
      "Adjusted and saved: D:\\CTH_archive\\TMAX_NIFTI_QUANT\\REGISTERED_ADJUSTED\\EASON_CHARLES.nii\n",
      "Adjusted and saved: D:\\CTH_archive\\TMAX_NIFTI_QUANT\\REGISTERED_ADJUSTED\\ELISA-WRIGHT_KANZADER.nii\n",
      "Adjusted and saved: D:\\CTH_archive\\TMAX_NIFTI_QUANT\\REGISTERED_ADJUSTED\\FERNANDEZ_LUIS.nii\n",
      "Adjusted and saved: D:\\CTH_archive\\TMAX_NIFTI_QUANT\\REGISTERED_ADJUSTED\\FILION_JULIO.nii\n",
      "Adjusted and saved: D:\\CTH_archive\\TMAX_NIFTI_QUANT\\REGISTERED_ADJUSTED\\FILI_CHARLES.nii\n",
      "Adjusted and saved: D:\\CTH_archive\\TMAX_NIFTI_QUANT\\REGISTERED_ADJUSTED\\FISHER_BARBARA.nii\n",
      "Adjusted and saved: D:\\CTH_archive\\TMAX_NIFTI_QUANT\\REGISTERED_ADJUSTED\\GARCIA_ABELARDO.nii\n",
      "Adjusted and saved: D:\\CTH_archive\\TMAX_NIFTI_QUANT\\REGISTERED_ADJUSTED\\GARCIA_ARTURO.nii\n",
      "Adjusted and saved: D:\\CTH_archive\\TMAX_NIFTI_QUANT\\REGISTERED_ADJUSTED\\GENTLE_CLINTON.nii\n",
      "Adjusted and saved: D:\\CTH_archive\\TMAX_NIFTI_QUANT\\REGISTERED_ADJUSTED\\GOBLE_TAMMY.nii\n",
      "Adjusted and saved: D:\\CTH_archive\\TMAX_NIFTI_QUANT\\REGISTERED_ADJUSTED\\GONZALEZ_FERNANDO.nii\n",
      "Adjusted and saved: D:\\CTH_archive\\TMAX_NIFTI_QUANT\\REGISTERED_ADJUSTED\\GUZMAN_IRIS.nii\n",
      "Adjusted and saved: D:\\CTH_archive\\TMAX_NIFTI_QUANT\\REGISTERED_ADJUSTED\\HALL_KELBERT_MCDO.nii\n",
      "Adjusted and saved: D:\\CTH_archive\\TMAX_NIFTI_QUANT\\REGISTERED_ADJUSTED\\HALL_WILLIAM.nii\n",
      "Adjusted and saved: D:\\CTH_archive\\TMAX_NIFTI_QUANT\\REGISTERED_ADJUSTED\\HANSEN_GEORGE_A.nii\n",
      "Adjusted and saved: D:\\CTH_archive\\TMAX_NIFTI_QUANT\\REGISTERED_ADJUSTED\\HATTA_MARIA.nii\n",
      "Adjusted and saved: D:\\CTH_archive\\TMAX_NIFTI_QUANT\\REGISTERED_ADJUSTED\\HECKSTALL_CORA.nii\n",
      "Adjusted and saved: D:\\CTH_archive\\TMAX_NIFTI_QUANT\\REGISTERED_ADJUSTED\\HIRSCH_LEMEL.nii\n",
      "Adjusted and saved: D:\\CTH_archive\\TMAX_NIFTI_QUANT\\REGISTERED_ADJUSTED\\IRIZARRY_MONSITA.nii\n",
      "Adjusted and saved: D:\\CTH_archive\\TMAX_NIFTI_QUANT\\REGISTERED_ADJUSTED\\KAMWA_JEAN-PIERRE.nii\n",
      "Adjusted and saved: D:\\CTH_archive\\TMAX_NIFTI_QUANT\\REGISTERED_ADJUSTED\\KILLACKEY_WILLIAM.nii\n",
      "Adjusted and saved: D:\\CTH_archive\\TMAX_NIFTI_QUANT\\REGISTERED_ADJUSTED\\KING_TANDEKA_I.nii\n",
      "Adjusted and saved: D:\\CTH_archive\\TMAX_NIFTI_QUANT\\REGISTERED_ADJUSTED\\LADSON_ROSE.nii\n",
      "Adjusted and saved: D:\\CTH_archive\\TMAX_NIFTI_QUANT\\REGISTERED_ADJUSTED\\LAQUERCIA_THEODORE.nii\n",
      "Adjusted and saved: D:\\CTH_archive\\TMAX_NIFTI_QUANT\\REGISTERED_ADJUSTED\\LASUSA_PETER_ROBERT.nii\n",
      "Adjusted and saved: D:\\CTH_archive\\TMAX_NIFTI_QUANT\\REGISTERED_ADJUSTED\\LATTEIER_MARIA.nii\n",
      "Adjusted and saved: D:\\CTH_archive\\TMAX_NIFTI_QUANT\\REGISTERED_ADJUSTED\\LAWSON_MIRIAM.nii\n",
      "Adjusted and saved: D:\\CTH_archive\\TMAX_NIFTI_QUANT\\REGISTERED_ADJUSTED\\LIPNICKI_ROMAN.nii\n",
      "Adjusted and saved: D:\\CTH_archive\\TMAX_NIFTI_QUANT\\REGISTERED_ADJUSTED\\LOCKETT_GLORIA.nii\n",
      "Adjusted and saved: D:\\CTH_archive\\TMAX_NIFTI_QUANT\\REGISTERED_ADJUSTED\\LOPEZ_LEONOR.nii\n",
      "Adjusted and saved: D:\\CTH_archive\\TMAX_NIFTI_QUANT\\REGISTERED_ADJUSTED\\LORD_JANE.nii\n",
      "Adjusted and saved: D:\\CTH_archive\\TMAX_NIFTI_QUANT\\REGISTERED_ADJUSTED\\LOVE_MARY_E.nii\n",
      "Adjusted and saved: D:\\CTH_archive\\TMAX_NIFTI_QUANT\\REGISTERED_ADJUSTED\\LUNA_LOURDES.nii\n",
      "Adjusted and saved: D:\\CTH_archive\\TMAX_NIFTI_QUANT\\REGISTERED_ADJUSTED\\MATABUENA_LUZVIMINDA.nii\n",
      "Adjusted and saved: D:\\CTH_archive\\TMAX_NIFTI_QUANT\\REGISTERED_ADJUSTED\\MAURICIO_DENICE.nii\n",
      "Adjusted and saved: D:\\CTH_archive\\TMAX_NIFTI_QUANT\\REGISTERED_ADJUSTED\\MCGIVNEY_DOROTHY.nii\n",
      "Adjusted and saved: D:\\CTH_archive\\TMAX_NIFTI_QUANT\\REGISTERED_ADJUSTED\\MEDINA_ANNA.nii\n",
      "Adjusted and saved: D:\\CTH_archive\\TMAX_NIFTI_QUANT\\REGISTERED_ADJUSTED\\MENA-ROSA_IDIDA_MERCEDES.nii\n",
      "Adjusted and saved: D:\\CTH_archive\\TMAX_NIFTI_QUANT\\REGISTERED_ADJUSTED\\MENDOZA_REMEDIOS.nii\n",
      "Adjusted and saved: D:\\CTH_archive\\TMAX_NIFTI_QUANT\\REGISTERED_ADJUSTED\\MESSINA_CALOGERO.nii\n",
      "Adjusted and saved: D:\\CTH_archive\\TMAX_NIFTI_QUANT\\REGISTERED_ADJUSTED\\MILLS_JOAN.nii\n",
      "Adjusted and saved: D:\\CTH_archive\\TMAX_NIFTI_QUANT\\REGISTERED_ADJUSTED\\MIRABAL_JORGE.nii\n",
      "Adjusted and saved: D:\\CTH_archive\\TMAX_NIFTI_QUANT\\REGISTERED_ADJUSTED\\MITCHELL_ROSA.nii\n",
      "Adjusted and saved: D:\\CTH_archive\\TMAX_NIFTI_QUANT\\REGISTERED_ADJUSTED\\MONTANEZ_PETER_A.nii\n",
      "Adjusted and saved: D:\\CTH_archive\\TMAX_NIFTI_QUANT\\REGISTERED_ADJUSTED\\MONTERO_RAMIREZ_MICAELA.nii\n",
      "Adjusted and saved: D:\\CTH_archive\\TMAX_NIFTI_QUANT\\REGISTERED_ADJUSTED\\MORENO_JORGE.nii\n",
      "Adjusted and saved: D:\\CTH_archive\\TMAX_NIFTI_QUANT\\REGISTERED_ADJUSTED\\MULDOON_GERALDINE_A.nii\n",
      "Adjusted and saved: D:\\CTH_archive\\TMAX_NIFTI_QUANT\\REGISTERED_ADJUSTED\\NAJERA_JOSE.nii\n",
      "Adjusted and saved: D:\\CTH_archive\\TMAX_NIFTI_QUANT\\REGISTERED_ADJUSTED\\NAVAS_RAFAEL.nii\n",
      "Adjusted and saved: D:\\CTH_archive\\TMAX_NIFTI_QUANT\\REGISTERED_ADJUSTED\\NICHOLAS_LOLA.nii\n",
      "Adjusted and saved: D:\\CTH_archive\\TMAX_NIFTI_QUANT\\REGISTERED_ADJUSTED\\OROVAN_MARY.nii\n",
      "Adjusted and saved: D:\\CTH_archive\\TMAX_NIFTI_QUANT\\REGISTERED_ADJUSTED\\PEREZ_HUGO.nii\n",
      "Adjusted and saved: D:\\CTH_archive\\TMAX_NIFTI_QUANT\\REGISTERED_ADJUSTED\\PERINA_ROBERT.nii\n",
      "Adjusted and saved: D:\\CTH_archive\\TMAX_NIFTI_QUANT\\REGISTERED_ADJUSTED\\PERLMUTTER_JULES.nii\n",
      "Adjusted and saved: D:\\CTH_archive\\TMAX_NIFTI_QUANT\\REGISTERED_ADJUSTED\\PLAZA_RAUL.nii\n",
      "Adjusted and saved: D:\\CTH_archive\\TMAX_NIFTI_QUANT\\REGISTERED_ADJUSTED\\QUILES_MARIBEL.nii\n",
      "Adjusted and saved: D:\\CTH_archive\\TMAX_NIFTI_QUANT\\REGISTERED_ADJUSTED\\RAMIREZ_ANGELA.nii\n",
      "Adjusted and saved: D:\\CTH_archive\\TMAX_NIFTI_QUANT\\REGISTERED_ADJUSTED\\RAMIREZ_ELIZABETH.nii\n",
      "Adjusted and saved: D:\\CTH_archive\\TMAX_NIFTI_QUANT\\REGISTERED_ADJUSTED\\RAMUSEVIC_SMAIL.nii\n",
      "Adjusted and saved: D:\\CTH_archive\\TMAX_NIFTI_QUANT\\REGISTERED_ADJUSTED\\RAPPOPORT_MARIO.nii\n",
      "Adjusted and saved: D:\\CTH_archive\\TMAX_NIFTI_QUANT\\REGISTERED_ADJUSTED\\REDMOND_JONATHAN.nii\n",
      "Adjusted and saved: D:\\CTH_archive\\TMAX_NIFTI_QUANT\\REGISTERED_ADJUSTED\\REYES_ROSA.nii\n",
      "Adjusted and saved: D:\\CTH_archive\\TMAX_NIFTI_QUANT\\REGISTERED_ADJUSTED\\RICE_CALVIN.nii\n",
      "Adjusted and saved: D:\\CTH_archive\\TMAX_NIFTI_QUANT\\REGISTERED_ADJUSTED\\ROBINSON_GENEVA_D.nii\n",
      "Adjusted and saved: D:\\CTH_archive\\TMAX_NIFTI_QUANT\\REGISTERED_ADJUSTED\\RODRIQUEZ_RIVERA_ROQUE.nii\n",
      "Adjusted and saved: D:\\CTH_archive\\TMAX_NIFTI_QUANT\\REGISTERED_ADJUSTED\\ROGERS_MARSHA.nii\n",
      "Adjusted and saved: D:\\CTH_archive\\TMAX_NIFTI_QUANT\\REGISTERED_ADJUSTED\\ROMEO_ROBIN_MAXIMILAN.nii\n",
      "Adjusted and saved: D:\\CTH_archive\\TMAX_NIFTI_QUANT\\REGISTERED_ADJUSTED\\ROSE_SYLVIA.nii\n",
      "Adjusted and saved: D:\\CTH_archive\\TMAX_NIFTI_QUANT\\REGISTERED_ADJUSTED\\RUBALLO_OMAR.nii\n",
      "Adjusted and saved: D:\\CTH_archive\\TMAX_NIFTI_QUANT\\REGISTERED_ADJUSTED\\RYAN_MICHAEL.nii\n",
      "Adjusted and saved: D:\\CTH_archive\\TMAX_NIFTI_QUANT\\REGISTERED_ADJUSTED\\SALTER_GLADYS.nii\n",
      "Adjusted and saved: D:\\CTH_archive\\TMAX_NIFTI_QUANT\\REGISTERED_ADJUSTED\\SANTIAGO_CARMEN.nii\n",
      "Adjusted and saved: D:\\CTH_archive\\TMAX_NIFTI_QUANT\\REGISTERED_ADJUSTED\\SCOUFARAS_DESPINA.nii\n",
      "Adjusted and saved: D:\\CTH_archive\\TMAX_NIFTI_QUANT\\REGISTERED_ADJUSTED\\SGARLATO_SANTO.nii\n",
      "Adjusted and saved: D:\\CTH_archive\\TMAX_NIFTI_QUANT\\REGISTERED_ADJUSTED\\SHERPA_DEKI.nii\n",
      "Adjusted and saved: D:\\CTH_archive\\TMAX_NIFTI_QUANT\\REGISTERED_ADJUSTED\\SIEJACK_EURANIA.nii\n",
      "Adjusted and saved: D:\\CTH_archive\\TMAX_NIFTI_QUANT\\REGISTERED_ADJUSTED\\SINGH_HARBHAJAN.nii\n",
      "Adjusted and saved: D:\\CTH_archive\\TMAX_NIFTI_QUANT\\REGISTERED_ADJUSTED\\SINGLETARY_DONALD.nii\n",
      "Adjusted and saved: D:\\CTH_archive\\TMAX_NIFTI_QUANT\\REGISTERED_ADJUSTED\\SUAREZ_EDWIN.nii\n",
      "Adjusted and saved: D:\\CTH_archive\\TMAX_NIFTI_QUANT\\REGISTERED_ADJUSTED\\TORII_YUKIO.nii\n",
      "Adjusted and saved: D:\\CTH_archive\\TMAX_NIFTI_QUANT\\REGISTERED_ADJUSTED\\TOUATI_MOHAMED.nii\n",
      "Adjusted and saved: D:\\CTH_archive\\TMAX_NIFTI_QUANT\\REGISTERED_ADJUSTED\\VANN_ELLIS_W.nii\n",
      "Adjusted and saved: D:\\CTH_archive\\TMAX_NIFTI_QUANT\\REGISTERED_ADJUSTED\\YOUNG_LEOTA.nii\n"
     ]
    }
   ],
   "source": [
    "def adjust_label_intensities(label_dir, output_dir):\n",
    "    # Ensure the output directory exists, create if it doesn't\n",
    "    if not os.path.exists(output_dir):\n",
    "        os.makedirs(output_dir)\n",
    "\n",
    "    # Iterate over all files in the label directory\n",
    "    for file_name in os.listdir(label_dir):\n",
    "        if file_name.endswith('.nii'):\n",
    "            file_path = os.path.join(label_dir, file_name)\n",
    "\n",
    "            # Load the label file\n",
    "            label_image = nib.load(file_path)\n",
    "            label_data = label_image.get_fdata()\n",
    "\n",
    "            # Modify non-zero intensities\n",
    "            non_background_mask = label_data > 0\n",
    "            label_data[non_background_mask] = np.round(label_data[non_background_mask])\n",
    "\n",
    "            # Create a new NIfTI image object with the adjusted data\n",
    "            adjusted_label_image = nib.Nifti1Image(label_data, affine=label_image.affine, header=label_image.header)\n",
    "\n",
    "            # Define the output file path\n",
    "            output_file_path = os.path.join(output_dir, file_name)\n",
    "\n",
    "            # Save the adjusted data to the new file in the output directory\n",
    "            nib.save(adjusted_label_image, output_file_path)\n",
    "            print(f\"Adjusted and saved: {output_file_path}\")\n",
    "\n",
    "# Directory containing the quantized label files\n",
    "label_dir = r\"D:\\CTH_archive\\TMAX_NIFTI_QUANT\\REGISTERED\"\n",
    "\n",
    "# New output directory for adjusted label files\n",
    "output_dir = r\"D:\\CTH_archive\\TMAX_NIFTI_QUANT\\REGISTERED_ADJUSTED\"\n",
    "\n",
    "# Call the function to adjust label intensities and save to the new directory\n",
    "adjust_label_intensities(label_dir, output_dir)\n"
   ]
  },
  {
   "cell_type": "code",
   "execution_count": null,
   "metadata": {},
   "outputs": [],
   "source": [
    "import os\n",
    "\n",
    "# List of directories to check\n",
    "directories = [\n",
    "    \"D:\\\\CTH_archive\\\\CTH_NIFTI\",\n",
    "    \"D:\\\\CTH_archive\\\\CTH_STRIPPED\",\n",
    "    \"D:\\\\CTH_archive\\\\CTH_STRIPPED_MASK\",\n",
    "    \"D:\\\\CTH_archive\\\\CTP_NIFTI\",\n",
    "    \"D:\\\\CTH_archive\\\\CTP_STRIPPED\",\n",
    "    \"D:\\\\CTH_archive\\\\CTP_STRIPPED_MASK\",\n",
    "    \"D:\\\\CTH_archive\\\\TMAX_NIFTI\",\n",
    "    \"D:\\\\CTH_archive\\\\TMAX_NIFTI_QUANT\"\n",
    "]\n",
    "\n",
    "# Dictionary to hold the set of file base names (without extension) for each directory\n",
    "file_sets = {}\n",
    "\n",
    "# Extract and store the base names of the files in each directory\n",
    "for directory in directories:\n",
    "    file_names = [os.path.splitext(f)[0] for f in os.listdir(directory) if os.path.isfile(os.path.join(directory, f))]\n",
    "    file_sets[directory] = set(file_names)\n",
    "\n",
    "# Use the first directory as the reference for comparison\n",
    "reference_files = list(file_sets.values())[0]\n",
    "reference_dir = directories[0]\n",
    "\n",
    "# Compare the file sets of each directory against the reference\n",
    "for directory, file_set in file_sets.items():\n",
    "    if directory == reference_dir:\n",
    "        continue  # Skip the reference directory itself\n",
    "    \n",
    "    # Determine missing and extra files relative to the reference\n",
    "    missing_files = reference_files - file_set\n",
    "    extra_files = file_set - reference_files\n",
    "\n",
    "    # Print out any discrepancies\n",
    "    if missing_files:\n",
    "        print(f\"Missing files in {directory} (present in {reference_dir} but not here):\")\n",
    "        for file in missing_files:\n",
    "            print(f\"  {file}\")\n",
    "        print()\n",
    "\n",
    "    if extra_files:\n",
    "        print(f\"Extra files in {directory} (not present in {reference_dir}):\")\n",
    "        for file in extra_files:\n",
    "            print(f\"  {file}\")\n",
    "        print()\n",
    "\n",
    "if not any([missing_files, extra_files]):\n",
    "    print(\"All directories contain the same files, ignoring extensions.\")\n"
   ]
  },
  {
   "cell_type": "code",
   "execution_count": 50,
   "metadata": {},
   "outputs": [
    {
     "name": "stdout",
     "output_type": "stream",
     "text": [
      "Converted ALFORD_BARBARA.nii.gz to .nii format.\n",
      "Converted ALLAH_MAJUSTICE.nii.gz to .nii format.\n",
      "Converted BATTLE_MARIA.nii.gz to .nii format.\n",
      "Converted BAUM_ROBERT.nii.gz to .nii format.\n",
      "Converted BILLIPS_JAMES.nii.gz to .nii format.\n",
      "Converted BOGER_DAVID_S.nii.gz to .nii format.\n",
      "Converted BROWN_ANTHONY.nii.gz to .nii format.\n",
      "Converted CAMPAGNA_HARRY_D.nii.gz to .nii format.\n",
      "Converted CANIGLIA_ROBERT.nii.gz to .nii format.\n",
      "Converted CARDIN_PAUL.nii.gz to .nii format.\n",
      "Converted CHANG_WAH_KONG.nii.gz to .nii format.\n",
      "Converted CHEN_QIAOYING.nii.gz to .nii format.\n",
      "Converted CHEN_XIU_D.nii.gz to .nii format.\n",
      "Converted CHEUNG_SIU-LING_LING_WOO.nii.gz to .nii format.\n",
      "Converted CHOWDHURY_SALMA_K.nii.gz to .nii format.\n",
      "Converted CLARKSON-FARRELL_EDWARD.nii.gz to .nii format.\n",
      "Converted COLLADOTORRES_URIBES_A.nii.gz to .nii format.\n",
      "Converted COMPRES_THELMA.nii.gz to .nii format.\n",
      "Converted COOPER_SUSAN.nii.gz to .nii format.\n",
      "Converted CRUZ_MIRIAN.nii.gz to .nii format.\n",
      "Converted DAMBOISE_JACQUES_J.nii.gz to .nii format.\n",
      "Converted DEGRAFT_NYUMUTSU_E.nii.gz to .nii format.\n",
      "Converted DONALDSON_GEORGIANNA.nii.gz to .nii format.\n",
      "Converted DUMA_ZBIGNIEW.nii.gz to .nii format.\n",
      "Converted EASON_CHARLES.nii.gz to .nii format.\n",
      "Converted ELISA-WRIGHT_KANZADER.nii.gz to .nii format.\n",
      "Converted FERNANDEZ_LUIS.nii.gz to .nii format.\n",
      "Converted FILION_JULIO.nii.gz to .nii format.\n",
      "Converted FILI_CHARLES.nii.gz to .nii format.\n",
      "Converted FISHER_BARBARA.nii.gz to .nii format.\n",
      "Converted GARCIA_ABELARDO.nii.gz to .nii format.\n",
      "Converted GARCIA_ARTURO.nii.gz to .nii format.\n",
      "Converted GENTLE_CLINTON.nii.gz to .nii format.\n",
      "Converted GOBLE_TAMMY.nii.gz to .nii format.\n",
      "Converted GONZALEZ_FERNANDO.nii.gz to .nii format.\n",
      "Converted GUZMAN_IRIS.nii.gz to .nii format.\n",
      "Converted HALL_KELBERT_MCDO.nii.gz to .nii format.\n",
      "Converted HALL_WILLIAM.nii.gz to .nii format.\n",
      "Converted HANSEN_GEORGE_A.nii.gz to .nii format.\n",
      "Converted HATTA_MARIA.nii.gz to .nii format.\n",
      "Converted HECKSTALL_CORA.nii.gz to .nii format.\n",
      "Converted HIRSCH_LEMEL.nii.gz to .nii format.\n",
      "Converted IRIZARRY_MONSITA.nii.gz to .nii format.\n",
      "Converted KAMWA_JEAN-PIERRE.nii.gz to .nii format.\n",
      "Converted KILLACKEY_WILLIAM.nii.gz to .nii format.\n",
      "Converted KING_TANDEKA_I.nii.gz to .nii format.\n",
      "Converted LADSON_ROSE.nii.gz to .nii format.\n",
      "Converted LAQUERCIA_THEODORE.nii.gz to .nii format.\n",
      "Converted LASUSA_PETER_ROBERT.nii.gz to .nii format.\n",
      "Converted LATTEIER_MARIA.nii.gz to .nii format.\n",
      "Converted LAWSON_MIRIAM.nii.gz to .nii format.\n",
      "Converted LIPNICKI_ROMAN.nii.gz to .nii format.\n",
      "Converted LOCKETT_GLORIA.nii.gz to .nii format.\n",
      "Converted LOPEZ_LEONOR.nii.gz to .nii format.\n",
      "Converted LORD_JANE.nii.gz to .nii format.\n",
      "Converted LOVE_MARY_E.nii.gz to .nii format.\n",
      "Converted LUNA_LOURDES.nii.gz to .nii format.\n",
      "Converted MATABUENA_LUZVIMINDA.nii.gz to .nii format.\n",
      "Converted MAURICIO_DENICE.nii.gz to .nii format.\n",
      "Converted MCGIVNEY_DOROTHY.nii.gz to .nii format.\n",
      "Converted MEDINA_ANNA.nii.gz to .nii format.\n",
      "Converted MENA-ROSA_IDIDA_MERCEDES.nii.gz to .nii format.\n",
      "Converted MENDOZA_REMEDIOS.nii.gz to .nii format.\n",
      "Converted MESSINA_CALOGERO.nii.gz to .nii format.\n",
      "Converted MILLS_JOAN.nii.gz to .nii format.\n",
      "Converted MIRABAL_JORGE.nii.gz to .nii format.\n",
      "Converted MITCHELL_ROSA.nii.gz to .nii format.\n",
      "Converted MONTANEZ_PETER_A.nii.gz to .nii format.\n",
      "Converted MONTERO_RAMIREZ_MICAELA.nii.gz to .nii format.\n",
      "Converted MORENO_JORGE.nii.gz to .nii format.\n",
      "Converted MULDOON_GERALDINE_A.nii.gz to .nii format.\n",
      "Converted NAJERA_JOSE.nii.gz to .nii format.\n",
      "Converted NAVAS_RAFAEL.nii.gz to .nii format.\n",
      "Converted NICHOLAS_LOLA.nii.gz to .nii format.\n",
      "Converted OROVAN_MARY.nii.gz to .nii format.\n",
      "Converted PEREZ_HUGO.nii.gz to .nii format.\n",
      "Converted PERINA_ROBERT.nii.gz to .nii format.\n",
      "Converted PERLMUTTER_JULES.nii.gz to .nii format.\n",
      "Converted PLAZA_RAUL.nii.gz to .nii format.\n",
      "Converted QUILES_MARIBEL.nii.gz to .nii format.\n",
      "Converted RAMIREZ_ANGELA.nii.gz to .nii format.\n",
      "Converted RAMIREZ_ELIZABETH.nii.gz to .nii format.\n",
      "Converted RAMUSEVIC_SMAIL.nii.gz to .nii format.\n",
      "Converted RAPPOPORT_MARIO.nii.gz to .nii format.\n",
      "Converted REDMOND_JONATHAN.nii.gz to .nii format.\n",
      "Converted REYES_ROSA.nii.gz to .nii format.\n",
      "Converted RICE_CALVIN.nii.gz to .nii format.\n",
      "Converted ROBINSON_GENEVA_D.nii.gz to .nii format.\n",
      "Converted RODRIQUEZ_RIVERA_ROQUE.nii.gz to .nii format.\n",
      "Converted ROGERS_MARSHA.nii.gz to .nii format.\n",
      "Converted ROMEO_ROBIN_MAXIMILAN.nii.gz to .nii format.\n",
      "Converted ROSE_SYLVIA.nii.gz to .nii format.\n",
      "Converted RUBALLO_OMAR.nii.gz to .nii format.\n",
      "Converted RYAN_MICHAEL.nii.gz to .nii format.\n",
      "Converted SALTER_GLADYS.nii.gz to .nii format.\n",
      "Converted SANTIAGO_CARMEN.nii.gz to .nii format.\n",
      "Converted SCOUFARAS_DESPINA.nii.gz to .nii format.\n",
      "Converted SGARLATO_SANTO.nii.gz to .nii format.\n",
      "Converted SHERPA_DEKI.nii.gz to .nii format.\n",
      "Converted SIEJACK_EURANIA.nii.gz to .nii format.\n",
      "Converted SINGH_HARBHAJAN.nii.gz to .nii format.\n",
      "Converted SINGLETARY_DONALD.nii.gz to .nii format.\n",
      "Converted SUAREZ_EDWIN.nii.gz to .nii format.\n",
      "Converted TORII_YUKIO.nii.gz to .nii format.\n",
      "Converted TOUATI_MOHAMED.nii.gz to .nii format.\n",
      "Converted VANN_ELLIS_W.nii.gz to .nii format.\n",
      "Converted YOUNG_LEOTA.nii.gz to .nii format.\n"
     ]
    }
   ],
   "source": [
    "import os\n",
    "import nibabel as nib\n",
    "\n",
    "# Directory containing .nii.gz files\n",
    "directory = 'D:\\CTH_archive\\CTP_STRIPPED'\n",
    "\n",
    "# Iterate over all files in the directory\n",
    "for filename in os.listdir(directory):\n",
    "    # Check if the file is a .nii.gz file\n",
    "    if filename.endswith('.nii.gz'):\n",
    "        # Construct the full file path\n",
    "        file_path = os.path.join(directory, filename)\n",
    "\n",
    "        # Load the .nii.gz file\n",
    "        nii_file = nib.load(file_path)\n",
    "\n",
    "        # Construct the new file name with .nii extension\n",
    "        new_file_path = file_path[:-3]  # Remove 'gz' from the end\n",
    "\n",
    "        # Save the file as .nii\n",
    "        nib.save(nii_file, new_file_path)\n",
    "\n",
    "        # Optionally, remove the original .nii.gz file\n",
    "        # os.remove(file_path)\n",
    "\n",
    "        print(f'Converted {filename} to .nii format.')\n"
   ]
  },
  {
   "cell_type": "code",
   "execution_count": 54,
   "metadata": {},
   "outputs": [
    {
     "name": "stderr",
     "output_type": "stream",
     "text": [
      "Moving test files: 100%|██████████| 5/5 [00:00<00:00, 2403.61it/s]\n"
     ]
    },
    {
     "name": "stdout",
     "output_type": "stream",
     "text": [
      "Moved LASUSA_PETER_ROBERT.nii and its label to the test directories.\n",
      "Moved HIRSCH_LEMEL.nii and its label to the test directories.\n",
      "Moved FILI_CHARLES.nii and its label to the test directories.\n",
      "Moved GARCIA_ABELARDO.nii and its label to the test directories.\n",
      "Moved CHEN_QIAOYING.nii and its label to the test directories.\n"
     ]
    },
    {
     "name": "stderr",
     "output_type": "stream",
     "text": [
      "Processing training files:   0%|          | 0/102 [00:00<?, ?it/s]"
     ]
    },
    {
     "name": "stdout",
     "output_type": "stream",
     "text": [
      "Converted and copied image: D:/CTH_archive/CTH_STRIPPED\\ALFORD_BARBARA.nii to D:/nnUNet_raw/Dataset039_Perfusion/imagesTr\\ALFORD_BARBARA_001_0000.nii.gz\n"
     ]
    },
    {
     "name": "stderr",
     "output_type": "stream",
     "text": [
      "Processing training files:   1%|          | 1/102 [00:00<00:32,  3.11it/s]"
     ]
    },
    {
     "name": "stdout",
     "output_type": "stream",
     "text": [
      "Converted and copied label: D:/CTH_archive/TMAX_NIFTI_QUANT/REGISTERED_ADJUSTED\\ALFORD_BARBARA.nii to D:/nnUNet_raw/Dataset039_Perfusion/labelsTr\\ALFORD_BARBARA_001.nii.gz\n",
      "Converted and copied image: D:/CTH_archive/CTH_STRIPPED\\ALLAH_MAJUSTICE.nii to D:/nnUNet_raw/Dataset039_Perfusion/imagesTr\\ALLAH_MAJUSTICE_002_0000.nii.gz\n"
     ]
    },
    {
     "name": "stderr",
     "output_type": "stream",
     "text": [
      "Processing training files:   2%|▏         | 2/102 [00:00<00:31,  3.18it/s]"
     ]
    },
    {
     "name": "stdout",
     "output_type": "stream",
     "text": [
      "Converted and copied label: D:/CTH_archive/TMAX_NIFTI_QUANT/REGISTERED_ADJUSTED\\ALLAH_MAJUSTICE.nii to D:/nnUNet_raw/Dataset039_Perfusion/labelsTr\\ALLAH_MAJUSTICE_002.nii.gz\n"
     ]
    },
    {
     "name": "stderr",
     "output_type": "stream",
     "text": [
      "Processing training files:   3%|▎         | 3/102 [00:01<00:35,  2.78it/s]"
     ]
    },
    {
     "name": "stdout",
     "output_type": "stream",
     "text": [
      "Converted and copied image: D:/CTH_archive/CTH_STRIPPED\\BATTLE_MARIA.nii to D:/nnUNet_raw/Dataset039_Perfusion/imagesTr\\BATTLE_MARIA_003_0000.nii.gz\n",
      "Converted and copied label: D:/CTH_archive/TMAX_NIFTI_QUANT/REGISTERED_ADJUSTED\\BATTLE_MARIA.nii to D:/nnUNet_raw/Dataset039_Perfusion/labelsTr\\BATTLE_MARIA_003.nii.gz\n"
     ]
    },
    {
     "name": "stderr",
     "output_type": "stream",
     "text": [
      "Processing training files:   4%|▍         | 4/102 [00:01<00:35,  2.78it/s]"
     ]
    },
    {
     "name": "stdout",
     "output_type": "stream",
     "text": [
      "Converted and copied image: D:/CTH_archive/CTH_STRIPPED\\BAUM_ROBERT.nii to D:/nnUNet_raw/Dataset039_Perfusion/imagesTr\\BAUM_ROBERT_004_0000.nii.gz\n",
      "Converted and copied label: D:/CTH_archive/TMAX_NIFTI_QUANT/REGISTERED_ADJUSTED\\BAUM_ROBERT.nii to D:/nnUNet_raw/Dataset039_Perfusion/labelsTr\\BAUM_ROBERT_004.nii.gz\n"
     ]
    },
    {
     "name": "stderr",
     "output_type": "stream",
     "text": [
      "Processing training files:   5%|▍         | 5/102 [00:01<00:37,  2.62it/s]"
     ]
    },
    {
     "name": "stdout",
     "output_type": "stream",
     "text": [
      "Converted and copied image: D:/CTH_archive/CTH_STRIPPED\\BILLIPS_JAMES.nii to D:/nnUNet_raw/Dataset039_Perfusion/imagesTr\\BILLIPS_JAMES_005_0000.nii.gz\n",
      "Converted and copied label: D:/CTH_archive/TMAX_NIFTI_QUANT/REGISTERED_ADJUSTED\\BILLIPS_JAMES.nii to D:/nnUNet_raw/Dataset039_Perfusion/labelsTr\\BILLIPS_JAMES_005.nii.gz\n"
     ]
    },
    {
     "name": "stderr",
     "output_type": "stream",
     "text": [
      "Processing training files:   6%|▌         | 6/102 [00:02<00:34,  2.80it/s]"
     ]
    },
    {
     "name": "stdout",
     "output_type": "stream",
     "text": [
      "Converted and copied image: D:/CTH_archive/CTH_STRIPPED\\BOGER_DAVID_S.nii to D:/nnUNet_raw/Dataset039_Perfusion/imagesTr\\BOGER_DAVID_S_006_0000.nii.gz\n",
      "Converted and copied label: D:/CTH_archive/TMAX_NIFTI_QUANT/REGISTERED_ADJUSTED\\BOGER_DAVID_S.nii to D:/nnUNet_raw/Dataset039_Perfusion/labelsTr\\BOGER_DAVID_S_006.nii.gz\n"
     ]
    },
    {
     "name": "stderr",
     "output_type": "stream",
     "text": [
      "Processing training files:   7%|▋         | 7/102 [00:02<00:32,  2.95it/s]"
     ]
    },
    {
     "name": "stdout",
     "output_type": "stream",
     "text": [
      "Converted and copied image: D:/CTH_archive/CTH_STRIPPED\\BROWN_ANTHONY.nii to D:/nnUNet_raw/Dataset039_Perfusion/imagesTr\\BROWN_ANTHONY_007_0000.nii.gz\n",
      "Converted and copied label: D:/CTH_archive/TMAX_NIFTI_QUANT/REGISTERED_ADJUSTED\\BROWN_ANTHONY.nii to D:/nnUNet_raw/Dataset039_Perfusion/labelsTr\\BROWN_ANTHONY_007.nii.gz\n"
     ]
    },
    {
     "name": "stderr",
     "output_type": "stream",
     "text": [
      "Processing training files:   8%|▊         | 8/102 [00:02<00:32,  2.87it/s]"
     ]
    },
    {
     "name": "stdout",
     "output_type": "stream",
     "text": [
      "Converted and copied image: D:/CTH_archive/CTH_STRIPPED\\CAMPAGNA_HARRY_D.nii to D:/nnUNet_raw/Dataset039_Perfusion/imagesTr\\CAMPAGNA_HARRY_D_008_0000.nii.gz\n",
      "Converted and copied label: D:/CTH_archive/TMAX_NIFTI_QUANT/REGISTERED_ADJUSTED\\CAMPAGNA_HARRY_D.nii to D:/nnUNet_raw/Dataset039_Perfusion/labelsTr\\CAMPAGNA_HARRY_D_008.nii.gz\n",
      "Converted and copied image: D:/CTH_archive/CTH_STRIPPED\\CANIGLIA_ROBERT.nii to D:/nnUNet_raw/Dataset039_Perfusion/imagesTr\\CANIGLIA_ROBERT_009_0000.nii.gz\n"
     ]
    },
    {
     "name": "stderr",
     "output_type": "stream",
     "text": [
      "Processing training files:   9%|▉         | 9/102 [00:03<00:39,  2.34it/s]"
     ]
    },
    {
     "name": "stdout",
     "output_type": "stream",
     "text": [
      "Converted and copied label: D:/CTH_archive/TMAX_NIFTI_QUANT/REGISTERED_ADJUSTED\\CANIGLIA_ROBERT.nii to D:/nnUNet_raw/Dataset039_Perfusion/labelsTr\\CANIGLIA_ROBERT_009.nii.gz\n",
      "Converted and copied image: D:/CTH_archive/CTH_STRIPPED\\CARDIN_PAUL.nii to D:/nnUNet_raw/Dataset039_Perfusion/imagesTr\\CARDIN_PAUL_010_0000.nii.gz\n"
     ]
    },
    {
     "name": "stderr",
     "output_type": "stream",
     "text": [
      "Processing training files:  10%|▉         | 10/102 [00:03<00:35,  2.56it/s]"
     ]
    },
    {
     "name": "stdout",
     "output_type": "stream",
     "text": [
      "Converted and copied label: D:/CTH_archive/TMAX_NIFTI_QUANT/REGISTERED_ADJUSTED\\CARDIN_PAUL.nii to D:/nnUNet_raw/Dataset039_Perfusion/labelsTr\\CARDIN_PAUL_010.nii.gz\n",
      "Converted and copied image: D:/CTH_archive/CTH_STRIPPED\\CHANG_WAH_KONG.nii to D:/nnUNet_raw/Dataset039_Perfusion/imagesTr\\CHANG_WAH_KONG_011_0000.nii.gz\n"
     ]
    },
    {
     "name": "stderr",
     "output_type": "stream",
     "text": [
      "Processing training files:  11%|█         | 11/102 [00:04<00:33,  2.74it/s]"
     ]
    },
    {
     "name": "stdout",
     "output_type": "stream",
     "text": [
      "Converted and copied label: D:/CTH_archive/TMAX_NIFTI_QUANT/REGISTERED_ADJUSTED\\CHANG_WAH_KONG.nii to D:/nnUNet_raw/Dataset039_Perfusion/labelsTr\\CHANG_WAH_KONG_011.nii.gz\n",
      "Converted and copied image: D:/CTH_archive/CTH_STRIPPED\\CHEN_XIU_D.nii to D:/nnUNet_raw/Dataset039_Perfusion/imagesTr\\CHEN_XIU_D_012_0000.nii.gz\n"
     ]
    },
    {
     "name": "stderr",
     "output_type": "stream",
     "text": [
      "Processing training files:  12%|█▏        | 12/102 [00:04<00:31,  2.86it/s]"
     ]
    },
    {
     "name": "stdout",
     "output_type": "stream",
     "text": [
      "Converted and copied label: D:/CTH_archive/TMAX_NIFTI_QUANT/REGISTERED_ADJUSTED\\CHEN_XIU_D.nii to D:/nnUNet_raw/Dataset039_Perfusion/labelsTr\\CHEN_XIU_D_012.nii.gz\n"
     ]
    },
    {
     "name": "stderr",
     "output_type": "stream",
     "text": [
      "Processing training files:  13%|█▎        | 13/102 [00:04<00:33,  2.67it/s]"
     ]
    },
    {
     "name": "stdout",
     "output_type": "stream",
     "text": [
      "Converted and copied image: D:/CTH_archive/CTH_STRIPPED\\CHEUNG_SIU-LING_LING_WOO.nii to D:/nnUNet_raw/Dataset039_Perfusion/imagesTr\\CHEUNG_SIU-LING_LING_WOO_013_0000.nii.gz\n",
      "Converted and copied label: D:/CTH_archive/TMAX_NIFTI_QUANT/REGISTERED_ADJUSTED\\CHEUNG_SIU-LING_LING_WOO.nii to D:/nnUNet_raw/Dataset039_Perfusion/labelsTr\\CHEUNG_SIU-LING_LING_WOO_013.nii.gz\n",
      "Converted and copied image: D:/CTH_archive/CTH_STRIPPED\\CHOWDHURY_SALMA_K.nii to D:/nnUNet_raw/Dataset039_Perfusion/imagesTr\\CHOWDHURY_SALMA_K_014_0000.nii.gz\n"
     ]
    },
    {
     "name": "stderr",
     "output_type": "stream",
     "text": [
      "Processing training files:  14%|█▎        | 14/102 [00:05<00:45,  1.91it/s]"
     ]
    },
    {
     "name": "stdout",
     "output_type": "stream",
     "text": [
      "Converted and copied label: D:/CTH_archive/TMAX_NIFTI_QUANT/REGISTERED_ADJUSTED\\CHOWDHURY_SALMA_K.nii to D:/nnUNet_raw/Dataset039_Perfusion/labelsTr\\CHOWDHURY_SALMA_K_014.nii.gz\n",
      "Converted and copied image: D:/CTH_archive/CTH_STRIPPED\\CLARKSON-FARRELL_EDWARD.nii to D:/nnUNet_raw/Dataset039_Perfusion/imagesTr\\CLARKSON-FARRELL_EDWARD_015_0000.nii.gz\n"
     ]
    },
    {
     "name": "stderr",
     "output_type": "stream",
     "text": [
      "Processing training files:  15%|█▍        | 15/102 [00:06<00:44,  1.96it/s]"
     ]
    },
    {
     "name": "stdout",
     "output_type": "stream",
     "text": [
      "Converted and copied label: D:/CTH_archive/TMAX_NIFTI_QUANT/REGISTERED_ADJUSTED\\CLARKSON-FARRELL_EDWARD.nii to D:/nnUNet_raw/Dataset039_Perfusion/labelsTr\\CLARKSON-FARRELL_EDWARD_015.nii.gz\n",
      "Converted and copied image: D:/CTH_archive/CTH_STRIPPED\\COLLADOTORRES_URIBES_A.nii to D:/nnUNet_raw/Dataset039_Perfusion/imagesTr\\COLLADOTORRES_URIBES_A_016_0000.nii.gz\n"
     ]
    },
    {
     "name": "stderr",
     "output_type": "stream",
     "text": [
      "Processing training files:  16%|█▌        | 16/102 [00:06<00:39,  2.16it/s]"
     ]
    },
    {
     "name": "stdout",
     "output_type": "stream",
     "text": [
      "Converted and copied label: D:/CTH_archive/TMAX_NIFTI_QUANT/REGISTERED_ADJUSTED\\COLLADOTORRES_URIBES_A.nii to D:/nnUNet_raw/Dataset039_Perfusion/labelsTr\\COLLADOTORRES_URIBES_A_016.nii.gz\n",
      "Converted and copied image: D:/CTH_archive/CTH_STRIPPED\\COMPRES_THELMA.nii to D:/nnUNet_raw/Dataset039_Perfusion/imagesTr\\COMPRES_THELMA_017_0000.nii.gz\n"
     ]
    },
    {
     "name": "stderr",
     "output_type": "stream",
     "text": [
      "Processing training files:  17%|█▋        | 17/102 [00:06<00:34,  2.46it/s]"
     ]
    },
    {
     "name": "stdout",
     "output_type": "stream",
     "text": [
      "Converted and copied label: D:/CTH_archive/TMAX_NIFTI_QUANT/REGISTERED_ADJUSTED\\COMPRES_THELMA.nii to D:/nnUNet_raw/Dataset039_Perfusion/labelsTr\\COMPRES_THELMA_017.nii.gz\n",
      "Converted and copied image: D:/CTH_archive/CTH_STRIPPED\\COOPER_SUSAN.nii to D:/nnUNet_raw/Dataset039_Perfusion/imagesTr\\COOPER_SUSAN_018_0000.nii.gz\n"
     ]
    },
    {
     "name": "stderr",
     "output_type": "stream",
     "text": [
      "Processing training files:  18%|█▊        | 18/102 [00:07<00:32,  2.62it/s]"
     ]
    },
    {
     "name": "stdout",
     "output_type": "stream",
     "text": [
      "Converted and copied label: D:/CTH_archive/TMAX_NIFTI_QUANT/REGISTERED_ADJUSTED\\COOPER_SUSAN.nii to D:/nnUNet_raw/Dataset039_Perfusion/labelsTr\\COOPER_SUSAN_018.nii.gz\n",
      "Converted and copied image: D:/CTH_archive/CTH_STRIPPED\\CRUZ_MIRIAN.nii to D:/nnUNet_raw/Dataset039_Perfusion/imagesTr\\CRUZ_MIRIAN_019_0000.nii.gz\n"
     ]
    },
    {
     "name": "stderr",
     "output_type": "stream",
     "text": [
      "Processing training files:  19%|█▊        | 19/102 [00:07<00:29,  2.80it/s]"
     ]
    },
    {
     "name": "stdout",
     "output_type": "stream",
     "text": [
      "Converted and copied label: D:/CTH_archive/TMAX_NIFTI_QUANT/REGISTERED_ADJUSTED\\CRUZ_MIRIAN.nii to D:/nnUNet_raw/Dataset039_Perfusion/labelsTr\\CRUZ_MIRIAN_019.nii.gz\n",
      "Converted and copied image: D:/CTH_archive/CTH_STRIPPED\\DAMBOISE_JACQUES_J.nii to D:/nnUNet_raw/Dataset039_Perfusion/imagesTr\\DAMBOISE_JACQUES_J_020_0000.nii.gz\n"
     ]
    },
    {
     "name": "stderr",
     "output_type": "stream",
     "text": [
      "Processing training files:  20%|█▉        | 20/102 [00:07<00:27,  2.94it/s]"
     ]
    },
    {
     "name": "stdout",
     "output_type": "stream",
     "text": [
      "Converted and copied label: D:/CTH_archive/TMAX_NIFTI_QUANT/REGISTERED_ADJUSTED\\DAMBOISE_JACQUES_J.nii to D:/nnUNet_raw/Dataset039_Perfusion/labelsTr\\DAMBOISE_JACQUES_J_020.nii.gz\n",
      "Converted and copied image: D:/CTH_archive/CTH_STRIPPED\\DEGRAFT_NYUMUTSU_E.nii to D:/nnUNet_raw/Dataset039_Perfusion/imagesTr\\DEGRAFT_NYUMUTSU_E_021_0000.nii.gz\n"
     ]
    },
    {
     "name": "stderr",
     "output_type": "stream",
     "text": [
      "Processing training files:  21%|██        | 21/102 [00:08<00:27,  2.94it/s]"
     ]
    },
    {
     "name": "stdout",
     "output_type": "stream",
     "text": [
      "Converted and copied label: D:/CTH_archive/TMAX_NIFTI_QUANT/REGISTERED_ADJUSTED\\DEGRAFT_NYUMUTSU_E.nii to D:/nnUNet_raw/Dataset039_Perfusion/labelsTr\\DEGRAFT_NYUMUTSU_E_021.nii.gz\n"
     ]
    },
    {
     "name": "stderr",
     "output_type": "stream",
     "text": [
      "Processing training files:  22%|██▏       | 22/102 [00:08<00:29,  2.70it/s]"
     ]
    },
    {
     "name": "stdout",
     "output_type": "stream",
     "text": [
      "Converted and copied image: D:/CTH_archive/CTH_STRIPPED\\DONALDSON_GEORGIANNA.nii to D:/nnUNet_raw/Dataset039_Perfusion/imagesTr\\DONALDSON_GEORGIANNA_022_0000.nii.gz\n",
      "Converted and copied label: D:/CTH_archive/TMAX_NIFTI_QUANT/REGISTERED_ADJUSTED\\DONALDSON_GEORGIANNA.nii to D:/nnUNet_raw/Dataset039_Perfusion/labelsTr\\DONALDSON_GEORGIANNA_022.nii.gz\n"
     ]
    },
    {
     "name": "stderr",
     "output_type": "stream",
     "text": [
      "Processing training files:  23%|██▎       | 23/102 [00:08<00:30,  2.57it/s]"
     ]
    },
    {
     "name": "stdout",
     "output_type": "stream",
     "text": [
      "Converted and copied image: D:/CTH_archive/CTH_STRIPPED\\DUMA_ZBIGNIEW.nii to D:/nnUNet_raw/Dataset039_Perfusion/imagesTr\\DUMA_ZBIGNIEW_023_0000.nii.gz\n",
      "Converted and copied label: D:/CTH_archive/TMAX_NIFTI_QUANT/REGISTERED_ADJUSTED\\DUMA_ZBIGNIEW.nii to D:/nnUNet_raw/Dataset039_Perfusion/labelsTr\\DUMA_ZBIGNIEW_023.nii.gz\n"
     ]
    },
    {
     "name": "stderr",
     "output_type": "stream",
     "text": [
      "Processing training files:  24%|██▎       | 24/102 [00:09<00:30,  2.59it/s]"
     ]
    },
    {
     "name": "stdout",
     "output_type": "stream",
     "text": [
      "Converted and copied image: D:/CTH_archive/CTH_STRIPPED\\EASON_CHARLES.nii to D:/nnUNet_raw/Dataset039_Perfusion/imagesTr\\EASON_CHARLES_024_0000.nii.gz\n",
      "Converted and copied label: D:/CTH_archive/TMAX_NIFTI_QUANT/REGISTERED_ADJUSTED\\EASON_CHARLES.nii to D:/nnUNet_raw/Dataset039_Perfusion/labelsTr\\EASON_CHARLES_024.nii.gz\n"
     ]
    },
    {
     "name": "stderr",
     "output_type": "stream",
     "text": [
      "Processing training files:  25%|██▍       | 25/102 [00:09<00:30,  2.56it/s]"
     ]
    },
    {
     "name": "stdout",
     "output_type": "stream",
     "text": [
      "Converted and copied image: D:/CTH_archive/CTH_STRIPPED\\ELISA-WRIGHT_KANZADER.nii to D:/nnUNet_raw/Dataset039_Perfusion/imagesTr\\ELISA-WRIGHT_KANZADER_025_0000.nii.gz\n",
      "Converted and copied label: D:/CTH_archive/TMAX_NIFTI_QUANT/REGISTERED_ADJUSTED\\ELISA-WRIGHT_KANZADER.nii to D:/nnUNet_raw/Dataset039_Perfusion/labelsTr\\ELISA-WRIGHT_KANZADER_025.nii.gz\n"
     ]
    },
    {
     "name": "stderr",
     "output_type": "stream",
     "text": [
      "Processing training files:  25%|██▌       | 26/102 [00:09<00:27,  2.77it/s]"
     ]
    },
    {
     "name": "stdout",
     "output_type": "stream",
     "text": [
      "Converted and copied image: D:/CTH_archive/CTH_STRIPPED\\FERNANDEZ_LUIS.nii to D:/nnUNet_raw/Dataset039_Perfusion/imagesTr\\FERNANDEZ_LUIS_026_0000.nii.gz\n",
      "Converted and copied label: D:/CTH_archive/TMAX_NIFTI_QUANT/REGISTERED_ADJUSTED\\FERNANDEZ_LUIS.nii to D:/nnUNet_raw/Dataset039_Perfusion/labelsTr\\FERNANDEZ_LUIS_026.nii.gz\n"
     ]
    },
    {
     "name": "stderr",
     "output_type": "stream",
     "text": [
      "Processing training files:  26%|██▋       | 27/102 [00:10<00:25,  2.89it/s]"
     ]
    },
    {
     "name": "stdout",
     "output_type": "stream",
     "text": [
      "Converted and copied image: D:/CTH_archive/CTH_STRIPPED\\FILION_JULIO.nii to D:/nnUNet_raw/Dataset039_Perfusion/imagesTr\\FILION_JULIO_027_0000.nii.gz\n",
      "Converted and copied label: D:/CTH_archive/TMAX_NIFTI_QUANT/REGISTERED_ADJUSTED\\FILION_JULIO.nii to D:/nnUNet_raw/Dataset039_Perfusion/labelsTr\\FILION_JULIO_027.nii.gz\n"
     ]
    },
    {
     "name": "stderr",
     "output_type": "stream",
     "text": [
      "Processing training files:  27%|██▋       | 28/102 [00:10<00:24,  3.00it/s]"
     ]
    },
    {
     "name": "stdout",
     "output_type": "stream",
     "text": [
      "Converted and copied image: D:/CTH_archive/CTH_STRIPPED\\FISHER_BARBARA.nii to D:/nnUNet_raw/Dataset039_Perfusion/imagesTr\\FISHER_BARBARA_028_0000.nii.gz\n",
      "Converted and copied label: D:/CTH_archive/TMAX_NIFTI_QUANT/REGISTERED_ADJUSTED\\FISHER_BARBARA.nii to D:/nnUNet_raw/Dataset039_Perfusion/labelsTr\\FISHER_BARBARA_028.nii.gz\n"
     ]
    },
    {
     "name": "stderr",
     "output_type": "stream",
     "text": [
      "Processing training files:  28%|██▊       | 29/102 [00:10<00:26,  2.80it/s]"
     ]
    },
    {
     "name": "stdout",
     "output_type": "stream",
     "text": [
      "Converted and copied image: D:/CTH_archive/CTH_STRIPPED\\GARCIA_ARTURO.nii to D:/nnUNet_raw/Dataset039_Perfusion/imagesTr\\GARCIA_ARTURO_029_0000.nii.gz\n",
      "Converted and copied label: D:/CTH_archive/TMAX_NIFTI_QUANT/REGISTERED_ADJUSTED\\GARCIA_ARTURO.nii to D:/nnUNet_raw/Dataset039_Perfusion/labelsTr\\GARCIA_ARTURO_029.nii.gz\n"
     ]
    },
    {
     "name": "stderr",
     "output_type": "stream",
     "text": [
      "Processing training files:  29%|██▉       | 30/102 [00:11<00:25,  2.81it/s]"
     ]
    },
    {
     "name": "stdout",
     "output_type": "stream",
     "text": [
      "Converted and copied image: D:/CTH_archive/CTH_STRIPPED\\GENTLE_CLINTON.nii to D:/nnUNet_raw/Dataset039_Perfusion/imagesTr\\GENTLE_CLINTON_030_0000.nii.gz\n",
      "Converted and copied label: D:/CTH_archive/TMAX_NIFTI_QUANT/REGISTERED_ADJUSTED\\GENTLE_CLINTON.nii to D:/nnUNet_raw/Dataset039_Perfusion/labelsTr\\GENTLE_CLINTON_030.nii.gz\n"
     ]
    },
    {
     "name": "stderr",
     "output_type": "stream",
     "text": [
      "Processing training files:  30%|███       | 31/102 [00:11<00:26,  2.66it/s]"
     ]
    },
    {
     "name": "stdout",
     "output_type": "stream",
     "text": [
      "Converted and copied image: D:/CTH_archive/CTH_STRIPPED\\GOBLE_TAMMY.nii to D:/nnUNet_raw/Dataset039_Perfusion/imagesTr\\GOBLE_TAMMY_031_0000.nii.gz\n",
      "Converted and copied label: D:/CTH_archive/TMAX_NIFTI_QUANT/REGISTERED_ADJUSTED\\GOBLE_TAMMY.nii to D:/nnUNet_raw/Dataset039_Perfusion/labelsTr\\GOBLE_TAMMY_031.nii.gz\n"
     ]
    },
    {
     "name": "stderr",
     "output_type": "stream",
     "text": [
      "Processing training files:  31%|███▏      | 32/102 [00:12<00:26,  2.60it/s]"
     ]
    },
    {
     "name": "stdout",
     "output_type": "stream",
     "text": [
      "Converted and copied image: D:/CTH_archive/CTH_STRIPPED\\GONZALEZ_FERNANDO.nii to D:/nnUNet_raw/Dataset039_Perfusion/imagesTr\\GONZALEZ_FERNANDO_032_0000.nii.gz\n",
      "Converted and copied label: D:/CTH_archive/TMAX_NIFTI_QUANT/REGISTERED_ADJUSTED\\GONZALEZ_FERNANDO.nii to D:/nnUNet_raw/Dataset039_Perfusion/labelsTr\\GONZALEZ_FERNANDO_032.nii.gz\n"
     ]
    },
    {
     "name": "stderr",
     "output_type": "stream",
     "text": [
      "Processing training files:  32%|███▏      | 33/102 [00:12<00:24,  2.79it/s]"
     ]
    },
    {
     "name": "stdout",
     "output_type": "stream",
     "text": [
      "Converted and copied image: D:/CTH_archive/CTH_STRIPPED\\GUZMAN_IRIS.nii to D:/nnUNet_raw/Dataset039_Perfusion/imagesTr\\GUZMAN_IRIS_033_0000.nii.gz\n",
      "Converted and copied label: D:/CTH_archive/TMAX_NIFTI_QUANT/REGISTERED_ADJUSTED\\GUZMAN_IRIS.nii to D:/nnUNet_raw/Dataset039_Perfusion/labelsTr\\GUZMAN_IRIS_033.nii.gz\n"
     ]
    },
    {
     "name": "stderr",
     "output_type": "stream",
     "text": [
      "Processing training files:  33%|███▎      | 34/102 [00:12<00:22,  3.01it/s]"
     ]
    },
    {
     "name": "stdout",
     "output_type": "stream",
     "text": [
      "Converted and copied image: D:/CTH_archive/CTH_STRIPPED\\HALL_KELBERT_MCDO.nii to D:/nnUNet_raw/Dataset039_Perfusion/imagesTr\\HALL_KELBERT_MCDO_034_0000.nii.gz\n",
      "Converted and copied label: D:/CTH_archive/TMAX_NIFTI_QUANT/REGISTERED_ADJUSTED\\HALL_KELBERT_MCDO.nii to D:/nnUNet_raw/Dataset039_Perfusion/labelsTr\\HALL_KELBERT_MCDO_034.nii.gz\n"
     ]
    },
    {
     "name": "stderr",
     "output_type": "stream",
     "text": [
      "Processing training files:  34%|███▍      | 35/102 [00:13<00:21,  3.11it/s]"
     ]
    },
    {
     "name": "stdout",
     "output_type": "stream",
     "text": [
      "Converted and copied image: D:/CTH_archive/CTH_STRIPPED\\HALL_WILLIAM.nii to D:/nnUNet_raw/Dataset039_Perfusion/imagesTr\\HALL_WILLIAM_035_0000.nii.gz\n",
      "Converted and copied label: D:/CTH_archive/TMAX_NIFTI_QUANT/REGISTERED_ADJUSTED\\HALL_WILLIAM.nii to D:/nnUNet_raw/Dataset039_Perfusion/labelsTr\\HALL_WILLIAM_035.nii.gz\n"
     ]
    },
    {
     "name": "stderr",
     "output_type": "stream",
     "text": [
      "Processing training files:  35%|███▌      | 36/102 [00:13<00:21,  3.04it/s]"
     ]
    },
    {
     "name": "stdout",
     "output_type": "stream",
     "text": [
      "Converted and copied image: D:/CTH_archive/CTH_STRIPPED\\HANSEN_GEORGE_A.nii to D:/nnUNet_raw/Dataset039_Perfusion/imagesTr\\HANSEN_GEORGE_A_036_0000.nii.gz\n",
      "Converted and copied label: D:/CTH_archive/TMAX_NIFTI_QUANT/REGISTERED_ADJUSTED\\HANSEN_GEORGE_A.nii to D:/nnUNet_raw/Dataset039_Perfusion/labelsTr\\HANSEN_GEORGE_A_036.nii.gz\n"
     ]
    },
    {
     "name": "stderr",
     "output_type": "stream",
     "text": [
      "Processing training files:  36%|███▋      | 37/102 [00:13<00:20,  3.13it/s]"
     ]
    },
    {
     "name": "stdout",
     "output_type": "stream",
     "text": [
      "Converted and copied image: D:/CTH_archive/CTH_STRIPPED\\HATTA_MARIA.nii to D:/nnUNet_raw/Dataset039_Perfusion/imagesTr\\HATTA_MARIA_037_0000.nii.gz\n",
      "Converted and copied label: D:/CTH_archive/TMAX_NIFTI_QUANT/REGISTERED_ADJUSTED\\HATTA_MARIA.nii to D:/nnUNet_raw/Dataset039_Perfusion/labelsTr\\HATTA_MARIA_037.nii.gz\n"
     ]
    },
    {
     "name": "stderr",
     "output_type": "stream",
     "text": [
      "Processing training files:  37%|███▋      | 38/102 [00:14<00:22,  2.81it/s]"
     ]
    },
    {
     "name": "stdout",
     "output_type": "stream",
     "text": [
      "Converted and copied image: D:/CTH_archive/CTH_STRIPPED\\HECKSTALL_CORA.nii to D:/nnUNet_raw/Dataset039_Perfusion/imagesTr\\HECKSTALL_CORA_038_0000.nii.gz\n",
      "Converted and copied label: D:/CTH_archive/TMAX_NIFTI_QUANT/REGISTERED_ADJUSTED\\HECKSTALL_CORA.nii to D:/nnUNet_raw/Dataset039_Perfusion/labelsTr\\HECKSTALL_CORA_038.nii.gz\n"
     ]
    },
    {
     "name": "stderr",
     "output_type": "stream",
     "text": [
      "Processing training files:  38%|███▊      | 39/102 [00:14<00:20,  3.04it/s]"
     ]
    },
    {
     "name": "stdout",
     "output_type": "stream",
     "text": [
      "Converted and copied image: D:/CTH_archive/CTH_STRIPPED\\IRIZARRY_MONSITA.nii to D:/nnUNet_raw/Dataset039_Perfusion/imagesTr\\IRIZARRY_MONSITA_039_0000.nii.gz\n",
      "Converted and copied label: D:/CTH_archive/TMAX_NIFTI_QUANT/REGISTERED_ADJUSTED\\IRIZARRY_MONSITA.nii to D:/nnUNet_raw/Dataset039_Perfusion/labelsTr\\IRIZARRY_MONSITA_039.nii.gz\n"
     ]
    },
    {
     "name": "stderr",
     "output_type": "stream",
     "text": [
      "Processing training files:  39%|███▉      | 40/102 [00:14<00:20,  2.98it/s]"
     ]
    },
    {
     "name": "stdout",
     "output_type": "stream",
     "text": [
      "Converted and copied image: D:/CTH_archive/CTH_STRIPPED\\KAMWA_JEAN-PIERRE.nii to D:/nnUNet_raw/Dataset039_Perfusion/imagesTr\\KAMWA_JEAN-PIERRE_040_0000.nii.gz\n",
      "Converted and copied label: D:/CTH_archive/TMAX_NIFTI_QUANT/REGISTERED_ADJUSTED\\KAMWA_JEAN-PIERRE.nii to D:/nnUNet_raw/Dataset039_Perfusion/labelsTr\\KAMWA_JEAN-PIERRE_040.nii.gz\n"
     ]
    },
    {
     "name": "stderr",
     "output_type": "stream",
     "text": [
      "Processing training files:  40%|████      | 41/102 [00:15<00:21,  2.80it/s]"
     ]
    },
    {
     "name": "stdout",
     "output_type": "stream",
     "text": [
      "Converted and copied image: D:/CTH_archive/CTH_STRIPPED\\KILLACKEY_WILLIAM.nii to D:/nnUNet_raw/Dataset039_Perfusion/imagesTr\\KILLACKEY_WILLIAM_041_0000.nii.gz\n",
      "Converted and copied label: D:/CTH_archive/TMAX_NIFTI_QUANT/REGISTERED_ADJUSTED\\KILLACKEY_WILLIAM.nii to D:/nnUNet_raw/Dataset039_Perfusion/labelsTr\\KILLACKEY_WILLIAM_041.nii.gz\n"
     ]
    },
    {
     "name": "stderr",
     "output_type": "stream",
     "text": [
      "Processing training files:  41%|████      | 42/102 [00:15<00:19,  3.00it/s]"
     ]
    },
    {
     "name": "stdout",
     "output_type": "stream",
     "text": [
      "Converted and copied image: D:/CTH_archive/CTH_STRIPPED\\KING_TANDEKA_I.nii to D:/nnUNet_raw/Dataset039_Perfusion/imagesTr\\KING_TANDEKA_I_042_0000.nii.gz\n",
      "Converted and copied label: D:/CTH_archive/TMAX_NIFTI_QUANT/REGISTERED_ADJUSTED\\KING_TANDEKA_I.nii to D:/nnUNet_raw/Dataset039_Perfusion/labelsTr\\KING_TANDEKA_I_042.nii.gz\n"
     ]
    },
    {
     "name": "stderr",
     "output_type": "stream",
     "text": [
      "Processing training files:  42%|████▏     | 43/102 [00:15<00:19,  3.04it/s]"
     ]
    },
    {
     "name": "stdout",
     "output_type": "stream",
     "text": [
      "Converted and copied image: D:/CTH_archive/CTH_STRIPPED\\LADSON_ROSE.nii to D:/nnUNet_raw/Dataset039_Perfusion/imagesTr\\LADSON_ROSE_043_0000.nii.gz\n",
      "Converted and copied label: D:/CTH_archive/TMAX_NIFTI_QUANT/REGISTERED_ADJUSTED\\LADSON_ROSE.nii to D:/nnUNet_raw/Dataset039_Perfusion/labelsTr\\LADSON_ROSE_043.nii.gz\n"
     ]
    },
    {
     "name": "stderr",
     "output_type": "stream",
     "text": [
      "Processing training files:  43%|████▎     | 44/102 [00:16<00:20,  2.83it/s]"
     ]
    },
    {
     "name": "stdout",
     "output_type": "stream",
     "text": [
      "Converted and copied image: D:/CTH_archive/CTH_STRIPPED\\LAQUERCIA_THEODORE.nii to D:/nnUNet_raw/Dataset039_Perfusion/imagesTr\\LAQUERCIA_THEODORE_044_0000.nii.gz\n",
      "Converted and copied label: D:/CTH_archive/TMAX_NIFTI_QUANT/REGISTERED_ADJUSTED\\LAQUERCIA_THEODORE.nii to D:/nnUNet_raw/Dataset039_Perfusion/labelsTr\\LAQUERCIA_THEODORE_044.nii.gz\n"
     ]
    },
    {
     "name": "stderr",
     "output_type": "stream",
     "text": [
      "Processing training files:  44%|████▍     | 45/102 [00:16<00:19,  2.97it/s]"
     ]
    },
    {
     "name": "stdout",
     "output_type": "stream",
     "text": [
      "Converted and copied image: D:/CTH_archive/CTH_STRIPPED\\LATTEIER_MARIA.nii to D:/nnUNet_raw/Dataset039_Perfusion/imagesTr\\LATTEIER_MARIA_045_0000.nii.gz\n",
      "Converted and copied label: D:/CTH_archive/TMAX_NIFTI_QUANT/REGISTERED_ADJUSTED\\LATTEIER_MARIA.nii to D:/nnUNet_raw/Dataset039_Perfusion/labelsTr\\LATTEIER_MARIA_045.nii.gz\n"
     ]
    },
    {
     "name": "stderr",
     "output_type": "stream",
     "text": [
      "Processing training files:  45%|████▌     | 46/102 [00:16<00:20,  2.80it/s]"
     ]
    },
    {
     "name": "stdout",
     "output_type": "stream",
     "text": [
      "Converted and copied image: D:/CTH_archive/CTH_STRIPPED\\LAWSON_MIRIAM.nii to D:/nnUNet_raw/Dataset039_Perfusion/imagesTr\\LAWSON_MIRIAM_046_0000.nii.gz\n",
      "Converted and copied label: D:/CTH_archive/TMAX_NIFTI_QUANT/REGISTERED_ADJUSTED\\LAWSON_MIRIAM.nii to D:/nnUNet_raw/Dataset039_Perfusion/labelsTr\\LAWSON_MIRIAM_046.nii.gz\n"
     ]
    },
    {
     "name": "stderr",
     "output_type": "stream",
     "text": [
      "Processing training files:  46%|████▌     | 47/102 [00:17<00:18,  2.95it/s]"
     ]
    },
    {
     "name": "stdout",
     "output_type": "stream",
     "text": [
      "Converted and copied image: D:/CTH_archive/CTH_STRIPPED\\LIPNICKI_ROMAN.nii to D:/nnUNet_raw/Dataset039_Perfusion/imagesTr\\LIPNICKI_ROMAN_047_0000.nii.gz\n",
      "Converted and copied label: D:/CTH_archive/TMAX_NIFTI_QUANT/REGISTERED_ADJUSTED\\LIPNICKI_ROMAN.nii to D:/nnUNet_raw/Dataset039_Perfusion/labelsTr\\LIPNICKI_ROMAN_047.nii.gz\n"
     ]
    },
    {
     "name": "stderr",
     "output_type": "stream",
     "text": [
      "Processing training files:  47%|████▋     | 48/102 [00:17<00:18,  2.89it/s]"
     ]
    },
    {
     "name": "stdout",
     "output_type": "stream",
     "text": [
      "Converted and copied image: D:/CTH_archive/CTH_STRIPPED\\LOCKETT_GLORIA.nii to D:/nnUNet_raw/Dataset039_Perfusion/imagesTr\\LOCKETT_GLORIA_048_0000.nii.gz\n",
      "Converted and copied label: D:/CTH_archive/TMAX_NIFTI_QUANT/REGISTERED_ADJUSTED\\LOCKETT_GLORIA.nii to D:/nnUNet_raw/Dataset039_Perfusion/labelsTr\\LOCKETT_GLORIA_048.nii.gz\n"
     ]
    },
    {
     "name": "stderr",
     "output_type": "stream",
     "text": [
      "Processing training files:  48%|████▊     | 49/102 [00:17<00:17,  2.99it/s]"
     ]
    },
    {
     "name": "stdout",
     "output_type": "stream",
     "text": [
      "Converted and copied image: D:/CTH_archive/CTH_STRIPPED\\LOPEZ_LEONOR.nii to D:/nnUNet_raw/Dataset039_Perfusion/imagesTr\\LOPEZ_LEONOR_049_0000.nii.gz\n",
      "Converted and copied label: D:/CTH_archive/TMAX_NIFTI_QUANT/REGISTERED_ADJUSTED\\LOPEZ_LEONOR.nii to D:/nnUNet_raw/Dataset039_Perfusion/labelsTr\\LOPEZ_LEONOR_049.nii.gz\n"
     ]
    },
    {
     "name": "stderr",
     "output_type": "stream",
     "text": [
      "Processing training files:  49%|████▉     | 50/102 [00:18<00:16,  3.08it/s]"
     ]
    },
    {
     "name": "stdout",
     "output_type": "stream",
     "text": [
      "Converted and copied image: D:/CTH_archive/CTH_STRIPPED\\LORD_JANE.nii to D:/nnUNet_raw/Dataset039_Perfusion/imagesTr\\LORD_JANE_050_0000.nii.gz\n",
      "Converted and copied label: D:/CTH_archive/TMAX_NIFTI_QUANT/REGISTERED_ADJUSTED\\LORD_JANE.nii to D:/nnUNet_raw/Dataset039_Perfusion/labelsTr\\LORD_JANE_050.nii.gz\n"
     ]
    },
    {
     "name": "stderr",
     "output_type": "stream",
     "text": [
      "Processing training files:  50%|█████     | 51/102 [00:18<00:16,  3.17it/s]"
     ]
    },
    {
     "name": "stdout",
     "output_type": "stream",
     "text": [
      "Converted and copied image: D:/CTH_archive/CTH_STRIPPED\\LOVE_MARY_E.nii to D:/nnUNet_raw/Dataset039_Perfusion/imagesTr\\LOVE_MARY_E_051_0000.nii.gz\n",
      "Converted and copied label: D:/CTH_archive/TMAX_NIFTI_QUANT/REGISTERED_ADJUSTED\\LOVE_MARY_E.nii to D:/nnUNet_raw/Dataset039_Perfusion/labelsTr\\LOVE_MARY_E_051.nii.gz\n"
     ]
    },
    {
     "name": "stderr",
     "output_type": "stream",
     "text": [
      "Processing training files:  51%|█████     | 52/102 [00:18<00:16,  2.99it/s]"
     ]
    },
    {
     "name": "stdout",
     "output_type": "stream",
     "text": [
      "Converted and copied image: D:/CTH_archive/CTH_STRIPPED\\LUNA_LOURDES.nii to D:/nnUNet_raw/Dataset039_Perfusion/imagesTr\\LUNA_LOURDES_052_0000.nii.gz\n",
      "Converted and copied label: D:/CTH_archive/TMAX_NIFTI_QUANT/REGISTERED_ADJUSTED\\LUNA_LOURDES.nii to D:/nnUNet_raw/Dataset039_Perfusion/labelsTr\\LUNA_LOURDES_052.nii.gz\n"
     ]
    },
    {
     "name": "stderr",
     "output_type": "stream",
     "text": [
      "Processing training files:  52%|█████▏    | 53/102 [00:19<00:16,  2.90it/s]"
     ]
    },
    {
     "name": "stdout",
     "output_type": "stream",
     "text": [
      "Converted and copied image: D:/CTH_archive/CTH_STRIPPED\\MATABUENA_LUZVIMINDA.nii to D:/nnUNet_raw/Dataset039_Perfusion/imagesTr\\MATABUENA_LUZVIMINDA_053_0000.nii.gz\n",
      "Converted and copied label: D:/CTH_archive/TMAX_NIFTI_QUANT/REGISTERED_ADJUSTED\\MATABUENA_LUZVIMINDA.nii to D:/nnUNet_raw/Dataset039_Perfusion/labelsTr\\MATABUENA_LUZVIMINDA_053.nii.gz\n"
     ]
    },
    {
     "name": "stderr",
     "output_type": "stream",
     "text": [
      "Processing training files:  53%|█████▎    | 54/102 [00:19<00:16,  2.96it/s]"
     ]
    },
    {
     "name": "stdout",
     "output_type": "stream",
     "text": [
      "Converted and copied image: D:/CTH_archive/CTH_STRIPPED\\MAURICIO_DENICE.nii to D:/nnUNet_raw/Dataset039_Perfusion/imagesTr\\MAURICIO_DENICE_054_0000.nii.gz\n",
      "Converted and copied label: D:/CTH_archive/TMAX_NIFTI_QUANT/REGISTERED_ADJUSTED\\MAURICIO_DENICE.nii to D:/nnUNet_raw/Dataset039_Perfusion/labelsTr\\MAURICIO_DENICE_054.nii.gz\n"
     ]
    },
    {
     "name": "stderr",
     "output_type": "stream",
     "text": [
      "Processing training files:  54%|█████▍    | 55/102 [00:19<00:16,  2.80it/s]"
     ]
    },
    {
     "name": "stdout",
     "output_type": "stream",
     "text": [
      "Converted and copied image: D:/CTH_archive/CTH_STRIPPED\\MCGIVNEY_DOROTHY.nii to D:/nnUNet_raw/Dataset039_Perfusion/imagesTr\\MCGIVNEY_DOROTHY_055_0000.nii.gz\n",
      "Converted and copied label: D:/CTH_archive/TMAX_NIFTI_QUANT/REGISTERED_ADJUSTED\\MCGIVNEY_DOROTHY.nii to D:/nnUNet_raw/Dataset039_Perfusion/labelsTr\\MCGIVNEY_DOROTHY_055.nii.gz\n"
     ]
    },
    {
     "name": "stderr",
     "output_type": "stream",
     "text": [
      "Processing training files:  55%|█████▍    | 56/102 [00:20<00:17,  2.61it/s]"
     ]
    },
    {
     "name": "stdout",
     "output_type": "stream",
     "text": [
      "Converted and copied image: D:/CTH_archive/CTH_STRIPPED\\MEDINA_ANNA.nii to D:/nnUNet_raw/Dataset039_Perfusion/imagesTr\\MEDINA_ANNA_056_0000.nii.gz\n",
      "Converted and copied label: D:/CTH_archive/TMAX_NIFTI_QUANT/REGISTERED_ADJUSTED\\MEDINA_ANNA.nii to D:/nnUNet_raw/Dataset039_Perfusion/labelsTr\\MEDINA_ANNA_056.nii.gz\n"
     ]
    },
    {
     "name": "stderr",
     "output_type": "stream",
     "text": [
      "Processing training files:  56%|█████▌    | 57/102 [00:20<00:16,  2.80it/s]"
     ]
    },
    {
     "name": "stdout",
     "output_type": "stream",
     "text": [
      "Converted and copied image: D:/CTH_archive/CTH_STRIPPED\\MENA-ROSA_IDIDA_MERCEDES.nii to D:/nnUNet_raw/Dataset039_Perfusion/imagesTr\\MENA-ROSA_IDIDA_MERCEDES_057_0000.nii.gz\n",
      "Converted and copied label: D:/CTH_archive/TMAX_NIFTI_QUANT/REGISTERED_ADJUSTED\\MENA-ROSA_IDIDA_MERCEDES.nii to D:/nnUNet_raw/Dataset039_Perfusion/labelsTr\\MENA-ROSA_IDIDA_MERCEDES_057.nii.gz\n"
     ]
    },
    {
     "name": "stderr",
     "output_type": "stream",
     "text": [
      "Processing training files:  57%|█████▋    | 58/102 [00:20<00:15,  2.81it/s]"
     ]
    },
    {
     "name": "stdout",
     "output_type": "stream",
     "text": [
      "Converted and copied image: D:/CTH_archive/CTH_STRIPPED\\MENDOZA_REMEDIOS.nii to D:/nnUNet_raw/Dataset039_Perfusion/imagesTr\\MENDOZA_REMEDIOS_058_0000.nii.gz\n",
      "Converted and copied label: D:/CTH_archive/TMAX_NIFTI_QUANT/REGISTERED_ADJUSTED\\MENDOZA_REMEDIOS.nii to D:/nnUNet_raw/Dataset039_Perfusion/labelsTr\\MENDOZA_REMEDIOS_058.nii.gz\n"
     ]
    },
    {
     "name": "stderr",
     "output_type": "stream",
     "text": [
      "Processing training files:  58%|█████▊    | 59/102 [00:21<00:15,  2.86it/s]"
     ]
    },
    {
     "name": "stdout",
     "output_type": "stream",
     "text": [
      "Converted and copied image: D:/CTH_archive/CTH_STRIPPED\\MESSINA_CALOGERO.nii to D:/nnUNet_raw/Dataset039_Perfusion/imagesTr\\MESSINA_CALOGERO_059_0000.nii.gz\n",
      "Converted and copied label: D:/CTH_archive/TMAX_NIFTI_QUANT/REGISTERED_ADJUSTED\\MESSINA_CALOGERO.nii to D:/nnUNet_raw/Dataset039_Perfusion/labelsTr\\MESSINA_CALOGERO_059.nii.gz\n"
     ]
    },
    {
     "name": "stderr",
     "output_type": "stream",
     "text": [
      "Processing training files:  59%|█████▉    | 60/102 [00:21<00:14,  2.90it/s]"
     ]
    },
    {
     "name": "stdout",
     "output_type": "stream",
     "text": [
      "Converted and copied image: D:/CTH_archive/CTH_STRIPPED\\MILLS_JOAN.nii to D:/nnUNet_raw/Dataset039_Perfusion/imagesTr\\MILLS_JOAN_060_0000.nii.gz\n",
      "Converted and copied label: D:/CTH_archive/TMAX_NIFTI_QUANT/REGISTERED_ADJUSTED\\MILLS_JOAN.nii to D:/nnUNet_raw/Dataset039_Perfusion/labelsTr\\MILLS_JOAN_060.nii.gz\n"
     ]
    },
    {
     "name": "stderr",
     "output_type": "stream",
     "text": [
      "Processing training files:  60%|█████▉    | 61/102 [00:21<00:13,  3.00it/s]"
     ]
    },
    {
     "name": "stdout",
     "output_type": "stream",
     "text": [
      "Converted and copied image: D:/CTH_archive/CTH_STRIPPED\\MIRABAL_JORGE.nii to D:/nnUNet_raw/Dataset039_Perfusion/imagesTr\\MIRABAL_JORGE_061_0000.nii.gz\n",
      "Converted and copied label: D:/CTH_archive/TMAX_NIFTI_QUANT/REGISTERED_ADJUSTED\\MIRABAL_JORGE.nii to D:/nnUNet_raw/Dataset039_Perfusion/labelsTr\\MIRABAL_JORGE_061.nii.gz\n"
     ]
    },
    {
     "name": "stderr",
     "output_type": "stream",
     "text": [
      "Processing training files:  61%|██████    | 62/102 [00:22<00:13,  2.98it/s]"
     ]
    },
    {
     "name": "stdout",
     "output_type": "stream",
     "text": [
      "Converted and copied image: D:/CTH_archive/CTH_STRIPPED\\MITCHELL_ROSA.nii to D:/nnUNet_raw/Dataset039_Perfusion/imagesTr\\MITCHELL_ROSA_062_0000.nii.gz\n",
      "Converted and copied label: D:/CTH_archive/TMAX_NIFTI_QUANT/REGISTERED_ADJUSTED\\MITCHELL_ROSA.nii to D:/nnUNet_raw/Dataset039_Perfusion/labelsTr\\MITCHELL_ROSA_062.nii.gz\n"
     ]
    },
    {
     "name": "stderr",
     "output_type": "stream",
     "text": [
      "Processing training files:  62%|██████▏   | 63/102 [00:22<00:13,  2.83it/s]"
     ]
    },
    {
     "name": "stdout",
     "output_type": "stream",
     "text": [
      "Converted and copied image: D:/CTH_archive/CTH_STRIPPED\\MONTANEZ_PETER_A.nii to D:/nnUNet_raw/Dataset039_Perfusion/imagesTr\\MONTANEZ_PETER_A_063_0000.nii.gz\n",
      "Converted and copied label: D:/CTH_archive/TMAX_NIFTI_QUANT/REGISTERED_ADJUSTED\\MONTANEZ_PETER_A.nii to D:/nnUNet_raw/Dataset039_Perfusion/labelsTr\\MONTANEZ_PETER_A_063.nii.gz\n"
     ]
    },
    {
     "name": "stderr",
     "output_type": "stream",
     "text": [
      "Processing training files:  63%|██████▎   | 64/102 [00:23<00:13,  2.78it/s]"
     ]
    },
    {
     "name": "stdout",
     "output_type": "stream",
     "text": [
      "Converted and copied image: D:/CTH_archive/CTH_STRIPPED\\MONTERO_RAMIREZ_MICAELA.nii to D:/nnUNet_raw/Dataset039_Perfusion/imagesTr\\MONTERO_RAMIREZ_MICAELA_064_0000.nii.gz\n",
      "Converted and copied label: D:/CTH_archive/TMAX_NIFTI_QUANT/REGISTERED_ADJUSTED\\MONTERO_RAMIREZ_MICAELA.nii to D:/nnUNet_raw/Dataset039_Perfusion/labelsTr\\MONTERO_RAMIREZ_MICAELA_064.nii.gz\n",
      "Converted and copied image: D:/CTH_archive/CTH_STRIPPED\\MORENO_JORGE.nii to D:/nnUNet_raw/Dataset039_Perfusion/imagesTr\\MORENO_JORGE_065_0000.nii.gz\n"
     ]
    },
    {
     "name": "stderr",
     "output_type": "stream",
     "text": [
      "Processing training files:  64%|██████▎   | 65/102 [00:23<00:14,  2.52it/s]"
     ]
    },
    {
     "name": "stdout",
     "output_type": "stream",
     "text": [
      "Converted and copied label: D:/CTH_archive/TMAX_NIFTI_QUANT/REGISTERED_ADJUSTED\\MORENO_JORGE.nii to D:/nnUNet_raw/Dataset039_Perfusion/labelsTr\\MORENO_JORGE_065.nii.gz\n"
     ]
    },
    {
     "name": "stderr",
     "output_type": "stream",
     "text": [
      "Processing training files:  65%|██████▍   | 66/102 [00:23<00:14,  2.51it/s]"
     ]
    },
    {
     "name": "stdout",
     "output_type": "stream",
     "text": [
      "Converted and copied image: D:/CTH_archive/CTH_STRIPPED\\MULDOON_GERALDINE_A.nii to D:/nnUNet_raw/Dataset039_Perfusion/imagesTr\\MULDOON_GERALDINE_A_066_0000.nii.gz\n",
      "Converted and copied label: D:/CTH_archive/TMAX_NIFTI_QUANT/REGISTERED_ADJUSTED\\MULDOON_GERALDINE_A.nii to D:/nnUNet_raw/Dataset039_Perfusion/labelsTr\\MULDOON_GERALDINE_A_066.nii.gz\n"
     ]
    },
    {
     "name": "stderr",
     "output_type": "stream",
     "text": [
      "Processing training files:  66%|██████▌   | 67/102 [00:24<00:13,  2.51it/s]"
     ]
    },
    {
     "name": "stdout",
     "output_type": "stream",
     "text": [
      "Converted and copied image: D:/CTH_archive/CTH_STRIPPED\\NAJERA_JOSE.nii to D:/nnUNet_raw/Dataset039_Perfusion/imagesTr\\NAJERA_JOSE_067_0000.nii.gz\n",
      "Converted and copied label: D:/CTH_archive/TMAX_NIFTI_QUANT/REGISTERED_ADJUSTED\\NAJERA_JOSE.nii to D:/nnUNet_raw/Dataset039_Perfusion/labelsTr\\NAJERA_JOSE_067.nii.gz\n"
     ]
    },
    {
     "name": "stderr",
     "output_type": "stream",
     "text": [
      "Processing training files:  67%|██████▋   | 68/102 [00:24<00:12,  2.71it/s]"
     ]
    },
    {
     "name": "stdout",
     "output_type": "stream",
     "text": [
      "Converted and copied image: D:/CTH_archive/CTH_STRIPPED\\NAVAS_RAFAEL.nii to D:/nnUNet_raw/Dataset039_Perfusion/imagesTr\\NAVAS_RAFAEL_068_0000.nii.gz\n",
      "Converted and copied label: D:/CTH_archive/TMAX_NIFTI_QUANT/REGISTERED_ADJUSTED\\NAVAS_RAFAEL.nii to D:/nnUNet_raw/Dataset039_Perfusion/labelsTr\\NAVAS_RAFAEL_068.nii.gz\n"
     ]
    },
    {
     "name": "stderr",
     "output_type": "stream",
     "text": [
      "Processing training files:  68%|██████▊   | 69/102 [00:24<00:11,  2.97it/s]"
     ]
    },
    {
     "name": "stdout",
     "output_type": "stream",
     "text": [
      "Converted and copied image: D:/CTH_archive/CTH_STRIPPED\\NICHOLAS_LOLA.nii to D:/nnUNet_raw/Dataset039_Perfusion/imagesTr\\NICHOLAS_LOLA_069_0000.nii.gz\n",
      "Converted and copied label: D:/CTH_archive/TMAX_NIFTI_QUANT/REGISTERED_ADJUSTED\\NICHOLAS_LOLA.nii to D:/nnUNet_raw/Dataset039_Perfusion/labelsTr\\NICHOLAS_LOLA_069.nii.gz\n"
     ]
    },
    {
     "name": "stderr",
     "output_type": "stream",
     "text": [
      "Processing training files:  69%|██████▊   | 70/102 [00:25<00:11,  2.80it/s]"
     ]
    },
    {
     "name": "stdout",
     "output_type": "stream",
     "text": [
      "Converted and copied image: D:/CTH_archive/CTH_STRIPPED\\OROVAN_MARY.nii to D:/nnUNet_raw/Dataset039_Perfusion/imagesTr\\OROVAN_MARY_070_0000.nii.gz\n",
      "Converted and copied label: D:/CTH_archive/TMAX_NIFTI_QUANT/REGISTERED_ADJUSTED\\OROVAN_MARY.nii to D:/nnUNet_raw/Dataset039_Perfusion/labelsTr\\OROVAN_MARY_070.nii.gz\n"
     ]
    },
    {
     "name": "stderr",
     "output_type": "stream",
     "text": [
      "Processing training files:  70%|██████▉   | 71/102 [00:25<00:10,  2.93it/s]"
     ]
    },
    {
     "name": "stdout",
     "output_type": "stream",
     "text": [
      "Converted and copied image: D:/CTH_archive/CTH_STRIPPED\\PEREZ_HUGO.nii to D:/nnUNet_raw/Dataset039_Perfusion/imagesTr\\PEREZ_HUGO_071_0000.nii.gz\n",
      "Converted and copied label: D:/CTH_archive/TMAX_NIFTI_QUANT/REGISTERED_ADJUSTED\\PEREZ_HUGO.nii to D:/nnUNet_raw/Dataset039_Perfusion/labelsTr\\PEREZ_HUGO_071.nii.gz\n"
     ]
    },
    {
     "name": "stderr",
     "output_type": "stream",
     "text": [
      "Processing training files:  71%|███████   | 72/102 [00:25<00:09,  3.04it/s]"
     ]
    },
    {
     "name": "stdout",
     "output_type": "stream",
     "text": [
      "Converted and copied image: D:/CTH_archive/CTH_STRIPPED\\PERINA_ROBERT.nii to D:/nnUNet_raw/Dataset039_Perfusion/imagesTr\\PERINA_ROBERT_072_0000.nii.gz\n",
      "Converted and copied label: D:/CTH_archive/TMAX_NIFTI_QUANT/REGISTERED_ADJUSTED\\PERINA_ROBERT.nii to D:/nnUNet_raw/Dataset039_Perfusion/labelsTr\\PERINA_ROBERT_072.nii.gz\n"
     ]
    },
    {
     "name": "stderr",
     "output_type": "stream",
     "text": [
      "Processing training files:  72%|███████▏  | 73/102 [00:26<00:09,  3.02it/s]"
     ]
    },
    {
     "name": "stdout",
     "output_type": "stream",
     "text": [
      "Converted and copied image: D:/CTH_archive/CTH_STRIPPED\\PERLMUTTER_JULES.nii to D:/nnUNet_raw/Dataset039_Perfusion/imagesTr\\PERLMUTTER_JULES_073_0000.nii.gz\n",
      "Converted and copied label: D:/CTH_archive/TMAX_NIFTI_QUANT/REGISTERED_ADJUSTED\\PERLMUTTER_JULES.nii to D:/nnUNet_raw/Dataset039_Perfusion/labelsTr\\PERLMUTTER_JULES_073.nii.gz\n"
     ]
    },
    {
     "name": "stderr",
     "output_type": "stream",
     "text": [
      "Processing training files:  73%|███████▎  | 74/102 [00:26<00:09,  3.00it/s]"
     ]
    },
    {
     "name": "stdout",
     "output_type": "stream",
     "text": [
      "Converted and copied image: D:/CTH_archive/CTH_STRIPPED\\PLAZA_RAUL.nii to D:/nnUNet_raw/Dataset039_Perfusion/imagesTr\\PLAZA_RAUL_074_0000.nii.gz\n",
      "Converted and copied label: D:/CTH_archive/TMAX_NIFTI_QUANT/REGISTERED_ADJUSTED\\PLAZA_RAUL.nii to D:/nnUNet_raw/Dataset039_Perfusion/labelsTr\\PLAZA_RAUL_074.nii.gz\n"
     ]
    },
    {
     "name": "stderr",
     "output_type": "stream",
     "text": [
      "Processing training files:  74%|███████▎  | 75/102 [00:27<00:09,  2.76it/s]"
     ]
    },
    {
     "name": "stdout",
     "output_type": "stream",
     "text": [
      "Converted and copied image: D:/CTH_archive/CTH_STRIPPED\\QUILES_MARIBEL.nii to D:/nnUNet_raw/Dataset039_Perfusion/imagesTr\\QUILES_MARIBEL_075_0000.nii.gz\n",
      "Converted and copied label: D:/CTH_archive/TMAX_NIFTI_QUANT/REGISTERED_ADJUSTED\\QUILES_MARIBEL.nii to D:/nnUNet_raw/Dataset039_Perfusion/labelsTr\\QUILES_MARIBEL_075.nii.gz\n"
     ]
    },
    {
     "name": "stderr",
     "output_type": "stream",
     "text": [
      "Processing training files:  75%|███████▍  | 76/102 [00:27<00:08,  2.99it/s]"
     ]
    },
    {
     "name": "stdout",
     "output_type": "stream",
     "text": [
      "Converted and copied image: D:/CTH_archive/CTH_STRIPPED\\RAMIREZ_ANGELA.nii to D:/nnUNet_raw/Dataset039_Perfusion/imagesTr\\RAMIREZ_ANGELA_076_0000.nii.gz\n",
      "Converted and copied label: D:/CTH_archive/TMAX_NIFTI_QUANT/REGISTERED_ADJUSTED\\RAMIREZ_ANGELA.nii to D:/nnUNet_raw/Dataset039_Perfusion/labelsTr\\RAMIREZ_ANGELA_076.nii.gz\n"
     ]
    },
    {
     "name": "stderr",
     "output_type": "stream",
     "text": [
      "Processing training files:  75%|███████▌  | 77/102 [00:27<00:08,  3.07it/s]"
     ]
    },
    {
     "name": "stdout",
     "output_type": "stream",
     "text": [
      "Converted and copied image: D:/CTH_archive/CTH_STRIPPED\\RAMIREZ_ELIZABETH.nii to D:/nnUNet_raw/Dataset039_Perfusion/imagesTr\\RAMIREZ_ELIZABETH_077_0000.nii.gz\n",
      "Converted and copied label: D:/CTH_archive/TMAX_NIFTI_QUANT/REGISTERED_ADJUSTED\\RAMIREZ_ELIZABETH.nii to D:/nnUNet_raw/Dataset039_Perfusion/labelsTr\\RAMIREZ_ELIZABETH_077.nii.gz\n"
     ]
    },
    {
     "name": "stderr",
     "output_type": "stream",
     "text": [
      "Processing training files:  76%|███████▋  | 78/102 [00:28<00:08,  2.74it/s]"
     ]
    },
    {
     "name": "stdout",
     "output_type": "stream",
     "text": [
      "Converted and copied image: D:/CTH_archive/CTH_STRIPPED\\RAMUSEVIC_SMAIL.nii to D:/nnUNet_raw/Dataset039_Perfusion/imagesTr\\RAMUSEVIC_SMAIL_078_0000.nii.gz\n",
      "Converted and copied label: D:/CTH_archive/TMAX_NIFTI_QUANT/REGISTERED_ADJUSTED\\RAMUSEVIC_SMAIL.nii to D:/nnUNet_raw/Dataset039_Perfusion/labelsTr\\RAMUSEVIC_SMAIL_078.nii.gz\n"
     ]
    },
    {
     "name": "stderr",
     "output_type": "stream",
     "text": [
      "Processing training files:  77%|███████▋  | 79/102 [00:28<00:09,  2.54it/s]"
     ]
    },
    {
     "name": "stdout",
     "output_type": "stream",
     "text": [
      "Converted and copied image: D:/CTH_archive/CTH_STRIPPED\\RAPPOPORT_MARIO.nii to D:/nnUNet_raw/Dataset039_Perfusion/imagesTr\\RAPPOPORT_MARIO_079_0000.nii.gz\n",
      "Converted and copied label: D:/CTH_archive/TMAX_NIFTI_QUANT/REGISTERED_ADJUSTED\\RAPPOPORT_MARIO.nii to D:/nnUNet_raw/Dataset039_Perfusion/labelsTr\\RAPPOPORT_MARIO_079.nii.gz\n",
      "Converted and copied image: D:/CTH_archive/CTH_STRIPPED\\REDMOND_JONATHAN.nii to D:/nnUNet_raw/Dataset039_Perfusion/imagesTr\\REDMOND_JONATHAN_080_0000.nii.gz\n"
     ]
    },
    {
     "name": "stderr",
     "output_type": "stream",
     "text": [
      "Processing training files:  78%|███████▊  | 80/102 [00:28<00:09,  2.42it/s]"
     ]
    },
    {
     "name": "stdout",
     "output_type": "stream",
     "text": [
      "Converted and copied label: D:/CTH_archive/TMAX_NIFTI_QUANT/REGISTERED_ADJUSTED\\REDMOND_JONATHAN.nii to D:/nnUNet_raw/Dataset039_Perfusion/labelsTr\\REDMOND_JONATHAN_080.nii.gz\n",
      "Converted and copied image: D:/CTH_archive/CTH_STRIPPED\\REYES_ROSA.nii to D:/nnUNet_raw/Dataset039_Perfusion/imagesTr\\REYES_ROSA_081_0000.nii.gz\n"
     ]
    },
    {
     "name": "stderr",
     "output_type": "stream",
     "text": [
      "Processing training files:  79%|███████▉  | 81/102 [00:29<00:09,  2.13it/s]"
     ]
    },
    {
     "name": "stdout",
     "output_type": "stream",
     "text": [
      "Converted and copied label: D:/CTH_archive/TMAX_NIFTI_QUANT/REGISTERED_ADJUSTED\\REYES_ROSA.nii to D:/nnUNet_raw/Dataset039_Perfusion/labelsTr\\REYES_ROSA_081.nii.gz\n"
     ]
    },
    {
     "name": "stderr",
     "output_type": "stream",
     "text": [
      "Processing training files:  80%|████████  | 82/102 [00:29<00:08,  2.26it/s]"
     ]
    },
    {
     "name": "stdout",
     "output_type": "stream",
     "text": [
      "Converted and copied image: D:/CTH_archive/CTH_STRIPPED\\RICE_CALVIN.nii to D:/nnUNet_raw/Dataset039_Perfusion/imagesTr\\RICE_CALVIN_082_0000.nii.gz\n",
      "Converted and copied label: D:/CTH_archive/TMAX_NIFTI_QUANT/REGISTERED_ADJUSTED\\RICE_CALVIN.nii to D:/nnUNet_raw/Dataset039_Perfusion/labelsTr\\RICE_CALVIN_082.nii.gz\n"
     ]
    },
    {
     "name": "stderr",
     "output_type": "stream",
     "text": [
      "Processing training files:  81%|████████▏ | 83/102 [00:30<00:07,  2.49it/s]"
     ]
    },
    {
     "name": "stdout",
     "output_type": "stream",
     "text": [
      "Converted and copied image: D:/CTH_archive/CTH_STRIPPED\\ROBINSON_GENEVA_D.nii to D:/nnUNet_raw/Dataset039_Perfusion/imagesTr\\ROBINSON_GENEVA_D_083_0000.nii.gz\n",
      "Converted and copied label: D:/CTH_archive/TMAX_NIFTI_QUANT/REGISTERED_ADJUSTED\\ROBINSON_GENEVA_D.nii to D:/nnUNet_raw/Dataset039_Perfusion/labelsTr\\ROBINSON_GENEVA_D_083.nii.gz\n"
     ]
    },
    {
     "name": "stderr",
     "output_type": "stream",
     "text": [
      "Processing training files:  82%|████████▏ | 84/102 [00:30<00:06,  2.65it/s]"
     ]
    },
    {
     "name": "stdout",
     "output_type": "stream",
     "text": [
      "Converted and copied image: D:/CTH_archive/CTH_STRIPPED\\RODRIQUEZ_RIVERA_ROQUE.nii to D:/nnUNet_raw/Dataset039_Perfusion/imagesTr\\RODRIQUEZ_RIVERA_ROQUE_084_0000.nii.gz\n",
      "Converted and copied label: D:/CTH_archive/TMAX_NIFTI_QUANT/REGISTERED_ADJUSTED\\RODRIQUEZ_RIVERA_ROQUE.nii to D:/nnUNet_raw/Dataset039_Perfusion/labelsTr\\RODRIQUEZ_RIVERA_ROQUE_084.nii.gz\n"
     ]
    },
    {
     "name": "stderr",
     "output_type": "stream",
     "text": [
      "Processing training files:  83%|████████▎ | 85/102 [00:30<00:06,  2.60it/s]"
     ]
    },
    {
     "name": "stdout",
     "output_type": "stream",
     "text": [
      "Converted and copied image: D:/CTH_archive/CTH_STRIPPED\\ROGERS_MARSHA.nii to D:/nnUNet_raw/Dataset039_Perfusion/imagesTr\\ROGERS_MARSHA_085_0000.nii.gz\n",
      "Converted and copied label: D:/CTH_archive/TMAX_NIFTI_QUANT/REGISTERED_ADJUSTED\\ROGERS_MARSHA.nii to D:/nnUNet_raw/Dataset039_Perfusion/labelsTr\\ROGERS_MARSHA_085.nii.gz\n"
     ]
    },
    {
     "name": "stderr",
     "output_type": "stream",
     "text": [
      "Processing training files:  84%|████████▍ | 86/102 [00:31<00:05,  2.77it/s]"
     ]
    },
    {
     "name": "stdout",
     "output_type": "stream",
     "text": [
      "Converted and copied image: D:/CTH_archive/CTH_STRIPPED\\ROMEO_ROBIN_MAXIMILAN.nii to D:/nnUNet_raw/Dataset039_Perfusion/imagesTr\\ROMEO_ROBIN_MAXIMILAN_086_0000.nii.gz\n",
      "Converted and copied label: D:/CTH_archive/TMAX_NIFTI_QUANT/REGISTERED_ADJUSTED\\ROMEO_ROBIN_MAXIMILAN.nii to D:/nnUNet_raw/Dataset039_Perfusion/labelsTr\\ROMEO_ROBIN_MAXIMILAN_086.nii.gz\n"
     ]
    },
    {
     "name": "stderr",
     "output_type": "stream",
     "text": [
      "Processing training files:  85%|████████▌ | 87/102 [00:31<00:05,  2.61it/s]"
     ]
    },
    {
     "name": "stdout",
     "output_type": "stream",
     "text": [
      "Converted and copied image: D:/CTH_archive/CTH_STRIPPED\\ROSE_SYLVIA.nii to D:/nnUNet_raw/Dataset039_Perfusion/imagesTr\\ROSE_SYLVIA_087_0000.nii.gz\n",
      "Converted and copied label: D:/CTH_archive/TMAX_NIFTI_QUANT/REGISTERED_ADJUSTED\\ROSE_SYLVIA.nii to D:/nnUNet_raw/Dataset039_Perfusion/labelsTr\\ROSE_SYLVIA_087.nii.gz\n"
     ]
    },
    {
     "name": "stderr",
     "output_type": "stream",
     "text": [
      "Processing training files:  86%|████████▋ | 88/102 [00:32<00:05,  2.55it/s]"
     ]
    },
    {
     "name": "stdout",
     "output_type": "stream",
     "text": [
      "Converted and copied image: D:/CTH_archive/CTH_STRIPPED\\RUBALLO_OMAR.nii to D:/nnUNet_raw/Dataset039_Perfusion/imagesTr\\RUBALLO_OMAR_088_0000.nii.gz\n",
      "Converted and copied label: D:/CTH_archive/TMAX_NIFTI_QUANT/REGISTERED_ADJUSTED\\RUBALLO_OMAR.nii to D:/nnUNet_raw/Dataset039_Perfusion/labelsTr\\RUBALLO_OMAR_088.nii.gz\n"
     ]
    },
    {
     "name": "stderr",
     "output_type": "stream",
     "text": [
      "Processing training files:  87%|████████▋ | 89/102 [00:32<00:04,  2.74it/s]"
     ]
    },
    {
     "name": "stdout",
     "output_type": "stream",
     "text": [
      "Converted and copied image: D:/CTH_archive/CTH_STRIPPED\\RYAN_MICHAEL.nii to D:/nnUNet_raw/Dataset039_Perfusion/imagesTr\\RYAN_MICHAEL_089_0000.nii.gz\n",
      "Converted and copied label: D:/CTH_archive/TMAX_NIFTI_QUANT/REGISTERED_ADJUSTED\\RYAN_MICHAEL.nii to D:/nnUNet_raw/Dataset039_Perfusion/labelsTr\\RYAN_MICHAEL_089.nii.gz\n"
     ]
    },
    {
     "name": "stderr",
     "output_type": "stream",
     "text": [
      "Processing training files:  88%|████████▊ | 90/102 [00:32<00:04,  2.90it/s]"
     ]
    },
    {
     "name": "stdout",
     "output_type": "stream",
     "text": [
      "Converted and copied image: D:/CTH_archive/CTH_STRIPPED\\SALTER_GLADYS.nii to D:/nnUNet_raw/Dataset039_Perfusion/imagesTr\\SALTER_GLADYS_090_0000.nii.gz\n",
      "Converted and copied label: D:/CTH_archive/TMAX_NIFTI_QUANT/REGISTERED_ADJUSTED\\SALTER_GLADYS.nii to D:/nnUNet_raw/Dataset039_Perfusion/labelsTr\\SALTER_GLADYS_090.nii.gz\n"
     ]
    },
    {
     "name": "stderr",
     "output_type": "stream",
     "text": [
      "Processing training files:  89%|████████▉ | 91/102 [00:33<00:03,  3.10it/s]"
     ]
    },
    {
     "name": "stdout",
     "output_type": "stream",
     "text": [
      "Converted and copied image: D:/CTH_archive/CTH_STRIPPED\\SANTIAGO_CARMEN.nii to D:/nnUNet_raw/Dataset039_Perfusion/imagesTr\\SANTIAGO_CARMEN_091_0000.nii.gz\n",
      "Converted and copied label: D:/CTH_archive/TMAX_NIFTI_QUANT/REGISTERED_ADJUSTED\\SANTIAGO_CARMEN.nii to D:/nnUNet_raw/Dataset039_Perfusion/labelsTr\\SANTIAGO_CARMEN_091.nii.gz\n"
     ]
    },
    {
     "name": "stderr",
     "output_type": "stream",
     "text": [
      "Processing training files:  90%|█████████ | 92/102 [00:33<00:03,  3.08it/s]"
     ]
    },
    {
     "name": "stdout",
     "output_type": "stream",
     "text": [
      "Converted and copied image: D:/CTH_archive/CTH_STRIPPED\\SCOUFARAS_DESPINA.nii to D:/nnUNet_raw/Dataset039_Perfusion/imagesTr\\SCOUFARAS_DESPINA_092_0000.nii.gz\n",
      "Converted and copied label: D:/CTH_archive/TMAX_NIFTI_QUANT/REGISTERED_ADJUSTED\\SCOUFARAS_DESPINA.nii to D:/nnUNet_raw/Dataset039_Perfusion/labelsTr\\SCOUFARAS_DESPINA_092.nii.gz\n"
     ]
    },
    {
     "name": "stderr",
     "output_type": "stream",
     "text": [
      "Processing training files:  91%|█████████ | 93/102 [00:33<00:03,  2.73it/s]"
     ]
    },
    {
     "name": "stdout",
     "output_type": "stream",
     "text": [
      "Converted and copied image: D:/CTH_archive/CTH_STRIPPED\\SGARLATO_SANTO.nii to D:/nnUNet_raw/Dataset039_Perfusion/imagesTr\\SGARLATO_SANTO_093_0000.nii.gz\n",
      "Converted and copied label: D:/CTH_archive/TMAX_NIFTI_QUANT/REGISTERED_ADJUSTED\\SGARLATO_SANTO.nii to D:/nnUNet_raw/Dataset039_Perfusion/labelsTr\\SGARLATO_SANTO_093.nii.gz\n"
     ]
    },
    {
     "name": "stderr",
     "output_type": "stream",
     "text": [
      "Processing training files:  92%|█████████▏| 94/102 [00:34<00:02,  2.96it/s]"
     ]
    },
    {
     "name": "stdout",
     "output_type": "stream",
     "text": [
      "Converted and copied image: D:/CTH_archive/CTH_STRIPPED\\SHERPA_DEKI.nii to D:/nnUNet_raw/Dataset039_Perfusion/imagesTr\\SHERPA_DEKI_094_0000.nii.gz\n",
      "Converted and copied label: D:/CTH_archive/TMAX_NIFTI_QUANT/REGISTERED_ADJUSTED\\SHERPA_DEKI.nii to D:/nnUNet_raw/Dataset039_Perfusion/labelsTr\\SHERPA_DEKI_094.nii.gz\n"
     ]
    },
    {
     "name": "stderr",
     "output_type": "stream",
     "text": [
      "Processing training files:  93%|█████████▎| 95/102 [00:34<00:02,  3.16it/s]"
     ]
    },
    {
     "name": "stdout",
     "output_type": "stream",
     "text": [
      "Converted and copied image: D:/CTH_archive/CTH_STRIPPED\\SIEJACK_EURANIA.nii to D:/nnUNet_raw/Dataset039_Perfusion/imagesTr\\SIEJACK_EURANIA_095_0000.nii.gz\n",
      "Converted and copied label: D:/CTH_archive/TMAX_NIFTI_QUANT/REGISTERED_ADJUSTED\\SIEJACK_EURANIA.nii to D:/nnUNet_raw/Dataset039_Perfusion/labelsTr\\SIEJACK_EURANIA_095.nii.gz\n"
     ]
    },
    {
     "name": "stderr",
     "output_type": "stream",
     "text": [
      "Processing training files:  94%|█████████▍| 96/102 [00:34<00:01,  3.12it/s]"
     ]
    },
    {
     "name": "stdout",
     "output_type": "stream",
     "text": [
      "Converted and copied image: D:/CTH_archive/CTH_STRIPPED\\SINGH_HARBHAJAN.nii to D:/nnUNet_raw/Dataset039_Perfusion/imagesTr\\SINGH_HARBHAJAN_096_0000.nii.gz\n",
      "Converted and copied label: D:/CTH_archive/TMAX_NIFTI_QUANT/REGISTERED_ADJUSTED\\SINGH_HARBHAJAN.nii to D:/nnUNet_raw/Dataset039_Perfusion/labelsTr\\SINGH_HARBHAJAN_096.nii.gz\n"
     ]
    },
    {
     "name": "stderr",
     "output_type": "stream",
     "text": [
      "Processing training files:  95%|█████████▌| 97/102 [00:35<00:01,  2.88it/s]"
     ]
    },
    {
     "name": "stdout",
     "output_type": "stream",
     "text": [
      "Converted and copied image: D:/CTH_archive/CTH_STRIPPED\\SINGLETARY_DONALD.nii to D:/nnUNet_raw/Dataset039_Perfusion/imagesTr\\SINGLETARY_DONALD_097_0000.nii.gz\n",
      "Converted and copied label: D:/CTH_archive/TMAX_NIFTI_QUANT/REGISTERED_ADJUSTED\\SINGLETARY_DONALD.nii to D:/nnUNet_raw/Dataset039_Perfusion/labelsTr\\SINGLETARY_DONALD_097.nii.gz\n"
     ]
    },
    {
     "name": "stderr",
     "output_type": "stream",
     "text": [
      "Processing training files:  96%|█████████▌| 98/102 [00:35<00:01,  2.86it/s]"
     ]
    },
    {
     "name": "stdout",
     "output_type": "stream",
     "text": [
      "Converted and copied image: D:/CTH_archive/CTH_STRIPPED\\SUAREZ_EDWIN.nii to D:/nnUNet_raw/Dataset039_Perfusion/imagesTr\\SUAREZ_EDWIN_098_0000.nii.gz\n",
      "Converted and copied label: D:/CTH_archive/TMAX_NIFTI_QUANT/REGISTERED_ADJUSTED\\SUAREZ_EDWIN.nii to D:/nnUNet_raw/Dataset039_Perfusion/labelsTr\\SUAREZ_EDWIN_098.nii.gz\n"
     ]
    },
    {
     "name": "stderr",
     "output_type": "stream",
     "text": [
      "Processing training files:  97%|█████████▋| 99/102 [00:35<00:01,  2.97it/s]"
     ]
    },
    {
     "name": "stdout",
     "output_type": "stream",
     "text": [
      "Converted and copied image: D:/CTH_archive/CTH_STRIPPED\\TORII_YUKIO.nii to D:/nnUNet_raw/Dataset039_Perfusion/imagesTr\\TORII_YUKIO_099_0000.nii.gz\n",
      "Converted and copied label: D:/CTH_archive/TMAX_NIFTI_QUANT/REGISTERED_ADJUSTED\\TORII_YUKIO.nii to D:/nnUNet_raw/Dataset039_Perfusion/labelsTr\\TORII_YUKIO_099.nii.gz\n",
      "Converted and copied image: D:/CTH_archive/CTH_STRIPPED\\TOUATI_MOHAMED.nii to D:/nnUNet_raw/Dataset039_Perfusion/imagesTr\\TOUATI_MOHAMED_100_0000.nii.gz\n"
     ]
    },
    {
     "name": "stderr",
     "output_type": "stream",
     "text": [
      "Processing training files:  98%|█████████▊| 100/102 [00:36<00:01,  1.96it/s]"
     ]
    },
    {
     "name": "stdout",
     "output_type": "stream",
     "text": [
      "Converted and copied label: D:/CTH_archive/TMAX_NIFTI_QUANT/REGISTERED_ADJUSTED\\TOUATI_MOHAMED.nii to D:/nnUNet_raw/Dataset039_Perfusion/labelsTr\\TOUATI_MOHAMED_100.nii.gz\n"
     ]
    },
    {
     "name": "stderr",
     "output_type": "stream",
     "text": [
      "Processing training files:  99%|█████████▉| 101/102 [00:37<00:00,  2.06it/s]"
     ]
    },
    {
     "name": "stdout",
     "output_type": "stream",
     "text": [
      "Converted and copied image: D:/CTH_archive/CTH_STRIPPED\\VANN_ELLIS_W.nii to D:/nnUNet_raw/Dataset039_Perfusion/imagesTr\\VANN_ELLIS_W_101_0000.nii.gz\n",
      "Converted and copied label: D:/CTH_archive/TMAX_NIFTI_QUANT/REGISTERED_ADJUSTED\\VANN_ELLIS_W.nii to D:/nnUNet_raw/Dataset039_Perfusion/labelsTr\\VANN_ELLIS_W_101.nii.gz\n"
     ]
    },
    {
     "name": "stderr",
     "output_type": "stream",
     "text": [
      "Processing training files: 100%|██████████| 102/102 [00:37<00:00,  2.73it/s]"
     ]
    },
    {
     "name": "stdout",
     "output_type": "stream",
     "text": [
      "Converted and copied image: D:/CTH_archive/CTH_STRIPPED\\YOUNG_LEOTA.nii to D:/nnUNet_raw/Dataset039_Perfusion/imagesTr\\YOUNG_LEOTA_102_0000.nii.gz\n",
      "Converted and copied label: D:/CTH_archive/TMAX_NIFTI_QUANT/REGISTERED_ADJUSTED\\YOUNG_LEOTA.nii to D:/nnUNet_raw/Dataset039_Perfusion/labelsTr\\YOUNG_LEOTA_102.nii.gz\n"
     ]
    },
    {
     "name": "stderr",
     "output_type": "stream",
     "text": [
      "\n"
     ]
    }
   ],
   "source": [
    "import os\n",
    "import nibabel as nib\n",
    "import shutil\n",
    "import random\n",
    "from tqdm import tqdm\n",
    "\n",
    "num_test_files = 5\n",
    "\n",
    "\n",
    "def convert_and_copy_with_labels_and_rename(image_source_dir, image_target_dir, label_source_dir, label_target_dir, images_test_dir, labels_test_dir):\n",
    "    # Ensure all target directories exist, create if they don't\n",
    "    for dir_path in [image_target_dir, label_target_dir, images_test_dir, labels_test_dir]:\n",
    "        if not os.path.exists(dir_path):\n",
    "            os.makedirs(dir_path)\n",
    "\n",
    "    # List all .nii files in the source directory\n",
    "    all_files = [f for f in sorted(os.listdir(image_source_dir)) if f.endswith('.nii')]\n",
    "    \n",
    "    # Determine the number of files to sample, ensuring it's not more than the total number of files available\n",
    "    num_test_files = min(5, len(all_files))\n",
    "\n",
    "    # Randomly select files for testing, based on the determined number\n",
    "    test_files = random.sample(all_files, num_test_files)\n",
    "\n",
    "    # Move selected test files and their labels\n",
    "    for file_name in tqdm(test_files, desc=\"Moving test files\"):\n",
    "        shutil.move(os.path.join(image_source_dir, file_name), os.path.join(images_test_dir, file_name))\n",
    "        \n",
    "        # Adjust the file name for the label to match the .nii extension\n",
    "        label_file_name = file_name.replace('.nii.gz', '.nii') if file_name.endswith('.nii.gz') else file_name\n",
    "        shutil.move(os.path.join(label_source_dir, label_file_name), os.path.join(labels_test_dir, label_file_name))\n",
    "        print(f\"Moved {file_name} and its label to the test directories.\")\n",
    "\n",
    "    # Remove test files from the all_files list\n",
    "    for test_file in test_files:\n",
    "        all_files.remove(test_file)\n",
    "\n",
    "    # Initialize a counter for unique naming within the training set\n",
    "    counter = 1\n",
    "\n",
    "    # Iterate over the remaining files for training\n",
    "    for file_name in tqdm(all_files, desc=\"Processing training files\"):\n",
    "        # Construct full source file paths for images and labels\n",
    "        image_source_file_path = os.path.join(image_source_dir, file_name)\n",
    "        label_source_file_path = os.path.join(label_source_dir, file_name)\n",
    "\n",
    "        # Load the .nii file (image)\n",
    "        nii_image = nib.load(image_source_file_path)\n",
    "\n",
    "        # Construct the new file name for images and labels\n",
    "        base_name = file_name[:-4]  # Remove .nii extension\n",
    "        new_image_name = f\"{base_name}_{counter:03d}_0000.nii.gz\"\n",
    "        new_label_name = f\"{base_name}_{counter:03d}.nii.gz\"\n",
    "\n",
    "        # Construct target file paths\n",
    "        image_target_file_path = os.path.join(image_target_dir, new_image_name)\n",
    "        label_target_file_path = os.path.join(label_target_dir, new_label_name)\n",
    "\n",
    "        # Save the image file as .nii.gz in the target directory\n",
    "        nib.save(nii_image, image_target_file_path)\n",
    "        print(f\"Converted and copied image: {image_source_file_path} to {image_target_file_path}\")\n",
    "\n",
    "        # Load the .nii file (label)\n",
    "        nii_label = nib.load(label_source_file_path)\n",
    "\n",
    "        # Save the label file as .nii.gz in the target directory\n",
    "        nib.save(nii_label, label_target_file_path)\n",
    "        print(f\"Converted and copied label: {label_source_file_path} to {label_target_file_path}\")\n",
    "\n",
    "        # Increment the counter for unique naming\n",
    "        counter += 1\n",
    "\n",
    "# Define source and target directories for images and labels\n",
    "image_source_dir = r\"D:/CTH_archive/CTH_STRIPPED\"\n",
    "image_target_dir = r\"D:/nnUNet_raw/Dataset039_Perfusion/imagesTr\"\n",
    "label_source_dir = r\"D:/CTH_archive/TMAX_NIFTI_QUANT/REGISTERED_ADJUSTED\"\n",
    "label_target_dir = r\"D:/nnUNet_raw/Dataset039_Perfusion/labelsTr\"\n",
    "\n",
    "# Define target directories for testing\n",
    "images_test_dir = r\"D:/nnUNet_raw/Dataset039_Perfusion/imagesTs\"\n",
    "labels_test_dir = r\"D:/nnUNet_raw/Dataset039_Perfusion/labelsTs\"\n",
    "\n",
    "convert_and_copy_with_labels_and_rename(image_source_dir, image_target_dir, label_source_dir, label_target_dir, images_test_dir, labels_test_dir)\n",
    "\n"
   ]
  },
  {
   "cell_type": "code",
   "execution_count": 57,
   "metadata": {},
   "outputs": [
    {
     "name": "stdout",
     "output_type": "stream",
     "text": [
      "dataset.json file has been generated in D:\\nnUNet_raw\\Dataset039_Perfusion\n"
     ]
    }
   ],
   "source": [
    "import os\n",
    "import json\n",
    "\n",
    "def generate_dataset_json(dataset_dir, num_quant_levels, channel_names, nnUNet_dir, file_ending=\".nii.gz\", num_test_data=0):\n",
    "    \"\"\"\n",
    "    Generate a dataset.json file for the given dataset with dynamic quantization levels.\n",
    "\n",
    "    Args:\n",
    "    - dataset_dir (str): Directory where the dataset files are stored.\n",
    "    - num_quant_levels (int): Number of quantization levels (excluding the background).\n",
    "    - channel_names (dict): Mapping of channel indices to their names.\n",
    "    - file_ending (str): File extension of the dataset files.\n",
    "    - num_test_data (int): The number of the dataset to be used for testing.\n",
    "\n",
    "    Returns:\n",
    "    - None\n",
    "    \"\"\"\n",
    "    # Dynamically generate labels based on the number of quantization levels\n",
    "    labels = {\"background\": \"0\"}\n",
    "    for i in range(1, num_quant_levels + 1):\n",
    "        labels[f\"quantized_{i}\"] = str(i)\n",
    "\n",
    "    # Count the number of dataset files\n",
    "    num_training = len([file for file in os.listdir(dataset_dir) if file.endswith(file_ending)])\n",
    "\n",
    "    # Use the specified number of test data and calculate the remaining number of training files\n",
    "    num_test = num_test_data\n",
    "\n",
    "    # Construct the dataset JSON structure\n",
    "    dataset_json = {\n",
    "        \"labels\": labels,\n",
    "        \"numTraining\": num_training,\n",
    "        \"numTest\": num_test,\n",
    "        \"channel_names\": channel_names,\n",
    "        \"file_ending\": file_ending\n",
    "    }\n",
    "\n",
    "    # Write the JSON structure to a file\n",
    "    with open(os.path.join(nnUNet_dir, \"dataset.json\"), 'w') as json_file:\n",
    "        json.dump(dataset_json, json_file, indent=4)\n",
    "\n",
    "    print(f\"dataset.json file has been generated in {nnUNet_dir}\")\n",
    "\n",
    "# Example usage\n",
    "dataset_dir = r'D:\\nnUNet_raw\\Dataset039_Perfusion\\labelsTr'  # Path to dataset directory\n",
    "nnUNet_dir = r'D:\\nnUNet_raw\\Dataset039_Perfusion'  # Path to nnUNet directory\n",
    "num_quant_levels = 5  # Number of quantization levels (excluding background)\n",
    "channel_names = {\"0\": \"CT\"}\n",
    "num_test_data = 5  # Specify the number of test data\n",
    "\n",
    "generate_dataset_json(dataset_dir, num_quant_levels, channel_names, nnUNet_dir, file_ending=\".nii.gz\", num_test_data=num_test_data)\n"
   ]
  },
  {
   "cell_type": "code",
   "execution_count": 59,
   "metadata": {},
   "outputs": [
    {
     "data": {
      "application/vnd.jupyter.widget-view+json": {
       "model_id": "2bf93682b6bc465aa944ce902246a9d1",
       "version_major": 2,
       "version_minor": 0
      },
      "text/plain": [
       "interactive(children=(Dropdown(description='prediction_file', options=('BAUM_ROBERT_000.nii.gz', 'BILLIPS_JAME…"
      ]
     },
     "metadata": {},
     "output_type": "display_data"
    }
   ],
   "source": [
    "%matplotlib inline\n",
    "import os\n",
    "import nibabel as nib\n",
    "import numpy as np\n",
    "import matplotlib.pyplot as plt\n",
    "from ipywidgets import interactive, IntSlider, Dropdown\n",
    "\n",
    "prediction_dir = r\"D:\\nnUNet_output\\Dataset038_Perfusion\\post\"\n",
    "ground_truth_dir = r\"D:\\CTH_archive\\TMAX_NIFTI_QUANT\"  # Updated path for ground truth images\n",
    "ct_images_dir = r\"D:\\CTH_archive\\CTH_NIFTI\"  # Directory for CT head images\n",
    "\n",
    "# Get the .nii.gz files in the directories\n",
    "prediction_files = sorted([f for f in os.listdir(prediction_dir) if f.endswith('.nii') or f.endswith('.nii.gz')])\n",
    "ground_truth_files = sorted([f for f in os.listdir(ground_truth_dir) if f.endswith('.nii') or f.endswith('.nii.gz')])\n",
    "ct_image_files = sorted([f for f in os.listdir(ct_images_dir) if f.endswith('.nii') or f.endswith('.nii.gz')])\n",
    "\n",
    "def apply_window(image, level=40, width=80):\n",
    "    lower = level - (width / 2)\n",
    "    upper = level + (width / 2)\n",
    "    return np.clip((image - lower) / (upper - lower), 0, 1)\n",
    "\n",
    "def plot_images(prediction_file, ground_truth_file, ct_image_file, slice_idx):\n",
    "    # Load the files\n",
    "    prediction_img = nib.load(os.path.join(prediction_dir, prediction_file))\n",
    "    ground_truth_img = nib.load(os.path.join(ground_truth_dir, ground_truth_file))\n",
    "    ct_img = nib.load(os.path.join(ct_images_dir, ct_image_file))\n",
    "\n",
    "    # Convert the data to numpy arrays\n",
    "    prediction_data = prediction_img.get_fdata()\n",
    "    ground_truth_data = ground_truth_img.get_fdata()\n",
    "    ct_data = ct_img.get_fdata()\n",
    "\n",
    "    # Apply custom windowing to the CT head image\n",
    "    ct_data_windowed = apply_window(ct_data)\n",
    "\n",
    "    # Plot the ground truth image, the prediction, and the windowed CT head image\n",
    "    fig, axes = plt.subplots(1, 3, figsize=(15, 5))\n",
    "    axes[0].imshow(ground_truth_data[:, :, slice_idx], cmap='gray')\n",
    "    axes[0].set_title('Ground Truth Image')\n",
    "    axes[1].imshow(prediction_data[:, :, slice_idx], cmap='gray')\n",
    "    axes[1].set_title('Prediction')\n",
    "    axes[2].imshow(ct_data_windowed[:, :, slice_idx], cmap='gray')  # Show the windowed CT head image\n",
    "    axes[2].set_title('Windowed CT Head Image')\n",
    "    plt.show()\n",
    "\n",
    "# Create widgets for file selection and slice index\n",
    "prediction_file_widget = Dropdown(options=prediction_files)\n",
    "ground_truth_file_widget = Dropdown(options=ground_truth_files)\n",
    "ct_image_file_widget = Dropdown(options=ct_image_files)\n",
    "slice_idx_widget = IntSlider(min=0, max=1, step=1, value=0)  # Initial max and value set to 0\n",
    "\n",
    "# Create an interactive plot\n",
    "plot = interactive(plot_images, prediction_file=prediction_file_widget, ground_truth_file=ground_truth_file_widget, ct_image_file=ct_image_file_widget, slice_idx=slice_idx_widget)\n",
    "\n",
    "# Update the maximum value and value of the slice index slider whenever a new CT image is selected\n",
    "def update_slice_idx_range(*args):\n",
    "    ct_img = nib.load(os.path.join(ct_images_dir, ct_image_file_widget.value))\n",
    "    ct_data = ct_img.get_fdata()\n",
    "    slice_idx_widget.max = ct_data.shape[2] - 1\n",
    "    slice_idx_widget.value = min(slice_idx_widget.value, slice_idx_widget.max)\n",
    "\n",
    "ct_image_file_widget.observe(update_slice_idx_range, 'value')\n",
    "\n",
    "# Manually call the update function to set the initial max value of the slice index slider\n",
    "update_slice_idx_range()\n",
    "\n",
    "# Display the interactive plot\n",
    "display(plot)\n"
   ]
  },
  {
   "cell_type": "code",
   "execution_count": null,
   "metadata": {},
   "outputs": [],
   "source": [
    "preds_list = [x.split(' ')[0] for x in os.listdir('D:\\CTH_archive\\TMAX_NIFTI_QUANT\\REGISTERED')]\n",
    "preds_list = [x.replace('.nii', '') for x in preds_list]\n",
    "CTH_DICOM_SPLIT = [x.split(' ')[0] for x in os.listdir('D:\\CTH_archive\\CTH_DICOM')]\n"
   ]
  },
  {
   "cell_type": "code",
   "execution_count": null,
   "metadata": {},
   "outputs": [],
   "source": [
    "names_of_interest = set(CTH_DICOM_SPLIT) - set(preds_list)"
   ]
  },
  {
   "cell_type": "code",
   "execution_count": null,
   "metadata": {},
   "outputs": [],
   "source": [
    "directory_listing = os.listdir(\"D:\\CTH_archive\\CTH_DICOM\")"
   ]
  },
  {
   "cell_type": "code",
   "execution_count": null,
   "metadata": {},
   "outputs": [],
   "source": [
    "# Filtering process\n",
    "extracted_paths = []\n",
    "for file_name in directory_listing:\n",
    "    for name in names_of_interest:\n",
    "        if name in file_name:\n",
    "            extracted_paths.append(file_name)\n",
    "            break  # Stop the inner loop once a match is found\n",
    "\n",
    "# Display the extracted file paths\n",
    "for path in extracted_paths:\n",
    "    print(path)"
   ]
  },
  {
   "cell_type": "code",
   "execution_count": null,
   "metadata": {},
   "outputs": [],
   "source": [
    "import os\n",
    "\n",
    "base_directory = \"D:\\\\CTH_archive\\\\CTH_DICOM\"\n",
    "\n",
    "for path in extracted_paths:\n",
    "    # Construct the full path for the patient directory\n",
    "    patient_directory = os.path.join(base_directory, path)\n",
    "    \n",
    "    # Skip if the path is not a directory (e.g., it's a file like 'BILLIPS_JAMES.nii')\n",
    "    if not os.path.isdir(patient_directory):\n",
    "        continue\n",
    "\n",
    "    # Extract the patient name from the path\n",
    "    patient_name = path.split(' ')[0]  # Assuming patient name is the first part\n",
    "\n",
    "    # Find the last subdirectory within the patient directory, which represents the latest session or date\n",
    "    sessions = [d for d in os.listdir(patient_directory) if os.path.isdir(os.path.join(patient_directory, d))]\n",
    "    sessions.sort()  # Sort to ensure order, in case it's based on date or sequence\n",
    "    if not sessions:  # Check if the list is empty\n",
    "        continue  # Skip if there are no session directories\n",
    "    last_session = sessions[-1]  # Get the last session based on sorted order\n",
    "\n",
    "    # Construct the full path for the last session directory\n",
    "    session_directory = os.path.join(patient_directory, last_session)\n",
    "    \n",
    "    # Specify the output filename using the patient's name\n",
    "    output_file = os.path.join(\"D:\\\\CTH_archive\\\\NIfTI_TEST_SET\", f\"{patient_name}.nii\")\n",
    "    \n",
    "    # Ensure the output directory exists\n",
    "    os.makedirs(os.path.dirname(output_file), exist_ok=True)\n",
    "\n",
    "    # Call the convert_series_to_nifti function for the last session directory\n",
    "    convert_series_to_nifti(session_directory, output_file)\n"
   ]
  },
  {
   "cell_type": "code",
   "execution_count": null,
   "metadata": {},
   "outputs": [],
   "source": [
    "import os\n",
    "import pydicom\n",
    "import matplotlib.pyplot as plt\n",
    "import ipywidgets as widgets\n",
    "from IPython.display import clear_output\n",
    "\n",
    "def load_dicom_series(directory):\n",
    "    dicom_files = [(os.path.join(directory, f), f) for f in os.listdir(directory) if f.endswith('.dcm')]\n",
    "    dicoms = [(pydicom.dcmread(path), file_name) for path, file_name in dicom_files]\n",
    "    dicoms.sort(key=lambda x: int(x[0].InstanceNumber))\n",
    "    return dicoms\n",
    "\n",
    "def display_image(image, file_name):\n",
    "    clear_output(wait=True)\n",
    "    plt.imshow(image, cmap='gray')\n",
    "    plt.title(file_name)  # Display the file name as the title\n",
    "    plt.axis('off')\n",
    "    plt.show()\n",
    "\n",
    "\n",
    "def get_last_subdir(base_path):\n",
    "    # List all the entries in the base path\n",
    "    all_entries = os.listdir(base_path)\n",
    "    \n",
    "    # Filter out files, leaving only directories\n",
    "    dir_entries = [entry for entry in all_entries if os.path.isdir(os.path.join(base_path, entry))]\n",
    "    \n",
    "    # Sort the directories to get the last one\n",
    "    dir_entries.sort()\n",
    "    \n",
    "    # Return the full path of the last subdirectory if available, else return None\n",
    "    return os.path.join(base_path, dir_entries[-1]) if dir_entries else None\n",
    "\n",
    "# Example usage\n",
    "base_path = r\"D:\\CTH_archive\\CTH_DICOM\\TOUATI_MOHAMED 3117292\"\n",
    "dicom_series_directory = get_last_subdir(base_path)\n",
    "\n",
    "dicom_series = load_dicom_series(dicom_series_directory)\n",
    "\n",
    "slider = widgets.IntSlider(value=0, min=0, max=len(dicom_series)-1, step=1, description='Image Index:')\n",
    "\n",
    "def update_image(image_index):\n",
    "    dicom_data, file_name = dicom_series[image_index]\n",
    "    display_image(dicom_data.pixel_array, file_name)\n",
    "\n",
    "widgets.interactive(update_image, image_index=slider)\n"
   ]
  }
 ],
 "metadata": {
  "kernelspec": {
   "display_name": "fx_bounding_box",
   "language": "python",
   "name": "python3"
  },
  "language_info": {
   "codemirror_mode": {
    "name": "ipython",
    "version": 3
   },
   "file_extension": ".py",
   "mimetype": "text/x-python",
   "name": "python",
   "nbconvert_exporter": "python",
   "pygments_lexer": "ipython3",
   "version": "3.11.3"
  }
 },
 "nbformat": 4,
 "nbformat_minor": 2
}
