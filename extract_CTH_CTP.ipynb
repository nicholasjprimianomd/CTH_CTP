{
 "cells": [
  {
   "cell_type": "code",
   "execution_count": 1,
   "metadata": {},
   "outputs": [],
   "source": [
    "import os\n",
    "from tqdm import tqdm\n",
    "import pydicom\n",
    "import shutil\n",
    "from concurrent.futures import ThreadPoolExecutor, as_completed"
   ]
  },
  {
   "cell_type": "markdown",
   "metadata": {},
   "source": [
    "DICOM Archive Path Containing all CTH and CTP Maps - Note CPT Raw files are not inculded here"
   ]
  },
  {
   "cell_type": "code",
   "execution_count": 2,
   "metadata": {},
   "outputs": [],
   "source": [
    "dir_path = r\"D:\\CTH_archive\\DICOM\""
   ]
  },
  {
   "cell_type": "markdown",
   "metadata": {},
   "source": [
    "Search for all Series Descritions"
   ]
  },
  {
   "cell_type": "code",
   "execution_count": null,
   "metadata": {},
   "outputs": [],
   "source": [
    "def process_file(file_path):\n",
    "    try:\n",
    "        dicom_file = pydicom.dcmread(file_path, stop_before_pixels=True)\n",
    "        return dicom_file.SeriesDescription\n",
    "    except Exception:\n",
    "        return None\n",
    "\n",
    "def collect_unique_series_descriptions(dir_path):\n",
    "    unique_series_descriptions = set()\n",
    "    file_paths = []  # List to store all file paths\n",
    "\n",
    "    # Traverse through all files in the directory and store the paths\n",
    "    for root, dirs, files in os.walk(dir_path):\n",
    "        for file in files:\n",
    "            # Construct the full file path\n",
    "            file_path = os.path.join(root, file)\n",
    "            file_paths.append(file_path)\n",
    "\n",
    "    # Create a ThreadPoolExecutor to parallelize the task\n",
    "    with ThreadPoolExecutor() as executor:\n",
    "        # Schedule the processing of all the files and create a future list\n",
    "        futures = [executor.submit(process_file, file_path) for file_path in file_paths]\n",
    "        \n",
    "        for future in tqdm(as_completed(futures), total=len(futures), desc=\"Processing files\"):\n",
    "            result = future.result()\n",
    "            if result is not None:\n",
    "                unique_series_descriptions.add(result)\n",
    "    \n",
    "    for series_description in unique_series_descriptions:\n",
    "        print(series_description)\n",
    "\n",
    "collect_unique_series_descriptions(dir_path)"
   ]
  },
  {
   "cell_type": "code",
   "execution_count": null,
   "metadata": {},
   "outputs": [],
   "source": [
    "matching_files = []\n",
    "for root, dirs, files in tqdm(os.walk(dir_path)):\n",
    "    for file in files:\n",
    "        # Construct the full file path\n",
    "        file_path = os.path.join(root, file)\n",
    "        try:\n",
    "            # Try to read the file as a DICOM file\n",
    "            dicom_file = pydicom.dcmread(file_path) \n",
    "            # Check the SeriesDescription\n",
    "            if dicom_file.SeriesDescription.lower() == \"routine head\":\n",
    "                matching_files.append(file_path)\n",
    "        except:      \n",
    "            pass"
   ]
  },
  {
   "cell_type": "markdown",
   "metadata": {},
   "source": [
    "Search for all standard axial CT heads in dataset"
   ]
  },
  {
   "cell_type": "code",
   "execution_count": 5,
   "metadata": {},
   "outputs": [],
   "source": [
    "def process_file(file_path, series_descriptions_to_match):\n",
    "    try:\n",
    "        # Read the file as a DICOM file without loading pixel data\n",
    "        dicom_file = pydicom.dcmread(file_path, stop_before_pixels=True)\n",
    "        series_description = dicom_file.SeriesDescription.lower()\n",
    "        patient_id = dicom_file.PatientID\n",
    "        # Check if the series description matches any in the list\n",
    "        if series_description in series_descriptions_to_match:\n",
    "            return patient_id, series_description\n",
    "    except:\n",
    "        pass\n",
    "    return None, None\n",
    "\n",
    "def report_issues(patient_series_map):\n",
    "    for patient_id, series_set in patient_series_map.items():\n",
    "        if len(series_set) == 0:\n",
    "            print(f\"No matching series found for patient {patient_id}\")\n",
    "        elif len(series_set) > 1:\n",
    "            print(f\"More than one type of matching series found for patient {patient_id}: {series_set}\")\n",
    "\n",
    "def collect_matching_series(dir_path, series_descriptions_to_match):\n",
    "    patient_series_map = {}\n",
    "    series_descriptions_to_match = [desc.lower() for desc in series_descriptions_to_match]  # Normalize to lowercase\n",
    "    file_paths = []\n",
    "\n",
    "    # Collect all file paths\n",
    "    for root, dirs, files in os.walk(dir_path):\n",
    "        for file in files:\n",
    "            file_path = os.path.join(root, file)\n",
    "            file_paths.append(file_path)\n",
    "\n",
    "    # Use ThreadPoolExecutor to parallelize the task\n",
    "    with ThreadPoolExecutor() as executor:\n",
    "        futures = [executor.submit(process_file, file_path, series_descriptions_to_match) for file_path in file_paths]\n",
    "        \n",
    "        for future in tqdm(as_completed(futures), total=len(futures), desc=\"Processing files\"):\n",
    "            patient_id, series_description = future.result()\n",
    "            if patient_id and series_description:\n",
    "                if patient_id not in patient_series_map:\n",
    "                    patient_series_map[patient_id] = set()\n",
    "                patient_series_map[patient_id].add(series_description)\n",
    "\n",
    "    # Report any issues found during validation\n",
    "    report_issues(patient_series_map)\n",
    "\n",
    "series_descriptions_to_match = [\n",
    "    \"routine head\",\n",
    "    \"head  5.0  j45s  1\",\n",
    "    \"head  5.0  mpr  ax\",\n",
    "    \"axial head 5.0\",\n",
    "    \"axial\"\n",
    "]\n",
    "\n",
    "collect_matching_series(dir_path, series_descriptions_to_match)"
   ]
  },
  {
   "cell_type": "markdown",
   "metadata": {},
   "source": [
    "Copy all CTH standard axial studies to their own directories"
   ]
  },
  {
   "cell_type": "code",
   "execution_count": null,
   "metadata": {},
   "outputs": [],
   "source": [
    "# Define the source and destination directory paths\n",
    "dst_dir_path = r\"D:\\CTH_archive\\CTH_DICOM\"\n",
    "\n",
    "# Copy the matching files to the destination directory\n",
    "for src_file_path in matching_files:\n",
    "    # Construct the destination file path\n",
    "    relative_path = os.path.relpath(src_file_path, dir_path)\n",
    "    dst_file_path = os.path.join(dst_dir_path, relative_path)\n",
    "    \n",
    "    # Create the destination directory if it doesn't exist\n",
    "    os.makedirs(os.path.dirname(dst_file_path), exist_ok=True)\n",
    "    \n",
    "    # Copy the file\n",
    "    shutil.copy2(src_file_path, dst_file_path)"
   ]
  },
  {
   "cell_type": "code",
   "execution_count": null,
   "metadata": {},
   "outputs": [],
   "source": []
  }
 ],
 "metadata": {
  "kernelspec": {
   "display_name": "fx_bounding_box",
   "language": "python",
   "name": "python3"
  },
  "language_info": {
   "codemirror_mode": {
    "name": "ipython",
    "version": 3
   },
   "file_extension": ".py",
   "mimetype": "text/x-python",
   "name": "python",
   "nbconvert_exporter": "python",
   "pygments_lexer": "ipython3",
   "version": "3.11.3"
  }
 },
 "nbformat": 4,
 "nbformat_minor": 2
}
