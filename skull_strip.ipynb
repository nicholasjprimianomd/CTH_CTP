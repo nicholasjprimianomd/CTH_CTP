{
 "cells": [
  {
   "cell_type": "code",
   "execution_count": 1,
   "metadata": {},
   "outputs": [],
   "source": [
    "import SimpleITK as sitk\n",
    "import matplotlib.pyplot as plt\n",
    "import numpy as np\n",
    "from scipy.ndimage import zoom\n",
    "\n",
    "def read_dicom_series(directory):\n",
    "    reader = sitk.ImageSeriesReader()\n",
    "    dicom_names = reader.GetGDCMSeriesFileNames(directory)\n",
    "    reader.SetFileNames(dicom_names)\n",
    "    image = reader.Execute()\n",
    "\n",
    "    # If the image is multi-component (e.g., RGB), convert it to grayscale\n",
    "    if image.GetNumberOfComponentsPerPixel() > 1:\n",
    "        channels = [sitk.VectorIndexSelectionCast(image, i) for i in range(image.GetNumberOfComponentsPerPixel())]\n",
    "        image = sum(channels) / len(channels)\n",
    "\n",
    "    image = sitk.Cast(image, sitk.sitkFloat32)\n",
    "\n",
    "    return image\n",
    "\n",
    "# Update the paths to the directories containing your DICOM series\n",
    "CTA_directory = r'D:\\CTH_archive\\PN1'\n",
    "tmax_map_directory = r'D:\\CTH_archive\\TEST_TMAX'\n",
    "CTH_directory = r'D:\\CTH_archive\\CTH_DICOM_SINGLE_FILES'\n",
    "\n",
    "CTA_image = read_dicom_series(CTA_directory)\n",
    "tmax_map_image = read_dicom_series(tmax_map_directory)\n",
    "CHT_image = read_dicom_series(CTH_directory)"
   ]
  },
  {
   "cell_type": "code",
   "execution_count": null,
   "metadata": {},
   "outputs": [],
   "source": [
    "4"
   ]
  }
 ],
 "metadata": {
  "kernelspec": {
   "display_name": "fx_bounding_box",
   "language": "python",
   "name": "python3"
  },
  "language_info": {
   "codemirror_mode": {
    "name": "ipython",
    "version": 3
   },
   "file_extension": ".py",
   "mimetype": "text/x-python",
   "name": "python",
   "nbconvert_exporter": "python",
   "pygments_lexer": "ipython3",
   "version": "3.11.3"
  }
 },
 "nbformat": 4,
 "nbformat_minor": 2
}
