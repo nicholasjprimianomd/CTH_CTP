{
 "cells": [
  {
   "cell_type": "code",
   "execution_count": 11,
   "metadata": {},
   "outputs": [],
   "source": [
    "import SimpleITK as sitk\n",
    "import matplotlib.pyplot as plt\n",
    "import numpy as np\n",
    "from scipy.ndimage import zoom\n",
    "import ipywidgets as widgets\n",
    "from IPython.display import display\n",
    "import os\n",
    "from collections import defaultdict\n",
    "from tqdm import tqdm  \n",
    "import random\n",
    "from tqdm.notebook import tqdm"
   ]
  },
  {
   "cell_type": "markdown",
   "metadata": {},
   "source": [
    "Inital File Set Orgnaizaiton"
   ]
  },
  {
   "cell_type": "code",
   "execution_count": null,
   "metadata": {},
   "outputs": [],
   "source": [
    "directories = [\"D:\\\\CTH_archive\\\\TMAX_DICOM\", \"D:\\\\CTH_archive\\\\CTH_DICOM_RESIZE\", \"D:\\\\CTH_archive\\\\CTP_DICOM\"]\n",
    "directory_names = [\"TMAX_DICOM\", \"CTH_DICOM_RESIZE\", \"CTP_DICOM\"]\n",
    "\n",
    "# Initialize a dictionary to store file paths organized by patient name/MRN\n",
    "patient_files = defaultdict(lambda: defaultdict(list))\n",
    "\n",
    "# Process each directory\n",
    "for directory, dir_name in zip(directories, directory_names):\n",
    "    print(f\"Processing directory: {directory}\")\n",
    "    if os.path.exists(directory):\n",
    "        for root, _, files in os.walk(directory):\n",
    "            for file in files:\n",
    "                file_path = os.path.join(root, file)\n",
    "                # Split the path to extract the patient name\n",
    "                parts = root.split(\"\\\\\")\n",
    "                # Find the index of the main directory to ensure the patient name is correctly extracted\n",
    "                try:\n",
    "                    index = parts.index(dir_name) + 1\n",
    "                    patient_name = parts[index]\n",
    "                    patient_files[patient_name][dir_name].append(file_path)\n",
    "                except (IndexError, ValueError) as e:\n",
    "                    print(f\"Error processing {file_path}: {e}\")\n",
    "    else:\n",
    "        print(f\"Error: Directory {directory} does not exist\")\n",
    "\n",
    "# Filter patients with files in all three directories and store in a new variable\n",
    "filtered_patient_files = {\n",
    "    patient: folders for patient, folders in patient_files.items()\n",
    "    if set(folders.keys()) == set(directory_names)\n",
    "}\n",
    "\n",
    "print(\"Number of patients with all folders:\", len(filtered_patient_files))"
   ]
  },
  {
   "cell_type": "code",
   "execution_count": 13,
   "metadata": {},
   "outputs": [],
   "source": [
    "def read_dicom_series(directory):\n",
    "    reader = sitk.ImageSeriesReader()\n",
    "    dicom_names = reader.GetGDCMSeriesFileNames(directory)\n",
    "    reader.SetFileNames(dicom_names)\n",
    "    image = reader.Execute()\n",
    "\n",
    "    if image.GetNumberOfComponentsPerPixel() > 1:\n",
    "        channels = [sitk.VectorIndexSelectionCast(image, i) for i in range(image.GetNumberOfComponentsPerPixel())]\n",
    "        image = sum(channels) / len(channels)\n",
    "\n",
    "    image = sitk.Cast(image, sitk.sitkFloat32)\n",
    "    return image\n"
   ]
  },
  {
   "cell_type": "code",
   "execution_count": 14,
   "metadata": {},
   "outputs": [
    {
     "data": {
      "application/vnd.jupyter.widget-view+json": {
       "model_id": "6011d08a70af48d5a73e06de0d228dec",
       "version_major": 2,
       "version_minor": 0
      },
      "text/plain": [
       "Processing Patients:   0%|          | 0/85 [00:00<?, ?it/s]"
      ]
     },
     "metadata": {},
     "output_type": "display_data"
    },
    {
     "name": "stdout",
     "output_type": "stream",
     "text": [
      "Registration successful for patient: ALFORD_BARBARA 4024996. Transform saved to D:\\CTH_archive\\Transforms\\ALFORD_BARBARA 4024996_transform.h5\n",
      "Registration successful for patient: ALLAH_MAJUSTICE 2621774. Transform saved to D:\\CTH_archive\\Transforms\\ALLAH_MAJUSTICE 2621774_transform.h5\n",
      "Registration successful for patient: BATTLE_MARIA 8399298. Transform saved to D:\\CTH_archive\\Transforms\\BATTLE_MARIA 8399298_transform.h5\n",
      "Registration successful for patient: BOGER_DAVID_S 2532249. Transform saved to D:\\CTH_archive\\Transforms\\BOGER_DAVID_S 2532249_transform.h5\n",
      "Registration successful for patient: BROWN_ANTHONY F341525. Transform saved to D:\\CTH_archive\\Transforms\\BROWN_ANTHONY F341525_transform.h5\n",
      "Registration successful for patient: CAMPAGNA_HARRY_D E304749. Transform saved to D:\\CTH_archive\\Transforms\\CAMPAGNA_HARRY_D E304749_transform.h5\n",
      "Registration successful for patient: CANIGLIA_ROBERT 2363078. Transform saved to D:\\CTH_archive\\Transforms\\CANIGLIA_ROBERT 2363078_transform.h5\n",
      "Registration successful for patient: CARDIN_PAUL E570140. Transform saved to D:\\CTH_archive\\Transforms\\CARDIN_PAUL E570140_transform.h5\n",
      "Registration successful for patient: CHANG_WAH_KONG 5708968. Transform saved to D:\\CTH_archive\\Transforms\\CHANG_WAH_KONG 5708968_transform.h5\n",
      "Registration successful for patient: CHEN_QIAOYING F262455. Transform saved to D:\\CTH_archive\\Transforms\\CHEN_QIAOYING F262455_transform.h5\n",
      "Registration successful for patient: CHEN_XIU_D 6497146. Transform saved to D:\\CTH_archive\\Transforms\\CHEN_XIU_D 6497146_transform.h5\n",
      "Registration successful for patient: CHOWDHURY_SALMA_K 7027943. Transform saved to D:\\CTH_archive\\Transforms\\CHOWDHURY_SALMA_K 7027943_transform.h5\n",
      "Registration successful for patient: CLARKSON-FARRELL_EDWARD 7011907. Transform saved to D:\\CTH_archive\\Transforms\\CLARKSON-FARRELL_EDWARD 7011907_transform.h5\n",
      "Registration successful for patient: COMPRES_THELMA 3079376. Transform saved to D:\\CTH_archive\\Transforms\\COMPRES_THELMA 3079376_transform.h5\n",
      "Registration successful for patient: CRUZ_MIRIAN 1627349. Transform saved to D:\\CTH_archive\\Transforms\\CRUZ_MIRIAN 1627349_transform.h5\n",
      "Registration successful for patient: DAMBOISE_JACQUES_J 1895572. Transform saved to D:\\CTH_archive\\Transforms\\DAMBOISE_JACQUES_J 1895572_transform.h5\n",
      "Registration successful for patient: DONALDSON_GEORGIANNA A432494. Transform saved to D:\\CTH_archive\\Transforms\\DONALDSON_GEORGIANNA A432494_transform.h5\n",
      "Registration successful for patient: DUMA_ZBIGNIEW F328178. Transform saved to D:\\CTH_archive\\Transforms\\DUMA_ZBIGNIEW F328178_transform.h5\n",
      "Registration successful for patient: ELISA-WRIGHT_KANZADER 7731069. Transform saved to D:\\CTH_archive\\Transforms\\ELISA-WRIGHT_KANZADER 7731069_transform.h5\n",
      "Registration successful for patient: FILION_JULIO 2159066. Transform saved to D:\\CTH_archive\\Transforms\\FILION_JULIO 2159066_transform.h5\n",
      "Registration successful for patient: FILI_CHARLES 1172073. Transform saved to D:\\CTH_archive\\Transforms\\FILI_CHARLES 1172073_transform.h5\n",
      "Registration successful for patient: FISHER_BARBARA 1065949. Transform saved to D:\\CTH_archive\\Transforms\\FISHER_BARBARA 1065949_transform.h5\n",
      "Registration successful for patient: GARCIA_ABELARDO E606819. Transform saved to D:\\CTH_archive\\Transforms\\GARCIA_ABELARDO E606819_transform.h5\n",
      "Registration successful for patient: GENTLE_CLINTON 1278806. Transform saved to D:\\CTH_archive\\Transforms\\GENTLE_CLINTON 1278806_transform.h5\n",
      "Registration successful for patient: GOBLE_TAMMY 1804834. Transform saved to D:\\CTH_archive\\Transforms\\GOBLE_TAMMY 1804834_transform.h5\n",
      "Registration successful for patient: GUZMAN_IRIS E497777. Transform saved to D:\\CTH_archive\\Transforms\\GUZMAN_IRIS E497777_transform.h5\n",
      "Registration successful for patient: HALL_KELBERT_MCDO 1796996. Transform saved to D:\\CTH_archive\\Transforms\\HALL_KELBERT_MCDO 1796996_transform.h5\n",
      "Registration successful for patient: HALL_WILLIAM 7499662. Transform saved to D:\\CTH_archive\\Transforms\\HALL_WILLIAM 7499662_transform.h5\n",
      "Registration successful for patient: HATTA_MARIA A224090. Transform saved to D:\\CTH_archive\\Transforms\\HATTA_MARIA A224090_transform.h5\n",
      "Registration successful for patient: HECKSTALL_CORA 460638. Transform saved to D:\\CTH_archive\\Transforms\\HECKSTALL_CORA 460638_transform.h5\n",
      "Registration successful for patient: HIRSCH_LEMEL E797022. Transform saved to D:\\CTH_archive\\Transforms\\HIRSCH_LEMEL E797022_transform.h5\n",
      "Registration successful for patient: IRIZARRY_MONSITA 2539070. Transform saved to D:\\CTH_archive\\Transforms\\IRIZARRY_MONSITA 2539070_transform.h5\n",
      "Registration successful for patient: KAMWA_JEAN-PIERRE 7220783. Transform saved to D:\\CTH_archive\\Transforms\\KAMWA_JEAN-PIERRE 7220783_transform.h5\n",
      "Registration successful for patient: KILLACKEY_WILLIAM K100636. Transform saved to D:\\CTH_archive\\Transforms\\KILLACKEY_WILLIAM K100636_transform.h5\n",
      "Registration successful for patient: KING_TANDEKA_I 1064942. Transform saved to D:\\CTH_archive\\Transforms\\KING_TANDEKA_I 1064942_transform.h5\n",
      "Registration successful for patient: LATTEIER_MARIA 3356380. Transform saved to D:\\CTH_archive\\Transforms\\LATTEIER_MARIA 3356380_transform.h5\n",
      "Registration successful for patient: LAWSON_MIRIAM 238834. Transform saved to D:\\CTH_archive\\Transforms\\LAWSON_MIRIAM 238834_transform.h5\n",
      "Registration successful for patient: LIPNICKI_ROMAN E630404. Transform saved to D:\\CTH_archive\\Transforms\\LIPNICKI_ROMAN E630404_transform.h5\n",
      "Registration successful for patient: LOCKETT_GLORIA F315242. Transform saved to D:\\CTH_archive\\Transforms\\LOCKETT_GLORIA F315242_transform.h5\n",
      "Registration successful for patient: LORD_JANE 833095. Transform saved to D:\\CTH_archive\\Transforms\\LORD_JANE 833095_transform.h5\n",
      "Registration successful for patient: LOVE_MARY_E 3320145. Transform saved to D:\\CTH_archive\\Transforms\\LOVE_MARY_E 3320145_transform.h5\n",
      "Registration successful for patient: MATABUENA_LUZVIMINDA 5678755. Transform saved to D:\\CTH_archive\\Transforms\\MATABUENA_LUZVIMINDA 5678755_transform.h5\n",
      "Registration successful for patient: MAURICIO_DENICE 7043927. Transform saved to D:\\CTH_archive\\Transforms\\MAURICIO_DENICE 7043927_transform.h5\n",
      "Registration successful for patient: MEDINA_ANNA 5590381. Transform saved to D:\\CTH_archive\\Transforms\\MEDINA_ANNA 5590381_transform.h5\n",
      "Registration successful for patient: MENA-ROSA_IDIDA_MERCEDES 4915757. Transform saved to D:\\CTH_archive\\Transforms\\MENA-ROSA_IDIDA_MERCEDES 4915757_transform.h5\n",
      "Registration successful for patient: MENDOZA_REMEDIOS 4800439. Transform saved to D:\\CTH_archive\\Transforms\\MENDOZA_REMEDIOS 4800439_transform.h5\n",
      "Registration successful for patient: MESSINA_CALOGERO 3456976. Transform saved to D:\\CTH_archive\\Transforms\\MESSINA_CALOGERO 3456976_transform.h5\n",
      "Registration successful for patient: MILLS_JOAN 2789595. Transform saved to D:\\CTH_archive\\Transforms\\MILLS_JOAN 2789595_transform.h5\n",
      "Registration successful for patient: MIRABAL_JORGE 940731. Transform saved to D:\\CTH_archive\\Transforms\\MIRABAL_JORGE 940731_transform.h5\n",
      "Registration successful for patient: MONTANEZ_PETER_A 2208242. Transform saved to D:\\CTH_archive\\Transforms\\MONTANEZ_PETER_A 2208242_transform.h5\n",
      "Registration successful for patient: MONTERO_RAMIREZ_MICAELA 5665111. Transform saved to D:\\CTH_archive\\Transforms\\MONTERO_RAMIREZ_MICAELA 5665111_transform.h5\n",
      "Registration successful for patient: MORENO_JORGE 3457367. Transform saved to D:\\CTH_archive\\Transforms\\MORENO_JORGE 3457367_transform.h5\n",
      "Registration successful for patient: MULDOON_GERALDINE_A E863027. Transform saved to D:\\CTH_archive\\Transforms\\MULDOON_GERALDINE_A E863027_transform.h5\n",
      "Registration successful for patient: NAJERA_JOSE E606067. Transform saved to D:\\CTH_archive\\Transforms\\NAJERA_JOSE E606067_transform.h5\n",
      "Registration successful for patient: NAVAS_RAFAEL 5504276. Transform saved to D:\\CTH_archive\\Transforms\\NAVAS_RAFAEL 5504276_transform.h5\n",
      "Registration successful for patient: NICHOLAS_LOLA 2213645. Transform saved to D:\\CTH_archive\\Transforms\\NICHOLAS_LOLA 2213645_transform.h5\n",
      "Registration successful for patient: OROVAN_MARY 6079330. Transform saved to D:\\CTH_archive\\Transforms\\OROVAN_MARY 6079330_transform.h5\n",
      "Registration successful for patient: PEREZ_HUGO 5718149. Transform saved to D:\\CTH_archive\\Transforms\\PEREZ_HUGO 5718149_transform.h5\n",
      "Registration successful for patient: PERINA_ROBERT E644655. Transform saved to D:\\CTH_archive\\Transforms\\PERINA_ROBERT E644655_transform.h5\n",
      "Registration successful for patient: QUILES_MARIBEL 6033852. Transform saved to D:\\CTH_archive\\Transforms\\QUILES_MARIBEL 6033852_transform.h5\n",
      "Registration successful for patient: RAMIREZ_ANGELA 3382120. Transform saved to D:\\CTH_archive\\Transforms\\RAMIREZ_ANGELA 3382120_transform.h5\n",
      "Registration successful for patient: RAMIREZ_ELIZABETH 2099072. Transform saved to D:\\CTH_archive\\Transforms\\RAMIREZ_ELIZABETH 2099072_transform.h5\n",
      "Registration successful for patient: RAMUSEVIC_SMAIL 7913144. Transform saved to D:\\CTH_archive\\Transforms\\RAMUSEVIC_SMAIL 7913144_transform.h5\n",
      "Registration successful for patient: RAPPOPORT_MARIO 9056456. Transform saved to D:\\CTH_archive\\Transforms\\RAPPOPORT_MARIO 9056456_transform.h5\n",
      "Registration successful for patient: REYES_ROSA 3478488. Transform saved to D:\\CTH_archive\\Transforms\\REYES_ROSA 3478488_transform.h5\n",
      "Registration successful for patient: ROBINSON_GENEVA_D 6915657. Transform saved to D:\\CTH_archive\\Transforms\\ROBINSON_GENEVA_D 6915657_transform.h5\n",
      "Registration successful for patient: RODRIGUEZ_SANDRA 6961138. Transform saved to D:\\CTH_archive\\Transforms\\RODRIGUEZ_SANDRA 6961138_transform.h5\n",
      "Registration successful for patient: ROGERS_MARSHA 8821085. Transform saved to D:\\CTH_archive\\Transforms\\ROGERS_MARSHA 8821085_transform.h5\n",
      "Registration successful for patient: ROMEO_ROBIN_MAXIMILAN 7711986. Transform saved to D:\\CTH_archive\\Transforms\\ROMEO_ROBIN_MAXIMILAN 7711986_transform.h5\n",
      "Registration successful for patient: ROSE_SYLVIA 5434403. Transform saved to D:\\CTH_archive\\Transforms\\ROSE_SYLVIA 5434403_transform.h5\n",
      "Registration successful for patient: RUBALLO_OMAR E951675. Transform saved to D:\\CTH_archive\\Transforms\\RUBALLO_OMAR E951675_transform.h5\n",
      "Registration successful for patient: RYAN_MICHAEL 2967285. Transform saved to D:\\CTH_archive\\Transforms\\RYAN_MICHAEL 2967285_transform.h5\n",
      "Registration successful for patient: SALTER_GLADYS 3281623. Transform saved to D:\\CTH_archive\\Transforms\\SALTER_GLADYS 3281623_transform.h5\n",
      "Registration successful for patient: SANTIAGO_CARMEN 7133486. Transform saved to D:\\CTH_archive\\Transforms\\SANTIAGO_CARMEN 7133486_transform.h5\n",
      "Registration successful for patient: SCOUFARAS_DESPINA 3712417. Transform saved to D:\\CTH_archive\\Transforms\\SCOUFARAS_DESPINA 3712417_transform.h5\n",
      "Registration successful for patient: SGARLATO_SANTO A244280. Transform saved to D:\\CTH_archive\\Transforms\\SGARLATO_SANTO A244280_transform.h5\n",
      "Registration successful for patient: SHERPA_DEKI 5678752. Transform saved to D:\\CTH_archive\\Transforms\\SHERPA_DEKI 5678752_transform.h5\n",
      "Registration successful for patient: SIEJACK_EURANIA 2466204. Transform saved to D:\\CTH_archive\\Transforms\\SIEJACK_EURANIA 2466204_transform.h5\n",
      "Registration successful for patient: SINGH_HARBHAJAN 9096349. Transform saved to D:\\CTH_archive\\Transforms\\SINGH_HARBHAJAN 9096349_transform.h5\n",
      "Registration successful for patient: SINGLETARY_DONALD 3902533. Transform saved to D:\\CTH_archive\\Transforms\\SINGLETARY_DONALD 3902533_transform.h5\n",
      "Registration successful for patient: SUAREZ_EDWIN E837730. Transform saved to D:\\CTH_archive\\Transforms\\SUAREZ_EDWIN E837730_transform.h5\n",
      "Registration successful for patient: TORII_YUKIO E574468. Transform saved to D:\\CTH_archive\\Transforms\\TORII_YUKIO E574468_transform.h5\n",
      "Registration successful for patient: TOUATI_MOHAMED 3117292. Transform saved to D:\\CTH_archive\\Transforms\\TOUATI_MOHAMED 3117292_transform.h5\n",
      "Registration successful for patient: VANN_ELLIS_W 8718324. Transform saved to D:\\CTH_archive\\Transforms\\VANN_ELLIS_W 8718324_transform.h5\n",
      "Registration successful for patient: YOUNG_LEOTA 2378105. Transform saved to D:\\CTH_archive\\Transforms\\YOUNG_LEOTA 2378105_transform.h5\n"
     ]
    }
   ],
   "source": [
    "transforms_dir = r'D:\\CTH_archive\\Transforms'  # Directory to save the transforms\n",
    "if not os.path.exists(transforms_dir):\n",
    "    os.makedirs(transforms_dir)\n",
    "\n",
    "resampled_images = {}  # To store the resampled images for each patient\n",
    "resampled_images_transform = {}  # To store the transform files for each patient\n",
    "\n",
    "def remove_background(image):\n",
    "    threshold_value = -300  # Adjust based on your CT scans\n",
    "    binary_image = sitk.BinaryThreshold(image, lowerThreshold=threshold_value, upperThreshold=3000, insideValue=1, outsideValue=0)\n",
    "    morph_radius = [2, 2, 2]  # Specify as a list or tuple\n",
    "    binary_image = sitk.BinaryMorphologicalOpening(binary_image, morph_radius)\n",
    "    cc_filter = sitk.ConnectedComponentImageFilter()\n",
    "    cc_image = cc_filter.Execute(binary_image)\n",
    "    stats_filter = sitk.LabelIntensityStatisticsImageFilter()\n",
    "    stats_filter.Execute(cc_image, binary_image)\n",
    "    largest_label = max(stats_filter.GetLabels(), key=lambda x: stats_filter.GetPhysicalSize(x))\n",
    "    binary_image = sitk.BinaryThreshold(cc_image, lowerThreshold=largest_label, upperThreshold=largest_label, insideValue=1, outsideValue=0)\n",
    "    \n",
    "    # Cast the binary_image to the same pixel type as the original image\n",
    "    casted_binary_image = sitk.Cast(binary_image, image.GetPixelID())\n",
    "\n",
    "    return image * casted_binary_image\n",
    "\n",
    "for patient in tqdm(patients_with_all_folders, desc='Processing Patients'):\n",
    "    if 'CTP_DICOM' in patient_files[patient] and 'CTH_DICOM_RESIZE' in patient_files[patient]:\n",
    "        ctp_dicom_directory = os.path.dirname(patient_files[patient]['CTP_DICOM'][0])\n",
    "        CTH_DICOM_RESIZE_directory = os.path.dirname(patient_files[patient]['CTH_DICOM_RESIZE'][0])\n",
    "\n",
    "        # Read DICOM series\n",
    "        moving_image = read_dicom_series(ctp_dicom_directory)\n",
    "        fixed_image = read_dicom_series(CTH_DICOM_RESIZE_directory)\n",
    "        \n",
    "        # Resize the fixed image to 512x512\n",
    "        #fixed_image = resize_image(fixed_image)\n",
    "\n",
    "        # Remove background from the moving and fixed images\n",
    "        segmented_moving_image = remove_background(moving_image)\n",
    "        segmented_fixed_image = remove_background(fixed_image)\n",
    "        \n",
    "    \n",
    "           # Read DICOM series and apply histogram normalization\n",
    "        moving_image = read_dicom_series(ctp_dicom_directory)\n",
    "        moving_image_min = float(sitk.GetArrayFromImage(moving_image).min())\n",
    "        moving_image_max = float(sitk.GetArrayFromImage(moving_image).max())\n",
    "        moving_image = sitk.IntensityWindowing(moving_image,\n",
    "                                            windowMinimum=moving_image_min,\n",
    "                                            windowMaximum=moving_image_max,\n",
    "                                            outputMinimum=0.0,\n",
    "                                            outputMaximum=1.0)\n",
    "\n",
    "        fixed_image = read_dicom_series(CTH_DICOM_RESIZE_directory)\n",
    "        fixed_image_min = float(sitk.GetArrayFromImage(fixed_image).min())\n",
    "        fixed_image_max = float(sitk.GetArrayFromImage(fixed_image).max())\n",
    "        fixed_image = sitk.IntensityWindowing(fixed_image,\n",
    "                                            windowMinimum=fixed_image_min,\n",
    "                                            windowMaximum=fixed_image_max,\n",
    "                                            outputMinimum=0.0,\n",
    "                                            outputMaximum=1.0)\n",
    "\n",
    "\n",
    "        #fig, axs = plt.subplots(2, 2, figsize=(10, 8))\n",
    "        #axs[0, 0].imshow(sitk.GetArrayFromImage(fixed_image)[fixed_image.GetSize()[2] // 2], cmap='gray')\n",
    "        #axs[0, 0].set_title('Original Fixed Image')\n",
    "        #axs[0, 0].axis('off')\n",
    "        #axs[0, 1].imshow(sitk.GetArrayFromImage(segmented_fixed_image)[fixed_image.GetSize()[2] // 2], cmap='gray')\n",
    "        #axs[0, 1].set_title('Segmented Fixed Image')\n",
    "        #axs[0, 1].axis('off')\n",
    "        #axs[1, 0].imshow(sitk.GetArrayFromImage(moving_image)[moving_image.GetSize()[2] // 2], cmap='gray')\n",
    "        #axs[1, 0].set_title('Original Moving Image')\n",
    "        #axs[1, 0].axis('off')\n",
    "        #axs[1, 1].imshow(sitk.GetArrayFromImage(segmented_moving_image)[moving_image.GetSize()[2] // 2], cmap='gray')\n",
    "        #axs[1, 1].set_title('Segmented Moving Image')\n",
    "        #axs[1, 1].axis('off')\n",
    "        #plt.show()\n",
    "\n",
    "        registration_method = sitk.ImageRegistrationMethod()\n",
    "        registration_method.SetMetricAsMattesMutualInformation(numberOfHistogramBins=50)\n",
    "        registration_method.SetMetricSamplingPercentage(0.6, sitk.sitkWallClock)\n",
    "        registration_method.SetMetricSamplingStrategy(registration_method.RANDOM)\n",
    "        registration_method.SetOptimizerAsGradientDescentLineSearch(learningRate=0.5, numberOfIterations=300, convergenceMinimumValue=1e-6, convergenceWindowSize=20)\n",
    "        registration_method.SetOptimizerScalesFromPhysicalShift()\n",
    "        registration_method.SetShrinkFactorsPerLevel(shrinkFactors=[8, 4, 2])\n",
    "        registration_method.SetSmoothingSigmasPerLevel(smoothingSigmas=[4, 2, 1])\n",
    "        registration_method.SmoothingSigmasAreSpecifiedInPhysicalUnitsOn()\n",
    "        initial_transform = sitk.CenteredTransformInitializer(fixed_image, moving_image, sitk.AffineTransform(fixed_image.GetDimension()), sitk.CenteredTransformInitializerFilter.MOMENTS)\n",
    "        registration_method.SetInitialTransform(initial_transform)\n",
    "        try:\n",
    "            final_transform = registration_method.Execute(segmented_fixed_image, segmented_moving_image)\n",
    "            resampled_image = sitk.Resample(segmented_moving_image, segmented_fixed_image, final_transform, sitk.sitkLinear, 0.0, moving_image.GetPixelID())\n",
    "            resampled_images[patient] = resampled_image\n",
    "            transform_file = os.path.join(transforms_dir, f'{patient}_transform.h5')\n",
    "            sitk.WriteTransform(final_transform, transform_file)\n",
    "            resampled_images_transform[patient] = transform_file\n",
    "            print(f\"Registration successful for patient: {patient}. Transform saved to {transform_file}\")\n",
    "        except RuntimeError as e:\n",
    "            print(f\"Registration failed for patient {patient}: {e}\")\n",
    "\n"
   ]
  },
  {
   "cell_type": "code",
   "execution_count": 15,
   "metadata": {},
   "outputs": [],
   "source": [
    "def display_image_slices(fixed_image, moving_image, transformed_image):\n",
    "    # Convert SimpleITK images to arrays for easier manipulation\n",
    "    fixed_image_array = sitk.GetArrayFromImage(fixed_image)\n",
    "    transformed_image_array = sitk.GetArrayFromImage(transformed_image)\n",
    "\n",
    "    # Determine the maximum number of slices from the fixed and transformed images\n",
    "    max_slices = max(fixed_image.GetSize()[2], transformed_image.GetSize()[2])\n",
    "\n",
    "    def update_slice(slice_idx):\n",
    "        # Create figure with 2 subplots\n",
    "        fig, axs = plt.subplots(1, 2, figsize=(10, 5))\n",
    "\n",
    "        # Display the fixed image slice\n",
    "        axs[0].imshow(fixed_image_array[slice_idx], cmap='gray')\n",
    "        axs[0].set_title('Fixed Image')\n",
    "\n",
    "        # Display the overlay: fixed image slice with the transformed image slice overlaid with transparency\n",
    "        if slice_idx < transformed_image_array.shape[0]:\n",
    "            axs[1].imshow(fixed_image_array[slice_idx], cmap='gray')\n",
    "            axs[1].imshow(transformed_image_array[slice_idx], cmap='jet', alpha=0.5)  # Adjust alpha for desired transparency\n",
    "            axs[1].set_title('Overlay: Fixed + Transformed Image')\n",
    "        else:\n",
    "            axs[1].text(0.5, 0.5, 'Slice not available', horizontalalignment='center', verticalalignment='center')\n",
    "            axs[1].set_title('Overlay: Fixed + Transformed Image')\n",
    "\n",
    "        plt.show()\n",
    "\n",
    "    # Create a slider widget for slice selection\n",
    "    slice_slider = widgets.IntSlider(min=0, max=max_slices-1, step=1, value=max_slices//2, description='Slice')\n",
    "\n",
    "    # Display the widget and use `interactive_output` to connect the slider with the update function\n",
    "    interactive_output = widgets.interactive_output(update_slice, {'slice_idx': slice_slider})\n",
    "    display(slice_slider, interactive_output)"
   ]
  },
  {
   "cell_type": "code",
   "execution_count": 16,
   "metadata": {},
   "outputs": [],
   "source": [
    "def display_fusion(fixed_image, registered_image):\n",
    "    fixed_array = sitk.GetArrayFromImage(fixed_image)\n",
    "    registered_array = sitk.GetArrayFromImage(registered_image)\n",
    "\n",
    "    # Ensure the images are in the same size for overlay\n",
    "    registered_resampled = sitk.Resample(registered_image, fixed_image)\n",
    "\n",
    "    # Convert SimpleITK images to arrays\n",
    "    fixed_array = sitk.GetArrayFromImage(fixed_image)\n",
    "    registered_array = sitk.GetArrayFromImage(registered_resampled)\n",
    "\n",
    "    # Choose a slice in the middle of the volume to display\n",
    "    slice_idx = fixed_array.shape[0] // 2\n",
    "\n",
    "    # Create a fusion image by overlaying the registered image on the fixed image\n",
    "    plt.figure(figsize=(10, 5))\n",
    "    plt.subplot(1, 2, 1)\n",
    "    plt.imshow(fixed_array[slice_idx], cmap='gray')\n",
    "    plt.title('Fixed Image')\n",
    "    plt.axis('off')\n",
    "\n",
    "    plt.subplot(1, 2, 2)\n",
    "    plt.imshow(fixed_array[slice_idx], cmap='gray')\n",
    "    plt.imshow(registered_array[slice_idx], cmap='jet', alpha=0.5)  # Adjust alpha for transparency\n",
    "    plt.title('Fusion Visualization')\n",
    "    plt.axis('off')\n",
    "\n",
    "    plt.show()"
   ]
  },
  {
   "cell_type": "code",
   "execution_count": null,
   "metadata": {},
   "outputs": [],
   "source": [
    "#for patient_id in patient_files.keys():\n",
    "#    # Check if 'CTP_DICOM' and 'CTH_DICOM_RESIZE' lists have elements\n",
    "#    if patient_files[patient_id]['CTP_DICOM'] and patient_files[patient_id]['CTH_DICOM_RESIZE']:\n",
    "#        # Define directories\n",
    "#        ctp_dicom_directory = os.path.dirname(patient_files[patient_id]['CTP_DICOM'][0])\n",
    "#        CTH_DICOM_RESIZE_directory = os.path.dirname(patient_files[patient_id]['CTH_DICOM_RESIZE'][0])\n",
    "#\n",
    "#        # Read DICOM series\n",
    "#        moving_image = read_dicom_series(ctp_dicom_directory)\n",
    "#        fixed_image = read_dicom_series(CTH_DICOM_RESIZE_directory)\n",
    "#\n",
    "#        # Assuming transformations have been applied and the transformed images are stored\n",
    "#        transformed_image = resampled_images.get(patient_id)  # Using .get() to avoid KeyError if patient_id is not in resampled_images\n",
    "#\n",
    "#        if transformed_image:  # Check if transformed_image exists for the patient_id\n",
    "#            # Display fusion for the middle slice of each patient's fixed and transformed images\n",
    "#            display_fusion(fixed_image, transformed_image)\n",
    "#            pass\n",
    "#        else:\n",
    "#            print(f\"No transformed image for patient {patient_id}\")\n",
    "#    else:\n",
    "#        print(f\"Missing DICOM files for patient {patient_id}\")\n",
    "#"
   ]
  },
  {
   "cell_type": "code",
   "execution_count": null,
   "metadata": {},
   "outputs": [],
   "source": [
    "def convert_series_to_nifti(input_directory, output_file):\n",
    "    reader = sitk.ImageSeriesReader()\n",
    "    dicom_names = reader.GetGDCMSeriesFileNames(input_directory)\n",
    "    reader.SetFileNames(dicom_names)\n",
    "    image_series = reader.Execute()\n",
    "    \n",
    "    # Convert to numpy array to manipulate the pixel data directly\n",
    "    img_array = sitk.GetArrayFromImage(image_series)\n",
    "\n",
    "    # Check if the image needs to be converted to grayscale\n",
    "    if image_series.GetNumberOfComponentsPerPixel() > 1:\n",
    "        img_array = np.mean(img_array, axis=-1).astype(np.uint16)\n",
    "\n",
    "        img_array[:, :35, :] = 0  # Remove TAMX label\n",
    "        img_array[:, :, :35] = 0 # Remove scale on  the left\n",
    "    \n",
    "    # Convert the numpy array back to a SimpleITK Image\n",
    "    processed_image = sitk.GetImageFromArray(img_array)\n",
    "    processed_image.SetSpacing(image_series.GetSpacing())\n",
    "    processed_image.SetOrigin(image_series.GetOrigin())\n",
    "    processed_image.SetDirection(image_series.GetDirection())\n",
    "\n",
    "    # Write the processed image as a NIfTI file\n",
    "    sitk.WriteImage(processed_image, output_file)\n",
    "\n",
    "root_directory = r'D:\\CTH_archive\\TMAX_DICOM'\n",
    "\n",
    "for patient_dir in os.listdir(root_directory):\n",
    "    patient_path = os.path.join(root_directory, patient_dir)\n",
    "    if os.path.isdir(patient_path):\n",
    "        for series_dir in os.listdir(patient_path):\n",
    "            series_path = os.path.join(patient_path, series_dir)\n",
    "            if os.path.isdir(series_path):\n",
    "                output_nifti_file = os.path.join(patient_path, f\"{series_dir}.nii\")\n",
    "                print(f\"Converting {series_path} to NIfTI...\")\n",
    "                convert_series_to_nifti(series_path, output_nifti_file)"
   ]
  },
  {
   "cell_type": "code",
   "execution_count": 21,
   "metadata": {},
   "outputs": [
    {
     "name": "stdout",
     "output_type": "stream",
     "text": [
      "output_path: D:\\CTH_archive\\Registered_NIfTI\\ALFORD_BARBARA 4024996_registered.nii\n",
      "Processed and saved registered image for patient: ALFORD_BARBARA 4024996\n",
      "output_path: D:\\CTH_archive\\Registered_NIfTI\\ALLAH_MAJUSTICE 2621774_registered.nii\n",
      "Processed and saved registered image for patient: ALLAH_MAJUSTICE 2621774\n",
      "output_path: D:\\CTH_archive\\Registered_NIfTI\\BATTLE_MARIA 8399298_registered.nii\n",
      "Processed and saved registered image for patient: BATTLE_MARIA 8399298\n",
      "output_path: D:\\CTH_archive\\Registered_NIfTI\\BOGER_DAVID_S 2532249_registered.nii\n",
      "Processed and saved registered image for patient: BOGER_DAVID_S 2532249\n",
      "output_path: D:\\CTH_archive\\Registered_NIfTI\\BROWN_ANTHONY F341525_registered.nii\n",
      "Processed and saved registered image for patient: BROWN_ANTHONY F341525\n"
     ]
    },
    {
     "data": {
      "application/vnd.jupyter.widget-view+json": {
       "model_id": "15b56c312b94461ba67d9b67581a3a26",
       "version_major": 2,
       "version_minor": 0
      },
      "text/plain": [
       "IntSlider(value=16, description='Slice', max=31)"
      ]
     },
     "metadata": {},
     "output_type": "display_data"
    },
    {
     "data": {
      "application/vnd.jupyter.widget-view+json": {
       "model_id": "78ede95e267347c299afab57f4533401",
       "version_major": 2,
       "version_minor": 0
      },
      "text/plain": [
       "Output()"
      ]
     },
     "metadata": {},
     "output_type": "display_data"
    },
    {
     "name": "stdout",
     "output_type": "stream",
     "text": [
      "Displayed image slices for patient: BROWN_ANTHONY F341525\n",
      "output_path: D:\\CTH_archive\\Registered_NIfTI\\CAMPAGNA_HARRY_D E304749_registered.nii\n",
      "Processed and saved registered image for patient: CAMPAGNA_HARRY_D E304749\n",
      "output_path: D:\\CTH_archive\\Registered_NIfTI\\CANIGLIA_ROBERT 2363078_registered.nii\n",
      "Processed and saved registered image for patient: CANIGLIA_ROBERT 2363078\n",
      "output_path: D:\\CTH_archive\\Registered_NIfTI\\CARDIN_PAUL E570140_registered.nii\n",
      "Processed and saved registered image for patient: CARDIN_PAUL E570140\n",
      "output_path: D:\\CTH_archive\\Registered_NIfTI\\CHANG_WAH_KONG 5708968_registered.nii\n",
      "Processed and saved registered image for patient: CHANG_WAH_KONG 5708968\n"
     ]
    },
    {
     "data": {
      "application/vnd.jupyter.widget-view+json": {
       "model_id": "09eb4f0749df4954afa58d9318403fb3",
       "version_major": 2,
       "version_minor": 0
      },
      "text/plain": [
       "IntSlider(value=16, description='Slice', max=31)"
      ]
     },
     "metadata": {},
     "output_type": "display_data"
    },
    {
     "data": {
      "application/vnd.jupyter.widget-view+json": {
       "model_id": "9c809f9584a04c54982401c5bbe1f52a",
       "version_major": 2,
       "version_minor": 0
      },
      "text/plain": [
       "Output()"
      ]
     },
     "metadata": {},
     "output_type": "display_data"
    },
    {
     "name": "stdout",
     "output_type": "stream",
     "text": [
      "Displayed image slices for patient: CHANG_WAH_KONG 5708968\n",
      "output_path: D:\\CTH_archive\\Registered_NIfTI\\CHEN_QIAOYING F262455_registered.nii\n",
      "Processed and saved registered image for patient: CHEN_QIAOYING F262455\n"
     ]
    },
    {
     "data": {
      "application/vnd.jupyter.widget-view+json": {
       "model_id": "a9d10f8582674edb9957a4854e07b441",
       "version_major": 2,
       "version_minor": 0
      },
      "text/plain": [
       "IntSlider(value=16, description='Slice', max=31)"
      ]
     },
     "metadata": {},
     "output_type": "display_data"
    },
    {
     "data": {
      "application/vnd.jupyter.widget-view+json": {
       "model_id": "2852364c029b49bcb14f5492eceedab0",
       "version_major": 2,
       "version_minor": 0
      },
      "text/plain": [
       "Output()"
      ]
     },
     "metadata": {},
     "output_type": "display_data"
    },
    {
     "name": "stdout",
     "output_type": "stream",
     "text": [
      "Displayed image slices for patient: CHEN_QIAOYING F262455\n",
      "output_path: D:\\CTH_archive\\Registered_NIfTI\\CHEN_XIU_D 6497146_registered.nii\n",
      "Processed and saved registered image for patient: CHEN_XIU_D 6497146\n",
      "output_path: D:\\CTH_archive\\Registered_NIfTI\\CHOWDHURY_SALMA_K 7027943_registered.nii\n",
      "Processed and saved registered image for patient: CHOWDHURY_SALMA_K 7027943\n",
      "output_path: D:\\CTH_archive\\Registered_NIfTI\\CLARKSON-FARRELL_EDWARD 7011907_registered.nii\n",
      "Processed and saved registered image for patient: CLARKSON-FARRELL_EDWARD 7011907\n",
      "output_path: D:\\CTH_archive\\Registered_NIfTI\\COMPRES_THELMA 3079376_registered.nii\n",
      "Processed and saved registered image for patient: COMPRES_THELMA 3079376\n",
      "output_path: D:\\CTH_archive\\Registered_NIfTI\\CRUZ_MIRIAN 1627349_registered.nii\n",
      "Processed and saved registered image for patient: CRUZ_MIRIAN 1627349\n"
     ]
    },
    {
     "data": {
      "application/vnd.jupyter.widget-view+json": {
       "model_id": "01f130b625a34ecc894b80a7c216ac4e",
       "version_major": 2,
       "version_minor": 0
      },
      "text/plain": [
       "IntSlider(value=16, description='Slice', max=31)"
      ]
     },
     "metadata": {},
     "output_type": "display_data"
    },
    {
     "data": {
      "application/vnd.jupyter.widget-view+json": {
       "model_id": "058390c196a74e7c8cdc6fa7c5de7826",
       "version_major": 2,
       "version_minor": 0
      },
      "text/plain": [
       "Output()"
      ]
     },
     "metadata": {},
     "output_type": "display_data"
    },
    {
     "name": "stdout",
     "output_type": "stream",
     "text": [
      "Displayed image slices for patient: CRUZ_MIRIAN 1627349\n",
      "output_path: D:\\CTH_archive\\Registered_NIfTI\\DAMBOISE_JACQUES_J 1895572_registered.nii\n",
      "Processed and saved registered image for patient: DAMBOISE_JACQUES_J 1895572\n",
      "output_path: D:\\CTH_archive\\Registered_NIfTI\\DONALDSON_GEORGIANNA A432494_registered.nii\n",
      "Processed and saved registered image for patient: DONALDSON_GEORGIANNA A432494\n",
      "output_path: D:\\CTH_archive\\Registered_NIfTI\\DUMA_ZBIGNIEW F328178_registered.nii\n",
      "Processed and saved registered image for patient: DUMA_ZBIGNIEW F328178\n"
     ]
    },
    {
     "data": {
      "application/vnd.jupyter.widget-view+json": {
       "model_id": "ae7d3472ef2f4e62af26dfd8f8880c44",
       "version_major": 2,
       "version_minor": 0
      },
      "text/plain": [
       "IntSlider(value=15, description='Slice', max=29)"
      ]
     },
     "metadata": {},
     "output_type": "display_data"
    },
    {
     "data": {
      "application/vnd.jupyter.widget-view+json": {
       "model_id": "3d2c6eb60de04082a8b865505112b691",
       "version_major": 2,
       "version_minor": 0
      },
      "text/plain": [
       "Output()"
      ]
     },
     "metadata": {},
     "output_type": "display_data"
    },
    {
     "name": "stdout",
     "output_type": "stream",
     "text": [
      "Displayed image slices for patient: DUMA_ZBIGNIEW F328178\n",
      "output_path: D:\\CTH_archive\\Registered_NIfTI\\ELISA-WRIGHT_KANZADER 7731069_registered.nii\n",
      "Processed and saved registered image for patient: ELISA-WRIGHT_KANZADER 7731069\n",
      "output_path: D:\\CTH_archive\\Registered_NIfTI\\FILION_JULIO 2159066_registered.nii\n",
      "Processed and saved registered image for patient: FILION_JULIO 2159066\n"
     ]
    },
    {
     "data": {
      "application/vnd.jupyter.widget-view+json": {
       "model_id": "807061cf71b74cbea19ce7531b51e56b",
       "version_major": 2,
       "version_minor": 0
      },
      "text/plain": [
       "IntSlider(value=16, description='Slice', max=31)"
      ]
     },
     "metadata": {},
     "output_type": "display_data"
    },
    {
     "data": {
      "application/vnd.jupyter.widget-view+json": {
       "model_id": "f4ff488c448640039891ca44696ac2ed",
       "version_major": 2,
       "version_minor": 0
      },
      "text/plain": [
       "Output()"
      ]
     },
     "metadata": {},
     "output_type": "display_data"
    },
    {
     "name": "stdout",
     "output_type": "stream",
     "text": [
      "Displayed image slices for patient: FILION_JULIO 2159066\n",
      "output_path: D:\\CTH_archive\\Registered_NIfTI\\FILI_CHARLES 1172073_registered.nii\n",
      "Processed and saved registered image for patient: FILI_CHARLES 1172073\n",
      "output_path: D:\\CTH_archive\\Registered_NIfTI\\FISHER_BARBARA 1065949_registered.nii\n",
      "Processed and saved registered image for patient: FISHER_BARBARA 1065949\n"
     ]
    },
    {
     "data": {
      "application/vnd.jupyter.widget-view+json": {
       "model_id": "4aecfccf19124e9380f0b4c159be42c2",
       "version_major": 2,
       "version_minor": 0
      },
      "text/plain": [
       "IntSlider(value=16, description='Slice', max=31)"
      ]
     },
     "metadata": {},
     "output_type": "display_data"
    },
    {
     "data": {
      "application/vnd.jupyter.widget-view+json": {
       "model_id": "06117262c2454c279c94d1b92ea507a8",
       "version_major": 2,
       "version_minor": 0
      },
      "text/plain": [
       "Output()"
      ]
     },
     "metadata": {},
     "output_type": "display_data"
    },
    {
     "name": "stdout",
     "output_type": "stream",
     "text": [
      "Displayed image slices for patient: FISHER_BARBARA 1065949\n",
      "output_path: D:\\CTH_archive\\Registered_NIfTI\\GARCIA_ABELARDO E606819_registered.nii\n",
      "Processed and saved registered image for patient: GARCIA_ABELARDO E606819\n",
      "output_path: D:\\CTH_archive\\Registered_NIfTI\\GENTLE_CLINTON 1278806_registered.nii\n",
      "Processed and saved registered image for patient: GENTLE_CLINTON 1278806\n"
     ]
    },
    {
     "data": {
      "application/vnd.jupyter.widget-view+json": {
       "model_id": "3fefc8566ec84e199dc49dfc9df852e6",
       "version_major": 2,
       "version_minor": 0
      },
      "text/plain": [
       "IntSlider(value=18, description='Slice', max=35)"
      ]
     },
     "metadata": {},
     "output_type": "display_data"
    },
    {
     "data": {
      "application/vnd.jupyter.widget-view+json": {
       "model_id": "15e7b1fefd2946c3b8911fe0e8b44b52",
       "version_major": 2,
       "version_minor": 0
      },
      "text/plain": [
       "Output()"
      ]
     },
     "metadata": {},
     "output_type": "display_data"
    },
    {
     "name": "stdout",
     "output_type": "stream",
     "text": [
      "Displayed image slices for patient: GENTLE_CLINTON 1278806\n",
      "output_path: D:\\CTH_archive\\Registered_NIfTI\\GOBLE_TAMMY 1804834_registered.nii\n",
      "Processed and saved registered image for patient: GOBLE_TAMMY 1804834\n",
      "output_path: D:\\CTH_archive\\Registered_NIfTI\\GUZMAN_IRIS E497777_registered.nii\n",
      "Processed and saved registered image for patient: GUZMAN_IRIS E497777\n",
      "output_path: D:\\CTH_archive\\Registered_NIfTI\\HALL_KELBERT_MCDO 1796996_registered.nii\n",
      "Processed and saved registered image for patient: HALL_KELBERT_MCDO 1796996\n",
      "output_path: D:\\CTH_archive\\Registered_NIfTI\\HALL_WILLIAM 7499662_registered.nii\n",
      "Processed and saved registered image for patient: HALL_WILLIAM 7499662\n",
      "output_path: D:\\CTH_archive\\Registered_NIfTI\\HATTA_MARIA A224090_registered.nii\n",
      "Processed and saved registered image for patient: HATTA_MARIA A224090\n",
      "output_path: D:\\CTH_archive\\Registered_NIfTI\\HECKSTALL_CORA 460638_registered.nii\n",
      "Processed and saved registered image for patient: HECKSTALL_CORA 460638\n",
      "output_path: D:\\CTH_archive\\Registered_NIfTI\\HIRSCH_LEMEL E797022_registered.nii\n",
      "Processed and saved registered image for patient: HIRSCH_LEMEL E797022\n",
      "output_path: D:\\CTH_archive\\Registered_NIfTI\\IRIZARRY_MONSITA 2539070_registered.nii\n",
      "Processed and saved registered image for patient: IRIZARRY_MONSITA 2539070\n",
      "output_path: D:\\CTH_archive\\Registered_NIfTI\\KAMWA_JEAN-PIERRE 7220783_registered.nii\n",
      "Processed and saved registered image for patient: KAMWA_JEAN-PIERRE 7220783\n",
      "output_path: D:\\CTH_archive\\Registered_NIfTI\\KILLACKEY_WILLIAM K100636_registered.nii\n",
      "Processed and saved registered image for patient: KILLACKEY_WILLIAM K100636\n",
      "output_path: D:\\CTH_archive\\Registered_NIfTI\\KING_TANDEKA_I 1064942_registered.nii\n",
      "Processed and saved registered image for patient: KING_TANDEKA_I 1064942\n",
      "output_path: D:\\CTH_archive\\Registered_NIfTI\\LATTEIER_MARIA 3356380_registered.nii\n",
      "Processed and saved registered image for patient: LATTEIER_MARIA 3356380\n",
      "output_path: D:\\CTH_archive\\Registered_NIfTI\\LAWSON_MIRIAM 238834_registered.nii\n",
      "Processed and saved registered image for patient: LAWSON_MIRIAM 238834\n",
      "output_path: D:\\CTH_archive\\Registered_NIfTI\\LIPNICKI_ROMAN E630404_registered.nii\n",
      "Processed and saved registered image for patient: LIPNICKI_ROMAN E630404\n",
      "output_path: D:\\CTH_archive\\Registered_NIfTI\\LOCKETT_GLORIA F315242_registered.nii\n",
      "Processed and saved registered image for patient: LOCKETT_GLORIA F315242\n",
      "output_path: D:\\CTH_archive\\Registered_NIfTI\\LORD_JANE 833095_registered.nii\n",
      "Processed and saved registered image for patient: LORD_JANE 833095\n",
      "output_path: D:\\CTH_archive\\Registered_NIfTI\\LOVE_MARY_E 3320145_registered.nii\n",
      "Processed and saved registered image for patient: LOVE_MARY_E 3320145\n",
      "output_path: D:\\CTH_archive\\Registered_NIfTI\\MATABUENA_LUZVIMINDA 5678755_registered.nii\n",
      "Processed and saved registered image for patient: MATABUENA_LUZVIMINDA 5678755\n"
     ]
    },
    {
     "data": {
      "application/vnd.jupyter.widget-view+json": {
       "model_id": "ab9189112fd340e885c07fb3f758edf8",
       "version_major": 2,
       "version_minor": 0
      },
      "text/plain": [
       "IntSlider(value=16, description='Slice', max=31)"
      ]
     },
     "metadata": {},
     "output_type": "display_data"
    },
    {
     "data": {
      "application/vnd.jupyter.widget-view+json": {
       "model_id": "d5e4030718284303afce3613e078c216",
       "version_major": 2,
       "version_minor": 0
      },
      "text/plain": [
       "Output()"
      ]
     },
     "metadata": {},
     "output_type": "display_data"
    },
    {
     "name": "stdout",
     "output_type": "stream",
     "text": [
      "Displayed image slices for patient: MATABUENA_LUZVIMINDA 5678755\n",
      "output_path: D:\\CTH_archive\\Registered_NIfTI\\MAURICIO_DENICE 7043927_registered.nii\n",
      "Processed and saved registered image for patient: MAURICIO_DENICE 7043927\n"
     ]
    },
    {
     "data": {
      "application/vnd.jupyter.widget-view+json": {
       "model_id": "904f48e59f044af7a4a182e3097c58d5",
       "version_major": 2,
       "version_minor": 0
      },
      "text/plain": [
       "IntSlider(value=16, description='Slice', max=31)"
      ]
     },
     "metadata": {},
     "output_type": "display_data"
    },
    {
     "data": {
      "application/vnd.jupyter.widget-view+json": {
       "model_id": "bb416576484f4e5f895b0cb43c5bdf9c",
       "version_major": 2,
       "version_minor": 0
      },
      "text/plain": [
       "Output()"
      ]
     },
     "metadata": {},
     "output_type": "display_data"
    },
    {
     "name": "stdout",
     "output_type": "stream",
     "text": [
      "Displayed image slices for patient: MAURICIO_DENICE 7043927\n",
      "output_path: D:\\CTH_archive\\Registered_NIfTI\\MEDINA_ANNA 5590381_registered.nii\n",
      "Processed and saved registered image for patient: MEDINA_ANNA 5590381\n",
      "output_path: D:\\CTH_archive\\Registered_NIfTI\\MENA-ROSA_IDIDA_MERCEDES 4915757_registered.nii\n",
      "Processed and saved registered image for patient: MENA-ROSA_IDIDA_MERCEDES 4915757\n",
      "output_path: D:\\CTH_archive\\Registered_NIfTI\\MENDOZA_REMEDIOS 4800439_registered.nii\n",
      "Processed and saved registered image for patient: MENDOZA_REMEDIOS 4800439\n",
      "output_path: D:\\CTH_archive\\Registered_NIfTI\\MESSINA_CALOGERO 3456976_registered.nii\n",
      "Processed and saved registered image for patient: MESSINA_CALOGERO 3456976\n",
      "output_path: D:\\CTH_archive\\Registered_NIfTI\\MILLS_JOAN 2789595_registered.nii\n",
      "Processed and saved registered image for patient: MILLS_JOAN 2789595\n"
     ]
    },
    {
     "data": {
      "application/vnd.jupyter.widget-view+json": {
       "model_id": "09e445853f1f42d29c3a48a9c78529b4",
       "version_major": 2,
       "version_minor": 0
      },
      "text/plain": [
       "IntSlider(value=18, description='Slice', max=35)"
      ]
     },
     "metadata": {},
     "output_type": "display_data"
    },
    {
     "data": {
      "application/vnd.jupyter.widget-view+json": {
       "model_id": "8d3490ab4fc747859f450a5a51418431",
       "version_major": 2,
       "version_minor": 0
      },
      "text/plain": [
       "Output()"
      ]
     },
     "metadata": {},
     "output_type": "display_data"
    },
    {
     "name": "stdout",
     "output_type": "stream",
     "text": [
      "Displayed image slices for patient: MILLS_JOAN 2789595\n",
      "output_path: D:\\CTH_archive\\Registered_NIfTI\\MIRABAL_JORGE 940731_registered.nii\n",
      "Processed and saved registered image for patient: MIRABAL_JORGE 940731\n",
      "output_path: D:\\CTH_archive\\Registered_NIfTI\\MONTANEZ_PETER_A 2208242_registered.nii\n",
      "Processed and saved registered image for patient: MONTANEZ_PETER_A 2208242\n",
      "output_path: D:\\CTH_archive\\Registered_NIfTI\\MONTERO_RAMIREZ_MICAELA 5665111_registered.nii\n",
      "Processed and saved registered image for patient: MONTERO_RAMIREZ_MICAELA 5665111\n",
      "output_path: D:\\CTH_archive\\Registered_NIfTI\\MORENO_JORGE 3457367_registered.nii\n",
      "Processed and saved registered image for patient: MORENO_JORGE 3457367\n",
      "output_path: D:\\CTH_archive\\Registered_NIfTI\\MULDOON_GERALDINE_A E863027_registered.nii\n",
      "Processed and saved registered image for patient: MULDOON_GERALDINE_A E863027\n",
      "output_path: D:\\CTH_archive\\Registered_NIfTI\\NAJERA_JOSE E606067_registered.nii\n",
      "Processed and saved registered image for patient: NAJERA_JOSE E606067\n"
     ]
    },
    {
     "data": {
      "application/vnd.jupyter.widget-view+json": {
       "model_id": "9c07634d11cd4c11bec2933b1be009a8",
       "version_major": 2,
       "version_minor": 0
      },
      "text/plain": [
       "IntSlider(value=15, description='Slice', max=30)"
      ]
     },
     "metadata": {},
     "output_type": "display_data"
    },
    {
     "data": {
      "application/vnd.jupyter.widget-view+json": {
       "model_id": "93dde4b340464719a357353d5ca423c9",
       "version_major": 2,
       "version_minor": 0
      },
      "text/plain": [
       "Output()"
      ]
     },
     "metadata": {},
     "output_type": "display_data"
    },
    {
     "name": "stdout",
     "output_type": "stream",
     "text": [
      "Displayed image slices for patient: NAJERA_JOSE E606067\n",
      "output_path: D:\\CTH_archive\\Registered_NIfTI\\NAVAS_RAFAEL 5504276_registered.nii\n",
      "Processed and saved registered image for patient: NAVAS_RAFAEL 5504276\n",
      "output_path: D:\\CTH_archive\\Registered_NIfTI\\NICHOLAS_LOLA 2213645_registered.nii\n",
      "Processed and saved registered image for patient: NICHOLAS_LOLA 2213645\n"
     ]
    },
    {
     "data": {
      "application/vnd.jupyter.widget-view+json": {
       "model_id": "18fdc0c763634342b716f6c41ccf7540",
       "version_major": 2,
       "version_minor": 0
      },
      "text/plain": [
       "IntSlider(value=14, description='Slice', max=27)"
      ]
     },
     "metadata": {},
     "output_type": "display_data"
    },
    {
     "data": {
      "application/vnd.jupyter.widget-view+json": {
       "model_id": "0ad88bd3b64a4b59876053f5cd9a9ade",
       "version_major": 2,
       "version_minor": 0
      },
      "text/plain": [
       "Output()"
      ]
     },
     "metadata": {},
     "output_type": "display_data"
    },
    {
     "name": "stdout",
     "output_type": "stream",
     "text": [
      "Displayed image slices for patient: NICHOLAS_LOLA 2213645\n",
      "output_path: D:\\CTH_archive\\Registered_NIfTI\\OROVAN_MARY 6079330_registered.nii\n",
      "Processed and saved registered image for patient: OROVAN_MARY 6079330\n",
      "output_path: D:\\CTH_archive\\Registered_NIfTI\\PEREZ_HUGO 5718149_registered.nii\n",
      "Processed and saved registered image for patient: PEREZ_HUGO 5718149\n"
     ]
    },
    {
     "data": {
      "application/vnd.jupyter.widget-view+json": {
       "model_id": "c60b83a7872b4168bb62c20a58835bc3",
       "version_major": 2,
       "version_minor": 0
      },
      "text/plain": [
       "IntSlider(value=16, description='Slice', max=31)"
      ]
     },
     "metadata": {},
     "output_type": "display_data"
    },
    {
     "data": {
      "application/vnd.jupyter.widget-view+json": {
       "model_id": "9a5e83dc4e7849c3a0a57f4fde2d410d",
       "version_major": 2,
       "version_minor": 0
      },
      "text/plain": [
       "Output()"
      ]
     },
     "metadata": {},
     "output_type": "display_data"
    },
    {
     "name": "stdout",
     "output_type": "stream",
     "text": [
      "Displayed image slices for patient: PEREZ_HUGO 5718149\n",
      "output_path: D:\\CTH_archive\\Registered_NIfTI\\PERINA_ROBERT E644655_registered.nii\n",
      "Processed and saved registered image for patient: PERINA_ROBERT E644655\n",
      "output_path: D:\\CTH_archive\\Registered_NIfTI\\QUILES_MARIBEL 6033852_registered.nii\n",
      "Processed and saved registered image for patient: QUILES_MARIBEL 6033852\n"
     ]
    },
    {
     "data": {
      "application/vnd.jupyter.widget-view+json": {
       "model_id": "10f286d3198e45aaa9546416a01fec85",
       "version_major": 2,
       "version_minor": 0
      },
      "text/plain": [
       "IntSlider(value=15, description='Slice', max=30)"
      ]
     },
     "metadata": {},
     "output_type": "display_data"
    },
    {
     "data": {
      "application/vnd.jupyter.widget-view+json": {
       "model_id": "5fe94ce59f81483ab2f50afead827a01",
       "version_major": 2,
       "version_minor": 0
      },
      "text/plain": [
       "Output()"
      ]
     },
     "metadata": {},
     "output_type": "display_data"
    },
    {
     "name": "stdout",
     "output_type": "stream",
     "text": [
      "Displayed image slices for patient: QUILES_MARIBEL 6033852\n",
      "output_path: D:\\CTH_archive\\Registered_NIfTI\\RAMIREZ_ANGELA 3382120_registered.nii\n",
      "Processed and saved registered image for patient: RAMIREZ_ANGELA 3382120\n",
      "output_path: D:\\CTH_archive\\Registered_NIfTI\\RAMIREZ_ELIZABETH 2099072_registered.nii\n",
      "Processed and saved registered image for patient: RAMIREZ_ELIZABETH 2099072\n",
      "output_path: D:\\CTH_archive\\Registered_NIfTI\\RAMUSEVIC_SMAIL 7913144_registered.nii\n",
      "Processed and saved registered image for patient: RAMUSEVIC_SMAIL 7913144\n",
      "output_path: D:\\CTH_archive\\Registered_NIfTI\\RAPPOPORT_MARIO 9056456_registered.nii\n",
      "Processed and saved registered image for patient: RAPPOPORT_MARIO 9056456\n",
      "output_path: D:\\CTH_archive\\Registered_NIfTI\\REYES_ROSA 3478488_registered.nii\n",
      "Processed and saved registered image for patient: REYES_ROSA 3478488\n"
     ]
    },
    {
     "data": {
      "application/vnd.jupyter.widget-view+json": {
       "model_id": "6f1ddf3a6c5f4d8084a3132480c190ad",
       "version_major": 2,
       "version_minor": 0
      },
      "text/plain": [
       "IntSlider(value=32, description='Slice', max=63)"
      ]
     },
     "metadata": {},
     "output_type": "display_data"
    },
    {
     "data": {
      "application/vnd.jupyter.widget-view+json": {
       "model_id": "aedd99efe625495698bd6009fa0cba45",
       "version_major": 2,
       "version_minor": 0
      },
      "text/plain": [
       "Output()"
      ]
     },
     "metadata": {},
     "output_type": "display_data"
    },
    {
     "name": "stdout",
     "output_type": "stream",
     "text": [
      "Displayed image slices for patient: REYES_ROSA 3478488\n",
      "output_path: D:\\CTH_archive\\Registered_NIfTI\\ROBINSON_GENEVA_D 6915657_registered.nii\n",
      "Processed and saved registered image for patient: ROBINSON_GENEVA_D 6915657\n",
      "output_path: D:\\CTH_archive\\Registered_NIfTI\\RODRIGUEZ_SANDRA 6961138_registered.nii\n",
      "Processed and saved registered image for patient: RODRIGUEZ_SANDRA 6961138\n"
     ]
    },
    {
     "data": {
      "application/vnd.jupyter.widget-view+json": {
       "model_id": "d1e5057e1050419d9b719a742f5a196a",
       "version_major": 2,
       "version_minor": 0
      },
      "text/plain": [
       "IntSlider(value=16, description='Slice', max=32)"
      ]
     },
     "metadata": {},
     "output_type": "display_data"
    },
    {
     "data": {
      "application/vnd.jupyter.widget-view+json": {
       "model_id": "e17fb91d211b4b38a14271fd2dfa7ced",
       "version_major": 2,
       "version_minor": 0
      },
      "text/plain": [
       "Output()"
      ]
     },
     "metadata": {},
     "output_type": "display_data"
    },
    {
     "name": "stdout",
     "output_type": "stream",
     "text": [
      "Displayed image slices for patient: RODRIGUEZ_SANDRA 6961138\n",
      "output_path: D:\\CTH_archive\\Registered_NIfTI\\ROGERS_MARSHA 8821085_registered.nii\n",
      "Processed and saved registered image for patient: ROGERS_MARSHA 8821085\n",
      "output_path: D:\\CTH_archive\\Registered_NIfTI\\ROMEO_ROBIN_MAXIMILAN 7711986_registered.nii\n",
      "Processed and saved registered image for patient: ROMEO_ROBIN_MAXIMILAN 7711986\n"
     ]
    },
    {
     "data": {
      "application/vnd.jupyter.widget-view+json": {
       "model_id": "80154643b13046d8b998e58518c7e57d",
       "version_major": 2,
       "version_minor": 0
      },
      "text/plain": [
       "IntSlider(value=16, description='Slice', max=31)"
      ]
     },
     "metadata": {},
     "output_type": "display_data"
    },
    {
     "data": {
      "application/vnd.jupyter.widget-view+json": {
       "model_id": "a50d7acee429469081d481df30b6b25c",
       "version_major": 2,
       "version_minor": 0
      },
      "text/plain": [
       "Output()"
      ]
     },
     "metadata": {},
     "output_type": "display_data"
    },
    {
     "name": "stdout",
     "output_type": "stream",
     "text": [
      "Displayed image slices for patient: ROMEO_ROBIN_MAXIMILAN 7711986\n",
      "output_path: D:\\CTH_archive\\Registered_NIfTI\\ROSE_SYLVIA 5434403_registered.nii\n",
      "Processed and saved registered image for patient: ROSE_SYLVIA 5434403\n",
      "output_path: D:\\CTH_archive\\Registered_NIfTI\\RUBALLO_OMAR E951675_registered.nii\n",
      "Processed and saved registered image for patient: RUBALLO_OMAR E951675\n",
      "output_path: D:\\CTH_archive\\Registered_NIfTI\\RYAN_MICHAEL 2967285_registered.nii\n",
      "Processed and saved registered image for patient: RYAN_MICHAEL 2967285\n"
     ]
    },
    {
     "data": {
      "application/vnd.jupyter.widget-view+json": {
       "model_id": "e9aaa027cd414555a69a8dffbaf0cefc",
       "version_major": 2,
       "version_minor": 0
      },
      "text/plain": [
       "IntSlider(value=16, description='Slice', max=31)"
      ]
     },
     "metadata": {},
     "output_type": "display_data"
    },
    {
     "data": {
      "application/vnd.jupyter.widget-view+json": {
       "model_id": "2b09e544139142e0a7c454663099e130",
       "version_major": 2,
       "version_minor": 0
      },
      "text/plain": [
       "Output()"
      ]
     },
     "metadata": {},
     "output_type": "display_data"
    },
    {
     "name": "stdout",
     "output_type": "stream",
     "text": [
      "Displayed image slices for patient: RYAN_MICHAEL 2967285\n",
      "output_path: D:\\CTH_archive\\Registered_NIfTI\\SALTER_GLADYS 3281623_registered.nii\n",
      "Processed and saved registered image for patient: SALTER_GLADYS 3281623\n",
      "output_path: D:\\CTH_archive\\Registered_NIfTI\\SANTIAGO_CARMEN 7133486_registered.nii\n",
      "Processed and saved registered image for patient: SANTIAGO_CARMEN 7133486\n",
      "output_path: D:\\CTH_archive\\Registered_NIfTI\\SCOUFARAS_DESPINA 3712417_registered.nii\n",
      "Processed and saved registered image for patient: SCOUFARAS_DESPINA 3712417\n",
      "output_path: D:\\CTH_archive\\Registered_NIfTI\\SGARLATO_SANTO A244280_registered.nii\n",
      "Processed and saved registered image for patient: SGARLATO_SANTO A244280\n",
      "output_path: D:\\CTH_archive\\Registered_NIfTI\\SHERPA_DEKI 5678752_registered.nii\n",
      "Processed and saved registered image for patient: SHERPA_DEKI 5678752\n"
     ]
    },
    {
     "data": {
      "application/vnd.jupyter.widget-view+json": {
       "model_id": "2b153a459629402caddf95f148f1ca3f",
       "version_major": 2,
       "version_minor": 0
      },
      "text/plain": [
       "IntSlider(value=14, description='Slice', max=27)"
      ]
     },
     "metadata": {},
     "output_type": "display_data"
    },
    {
     "data": {
      "application/vnd.jupyter.widget-view+json": {
       "model_id": "f3bb0fa79f5445179926514c18edb2d1",
       "version_major": 2,
       "version_minor": 0
      },
      "text/plain": [
       "Output()"
      ]
     },
     "metadata": {},
     "output_type": "display_data"
    },
    {
     "name": "stdout",
     "output_type": "stream",
     "text": [
      "Displayed image slices for patient: SHERPA_DEKI 5678752\n",
      "output_path: D:\\CTH_archive\\Registered_NIfTI\\SIEJACK_EURANIA 2466204_registered.nii\n",
      "Processed and saved registered image for patient: SIEJACK_EURANIA 2466204\n",
      "output_path: D:\\CTH_archive\\Registered_NIfTI\\SINGH_HARBHAJAN 9096349_registered.nii\n",
      "Processed and saved registered image for patient: SINGH_HARBHAJAN 9096349\n",
      "output_path: D:\\CTH_archive\\Registered_NIfTI\\SINGLETARY_DONALD 3902533_registered.nii\n",
      "Processed and saved registered image for patient: SINGLETARY_DONALD 3902533\n",
      "output_path: D:\\CTH_archive\\Registered_NIfTI\\SUAREZ_EDWIN E837730_registered.nii\n",
      "Processed and saved registered image for patient: SUAREZ_EDWIN E837730\n",
      "output_path: D:\\CTH_archive\\Registered_NIfTI\\TORII_YUKIO E574468_registered.nii\n",
      "Processed and saved registered image for patient: TORII_YUKIO E574468\n",
      "output_path: D:\\CTH_archive\\Registered_NIfTI\\TOUATI_MOHAMED 3117292_registered.nii\n",
      "Processed and saved registered image for patient: TOUATI_MOHAMED 3117292\n",
      "output_path: D:\\CTH_archive\\Registered_NIfTI\\VANN_ELLIS_W 8718324_registered.nii\n",
      "Processed and saved registered image for patient: VANN_ELLIS_W 8718324\n",
      "output_path: D:\\CTH_archive\\Registered_NIfTI\\YOUNG_LEOTA 2378105_registered.nii\n",
      "Processed and saved registered image for patient: YOUNG_LEOTA 2378105\n"
     ]
    }
   ],
   "source": [
    "CTH_ARCHIVE_DIR = r'D:\\CTH_archive'\n",
    "TMAX_DICOM_DIR = os.path.join(CTH_ARCHIVE_DIR, 'TMAX_DICOM')\n",
    "CTP_DICOM_DIR = os.path.join(CTH_ARCHIVE_DIR, 'CTP_DICOM')\n",
    "CTH_DICOM_RESIZE_DIR = os.path.join(CTH_ARCHIVE_DIR, 'CTH_DICOM_RESIZE')\n",
    "REGISTERED_NIFTI_DIR = os.path.join(CTH_ARCHIVE_DIR, 'Registered_NIfTI')\n",
    "\n",
    "if not os.path.exists(REGISTERED_NIFTI_DIR):\n",
    "    os.makedirs(REGISTERED_NIFTI_DIR)\n",
    "\n",
    "# Function to resample the moving image\n",
    "def resample_image(moving_image, fixed_image, ctp_image):\n",
    "    desired_size = [fixed_image.GetSize()[0], fixed_image.GetSize()[1], ctp_image.GetSize()[2]]\n",
    "    resampler = sitk.ResampleImageFilter()\n",
    "    resampler.SetReferenceImage(moving_image)\n",
    "    resampler.SetSize(desired_size)\n",
    "    resampler.SetOutputSpacing([moving_image.GetSpacing()[i] * (moving_image.GetSize()[i] / desired_size[i]) for i in range(3)])\n",
    "    resampler.SetTransform(sitk.Transform())\n",
    "    resampler.SetInterpolator(sitk.sitkLinear)\n",
    "    resized_moving_image = resampler.Execute(moving_image)\n",
    "    resized_moving_image.SetSpacing(ctp_image.GetSpacing())\n",
    "    resized_moving_image.SetOrigin(ctp_image.GetOrigin())\n",
    "    resized_moving_image.SetDirection(ctp_image.GetDirection())\n",
    "    return resized_moving_image\n",
    "\n",
    "# Function to apply the final transform to the resized moving image\n",
    "def apply_final_transform(resized_moving_image, fixed_image, transform_file_path):\n",
    "    if not os.path.exists(transform_file_path):\n",
    "        print(f\"Transform file not found at {transform_file_path}.\")\n",
    "        return None\n",
    "    final_transform = sitk.ReadTransform(transform_file_path)\n",
    "    resampled_image = sitk.Resample(resized_moving_image, \n",
    "                                    fixed_image, \n",
    "                                    final_transform, \n",
    "                                    sitk.sitkLinear, \n",
    "                                    0.0, \n",
    "                                    fixed_image.GetPixelID())\n",
    "    return resampled_image\n",
    "\n",
    "# Function to save the resampled image\n",
    "def save_resampled_image(resampled_image, patient_id):\n",
    "    output_path = os.path.join(REGISTERED_NIFTI_DIR, f'{patient_id}_registered.nii')\n",
    "    sitk.WriteImage(resampled_image, output_path)\n",
    "    print(f'output_path: {output_path}')\n",
    "\n",
    "# Function to process each patient\n",
    "def process_patient(patient_id):\n",
    "    patient_directory = os.path.join(TMAX_DICOM_DIR, patient_id)\n",
    "    nifti_files = [f for f in os.listdir(patient_directory) if f.endswith('.nii')]\n",
    "    if not nifti_files:\n",
    "        print(f\"No NIfTI file found for patient {patient_id}.\")\n",
    "        return None, None, None\n",
    "    nifti_file = nifti_files[0]\n",
    "    nifti_file_path = os.path.join(patient_directory, nifti_file)\n",
    "    moving_image = sitk.ReadImage(nifti_file_path)\n",
    "    ctp_directory_base = os.path.join(CTP_DICOM_DIR, patient_id)\n",
    "    study_dirs = [d for d in os.listdir(ctp_directory_base) if os.path.isdir(os.path.join(ctp_directory_base, d))]\n",
    "    if not study_dirs:\n",
    "        print(f\"No CTP study found for patient {patient_id} in {ctp_directory_base}.\")\n",
    "        return None, None, None\n",
    "    ctp_directory = os.path.join(ctp_directory_base, study_dirs[0])\n",
    "    ctp_image = read_dicom_series(ctp_directory)\n",
    "    fixed_image_base_dir = os.path.join(CTH_DICOM_RESIZE_DIR, patient_id)\n",
    "    series_dirs = [d for d in os.listdir(fixed_image_base_dir) if os.path.isdir(os.path.join(fixed_image_base_dir, d))]\n",
    "    if not series_dirs:\n",
    "        print(f\"No DICOM series found for patient {patient_id} in {fixed_image_base_dir}.\")\n",
    "        return None, None, None\n",
    "    fixed_image_dir = os.path.join(fixed_image_base_dir, series_dirs[0])\n",
    "    fixed_image = read_dicom_series(fixed_image_dir)\n",
    "    resized_moving_image = resample_image(moving_image, fixed_image, ctp_image)\n",
    "    transform_file_path = resampled_images_transform[patient_id]\n",
    "    resampled_image = apply_final_transform(resized_moving_image, fixed_image, transform_file_path)\n",
    "    if resampled_image is not None:\n",
    "        save_resampled_image(resampled_image, patient_id)\n",
    "        print(f\"Processed and saved registered image for patient: {patient_id}\")\n",
    "    return fixed_image, moving_image, resampled_image\n",
    "\n",
    "# Main function to process all patients\n",
    "def process_all_patients():\n",
    "    successful_patients = list(resampled_images.keys())\n",
    "    random_subset = random.sample(successful_patients, 20)  # Select 20 random patient IDs\n",
    "    for patient_id in successful_patients:\n",
    "        fixed_image, moving_image, resampled_image = process_patient(patient_id)\n",
    "        if patient_id in random_subset:\n",
    "            display_image_slices(fixed_image, moving_image, resampled_image)\n",
    "            print(f\"Displayed image slices for patient: {patient_id}\")\n",
    "\n",
    "process_all_patients()"
   ]
  },
  {
   "cell_type": "code",
   "execution_count": null,
   "metadata": {},
   "outputs": [],
   "source": []
  },
  {
   "cell_type": "code",
   "execution_count": null,
   "metadata": {},
   "outputs": [],
   "source": []
  },
  {
   "cell_type": "code",
   "execution_count": null,
   "metadata": {},
   "outputs": [],
   "source": []
  },
  {
   "cell_type": "code",
   "execution_count": null,
   "metadata": {},
   "outputs": [],
   "source": []
  },
  {
   "cell_type": "code",
   "execution_count": null,
   "metadata": {},
   "outputs": [],
   "source": []
  },
  {
   "cell_type": "code",
   "execution_count": null,
   "metadata": {},
   "outputs": [],
   "source": [
    "#Resize and pad to 512x512 This does casue some distortion of the anatomy, there might be a better way\n",
    "\n",
    "def resize_and_pad(array, target_size=(512, 512), order=1):\n",
    "    \"\"\"Resize a 2D array to the target size and pad with zeros to match the target size exactly.\"\"\"\n",
    "    zoom_factors = np.array(target_size) / np.array(array.shape)\n",
    "    resized_array = zoom(array, zoom_factors, order=order)\n",
    "    pad_width = [(0, 0)] * array.ndim  # Initialize pad width for each dimension\n",
    "    for i, dim in enumerate(resized_array.shape):\n",
    "        pad = (target_size[i] - dim) / 2\n",
    "        pad_width[i] = (int(np.floor(pad)), int(np.ceil(pad)))\n",
    "    padded_array = np.pad(resized_array, pad_width, mode='constant', constant_values=0)\n",
    "    return padded_array.astype(array.dtype)\n",
    "\n",
    "def process_series(series_path, dest_root):\n",
    "    \"\"\"Process a DICOM series by resizing and padding all slices, then save them in the new folder structure.\"\"\"\n",
    "    for file in os.listdir(series_path):\n",
    "        if file.endswith(\".dcm\"):\n",
    "            dicom_path = os.path.join(series_path, file)\n",
    "            ds = pydicom.dcmread(dicom_path)\n",
    "\n",
    "            if ds.pixel_array.ndim != 2:\n",
    "                print(f\"Skipping {dicom_path}: Expected a 2D array, got {ds.pixel_array.ndim}D array instead.\")\n",
    "                continue\n",
    "\n",
    "            resized_padded_img = resize_and_pad(ds.pixel_array)\n",
    "            ds.PixelData = resized_padded_img.tobytes()\n",
    "            ds.Rows, ds.Columns = resized_padded_img.shape\n",
    "\n",
    "            # Extract components from the source path\n",
    "            components = series_path.split(os.sep)[-2:]  # Last two components should be Patient Name MRN and Date Time\n",
    "            patient_info = components[0]\n",
    "            date_time = components[1].replace(\" \", \"_\")  # Replace spaces with underscores for consistency\n",
    "\n",
    "            # Construct the destination path\n",
    "            dest_path = os.path.join(dest_root, patient_info, date_time)\n",
    "\n",
    "            if not os.path.exists(dest_path):\n",
    "                os.makedirs(dest_path)\n",
    "\n",
    "            ds.save_as(os.path.join(dest_path, file))\n",
    "\n",
    "def process_base_folder(base_folder, dest_root):\n",
    "    \"\"\"Process all series in the base folder.\"\"\"\n",
    "    for root, dirs, files in os.walk(base_folder):\n",
    "        if any(file.endswith('.dcm') for file in files):\n",
    "            process_series(root, dest_root)\n",
    "\n",
    "base_folder = \"D:/CTH_archive/CTH_DICOM\"\n",
    "dest_root = \"D:/CTH_archive/CTH_DICOM_RESIZE_RESIZE\"\n",
    "#process_base_folder(base_folder, dest_root)\n"
   ]
  }
 ],
 "metadata": {
  "kernelspec": {
   "display_name": "fx_bounding_box",
   "language": "python",
   "name": "python3"
  },
  "language_info": {
   "codemirror_mode": {
    "name": "ipython",
    "version": 3
   },
   "file_extension": ".py",
   "mimetype": "text/x-python",
   "name": "python",
   "nbconvert_exporter": "python",
   "pygments_lexer": "ipython3",
   "version": "3.11.3"
  }
 },
 "nbformat": 4,
 "nbformat_minor": 2
}
