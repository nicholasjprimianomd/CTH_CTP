{
 "cells": [
  {
   "cell_type": "code",
   "execution_count": 5,
   "metadata": {},
   "outputs": [],
   "source": [
    "import os\n",
    "import pydicom\n",
    "import shutil"
   ]
  },
  {
   "cell_type": "code",
   "execution_count": 6,
   "metadata": {},
   "outputs": [
    {
     "name": "stdout",
     "output_type": "stream",
     "text": [
      "Matching DICOM files:\n",
      "D:\\CTH_archive\\DICOM\\ALFORD_BARBARA 4024996\\2019-11-30 163115\\IMG-0002-00001.dcm\n",
      "D:\\CTH_archive\\DICOM\\ALFORD_BARBARA 4024996\\2019-11-30 163115\\IMG-0002-00002.dcm\n",
      "D:\\CTH_archive\\DICOM\\ALFORD_BARBARA 4024996\\2019-11-30 163115\\IMG-0002-00003.dcm\n",
      "D:\\CTH_archive\\DICOM\\ALFORD_BARBARA 4024996\\2019-11-30 163115\\IMG-0002-00004.dcm\n",
      "D:\\CTH_archive\\DICOM\\ALFORD_BARBARA 4024996\\2019-11-30 163115\\IMG-0002-00005.dcm\n",
      "D:\\CTH_archive\\DICOM\\ALFORD_BARBARA 4024996\\2019-11-30 163115\\IMG-0002-00006.dcm\n",
      "D:\\CTH_archive\\DICOM\\ALFORD_BARBARA 4024996\\2019-11-30 163115\\IMG-0002-00007.dcm\n",
      "D:\\CTH_archive\\DICOM\\ALFORD_BARBARA 4024996\\2019-11-30 163115\\IMG-0002-00008.dcm\n",
      "D:\\CTH_archive\\DICOM\\ALFORD_BARBARA 4024996\\2019-11-30 163115\\IMG-0002-00009.dcm\n",
      "D:\\CTH_archive\\DICOM\\ALFORD_BARBARA 4024996\\2019-11-30 163115\\IMG-0002-00010.dcm\n",
      "D:\\CTH_archive\\DICOM\\ALFORD_BARBARA 4024996\\2019-11-30 163115\\IMG-0002-00011.dcm\n",
      "D:\\CTH_archive\\DICOM\\ALFORD_BARBARA 4024996\\2019-11-30 163115\\IMG-0002-00012.dcm\n",
      "D:\\CTH_archive\\DICOM\\ALFORD_BARBARA 4024996\\2019-11-30 163115\\IMG-0002-00013.dcm\n",
      "D:\\CTH_archive\\DICOM\\ALFORD_BARBARA 4024996\\2019-11-30 163115\\IMG-0002-00014.dcm\n",
      "D:\\CTH_archive\\DICOM\\ALFORD_BARBARA 4024996\\2019-11-30 163115\\IMG-0002-00015.dcm\n",
      "D:\\CTH_archive\\DICOM\\ALFORD_BARBARA 4024996\\2019-11-30 163115\\IMG-0002-00016.dcm\n",
      "D:\\CTH_archive\\DICOM\\ALFORD_BARBARA 4024996\\2019-11-30 163115\\IMG-0002-00017.dcm\n",
      "D:\\CTH_archive\\DICOM\\ALFORD_BARBARA 4024996\\2019-11-30 163115\\IMG-0002-00018.dcm\n",
      "D:\\CTH_archive\\DICOM\\ALFORD_BARBARA 4024996\\2019-11-30 163115\\IMG-0002-00019.dcm\n",
      "D:\\CTH_archive\\DICOM\\ALFORD_BARBARA 4024996\\2019-11-30 163115\\IMG-0002-00020.dcm\n",
      "D:\\CTH_archive\\DICOM\\ALFORD_BARBARA 4024996\\2019-11-30 163115\\IMG-0002-00021.dcm\n",
      "D:\\CTH_archive\\DICOM\\ALFORD_BARBARA 4024996\\2019-11-30 163115\\IMG-0002-00022.dcm\n",
      "D:\\CTH_archive\\DICOM\\ALFORD_BARBARA 4024996\\2019-11-30 163115\\IMG-0002-00023.dcm\n"
     ]
    }
   ],
   "source": [
    "directory_path = \"D:\\\\CTH_archive\\\\DICOM\\\\ALFORD_BARBARA 4024996\\\\2019-11-30 163115\"\n",
    "matching_files = []\n",
    "\n",
    "# Iterate through all files in the specified directory\n",
    "for filename in os.listdir(directory_path):\n",
    "    file_path = os.path.join(directory_path, filename)\n",
    "\n",
    "    if file_path.lower().endswith('.dcm'):\n",
    "        try:\n",
    "            \n",
    "            ds = pydicom.dcmread(file_path)\n",
    "            \n",
    "            series_description = ds.get((0x0008, 0x103E), \"\")\n",
    "            \n",
    "            if 'PN:01' in series_description.value:\n",
    "                matching_files.append(file_path)\n",
    "                \n",
    "        except Exception as e:\n",
    "            print(f\"Error reading {file_path}: {e}\")\n",
    "\n",
    "\n",
    "if matching_files:\n",
    "    print(\"Matching DICOM files:\")\n",
    "    for file in matching_files:\n",
    "        print(file)\n",
    "else:\n",
    "    print(\"No matching DICOM files found.\")\n"
   ]
  },
  {
   "cell_type": "code",
   "execution_count": 7,
   "metadata": {},
   "outputs": [
    {
     "name": "stdout",
     "output_type": "stream",
     "text": [
      "Copied 23 files to D:\\CTH_archive\\PN1\n"
     ]
    }
   ],
   "source": [
    "destination_directory_path = \"D:\\CTH_archive\\PN1\"\n",
    "\n",
    "# Copy matching files to the destination directory\n",
    "for file_path in matching_files:\n",
    "    # Define the destination path for the file\n",
    "    destination_path = os.path.join(destination_directory_path, os.path.basename(file_path))\n",
    "    \n",
    "    # Copy the file to the destination directory\n",
    "    shutil.copy2(file_path, destination_path)\n",
    "\n",
    "print(f\"Copied {len(matching_files)} files to {destination_directory_path}\")"
   ]
  },
  {
   "cell_type": "code",
   "execution_count": 10,
   "metadata": {},
   "outputs": [
    {
     "name": "stderr",
     "output_type": "stream",
     "text": [
      "c:\\Users\\nprim\\miniconda3\\envs\\tf\\lib\\site-packages\\scipy\\__init__.py:155: UserWarning: A NumPy version >=1.18.5 and <1.25.0 is required for this version of SciPy (detected version 1.26.2\n",
      "  warnings.warn(f\"A NumPy version >={np_minversion} and <{np_maxversion}\"\n"
     ]
    },
    {
     "ename": "FileNotFoundError",
     "evalue": "[WinError 3] The system cannot find the path specified: 'path_to_your_dicom_folder'",
     "output_type": "error",
     "traceback": [
      "\u001b[1;31m---------------------------------------------------------------------------\u001b[0m",
      "\u001b[1;31mFileNotFoundError\u001b[0m                         Traceback (most recent call last)",
      "Cell \u001b[1;32mIn [10], line 37\u001b[0m\n\u001b[0;32m     34\u001b[0m output_nifti_file \u001b[38;5;241m=\u001b[39m \u001b[38;5;124m'\u001b[39m\u001b[38;5;124moutput_file_path.nii\u001b[39m\u001b[38;5;124m'\u001b[39m\n\u001b[0;32m     36\u001b[0m \u001b[38;5;66;03m# Convert the DICOM folder to NIfTI format\u001b[39;00m\n\u001b[1;32m---> 37\u001b[0m \u001b[43mconvert_dicom_folder_to_nifti\u001b[49m\u001b[43m(\u001b[49m\u001b[43mdicom_folder\u001b[49m\u001b[43m,\u001b[49m\u001b[43m \u001b[49m\u001b[43moutput_nifti_file\u001b[49m\u001b[43m)\u001b[49m\n\u001b[0;32m     39\u001b[0m \u001b[38;5;28mprint\u001b[39m(\u001b[38;5;124mf\u001b[39m\u001b[38;5;124m\"\u001b[39m\u001b[38;5;124mConversion completed. NIfTI file saved as \u001b[39m\u001b[38;5;132;01m{\u001b[39;00moutput_nifti_file\u001b[38;5;132;01m}\u001b[39;00m\u001b[38;5;124m\"\u001b[39m)\n",
      "Cell \u001b[1;32mIn [10], line 11\u001b[0m, in \u001b[0;36mconvert_dicom_folder_to_nifti\u001b[1;34m(dicom_folder, output_file)\u001b[0m\n\u001b[0;32m      8\u001b[0m slices \u001b[38;5;241m=\u001b[39m []\n\u001b[0;32m     10\u001b[0m \u001b[38;5;66;03m# Sort DICOM files by Instance Number\u001b[39;00m\n\u001b[1;32m---> 11\u001b[0m dicom_files \u001b[38;5;241m=\u001b[39m [f \u001b[38;5;28;01mfor\u001b[39;00m f \u001b[38;5;129;01min\u001b[39;00m \u001b[43mos\u001b[49m\u001b[38;5;241;43m.\u001b[39;49m\u001b[43mlistdir\u001b[49m\u001b[43m(\u001b[49m\u001b[43mdicom_folder\u001b[49m\u001b[43m)\u001b[49m \u001b[38;5;28;01mif\u001b[39;00m f\u001b[38;5;241m.\u001b[39mendswith(\u001b[38;5;124m'\u001b[39m\u001b[38;5;124m.dcm\u001b[39m\u001b[38;5;124m'\u001b[39m)]\n\u001b[0;32m     12\u001b[0m dicom_files\u001b[38;5;241m.\u001b[39msort(key\u001b[38;5;241m=\u001b[39m\u001b[38;5;28;01mlambda\u001b[39;00m f: pydicom\u001b[38;5;241m.\u001b[39mdcmread(os\u001b[38;5;241m.\u001b[39mpath\u001b[38;5;241m.\u001b[39mjoin(dicom_folder, f))\u001b[38;5;241m.\u001b[39mInstanceNumber)\n\u001b[0;32m     14\u001b[0m \u001b[38;5;66;03m# Read each DICOM file\u001b[39;00m\n",
      "\u001b[1;31mFileNotFoundError\u001b[0m: [WinError 3] The system cannot find the path specified: 'path_to_your_dicom_folder'"
     ]
    }
   ],
   "source": [
    "import subprocess\n",
    "import os\n",
    "\n",
    "# Define the source directory containing the DICOM directories\n",
    "source_directory_path = \"D:\\CTH_archive\\PN1\"\n",
    "\n",
    "# Define the destination directory where the NIfTI files will be saved\n",
    "destination_directory_path = \"D:\\CTH_archive\\PN1_NFTI\"\n",
    "\n",
    "# Ensure the destination directory exists\n",
    "if not os.path.exists(destination_directory_path):\n",
    "    os.makedirs(destination_directory_path)\n",
    "\n",
    "# Iterate through all subdirectories in the source directory\n",
    "for subdir in os.listdir(source_directory_path):\n",
    "    dicom_dir_path = os.path.join(source_directory_path, subdir)\n",
    "    \n",
    "    # Check if the path is a directory\n",
    "    if os.path.isdir(dicom_dir_path):\n",
    "        # Construct the dcm2niix command\n",
    "        # -o specifies the output directory\n",
    "        # -f specifies the filename format; %p will use the protocol name\n",
    "        command = [\"dcm2niix\", \"-o\", destination_directory_path, \"-f\", \"%p\", dicom_dir_path]\n",
    "        \n",
    "        # Run the dcm2niix command\n",
    "        subprocess.run(command)\n",
    "\n",
    "print(f\"Conversion to NIfTI format completed. Files are saved in {destination_directory_path}\")\n"
   ]
  },
  {
   "cell_type": "code",
   "execution_count": 12,
   "metadata": {},
   "outputs": [
    {
     "name": "stdout",
     "output_type": "stream",
     "text": [
      "Conversion completed. NIfTI file saved as D:\\CTH_archive\\PN1_NFTI\\output.nii\n"
     ]
    }
   ],
   "source": [
    "import os\n",
    "import numpy as np\n",
    "import pydicom\n",
    "import nibabel as nib\n",
    "\n",
    "def convert_dicom_folder_to_nifti(dicom_folder, output_file):\n",
    "    # List to store the image arrays\n",
    "    slices = []\n",
    "\n",
    "    # Sort DICOM files by Instance Number\n",
    "    dicom_files = [f for f in os.listdir(dicom_folder) if f.endswith('.dcm')]\n",
    "    dicom_files.sort(key=lambda f: pydicom.dcmread(os.path.join(dicom_folder, f)).InstanceNumber)\n",
    "\n",
    "    # Read each DICOM file\n",
    "    for filename in dicom_files:\n",
    "        filepath = os.path.join(dicom_folder, filename)\n",
    "        ds = pydicom.dcmread(filepath)\n",
    "\n",
    "        # Convert pixel data to numpy array and store\n",
    "        slices.append(ds.pixel_array)\n",
    "\n",
    "    # Stack slices into a single 3D array\n",
    "    # Note: You may need to adjust the order depending on the orientation of your DICOM images\n",
    "    volume = np.stack(slices, axis=-1)\n",
    "\n",
    "    # Create a NIfTI image (assuming no header info, such as affine transformation)\n",
    "    nifti_img = nib.Nifti1Image(volume, affine=np.eye(4))\n",
    "\n",
    "    # Save the NIfTI image\n",
    "    nib.save(nifti_img, output_file)\n",
    "\n",
    "# Specify the DICOM folder and the output NIfTI file path\n",
    "dicom_folder = \"D:\\CTH_archive\\PN1\"\n",
    "output_nifti_file = 'D:\\CTH_archive\\PN1_NFTI\\output.nii'\n",
    "\n",
    "# Convert the DICOM folder to NIfTI format\n",
    "convert_dicom_folder_to_nifti(dicom_folder, output_nifti_file)\n",
    "\n",
    "print(f\"Conversion completed. NIfTI file saved as {output_nifti_file}\")\n"
   ]
  },
  {
   "cell_type": "code",
   "execution_count": null,
   "metadata": {},
   "outputs": [],
   "source": []
  }
 ],
 "metadata": {
  "kernelspec": {
   "display_name": "tf",
   "language": "python",
   "name": "python3"
  },
  "language_info": {
   "codemirror_mode": {
    "name": "ipython",
    "version": 3
   },
   "file_extension": ".py",
   "mimetype": "text/x-python",
   "name": "python",
   "nbconvert_exporter": "python",
   "pygments_lexer": "ipython3",
   "version": "3.9.13"
  }
 },
 "nbformat": 4,
 "nbformat_minor": 2
}
