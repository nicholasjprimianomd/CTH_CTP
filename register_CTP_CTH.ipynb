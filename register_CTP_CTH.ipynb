{
 "cells": [
  {
   "cell_type": "code",
   "execution_count": 2,
   "metadata": {},
   "outputs": [],
   "source": [
    "import SimpleITK as sitk\n",
    "import matplotlib.pyplot as plt\n",
    "import numpy as np\n",
    "from scipy.ndimage import zoom\n",
    "\n",
    "def read_dicom_series(directory):\n",
    "    reader = sitk.ImageSeriesReader()\n",
    "    dicom_names = reader.GetGDCMSeriesFileNames(directory)\n",
    "    reader.SetFileNames(dicom_names)\n",
    "    image = reader.Execute()\n",
    "\n",
    "    # If the image is multi-component (e.g., RGB), convert it to grayscale\n",
    "    if image.GetNumberOfComponentsPerPixel() > 1:\n",
    "        channels = [sitk.VectorIndexSelectionCast(image, i) for i in range(image.GetNumberOfComponentsPerPixel())]\n",
    "        image = sum(channels) / len(channels)\n",
    "\n",
    "    image = sitk.Cast(image, sitk.sitkFloat32)\n",
    "\n",
    "    return image\n",
    "\n",
    "primary_ct_directory = r'D:\\CTH_archive\\PN1'\n",
    "fixed_image_directory = r'D:\\CTH_archive\\CTH_DICOM_SINGLE_FILES'\n",
    "\n",
    "moving_image = read_dicom_series(primary_ct_directory)\n",
    "fixed_image = read_dicom_series(fixed_image_directory)"
   ]
  },
  {
   "cell_type": "code",
   "execution_count": 3,
   "metadata": {},
   "outputs": [],
   "source": [
    "# Initialize the registration method\n",
    "registration_method = sitk.ImageRegistrationMethod()\n",
    "\n",
    "# Compute the centers of the images\n",
    "fixed_center = np.array(fixed_image.TransformContinuousIndexToPhysicalPoint(np.array(fixed_image.GetSize()) / 2.0))\n",
    "moving_center = np.array(moving_image.TransformContinuousIndexToPhysicalPoint(np.array(moving_image.GetSize()) / 2.0))\n",
    "\n",
    "# Compute the translation needed to align the centers\n",
    "translation = sitk.TranslationTransform(fixed_image.GetDimension())\n",
    "translation.SetOffset(np.array(fixed_center - moving_center))\n",
    "\n",
    "# Initialize the affine transform with the computed translation\n",
    "affine_transform = sitk.AffineTransform(fixed_image.GetDimension())\n",
    "affine_transform.SetTranslation(translation.GetOffset())\n",
    "\n",
    "\n",
    "# Improved metric, optimizer, and interpolator settings\n",
    "registration_method.SetMetricAsMattesMutualInformation(numberOfHistogramBins=50)\n",
    "registration_method.SetMetricSamplingPercentage(0.4, sitk.sitkWallClock)  \n",
    "registration_method.SetMetricSamplingStrategy(registration_method.RANDOM)\n",
    "\n",
    "registration_method.SetOptimizerAsGradientDescentLineSearch(learningRate=0.5, numberOfIterations=1000, convergenceMinimumValue=1e-6, convergenceWindowSize=20)\n",
    "registration_method.SetOptimizerScalesFromPhysicalShift()\n",
    "\n",
    "# Enhanced multi-resolution strategy\n",
    "registration_method.SetShrinkFactorsPerLevel(shrinkFactors=[16, 8, 4, 2])  # Added more levels\n",
    "registration_method.SetSmoothingSigmasPerLevel(smoothingSigmas=[5, 4, 2, 1])\n",
    "registration_method.SmoothingSigmasAreSpecifiedInPhysicalUnitsOn()\n",
    "\n",
    "# Ensure the initial transform is correctly set\n",
    "registration_method.SetInitialTransform(affine_transform)\n",
    "\n",
    "# Execute the affine registration with refined settings\n",
    "final_transform = registration_method.Execute(fixed_image, moving_image)\n",
    "\n",
    "# Resample using the final transform\n",
    "resampled_CTH_CTP_Registrion = sitk.Resample(moving_image, fixed_image, final_transform, sitk.sitkLinear, 0.0, moving_image.GetPixelID())"
   ]
  },
  {
   "cell_type": "code",
   "execution_count": 6,
   "metadata": {},
   "outputs": [
    {
     "data": {
      "application/vnd.jupyter.widget-view+json": {
       "model_id": "33d69227fba24e328016f58e135c76a5",
       "version_major": 2,
       "version_minor": 0
      },
      "text/plain": [
       "IntSlider(value=16, description='Slice', max=31)"
      ]
     },
     "metadata": {},
     "output_type": "display_data"
    },
    {
     "data": {
      "application/vnd.jupyter.widget-view+json": {
       "model_id": "5babd476ea694379bfe4865da43e864e",
       "version_major": 2,
       "version_minor": 0
      },
      "text/plain": [
       "Output()"
      ]
     },
     "metadata": {},
     "output_type": "display_data"
    }
   ],
   "source": [
    "import ipywidgets as widgets\n",
    "from IPython.display import display\n",
    "\n",
    "def display_image_slices(fixed_image, moving_image, transformed_image):\n",
    "    # Convert SimpleITK images to arrays for easier manipulation\n",
    "    fixed_image_array = sitk.GetArrayFromImage(fixed_image)\n",
    "    moving_image_array = sitk.GetArrayFromImage(moving_image)\n",
    "    transformed_image_array = sitk.GetArrayFromImage(transformed_image)\n",
    "\n",
    "    # Determine the maximum number of slices from all images to set the slider range\n",
    "    max_slices = max(fixed_image.GetSize()[2], moving_image.GetSize()[2], transformed_image.GetSize()[2])\n",
    "\n",
    "    # Define a function to update the displayed images when the slider is moved\n",
    "    def update_slice(slice_idx):\n",
    "        fig, axs = plt.subplots(1, 3, figsize=(15, 5))\n",
    "\n",
    "        if slice_idx < fixed_image_array.shape[0]:\n",
    "            axs[0].imshow(fixed_image_array[slice_idx], cmap='gray')\n",
    "            axs[0].set_title('Fixed Image')\n",
    "        else:\n",
    "            axs[0].text(0.5, 0.5, 'Slice not available', horizontalalignment='center', verticalalignment='center')\n",
    "            axs[0].set_title('Fixed Image')\n",
    "\n",
    "        if slice_idx < transformed_image_array.shape[0]:\n",
    "            axs[1].imshow(transformed_image_array[slice_idx], cmap='gray')\n",
    "            axs[1].set_title('Transformed Moving Image')\n",
    "        else:\n",
    "            axs[1].text(0.5, 0.5, 'Slice not available', horizontalalignment='center', verticalalignment='center')\n",
    "            axs[1].set_title('Transformed Moving Image')\n",
    "\n",
    "        if slice_idx < moving_image_array.shape[0]:\n",
    "            axs[2].imshow(moving_image_array[slice_idx], cmap='gray')\n",
    "            axs[2].set_title('Moving Image')\n",
    "        else:\n",
    "            axs[2].text(0.5, 0.5, 'Slice not available', horizontalalignment='center', verticalalignment='center')\n",
    "            axs[2].set_title('Moving Image')\n",
    "\n",
    "        for ax in axs:\n",
    "            ax.axis('off')\n",
    "\n",
    "        plt.show()\n",
    "\n",
    "    # Create a slider widget for slice selection\n",
    "    slice_slider = widgets.IntSlider(min=0, max=max_slices-1, step=1, value=max_slices//2, description='Slice')\n",
    "\n",
    "    # Display the widget and use `interactive_output` to connect the slider with the update function\n",
    "    interactive_output = widgets.interactive_output(update_slice, {'slice_idx': slice_slider})\n",
    "    display(slice_slider, interactive_output)\n",
    "\n",
    "display_image_slices(fixed_image, moving_image, resampled_CTH_CTP_Registrion)"
   ]
  }
 ],
 "metadata": {
  "kernelspec": {
   "display_name": "fx_bounding_box",
   "language": "python",
   "name": "python3"
  },
  "language_info": {
   "codemirror_mode": {
    "name": "ipython",
    "version": 3
   },
   "file_extension": ".py",
   "mimetype": "text/x-python",
   "name": "python",
   "nbconvert_exporter": "python",
   "pygments_lexer": "ipython3",
   "version": "3.11.3"
  }
 },
 "nbformat": 4,
 "nbformat_minor": 2
}
